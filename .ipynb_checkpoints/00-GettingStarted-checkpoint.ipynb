{
 "cells": [
  {
   "cell_type": "markdown",
   "id": "e14625a9-d4a4-4f96-8b51-e3cdd16f5f9e",
   "metadata": {},
   "source": [
    "# Welcome to EN1"
   ]
  },
  {
   "cell_type": "markdown",
   "id": "3de0062a-649e-4109-b463-54a1aed8f05c",
   "metadata": {},
   "source": [
    "Welcome to class - we will progress through 10 weekly assignments - each one more fun than the last - each with different learning goals.  The first set of notebooks are the challenges, the second set are things to help you learn the coding and the third are more in-depth help.\n",
    "\n",
    "|Notebook|Description|\n",
    "|--------|-----------|\n",
    "|[00-GettingStarted](00-GettingStarted.ipynb)|This page|\n",
    "|[01-Baseball](00-GettingStarted.ipynb)|Time to run the bases - the one with the most flair wins|\n",
    "|[02-BeginningJousting](00-GettingStarted.ipynb)|Using the keyboard to joust (and learning some ROS tools)|\n",
    "|[03-TeleRobotRaces](00-GettingStarted.ipynb)|Remotely drive your phone around|\n",
    "|[04-Soccer Shootout](00-GettingStarted.ipynb)|Time for some CAD and laser cutting as well|\n",
    "|[05-InvisibleSprings](00-GettingStarted.ipynb)|Controls and ROS coding|\n",
    "|[06-RelayRace](00-GettingStarted.ipynb)|Pass the baton - and adding LEGO to the top|\n",
    "|[07-ShootoutForReal](00-GettingStarted.ipynb)|Adding a LEGO kicker and moving goalie|\n",
    "|[08-DriveDownHallway](00-GettingStarted.ipynb)|Can your get the robot to drive around the hallway, avoiding things?|\n",
    "|[09-FinalJoust](00-GettingStarted.ipynb)|Who knows what will happen here|\n",
    "\n",
    "These notebooks are here to help you get up to speed on controlling your Create.  Note that as you go through this coding environment, your notebooks will become your work.  So save often.\n",
    "\n",
    "|Notebook|Description|\n",
    "|--------|-----------|\n",
    "|[00-GettingStarted](00-GettingStarted.ipynb)|This page|\n",
    "|[01-Beeping](01-Beeping.ipynb)|Connect to your Create and make it beeo (and move)|\n",
    "|[02-EditCreateLib](02-EditCreateLib.ipynb)|Change the abilities of the Create object so that it does more things|\n",
    "|[03-EditROSLib](03-EditROSLib.ipynb)|Connect to your Create and make it beeo (and move)|\n",
    "|[04-ROS](04-ROS.ipynb)|Starting from scratch with ROS| \n",
    "|[05-SerialComm](05-Serial.ipynb)|Talking to other processors over the USB-C cable| \n",
    "\n",
    "\n",
    "These notebooks are for more help\n",
    "\n",
    "|Notebook|Description|\n",
    "|--------|-----------|\n",
    "|[100-JupyterLabs](100-JupyterLabs.ipynb)|Getting started with making your own notebooks|\n",
    "|[101-Troubleshooting](101-Troubleshooting.ipynb)|General tips when things go wrong|\n",
    "[102-CLI](102-CLI.ipynb)|Command Line ROS overview|\n",
    "[103-Python](103-Python.ipynb)|General tips for using python|\n",
    "[104-ROS](104-ROS.ipynb)|General tips for using ROS2|"
   ]
  },
  {
   "cell_type": "code",
   "execution_count": null,
   "id": "9bd220a4-0e49-4d17-8730-8d3213a7e1b1",
   "metadata": {},
   "outputs": [],
   "source": []
  }
 ],
 "metadata": {
  "kernelspec": {
   "display_name": "Python 3 (ipykernel)",
   "language": "python",
   "name": "python3"
  },
  "language_info": {
   "codemirror_mode": {
    "name": "ipython",
    "version": 3
   },
   "file_extension": ".py",
   "mimetype": "text/x-python",
   "name": "python",
   "nbconvert_exporter": "python",
   "pygments_lexer": "ipython3",
   "version": "3.9.13"
  }
 },
 "nbformat": 4,
 "nbformat_minor": 5
}
