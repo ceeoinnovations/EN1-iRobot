{
 "cells": [
  {
   "cell_type": "markdown",
   "id": "ef05f6a6-0bb8-453c-ac5b-56752a01f2f7",
   "metadata": {},
   "source": [
    "# Baseball"
   ]
  },
  {
   "cell_type": "markdown",
   "id": "65a1a2d7-77dc-43f4-8137-41be3f013db5",
   "metadata": {},
   "source": [
    "The goal with this activity is to start your Create on home plate, then drive to each of the bases and sing.  "
   ]
  },
  {
   "cell_type": "markdown",
   "id": "59ffdc9b-3d4f-400c-9348-9bf6a40e3907",
   "metadata": {
    "jp-MarkdownHeadingCollapsed": true,
    "tags": []
   },
   "source": [
    "**Constraints:**\n",
    "- the bases are 4 Create diameters apart\n",
    "- you should beep at each base\n",
    "- you should end up where you started"
   ]
  },
  {
   "cell_type": "markdown",
   "id": "476ad2b1-7cc8-4efd-9149-1830901152cd",
   "metadata": {},
   "source": [
    "**Grading rubric:**\n",
    "6. you came to class\n",
    "7. you made an attempt: something happened - the robot moved\n",
    "8. satisfactory: your robot ran the bases while beeping\n",
    "9. good: your robot ended up exactly where you started and did something more at each base\n",
    "10. excellent: Your robot looked like a baseball player\n",
    "11. above and beyond: totally up to you"
   ]
  },
  {
   "cell_type": "code",
   "execution_count": null,
   "id": "c1aba350-3668-4700-b54d-4bcb07da6b7a",
   "metadata": {},
   "outputs": [],
   "source": []
  }
 ],
 "metadata": {
  "kernelspec": {
   "display_name": "Python 3 (ipykernel)",
   "language": "python",
   "name": "python3"
  },
  "language_info": {
   "codemirror_mode": {
    "name": "ipython",
    "version": 3
   },
   "file_extension": ".py",
   "mimetype": "text/x-python",
   "name": "python",
   "nbconvert_exporter": "python",
   "pygments_lexer": "ipython3",
   "version": "3.9.13"
  }
 },
 "nbformat": 4,
 "nbformat_minor": 5
}
