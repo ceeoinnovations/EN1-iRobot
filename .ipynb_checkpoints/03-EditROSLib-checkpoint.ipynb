{
 "cells": [
  {
   "cell_type": "markdown",
   "id": "7f607b8d-df12-4d68-ab28-ce8a749e8739",
   "metadata": {},
   "source": [
    "# Editing CreateLib"
   ]
  },
  {
   "cell_type": "markdown",
   "id": "dfdab2b9-725f-4b31-9a02-1cb01d456baa",
   "metadata": {},
   "source": [
    "Now that you have your robot moving - it might be nice to change things.  The CreateLib is a library that produces a bunch of blocking commands (that is you do not move to the next line until the previous line is finished executing).  It would be nice, for instance, to dictate the speed of rotation as well as the angle. "
   ]
  },
  {
   "cell_type": "code",
   "execution_count": null,
   "id": "107af8e7-6b1f-4b8a-80a4-20ad97498773",
   "metadata": {},
   "outputs": [],
   "source": []
  }
 ],
 "metadata": {
  "kernelspec": {
   "display_name": "Python 3 (ipykernel)",
   "language": "python",
   "name": "python3"
  },
  "language_info": {
   "codemirror_mode": {
    "name": "ipython",
    "version": 3
   },
   "file_extension": ".py",
   "mimetype": "text/x-python",
   "name": "python",
   "nbconvert_exporter": "python",
   "pygments_lexer": "ipython3",
   "version": "3.8.10"
  }
 },
 "nbformat": 4,
 "nbformat_minor": 5
}
