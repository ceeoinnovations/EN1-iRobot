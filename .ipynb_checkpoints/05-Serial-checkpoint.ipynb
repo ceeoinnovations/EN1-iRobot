{
 "cells": [
  {
   "cell_type": "markdown",
   "id": "7f607b8d-df12-4d68-ab28-ce8a749e8739",
   "metadata": {},
   "source": [
    "# Talking to other processors over USB-C"
   ]
  },
  {
   "cell_type": "markdown",
   "id": "dfdab2b9-725f-4b31-9a02-1cb01d456baa",
   "metadata": {},
   "source": [
    "*Connecting LEGO SPIKE Prime to the Create*"
   ]
  },
  {
   "cell_type": "markdown",
   "id": "4ff5e8e5-af37-49de-83d2-e10d90af96d2",
   "metadata": {},
   "source": [
    "To succeed here you need to know your Create's IP address and set up the serial and port.\n",
    "1. type the IP address into a web browser to get to the Create's webpage\n",
    "2. go to IPaddress/serialsetup\n",
    "3. put 5051 in for the port\n",
    "4. hit save\n",
    "5. restart your robot\n",
    "6. connect up your SPIKE Prime to the Create\n",
    "7. try running the code below - do not forget to change the IP address and the name of your create - can you figure out what it does?"
   ]
  },
  {
   "cell_type": "code",
   "execution_count": null,
   "id": "2177c692-0030-4475-985c-3c5c16517e09",
   "metadata": {},
   "outputs": [],
   "source": [
    "from CreateLib import Create\n",
    "import time\n",
    "\n",
    "CREATE_IP = \"192.168.86.225\"\n",
    "CREATE_PORT = 5051\n",
    "\n",
    "code = '''\n",
    "import time\n",
    "\n",
    "def spike():\n",
    "    for i in range(1000):\n",
    "        print(i)\n",
    "        time.sleep(1)\n",
    "        \n",
    "spike()\n",
    "'''\n",
    "\n",
    "def main():\n",
    "    MyCreate = Create('/rogers')\n",
    "    MyCreate.serial_init(CREATE_IP, CREATE_PORT, 1)\n",
    "    MyCreate.serial_write('2 + 2 \\r\\n') # direct command\n",
    "    print(MyCreate.serial_read())\n",
    "    MyCreate.serial_run(code)\n",
    "    print(MyCreate.serial_read())\n",
    "    try:\n",
    "        for i in range(1000):\n",
    "            time.sleep(1)\n",
    "            print('iteration %d, read %s' % (i,MyCreate.serial_read()))\n",
    "    except Exception as e:\n",
    "        print(e)\n",
    "    MyCreate.serial_abort()\n",
    "    MyCreate.serial_close()\n",
    "    MyCreate.close()\n",
    "    print('done')\n",
    "        \n",
    "main()\n"
   ]
  },
  {
   "cell_type": "markdown",
   "id": "97d89e10-d193-4a19-bc70-9e3e1b518e02",
   "metadata": {},
   "source": [
    "The first thing is define your IP addresses and to figure out what code you want running on SPIKE Prime - that goes in the variable code:"
   ]
  },
  {
   "cell_type": "code",
   "execution_count": null,
   "id": "863d1c82-63ef-4464-a903-96488b5fac3c",
   "metadata": {},
   "outputs": [],
   "source": [
    "from CreateLib import Create\n",
    "import time\n",
    "\n",
    "CREATE_IP = \"192.168.86.225\"\n",
    "CREATE_PORT = 5051\n",
    "\n",
    "code = '''\n",
    "import time\n",
    "\n",
    "def spike():\n",
    "    for i in range(1000):\n",
    "        print(i)\n",
    "        time.sleep(1)\n",
    "        \n",
    "spike()\n",
    "'''"
   ]
  },
  {
   "cell_type": "markdown",
   "id": "ccb76558-901f-4abf-8a19-824b0392b088",
   "metadata": {},
   "source": [
    "Then you connect up to the serial port (using TCP/IP) and that gets you to the REPL on SPIKE Prime.  You then ask it what *2+2* is - the *\\r\\n* are carriage return and line feed - needed on every line for micropython.  And then you read back the answer and print it out."
   ]
  },
  {
   "cell_type": "code",
   "execution_count": null,
   "id": "f8da1001-ca23-4dc0-94bc-86f38f400ab4",
   "metadata": {},
   "outputs": [],
   "source": [
    "MyCreate = Create('/rogers')\n",
    "MyCreate.serial_init(CREATE_IP, CREATE_PORT, 1)\n",
    "MyCreate.serial_write('2 + 2 \\r\\n') # direct command\n",
    "time.sleep(1)\n",
    "print(MyCreate.serial_read())"
   ]
  },
  {
   "cell_type": "markdown",
   "id": "db8461d7-476d-4dd7-af3c-bfa4d8f07089",
   "metadata": {},
   "source": [
    "Then you load up the code - and it runs because you call *spike()* right away - and you read back what it prints out and show it here."
   ]
  },
  {
   "cell_type": "code",
   "execution_count": null,
   "id": "4228b9cb-acbc-46b7-b981-20bc2f1d07d6",
   "metadata": {},
   "outputs": [],
   "source": [
    "MyCreate.serial_run(code)\n",
    "print(MyCreate.serial_read())\n",
    "try:\n",
    "    for i in range(1000):\n",
    "        time.sleep(1)\n",
    "        print('iteration %d, read %s' % (i,MyCreate.serial_read()))\n",
    "except Exception as e:\n",
    "    print(e)"
   ]
  },
  {
   "cell_type": "markdown",
   "id": "68ef035a-545d-4df3-8184-6766d1995c55",
   "metadata": {},
   "source": [
    "Then you close all open connections and say you are done"
   ]
  },
  {
   "cell_type": "code",
   "execution_count": null,
   "id": "bca38d6c-658e-4580-8b1d-59cac19d202a",
   "metadata": {},
   "outputs": [],
   "source": [
    "MyCreate.serial_abort()\n",
    "MyCreate.serial_close()\n",
    "MyCreate.close()\n",
    "print('done')"
   ]
  },
  {
   "cell_type": "markdown",
   "id": "76c8bcaf-9105-4430-a1d4-10eeb8a50ddf",
   "metadata": {},
   "source": [
    "and you are done - now you can put in whatever code you want and control the SPIKE Prime from your code"
   ]
  }
 ],
 "metadata": {
  "kernelspec": {
   "display_name": "Python 3 (ipykernel)",
   "language": "python",
   "name": "python3"
  },
  "language_info": {
   "codemirror_mode": {
    "name": "ipython",
    "version": 3
   },
   "file_extension": ".py",
   "mimetype": "text/x-python",
   "name": "python",
   "nbconvert_exporter": "python",
   "pygments_lexer": "ipython3",
   "version": "3.8.10"
  }
 },
 "nbformat": 4,
 "nbformat_minor": 5
}
