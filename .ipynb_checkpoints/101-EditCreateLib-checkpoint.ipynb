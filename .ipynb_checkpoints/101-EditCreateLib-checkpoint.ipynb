{
 "cells": [
  {
   "cell_type": "markdown",
   "id": "7f607b8d-df12-4d68-ab28-ce8a749e8739",
   "metadata": {},
   "source": [
    "# Editing CreateLib"
   ]
  },
  {
   "cell_type": "markdown",
   "id": "dfdab2b9-725f-4b31-9a02-1cb01d456baa",
   "metadata": {},
   "source": [
    "Now that you have your robot moving - it might be nice to change things.  The CreateLib is a library that produces a bunch of blocking commands (that is you do not move to the next line until the previous line is finished executing).  It would be nice, for instance, to dictate the speed of rotation as well as the angle. Lets start by looking at the start of the file:\n",
    "```python\n",
    "import rclpy\n",
    "from ROS2Lib import Drive, Rotate, Lights, Audio\n",
    "from TCPLib import TCPServer\n",
    "import time\n",
    "```"
   ]
  },
  {
   "cell_type": "markdown",
   "id": "eeb04bb0-e657-4960-8ac0-da52c24aa216",
   "metadata": {},
   "source": [
    "You can see we *import rclpy* - that is the library from the ROS folks - that talks ROS.  Then we import a bunch of functions from ROS2Lib - you will be editing this library later in the year.  The TCP library is how you will talk with stuff we physically stick on top of the Create.  We will now define a class called Create.  What is cool about classes is that you can call the same code many different times to control different objects.  For instance, if you have 3 creates, you can have a code that looks like this - each instance (fred, sara, ethel) keeps track of their own internal variables (that is what *self* is all about).\n",
    "```python\n",
    "fred = Create('/rogers')\n",
    "sara = Create('/dory')\n",
    "ethel = Create('/woody')\n",
    "\n",
    "fred.forward(1)\n",
    "ethel.turn(90)\n",
    "sara.beep()\n",
    "```"
   ]
  },
  {
   "cell_type": "markdown",
   "id": "db498f21-fa28-47d5-b500-b9a29708ad44",
   "metadata": {},
   "source": [
    "So lets we define the class Create - when called, it will run *init* first -and save a bunch of info that will belong to the instance of the class  (fred, sara, or ethel)\n",
    "```python\n",
    "class Create():\n",
    "    def __init__ (self, namespace = ''):\n",
    "        rclpy.init(args = None)\n",
    "        self.namespace = namespace\n",
    "        self.drive_client = Drive(namespace)\n",
    "        self.rotate_client = Rotate(namespace)\n",
    "        self.led_publisher = Lights(namespace)\n",
    "        self.audio_publisher = Audio(namespace)\n",
    "        self.serial = None\n",
    "        time.sleep(1)\n",
    "```"
   ]
  },
  {
   "cell_type": "markdown",
   "id": "6422c0a8-dca2-47df-abd5-c4d9f5f7f805",
   "metadata": {},
   "source": [
    "next lets define a method to change the LED colors.  There are 12 colors predetermined (there could be a lot more if you want to edit ROSLib).  So we read in the color parameter (number from 0-11) and publish (a ROS [publisher](104-ROS.ipynb)) it out to the Create.  We print some info to help debug for the console and then we wait for a second for it all to happen.  Note that comments can be in triple quotes or with a hashtag.\n",
    "```python\n",
    "    def LED(self,color):\n",
    "        '''\n",
    "        changes the color of the LED\n",
    "        '''\n",
    "        led_colors = color\n",
    "        print('publish LED ', end = ''        )\n",
    "        self.led_publisher.set_color(led_colors)\n",
    "        time.sleep(1)\n",
    "        print('done')\n",
    "```"
   ]
  },
  {
   "cell_type": "markdown",
   "id": "5e7d9766-20fb-4887-b654-67634a6fd7d1",
   "metadata": {},
   "source": [
    "Similarly, we can publish a beep with a given frequency\n",
    "```python\n",
    "    def beep(self, frequency = 440):\n",
    "        '''\n",
    "        Beeps\n",
    "        '''\n",
    "        print('publish beep ', end = ''        )\n",
    "        self.audio_publisher.beep(frequency)\n",
    "        time.sleep(1)\n",
    "        print('done')\n",
    "```"
   ]
  },
  {
   "cell_type": "markdown",
   "id": "2ed6f3ea-0669-4b0e-b92f-bad566b9c554",
   "metadata": {},
   "source": [
    "Getting a little more complicated, we can define a turn\n",
    "```python\n",
    "    def turn(self,angle = 90):\n",
    "        '''\n",
    "        rotates a given angle\n",
    "        '''\n",
    "        speed = 0.5   \n",
    "        angle = angle/180*3.1415\n",
    "        print('turn %0.2f: goal' % angle, end = '')\n",
    "        self.rotate_client.set_goal(float(angle), speed)\n",
    "        print(' set ', end = '')\n",
    "        self.wait(self.rotate_client)\n",
    "        print('done')\n",
    "```"
   ]
  },
  {
   "cell_type": "markdown",
   "id": "544b6bbf-1a55-4f67-80ad-e65cead0c334",
   "metadata": {},
   "source": [
    "Notice that we first define a turning speed, convert the angle to radians, and print out that we are setting a goal.  This uses a ROS [action](204-ROS.ipynb) - so we tell the action the goal, and then we wait for the goal to complete (and print done).  Try editing Create so that you can pass in both the angle and the speed - and pass that on into the goal..  Make sure to edit and save the CreateLib.py and then you can test it with your original code in the first notebook.  We will talk about the serial calls in a later notebook."
   ]
  },
  {
   "cell_type": "markdown",
   "id": "ffa59576-ce3b-4972-ab3c-01535ab0dd2b",
   "metadata": {},
   "source": [
    "*hint: you can give parameters default values in python - note that the default value for the angle is 90 - this means if they do not enter a number when calling turn (fred.turn()), it will turn 90 degrees - do the same for the speed*"
   ]
  },
  {
   "cell_type": "markdown",
   "id": "2b3b9332-4083-42bf-a61a-5b41e1948e3c",
   "metadata": {},
   "source": [
    "**Editing CreateLib.py** \n",
    "<br>You can edit the CreateLib.py either directly (open the python file and remember to hit save before restarting the kernel and running it) or we can leverage the Jupyter command of *%%writefile* and run the cell below - then restart the kernel and run a test.<br><br>\n",
    "Try adding speed control to the forward command:\n",
    "- expand the Create class (little grey arrow to the side)\n",
    "- scroll down to def forward(self, dist = 0.5):\n",
    "- change it to def forward(self, dist = 0.5, speed = 0.25):\n",
    "- delete the next line where speed is defined: speed = 0.25\n",
    "- save\n",
    "- try the code two cells below - does it pass in it move faster?  Note that you could also still have the line be forward(0.5) and it would use a speed of 0.25 (default)."
   ]
  },
  {
   "cell_type": "code",
   "execution_count": 2,
   "id": "d8b125f4-e626-4ec7-998f-1cb3fef38518",
   "metadata": {},
   "outputs": [
    {
     "name": "stdout",
     "output_type": "stream",
     "text": [
      "Overwriting CreateLib.py\n"
     ]
    }
   ],
   "source": [
    "%%writefile CreateLib.py\n",
    "'''\n",
    "This library talks to the ROS library, setting up some key behaviors\n",
    "'''\n",
    "\n",
    "import rclpy\n",
    "from ROS2Lib import Drive, Rotate, Lights, Audio\n",
    "from TCPLib import TCPServer\n",
    "import time\n",
    "\n",
    "class Create():\n",
    "    def __init__ (self, namespace = ''):\n",
    "        rclpy.init(args = None)\n",
    "        self.namespace = namespace\n",
    "        self.drive_client = Drive(namespace)\n",
    "        self.rotate_client = Rotate(namespace)\n",
    "        self.led_publisher = Lights(namespace)\n",
    "        self.audio_publisher = Audio(namespace)\n",
    "        self.serial = None\n",
    "        time.sleep(1)\n",
    "\n",
    "    def LED(self,color):\n",
    "        '''\n",
    "        changes the color of the LED\n",
    "        '''\n",
    "        led_colors = color\n",
    "        print('publish LED ', end = ''        )\n",
    "        self.led_publisher.set_color(led_colors)\n",
    "        time.sleep(1)\n",
    "        print('done')\n",
    "\n",
    "    def beep(self, frequency = 440):\n",
    "        '''\n",
    "        Beeps\n",
    "        '''\n",
    "        print('publish beep ', end = ''        )\n",
    "        self.audio_publisher.beep(frequency)\n",
    "        time.sleep(1)\n",
    "        print('done')\n",
    "            \n",
    "    def turn(self,angle = 90):\n",
    "        '''\n",
    "        rotates a given angle\n",
    "        '''\n",
    "        speed = 0.5   \n",
    "        angle = angle/180*3.1415\n",
    "        print('turn %0.2f: goal' % angle, end = '')\n",
    "        self.rotate_client.set_goal(float(angle), speed)\n",
    "        print(' set ', end = '')\n",
    "        self.wait(self.rotate_client)\n",
    "        print('done')\n",
    "\n",
    "    def forward(self,dist = 0.5):\n",
    "        '''\n",
    "        goes the distance and then stops the ROS2 connection\n",
    "        '''\n",
    "        speed = 0.25\n",
    "        print('forward %0.2f: goal' % dist, end = '')\n",
    "        self.drive_client.set_goal(float(dist),speed)\n",
    "        print(' set ', end = '')\n",
    "        self.wait(self.drive_client)\n",
    "        print('done')\n",
    "        \n",
    "    def wait(self, client):\n",
    "        rclpy.spin_once(client)\n",
    "        while not client.done:\n",
    "            #time.sleep(0.1)\n",
    "            print('...', end = '')\n",
    "            rclpy.spin_once(client)\n",
    "\n",
    "# ----------------------------------------serial calls using serial over TCP------------------------- \n",
    "\n",
    "    def serial_init(self, IP, PORT, timeout = 0):\n",
    "        self.serial = TCPServer (IP, PORT, timeout)\n",
    "        \n",
    "    def serial_write(self, string):\n",
    "        if self.serial:\n",
    "            self.serial.write(string)\n",
    "        else:\n",
    "            print('serial not initialized')\n",
    "            \n",
    "    def serial_write_binary(self, string):\n",
    "        if self.serial:\n",
    "            self.serial.write_binary(string)\n",
    "        else:\n",
    "            print('serial not initialized')\n",
    "            \n",
    "    def serial_abort(self):\n",
    "        self.serial.write_binary(b'\\x03')\n",
    "            \n",
    "    def serial_run(self, code):\n",
    "        code = code.replace('\\n','\\r\\n')\n",
    "        code = code.replace('\\t','    ')\n",
    "        if self.serial:\n",
    "            self.serial.write_binary(b'\\x05') # Ctrl E\n",
    "            self.serial.write(code)\n",
    "            self.serial.write_binary(b'\\x04')  #Ctrl D\n",
    "        else:\n",
    "            print('serial not initialized')\n",
    "            \n",
    "    def serial_read(self):\n",
    "        if self.serial:\n",
    "            return self.serial.read()\n",
    "        else:\n",
    "            print('serial not initialized')\n",
    "        return None\n",
    "        \n",
    "    def serial_close(self):\n",
    "        if self.serial:\n",
    "            return self.serial.close()\n",
    "        else:\n",
    "            print('serial not initialized')\n",
    "\n",
    "    def close(self):\n",
    "        self.drive_client.destroy_node()\n",
    "        self.rotate_client.destroy_node()\n",
    "        self.led_publisher.destroy_node()\n",
    "        self.audio_publisher.destroy_node()\n",
    "        rclpy.shutdown()\n",
    "\n"
   ]
  },
  {
   "cell_type": "code",
   "execution_count": null,
   "id": "84abd461-1fb2-4f0f-a5be-2253276d6da3",
   "metadata": {},
   "outputs": [],
   "source": [
    "from CreateLib import Create\n",
    "\n",
    "MyCreate = Create('/rogers')\n",
    "\n",
    "MyCreate.beep()\n",
    "MyCreate.forward(0.5, 0.5)\n",
    "MyCreate.close()"
   ]
  },
  {
   "cell_type": "markdown",
   "id": "b49f5b6d-f31e-4c3c-acc4-c7ed66d6e1d0",
   "metadata": {},
   "source": [
    "**More challenges**\n",
    "- figure out what all the possible colors are\n",
    "- add speed control to the turn command\n",
    "- add duration to the beep command\n"
   ]
  },
  {
   "cell_type": "code",
   "execution_count": null,
   "id": "59e8845e-de9d-4541-b681-f990075eafa8",
   "metadata": {},
   "outputs": [],
   "source": []
  }
 ],
 "metadata": {
  "kernelspec": {
   "display_name": "Python 3 (ipykernel)",
   "language": "python",
   "name": "python3"
  },
  "language_info": {
   "codemirror_mode": {
    "name": "ipython",
    "version": 3
   },
   "file_extension": ".py",
   "mimetype": "text/x-python",
   "name": "python",
   "nbconvert_exporter": "python",
   "pygments_lexer": "ipython3",
   "version": "3.9.13"
  }
 },
 "nbformat": 4,
 "nbformat_minor": 5
}
