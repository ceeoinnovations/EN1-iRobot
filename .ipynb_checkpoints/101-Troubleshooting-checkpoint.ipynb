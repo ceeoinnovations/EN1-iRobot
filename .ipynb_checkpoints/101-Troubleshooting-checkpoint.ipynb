{
 "cells": [
  {
   "cell_type": "markdown",
   "id": "46c2e0d3-51c1-4fe8-8bf1-4fbdd4051f88",
   "metadata": {
    "tags": []
   },
   "source": [
    "First check your paths by running the code below - is galactic on the path?"
   ]
  },
  {
   "cell_type": "code",
   "execution_count": null,
   "id": "43ea66d9-cc66-4799-b5f5-7af2a8cd260a",
   "metadata": {
    "scrolled": true,
    "tags": []
   },
   "outputs": [],
   "source": [
    "import sys; print(sys.path)"
   ]
  },
  {
   "cell_type": "markdown",
   "id": "a4c95301-ae0a-40d8-bc46-3c7991d2cefc",
   "metadata": {},
   "source": [
    "Check to see if you can import a local file"
   ]
  },
  {
   "cell_type": "code",
   "execution_count": null,
   "id": "8330bc77-ad70-492f-a6fe-d19f72070dbc",
   "metadata": {},
   "outputs": [],
   "source": [
    "import directory\n",
    "\n",
    "directory.test()"
   ]
  },
  {
   "cell_type": "markdown",
   "id": "082bf891-3433-4772-b308-f38f65e23a85",
   "metadata": {},
   "source": [
    "Can you import rclpy?\n"
   ]
  },
  {
   "cell_type": "code",
   "execution_count": null,
   "id": "8c1f0dc0-c777-45ae-81ca-8fa15231a29e",
   "metadata": {},
   "outputs": [],
   "source": [
    "import rclpy"
   ]
  },
  {
   "cell_type": "markdown",
   "id": "e60b7edb-f72b-4b14-af12-6336db947996",
   "metadata": {},
   "source": [
    "Another section - what if I cannot see my create in the ros topic list?"
   ]
  }
 ],
 "metadata": {
  "kernelspec": {
   "display_name": "Python 3 (ipykernel)",
   "language": "python",
   "name": "python3"
  },
  "language_info": {
   "codemirror_mode": {
    "name": "ipython",
    "version": 3
   },
   "file_extension": ".py",
   "mimetype": "text/x-python",
   "name": "python",
   "nbconvert_exporter": "python",
   "pygments_lexer": "ipython3",
   "version": "3.8.10"
  }
 },
 "nbformat": 4,
 "nbformat_minor": 5
}
