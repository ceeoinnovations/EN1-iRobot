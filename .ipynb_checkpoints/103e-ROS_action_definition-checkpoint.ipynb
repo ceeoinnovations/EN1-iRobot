{
 "cells": [
  {
   "cell_type": "markdown",
   "id": "cbe62943-50a3-4bb8-a2ee-40c6594682b5",
   "metadata": {},
   "source": [
    "<h4>Building an action server</h4>"
   ]
  },
  {
   "cell_type": "markdown",
   "id": "15fd0f2d-1e9e-4b9f-9fe1-cc8caefe43d6",
   "metadata": {},
   "source": [
    "This is building off of ([here](https://docs.ros.org/en/galactic/Tutorials/Intermediate/Creating-an-Action.html)) and defining it ([here](https://docs.ros.org/en/galactic/Tutorials/Intermediate/Writing-an-Action-Server-Client/Py.html))  If you want the an exact replication, go [here](ActionTutorial.ipynb).  The first step is to define it by creating the requisite paths, then folders and then create the package defining the action."
   ]
  },
  {
   "cell_type": "code",
   "execution_count": 9,
   "id": "c4c0bdae",
   "metadata": {
    "tags": []
   },
   "outputs": [],
   "source": [
    "import os\n",
    "import subprocess\n",
    "\n",
    "home = os.path.expanduser('~')\n",
    "workspace = home +'/ros2_ws/'\n",
    "sourceFiles = workspace + 'src/'\n",
    "actionName = 'timer'\n",
    "\n",
    "os.chdir(home)\n",
    "\n",
    "if not os.path.exists(sourceFiles):\n",
    "    os.makedirs(sourceFiles)\n",
    "os.chdir(sourceFiles)\n",
    "if not os.path.exists(sourceFiles + actionName):\n",
    "    reply = subprocess.run(['ros2','pkg','create',actionName],capture_output=True) #same as !ros2 pkg create action_tutorials_interfaces\n",
    "    os.chdir(sourceFiles + actionName)\n",
    "    os.mkdir('action')"
   ]
  },
  {
   "cell_type": "markdown",
   "id": "08e803ec-571b-47d2-85a1-2a3515b1076c",
   "metadata": {},
   "source": [
    "Next we set up the action definition file.  This defines the data types for *Resquest*, *Result*, and *Feedback*: the three parts to every action.  In this case, request (only one parameter: order) is a 32 bit integer, the result (only one parameter: sequence) is an array of 32 bit integers, and the feedback you get when quering it while it is running (partial_sequence) is a similar array.  So move to the action folder and then write the definition file."
   ]
  },
  {
   "cell_type": "code",
   "execution_count": 10,
   "id": "beb02373-3404-4c1d-8dbf-2fb7cddb4ccb",
   "metadata": {},
   "outputs": [],
   "source": [
    "os.chdir(sourceFiles + actionName + '/action')"
   ]
  },
  {
   "cell_type": "code",
   "execution_count": 11,
   "id": "bf845c45",
   "metadata": {},
   "outputs": [
    {
     "name": "stdout",
     "output_type": "stream",
     "text": [
      "Writing Timer.action\n"
     ]
    }
   ],
   "source": [
    "%%writefile Timer.action\n",
    "\n",
    "int32 duration\n",
    "---\n",
    "int32 done\n",
    "---\n",
    "int32 sec_left"
   ]
  },
  {
   "cell_type": "markdown",
   "id": "476240b3-88e7-4fea-a763-ab68c13463da",
   "metadata": {},
   "source": [
    "We then have to edit the CMakeList - adding the package *rosidl_generate_interafaces* and then generating the ros2 interface for the action we just defined above.\n",
    "```bash\n",
    "find_package(rosidl_default_generators REQUIRED)\n",
    "\n",
    "rosidl_generate_interfaces(${PROJECT_NAME}\n",
    "  \"action/Timer.action\"\n",
    ")\n",
    "\n",
    "```"
   ]
  },
  {
   "cell_type": "code",
   "execution_count": 12,
   "id": "fa8ba4d3-556e-4362-b21a-3edfbf8cf3a6",
   "metadata": {},
   "outputs": [],
   "source": [
    "os.chdir(sourceFiles + actionName)"
   ]
  },
  {
   "cell_type": "code",
   "execution_count": 13,
   "id": "d7a51f6c",
   "metadata": {},
   "outputs": [
    {
     "name": "stdout",
     "output_type": "stream",
     "text": [
      "Overwriting CMakeLists.txt\n"
     ]
    }
   ],
   "source": [
    "%%writefile CMakeLists.txt\n",
    "cmake_minimum_required(VERSION 3.8)\n",
    "project(timer)\n",
    "\n",
    "if(CMAKE_COMPILER_IS_GNUCXX OR CMAKE_CXX_COMPILER_ID MATCHES \"Clang\")\n",
    "  add_compile_options(-Wall -Wextra -Wpedantic)\n",
    "endif()\n",
    "\n",
    "# find dependencies\n",
    "find_package(ament_cmake REQUIRED)\n",
    "# uncomment the following section in order to fill in\n",
    "# further dependencies manually.\n",
    "# find_package(<dependency> REQUIRED)\n",
    "\n",
    "if(BUILD_TESTING)\n",
    "  find_package(ament_lint_auto REQUIRED)\n",
    "  # the following line skips the linter which checks for copyrights\n",
    "  # uncomment the line when a copyright and license is not present in all source files\n",
    "  #set(ament_cmake_copyright_FOUND TRUE)\n",
    "  # the following line skips cpplint (only works in a git repo)\n",
    "  # uncomment the line when this package is not in a git repo\n",
    "  #set(ament_cmake_cpplint_FOUND TRUE)\n",
    "  ament_lint_auto_find_test_dependencies()\n",
    "endif()\n",
    "\n",
    "find_package(rosidl_default_generators REQUIRED)\n",
    "\n",
    "rosidl_generate_interfaces(${PROJECT_NAME}\n",
    "  \"action/Timer.action\"\n",
    ")\n",
    "\n",
    "ament_package()\n"
   ]
  },
  {
   "cell_type": "markdown",
   "id": "6cfbf460-b009-4324-b1dd-5fa26c3e675e",
   "metadata": {},
   "source": [
    "We then edit the package xml so that it has the new dependencies for the action\n",
    "```bash\n",
    "<buildtool_depend>rosidl_default_generators</buildtool_depend>\n",
    "\n",
    "<depend>action_msgs</depend>\n",
    "\n",
    "<member_of_group>rosidl_interface_packages</member_of_group>\n",
    "```"
   ]
  },
  {
   "cell_type": "code",
   "execution_count": 14,
   "id": "a3f90697-c656-46f6-9f9b-d227fb209a22",
   "metadata": {},
   "outputs": [],
   "source": [
    "os.chdir(sourceFiles + actionName)"
   ]
  },
  {
   "cell_type": "code",
   "execution_count": 15,
   "id": "44739f3c",
   "metadata": {},
   "outputs": [
    {
     "name": "stdout",
     "output_type": "stream",
     "text": [
      "Overwriting package.xml\n"
     ]
    }
   ],
   "source": [
    "%%writefile package.xml\n",
    "<?xml version=\"1.0\"?>\n",
    "<?xml-model href=\"http://download.ros.org/schema/package_format3.xsd\" schematypens=\"http://www.w3.org/2001/XMLSchema\"?>\n",
    "<package format=\"3\">\n",
    "  <name>timer</name>\n",
    "  <version>0.0.0</version>\n",
    "  <description>TODO: Package description</description>\n",
    "  <maintainer email=\"parallels@todo.todo\">parallels</maintainer>\n",
    "  <license>TODO: License declaration</license>\n",
    "\n",
    "  <buildtool_depend>ament_cmake</buildtool_depend>\n",
    "    \n",
    "  <buildtool_depend>rosidl_default_generators</buildtool_depend>\n",
    "  <depend>action_msgs</depend>\n",
    "  <member_of_group>rosidl_interface_packages</member_of_group>\n",
    "    \n",
    "  <test_depend>ament_lint_auto</test_depend>\n",
    "  <test_depend>ament_lint_common</test_depend>\n",
    "\n",
    "  <export>\n",
    "    <build_type>ament_cmake</build_type>\n",
    "  </export>\n",
    "</package>\n"
   ]
  },
  {
   "cell_type": "markdown",
   "id": "f5c7201e-b8f7-4f71-84c1-b18d24625380",
   "metadata": {},
   "source": [
    "Lastly we have to build it by running *colcon build* in the workspace directory"
   ]
  },
  {
   "cell_type": "code",
   "execution_count": 16,
   "id": "d9b4cff2-0d44-467d-9641-926dddf2f2e0",
   "metadata": {},
   "outputs": [],
   "source": [
    "import subprocess\n",
    "os.chdir(home + '/ros2_ws')\n",
    "reply = subprocess.run(['colcon','build'],capture_output=True)"
   ]
  },
  {
   "cell_type": "code",
   "execution_count": 17,
   "id": "b73cca4d-2950-4364-b709-5f0447f7b5fe",
   "metadata": {},
   "outputs": [
    {
     "data": {
      "text/plain": [
       "CompletedProcess(args=['colcon', 'build'], returncode=0, stdout=b'Starting >>> action_tutorials_interfaces\\nStarting >>> timer\\nFinished <<< action_tutorials_interfaces [0.53s]\\nFinished <<< timer [3.71s]\\n\\nSummary: 2 packages finished [3.81s]\\n', stderr=b'')"
      ]
     },
     "execution_count": 17,
     "metadata": {},
     "output_type": "execute_result"
    }
   ],
   "source": [
    "reply"
   ]
  },
  {
   "cell_type": "markdown",
   "id": "300c4b18-36c4-4e1b-be9b-34275a807195",
   "metadata": {},
   "source": [
    "Now you have to go to the terminal and run \n",
    "```bash\n",
    "cd ~/ros2_ws\n",
    "export ROS_DOMAIN_ID=0\n",
    ". install/setup.bash\n",
    "ros2 interface show timer/action/Timer\n",
    "```\n",
    "This will test the action definition"
   ]
  },
  {
   "cell_type": "markdown",
   "id": "26bd5747-7905-4b45-a8bd-6518b3979168",
   "metadata": {},
   "source": [
    "#### Server code"
   ]
  },
  {
   "cell_type": "markdown",
   "id": "40ceb883-7443-47ce-b04b-35f17f0ed733",
   "metadata": {},
   "source": [
    "the next step is to write the python code that will define the server.  We first define the server, importing the message type we defined above and defining a callback that returns the result.  "
   ]
  },
  {
   "cell_type": "code",
   "execution_count": 18,
   "id": "ac8b5d64-b2b9-4b9d-a064-39448bda77b3",
   "metadata": {},
   "outputs": [],
   "source": [
    "os.chdir(workspace)"
   ]
  },
  {
   "cell_type": "code",
   "execution_count": 25,
   "id": "d158cd46-88bd-4b06-b34f-cdaa55eff96c",
   "metadata": {},
   "outputs": [
    {
     "name": "stdout",
     "output_type": "stream",
     "text": [
      "Overwriting timer_action_server.py\n"
     ]
    }
   ],
   "source": [
    "%%writefile timer_action_server.py\n",
    "\n",
    "import time\n",
    "import rclpy\n",
    "from rclpy.action import ActionServer\n",
    "from rclpy.node import Node\n",
    "\n",
    "from timer.action import Timer\n",
    "\n",
    "class TimerActionServer(Node):\n",
    "\n",
    "    def __init__(self):\n",
    "        super().__init__('timer_action_server')\n",
    "        self._action_server = ActionServer(\n",
    "            self,Timer,'timer',self.execute_callback)\n",
    "        print('set up and waiting')\n",
    "\n",
    "    def execute_callback(self, goal_handle):\n",
    "        self.get_logger().info('Executing goal...')\n",
    "        feedback_msg = Timer.Feedback()\n",
    "        feedback_msg.sec_left = goal_handle.request.duration\n",
    "\n",
    "        start = time.time()\n",
    "        while (time.time()-start) < goal_handle.request.duration:\n",
    "            feedback_msg.sec_left = int(time.time()-start)\n",
    "            self.get_logger().info('Feedback: {0}'.format(feedback_msg.sec_left))\n",
    "            goal_handle.publish_feedback(feedback_msg)\n",
    "            time.sleep(1)\n",
    "\n",
    "        goal_handle.succeed()\n",
    "\n",
    "        result = Timer.Result()\n",
    "        result.done = 0\n",
    "        return result\n",
    "\n",
    "def main(args=None):\n",
    "    rclpy.init(args=args)\n",
    "\n",
    "    timer_action_server = TimerActionServer()\n",
    "\n",
    "    rclpy.spin(timer_action_server)\n",
    "\n",
    "\n",
    "if __name__ == '__main__':\n",
    "    main()"
   ]
  },
  {
   "cell_type": "markdown",
   "id": "1b75a55a-09f9-47be-8618-5ff34c960dae",
   "metadata": {},
   "source": [
    "Now you can run it in the terminal by typing:\n",
    "```bash\n",
    "cd ~/ros2_ws\n",
    "python3 timer_action_server.py\n",
    "```\n",
    "Then open up a second terminal, and type:\n",
    "```bash\n",
    "cd ~/ros2_ws\n",
    ". install/setup.bash\n",
    "ros2 action send_goal timer timer/action/Timer \"{duration: 10}\"\n",
    "```"
   ]
  },
  {
   "cell_type": "code",
   "execution_count": null,
   "id": "a421f8af-999f-4ed6-bb51-55846aa825c5",
   "metadata": {},
   "outputs": [],
   "source": []
  }
 ],
 "metadata": {
  "kernelspec": {
   "display_name": "Python 3 (ipykernel)",
   "language": "python",
   "name": "python3"
  },
  "language_info": {
   "codemirror_mode": {
    "name": "ipython",
    "version": 3
   },
   "file_extension": ".py",
   "mimetype": "text/x-python",
   "name": "python",
   "nbconvert_exporter": "python",
   "pygments_lexer": "ipython3",
   "version": "3.8.10"
  }
 },
 "nbformat": 4,
 "nbformat_minor": 5
}
