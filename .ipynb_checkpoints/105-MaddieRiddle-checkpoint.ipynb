{
 "cells": [
  {
   "cell_type": "markdown",
   "id": "da3ba1a3-96ac-48b6-8054-16c608b9cbf0",
   "metadata": {},
   "source": [
    "## Welcome to Maddie's Riddle"
   ]
  },
  {
   "cell_type": "markdown",
   "id": "e0e245ab-c902-40a1-a65b-c6372609d3dc",
   "metadata": {},
   "source": [
    "First lets make sure you are on the right ID etc (go [here](201a-ResettingIDs.ipynb) if there are issues)"
   ]
  },
  {
   "cell_type": "code",
   "execution_count": null,
   "id": "7e2b2834-4de3-494b-86aa-b2d493091793",
   "metadata": {},
   "outputs": [],
   "source": [
    "import os\n",
    "os.environ['ROS_DOMAIN_ID']=\"0\"\n",
    "os.environ['RMW_IMPLEMENTATION']=\"rmw_cyclonedds_cpp\"\n",
    "!printenv | grep 'ROS'\n",
    "!printenv | grep 'RMW'"
   ]
  },
  {
   "cell_type": "markdown",
   "id": "ef9bee65-a93d-4755-a9e8-4b79296200cd",
   "metadata": {},
   "source": [
    "Now do a topic list to see if you can see her riddle"
   ]
  },
  {
   "cell_type": "code",
   "execution_count": null,
   "id": "af888b47-3efa-420c-b6cd-d2b091968b87",
   "metadata": {},
   "outputs": [],
   "source": [
    "!ros2 topic list"
   ]
  },
  {
   "cell_type": "markdown",
   "id": "78862a6c-1e3c-4c40-9574-fd39da11552b",
   "metadata": {},
   "source": [
    "Next, look up how to use the CLI to subscribe to a topic (hint - you might look [here](202-CLI.ipynb))."
   ]
  },
  {
   "cell_type": "code",
   "execution_count": null,
   "id": "4d4a93c3-c8e5-453f-abb9-c015157f4f8e",
   "metadata": {},
   "outputs": [],
   "source": [
    "!"
   ]
  },
  {
   "cell_type": "markdown",
   "id": "b295271e-bef2-47ef-a7f9-6b17df646a26",
   "metadata": {},
   "source": [
    "Now see if you can publish your own riddle and have others subscribe to it"
   ]
  },
  {
   "cell_type": "code",
   "execution_count": null,
   "id": "477fdbcc-3347-4a0b-925d-a00ab16b49f7",
   "metadata": {},
   "outputs": [],
   "source": []
  },
  {
   "cell_type": "markdown",
   "id": "d3008543-fae5-4136-a4a8-123c6a6fc1ff",
   "metadata": {},
   "source": [
    "Now lets do it in ROS - look at the Simple Publisher code [here](103a-ROS_Publisher.ipynb) and see if you can edit it below to pose a riddle.  Then see if someone can subscribe to it, first with the Command Line Interface and second by writing ROS code - some hints are [here](103b-ROS_Subscriber.ipynb)."
   ]
  },
  {
   "cell_type": "code",
   "execution_count": null,
   "id": "bb62e85a-fef7-4694-8ea6-98e512e9f523",
   "metadata": {},
   "outputs": [],
   "source": []
  }
 ],
 "metadata": {
  "kernelspec": {
   "display_name": "Python 3 (ipykernel)",
   "language": "python",
   "name": "python3"
  },
  "language_info": {
   "codemirror_mode": {
    "name": "ipython",
    "version": 3
   },
   "file_extension": ".py",
   "mimetype": "text/x-python",
   "name": "python",
   "nbconvert_exporter": "python",
   "pygments_lexer": "ipython3",
   "version": "3.9.13"
  }
 },
 "nbformat": 4,
 "nbformat_minor": 5
}
