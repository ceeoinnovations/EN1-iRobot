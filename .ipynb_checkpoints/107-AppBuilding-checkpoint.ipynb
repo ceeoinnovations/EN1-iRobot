{
 "cells": [
  {
   "cell_type": "markdown",
   "id": "ffdf0811-b8c2-4c6c-9e6e-7a78884b1753",
   "metadata": {},
   "source": [
    "## Building your own App with Thunkables"
   ]
  },
  {
   "cell_type": "markdown",
   "id": "3ade9f01-3803-4080-91e5-7de1ee9ff7b9",
   "metadata": {},
   "source": [
    "[Thunkables](https://thunkable.com/#/) is a way to make apps quickly and easily using block coding.\n",
    "1. get an account\n",
    "2. start up a new project\n",
    "3. place a button on the app\n",
    "4. write some code so that when you hit the button, a random number appears."
   ]
  },
  {
   "cell_type": "markdown",
   "id": "2fac5398-5f44-4423-a2bc-cc789f351cc0",
   "metadata": {},
   "source": [
    "Your front panel should look something like this"
   ]
  },
  {
   "cell_type": "markdown",
   "id": "b4ed5c83-d2f0-4335-ae1e-10543191456e",
   "metadata": {},
   "source": [
    "<img src=\"Images/Panels.jpg\" alt=\"A sample design\" />"
   ]
  },
  {
   "cell_type": "markdown",
   "id": "805934b4-052a-4674-9d82-21b3b24d93f8",
   "metadata": {},
   "source": [
    "And your code side should be something like this"
   ]
  },
  {
   "cell_type": "markdown",
   "id": "f8158c10-d40a-4ca9-b38c-f9bc300a9a42",
   "metadata": {},
   "source": [
    "<img src=\"Images/simple.jpg\" alt=\"simple code\" />"
   ]
  },
  {
   "cell_type": "markdown",
   "id": "9680d5e4-a1a9-417f-a035-189871a83731",
   "metadata": {},
   "source": [
    "Now try and do something crazy - make it look nice, explore the different things you can add - especially under *Advanced*"
   ]
  },
  {
   "cell_type": "code",
   "execution_count": null,
   "id": "b67e3332-7143-455a-a870-d05f2b5b8fc4",
   "metadata": {},
   "outputs": [],
   "source": []
  }
 ],
 "metadata": {
  "kernelspec": {
   "display_name": "Python 3 (ipykernel)",
   "language": "python",
   "name": "python3"
  },
  "language_info": {
   "codemirror_mode": {
    "name": "ipython",
    "version": 3
   },
   "file_extension": ".py",
   "mimetype": "text/x-python",
   "name": "python",
   "nbconvert_exporter": "python",
   "pygments_lexer": "ipython3",
   "version": "3.9.13"
  }
 },
 "nbformat": 4,
 "nbformat_minor": 5
}
