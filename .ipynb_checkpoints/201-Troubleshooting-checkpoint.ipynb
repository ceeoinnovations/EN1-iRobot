{
 "cells": [
  {
   "cell_type": "markdown",
   "id": "c0cfa1b1-268c-4388-8379-e1fc8ca414c4",
   "metadata": {},
   "source": [
    "<h2>Troubleshooting</h2>"
   ]
  },
  {
   "cell_type": "markdown",
   "id": "4f96790c-c2fc-40c0-b1ae-71ab00382f21",
   "metadata": {},
   "source": [
    "<h4> Create Issues</h4>\n",
    "\n",
    "1. How do I turn it on? - put it on the charger\n",
    "2. How do I turn it off? - pull it off the charger and hold the button down for 10 sec - it will blink and beep and shut down\n",
    "3. How do I turn it off if it is stubborn? - hold the button down for a min - and that usually does it\n",
    "4. How do I turn it off if it is really stubborn? - you unscrew the battery (5 screws take off the bottom and then you can unhook the hook and pull the battery out)"
   ]
  },
  {
   "cell_type": "markdown",
   "id": "17a6d96f-71f2-47cc-b105-c790ace52e58",
   "metadata": {},
   "source": [
    "<h4>Connection Issues</h4>"
   ]
  },
  {
   "cell_type": "markdown",
   "id": "2e90d775-6352-4755-a184-559b8c6a48b0",
   "metadata": {},
   "source": [
    "Are you online?  Try pinging Apple"
   ]
  },
  {
   "cell_type": "code",
   "execution_count": null,
   "id": "c50e2434-aa2e-4204-9360-f5a5ae63fa76",
   "metadata": {},
   "outputs": [],
   "source": [
    "!ping apple.com"
   ]
  },
  {
   "cell_type": "markdown",
   "id": "7b1f74c5-1c5d-4451-8dfa-db797188ab68",
   "metadata": {},
   "source": [
    "Is your robot on?  Check that the LED is not red.  Can you open it's webpage by going to the IP address listed [here](https://docs.google.com/spreadsheets/d/1xecZjXfFmFzZ6gqWdvJEo7XQHoThx7uRky23N8nAhvs/edit?usp=sharing)?"
   ]
  },
  {
   "cell_type": "markdown",
   "id": "f6e781e0-6731-45c8-a97d-bc7773e44da7",
   "metadata": {},
   "source": [
    "Do you have the right domain ID and correct middleware?  The list of IDs is [here](https://docs.google.com/spreadsheets/d/1xecZjXfFmFzZ6gqWdvJEo7XQHoThx7uRky23N8nAhvs/edit?usp=sharing)"
   ]
  },
  {
   "cell_type": "code",
   "execution_count": null,
   "id": "59a4b888-fc0c-49ee-95ab-1efee21cd393",
   "metadata": {},
   "outputs": [],
   "source": [
    "!printenv | grep 'ROS'\n",
    "!printenv | grep 'RMW'"
   ]
  },
  {
   "cell_type": "markdown",
   "id": "07c4f990-2530-489d-bba9-99b56c083b13",
   "metadata": {},
   "source": [
    "If that is the wrong ID, then change it in the line below and hit run"
   ]
  },
  {
   "cell_type": "code",
   "execution_count": null,
   "id": "dff96cb5-267a-4809-8d69-55069a1e50ff",
   "metadata": {},
   "outputs": [],
   "source": [
    "import os\n",
    "os.environ['ROS_DOMAIN_ID']=\"0\"\n",
    "os.environ['RMW_IMPLEMENTATION']=\"rmw_cyclonedds_cpp\""
   ]
  },
  {
   "cell_type": "markdown",
   "id": "5916d3e4-d2e1-44ef-8b60-6162423c8ef0",
   "metadata": {},
   "source": [
    "Now restart ros and then try the topic list"
   ]
  },
  {
   "cell_type": "code",
   "execution_count": null,
   "id": "b1ff9287-5486-4569-81ba-afda29716147",
   "metadata": {},
   "outputs": [],
   "source": [
    "!ros2 daemon stop"
   ]
  },
  {
   "cell_type": "code",
   "execution_count": null,
   "id": "8c73fb03-b15d-4705-aacd-1f95bd54c5df",
   "metadata": {},
   "outputs": [],
   "source": [
    "!ros2 topic list"
   ]
  },
  {
   "cell_type": "markdown",
   "id": "bedd604f-50ec-4932-ad54-df3d42a4ba55",
   "metadata": {},
   "source": [
    "if that did not work - wait a little and try again.  Or run this following code which checks the setup on your PC against that of the Create - make sure to change the url to that of your Create (which you can get [here](https://docs.google.com/spreadsheets/d/1xecZjXfFmFzZ6gqWdvJEo7XQHoThx7uRky23N8nAhvs/edit?usp=sharing) assuming Tufts has not changed it)."
   ]
  },
  {
   "cell_type": "code",
   "execution_count": null,
   "id": "c597069c-4e9b-484a-a8b0-ee5330e6b194",
   "metadata": {
    "tags": []
   },
   "outputs": [],
   "source": [
    "import os, sys\n",
    "import subprocess\n",
    "import requests\n",
    "\n",
    "url = 'http://10.245.150.128'\n",
    "#url = 'http://192.168.86.250'\n",
    "\n",
    "def main():\n",
    "    print('PC side ')\n",
    "    print('    Testing Kernel ',end='')\n",
    "    reply = sys.version\n",
    "    print ('- good - ' if  ('3.8' in reply) else '- BAD - ',end='')\n",
    "    print(reply.split(' ')[0])\n",
    "    print('    Testing middleware ',end='')\n",
    "    mware = os.environ['RMW_IMPLEMENTATION']\n",
    "    print ('- good - ' if  ('cyclone' in mware) else '- BAD - ',end='')\n",
    "    print(mware)\n",
    "    print('    Testing ID ',end='')\n",
    "    ID = int(os.environ['ROS_DOMAIN_ID'])\n",
    "    print ('- good - ' if  (0 <= ID <=17) else '- BAD - ',end='')\n",
    "    print(ID)\n",
    "\n",
    "    print('Robot side ')\n",
    "    print('    Testing Version ',end='')\n",
    "    r = requests.get(url+'/home').text\n",
    "    reply = r.split('VERSION: ')[1].split('</pre>')[0]\n",
    "    print ('- good - ' if  ('G3' in reply) else '- BAD - ',end='')\n",
    "    print(reply)\n",
    "    print('    Testing ID ',end='')\n",
    "    r = requests.get(url+'/ros-config').text\n",
    "    reply = r.split('required value=\\\"')[1].split('\\\"')[0]\n",
    "    print ('- good - ' if  (int(reply) == int(ID)) else '- BAD - ',end='')\n",
    "    print(reply)\n",
    "    print('    Testing namespace ',end='')\n",
    "    reply = r.split('name=\\\"ros_namespace\" value=\\\"')[1].split('\\\"')[0]\n",
    "    print ('- good - ' if  (reply) else '- BAD - ',end='')\n",
    "    print(reply)\n",
    "\n",
    "    print('    Testing middleware ',end='')\n",
    "    option1 = r.split('<option value=\\\"')[1].split('</option>')[0]\n",
    "    option2 = r.split('<option value=\\\"')[2].split('</option>')[0]\n",
    "    reply='failed'\n",
    "    reply = option1.split('\\\"')[0] if 'selected' in option1 else reply\n",
    "    reply = option2.split('\\\"')[0] if 'selected' in option2 else reply\n",
    "    print ('- good - ' if  (mware in reply) else '- BAD - ',end='')\n",
    "    print(reply)\n",
    "\n",
    "main()"
   ]
  },
  {
   "cell_type": "markdown",
   "id": "fddffb41-8d34-4b37-94bc-cec3a9f9d54c",
   "metadata": {},
   "source": [
    "Do the IDs and middleware match?  Is it the right namespace?  If the code fails to run, make sure you have set the environmental parameters above.  If any of the answers are wrong, you can correct them.  On the PC, you might have to reset the kernel - or change the kernel to python3.8.  On the Create side, you can change everything by going to the robot's webpage (just put the URL into a browser)."
   ]
  },
  {
   "cell_type": "markdown",
   "id": "46c2e0d3-51c1-4fe8-8bf1-4fbdd4051f88",
   "metadata": {
    "tags": []
   },
   "source": [
    "Next check your paths by running the code below - is galactic on the path?"
   ]
  },
  {
   "cell_type": "code",
   "execution_count": null,
   "id": "43ea66d9-cc66-4799-b5f5-7af2a8cd260a",
   "metadata": {
    "scrolled": true,
    "tags": []
   },
   "outputs": [],
   "source": [
    "import sys; print(sys.path)"
   ]
  },
  {
   "cell_type": "markdown",
   "id": "a4c95301-ae0a-40d8-bc46-3c7991d2cefc",
   "metadata": {},
   "source": [
    "Check to see if you can import a local file"
   ]
  },
  {
   "cell_type": "code",
   "execution_count": null,
   "id": "8330bc77-ad70-492f-a6fe-d19f72070dbc",
   "metadata": {},
   "outputs": [],
   "source": [
    "import Subs.directory as directory\n",
    "\n",
    "directory.test()"
   ]
  },
  {
   "cell_type": "markdown",
   "id": "082bf891-3433-4772-b308-f38f65e23a85",
   "metadata": {},
   "source": [
    "Can you import rclpy?\n"
   ]
  },
  {
   "cell_type": "code",
   "execution_count": null,
   "id": "8c1f0dc0-c777-45ae-81ca-8fa15231a29e",
   "metadata": {},
   "outputs": [],
   "source": [
    "import rclpy\n",
    "import rclpy.node"
   ]
  },
  {
   "cell_type": "markdown",
   "id": "03913066-e0c8-48bd-bf0d-ae4e5b61df3a",
   "metadata": {
    "jp-MarkdownHeadingCollapsed": true,
    "tags": []
   },
   "source": [
    "## What if I need to switch to unicast mode?"
   ]
  },
  {
   "cell_type": "markdown",
   "id": "e60b7edb-f72b-4b14-af12-6336db947996",
   "metadata": {},
   "source": [
    "1. save the following file of IP addresses (as disableMC.xml) - make sure all the paths are the latest values\n",
    "2. update the environmental variable"
   ]
  },
  {
   "cell_type": "code",
   "execution_count": null,
   "id": "56bd10e3-5a8c-408c-8f25-b22863462251",
   "metadata": {
    "jupyter": {
     "source_hidden": true
    },
    "tags": []
   },
   "outputs": [],
   "source": [
    "%%writefile disableMC.xml\n",
    "\n",
    "<?xml version=\"1.0\" encoding=\"UTF-8\" ?>\n",
    "<profiles xmlns=\"http://www.eprosima.com/XMLSchemas/fastRTPS_Profiles\">\n",
    "   <participant profile_name=\"unicast_connection\" is_default_profile=\"true\">\n",
    "       <rtps>\n",
    "           <builtin>\n",
    "               <metatrafficUnicastLocatorList>\n",
    "                   <locator/>\n",
    "               </metatrafficUnicastLocatorList>\n",
    "               <initialPeersList>\n",
    "                    <locator>\n",
    "                       <udpv4>\n",
    "                           <address>127.0.0.1</address>\n",
    "                           <!--Localhost -->\n",
    "                       </udpv4>\n",
    "                   </locator>\n",
    "                    <locator>\n",
    "                       <udpv4>\n",
    "                           <address>192.168.86.250</address>\n",
    "                           <!--rogers -->\n",
    "                       </udpv4>\n",
    "                   </locator>\n",
    "                    <locator>\n",
    "                       <udpv4>\n",
    "                           <address>10.245.156.115</address>\n",
    "                           <!--Syndrome -->\n",
    "                       </udpv4>\n",
    "                   </locator>\n",
    "                    <locator>\n",
    "                       <udpv4>\n",
    "                           <address>10.245.152.174</address>\n",
    "                           <!--Dory -->\n",
    "                       </udpv4>\n",
    "                   </locator>\n",
    "                    <locator>\n",
    "                       <udpv4>\n",
    "                           <address>10.245.157.95</address>\n",
    "                           <!--Nemo -->\n",
    "                       </udpv4>\n",
    "                   </locator>\n",
    "                    <locator>\n",
    "                       <udpv4>\n",
    "                           <address>10.245.150.128</address>\n",
    "                           <!--Remy -->\n",
    "                       </udpv4>\n",
    "                   </locator>\n",
    "                    <locator>\n",
    "                       <udpv4>\n",
    "                           <address>10.245.146.11</address>\n",
    "                           <!--EdnaMode  -->\n",
    "                       </udpv4>\n",
    "                   </locator>\n",
    "                    <locator>\n",
    "                       <udpv4>\n",
    "                           <address>10.245.157.182</address>\n",
    "                           <!--Woody  -->\n",
    "                       </udpv4>\n",
    "                   </locator>\n",
    "                    <locator>\n",
    "                       <udpv4>\n",
    "                           <address>10.245.156.217</address>\n",
    "                           <!--Buzz -->\n",
    "                       </udpv4>\n",
    "                   </locator>\n",
    "                    <locator>\n",
    "                       <udpv4>\n",
    "                           <address>10.245.154.102</address>\n",
    "                           <!--MikeWazowski -->\n",
    "                       </udpv4>\n",
    "                   </locator>\n",
    "                    <locator>\n",
    "                       <udpv4>\n",
    "                           <address>10.245.147.32</address>\n",
    "                           <!--LightningMcQueen  -->\n",
    "                       </udpv4>\n",
    "                   </locator>\n",
    "                    <locator>\n",
    "                       <udpv4>\n",
    "                           <address>10.245.144.147</address>\n",
    "                           <!--Mater -->\n",
    "                       </udpv4>\n",
    "                   </locator>\n",
    "                    <locator>\n",
    "                       <udpv4>\n",
    "                           <address>10.245.153.15</address>\n",
    "                           <!--Dash -->\n",
    "                       </udpv4>\n",
    "                   </locator>\n",
    "                    <locator>\n",
    "                       <udpv4>\n",
    "                           <address>10.245.150.175</address>\n",
    "                           <!--ElastaGirl -->\n",
    "                       </udpv4>\n",
    "                   </locator>\n",
    "                    <locator>\n",
    "                       <udpv4>\n",
    "                           <address>10.245.92.65</address>\n",
    "                           <!--Pig -->\n",
    "                       </udpv4>\n",
    "                   </locator>\n",
    "                    <locator>\n",
    "                       <udpv4>\n",
    "                           <address>10.245.153.159</address>\n",
    "                           <!--PotatoHead -->\n",
    "                       </udpv4>\n",
    "                   </locator>\n",
    "                    <locator>\n",
    "                       <udpv4>\n",
    "                           <address>10.245.148.45</address>\n",
    "                           <!--Dot -->\n",
    "                       </udpv4>\n",
    "                   </locator>\n",
    "                    <locator>\n",
    "                       <udpv4>\n",
    "                           <address>10.245.154.21</address>\n",
    "                           <!--Sully -->\n",
    "                       </udpv4>\n",
    "                   </locator>\n",
    "               </initialPeersList>\n",
    "           </builtin>\n",
    "       </rtps>\n",
    "   </participant>\n",
    "</profiles>\n",
    "<!--ros2 daemon stop 🤔️ source ~/.bashrc 🤔️ ros2 topic list-->"
   ]
  },
  {
   "cell_type": "markdown",
   "id": "d0888dd8-6aba-48bd-84b0-328c6d45edaf",
   "metadata": {},
   "source": [
    "Next lets get your user path so that you can give the right path - and update the middleware and the unicast file"
   ]
  },
  {
   "cell_type": "code",
   "execution_count": null,
   "id": "ecba5e62-fb67-44ea-b13c-44730f6d536a",
   "metadata": {},
   "outputs": [],
   "source": [
    "import subprocess\n",
    "import os\n",
    "\n",
    "reply = subprocess.run(['pwd'],capture_output=True) \n",
    "path = reply.stdout.decode().strip() + '/disableMC.xml'\n",
    "os.environ['ROS_DOMAIN_ID'] = \"0\"\n",
    "os.environ['RMW_IMPLEMENTATION'] = \"rmw_fastrtps_cpp\"\n",
    "os.environ['FASTRTPS_DEFAULT_PROFILES_FILE'] = path \n"
   ]
  },
  {
   "cell_type": "markdown",
   "id": "044d3ad2-466f-45ca-a0ad-b3c73b870e0f",
   "metadata": {},
   "source": [
    "If you want to restart your Create, run this code"
   ]
  },
  {
   "cell_type": "code",
   "execution_count": null,
   "id": "1b6ffdc7-e2ef-4d79-9a2a-2fdfc630b68e",
   "metadata": {},
   "outputs": [],
   "source": [
    "import requests\n",
    "\n",
    "r = requests.post(url + '/api/restart-app')\n",
    "r.text"
   ]
  },
  {
   "cell_type": "markdown",
   "id": "2f5bdfe1-897d-4918-87ef-fd5ad4e5a862",
   "metadata": {
    "tags": []
   },
   "source": [
    "Check to see if everything is updated"
   ]
  },
  {
   "cell_type": "code",
   "execution_count": null,
   "id": "de3bf44a-bf5b-4b30-b67a-d9cb90503d93",
   "metadata": {},
   "outputs": [],
   "source": [
    "!printenv | grep 'ROS'\n",
    "!printenv | grep 'RMW'"
   ]
  },
  {
   "cell_type": "code",
   "execution_count": null,
   "id": "3703eb58-ab1f-4f94-b50a-f40067eaab0d",
   "metadata": {},
   "outputs": [],
   "source": [
    "!ros2 daemon stop"
   ]
  },
  {
   "cell_type": "code",
   "execution_count": null,
   "id": "ca534ce5-4dd1-41d2-985b-8877ea95bd82",
   "metadata": {},
   "outputs": [],
   "source": [
    "!ros2 topic list"
   ]
  },
  {
   "cell_type": "markdown",
   "id": "85578a94-3da2-4ea2-a095-e19c466cd62f",
   "metadata": {
    "jp-MarkdownHeadingCollapsed": true,
    "tags": []
   },
   "source": [
    "## Looking at all the webpages"
   ]
  },
  {
   "cell_type": "code",
   "execution_count": null,
   "id": "836dba30-eeca-4d3c-be5f-853f637ec012",
   "metadata": {},
   "outputs": [],
   "source": [
    "import os\n",
    "import subprocess\n",
    "\n",
    "home = os.path.expanduser('~')\n",
    "os.environ['ROS_DOMAIN_ID']=\"15\"\n",
    "os.environ['RMW_IMPLEMENTATION'] = 'rmw_cyclonedds_cpp'\n",
    "#os.environ['RMW_IMPLEMENTATION'] = 'rmw_fastrtps_cpp'\n",
    "print(os.environ['ROS_DOMAIN_ID'])\n",
    "print(os.environ['RMW_IMPLEMENTATION'])\n",
    "#print(os.environ['FASTRTPS_DEFAULT_PROFILES_FILE'])"
   ]
  },
  {
   "cell_type": "code",
   "execution_count": null,
   "id": "3ac937a2-7043-4014-b2c9-7bc5fc5ff73b",
   "metadata": {},
   "outputs": [],
   "source": [
    "import time\n",
    "for i in range(18):\n",
    "    list = subprocess.run(['ros2','daemon','stop'],capture_output=True)\n",
    "    os.environ['ROS_DOMAIN_ID']=str(i)\n",
    "    print(os.environ['ROS_DOMAIN_ID'])\n",
    "    time.sleep(0.1)\n",
    "    list = subprocess.run(['ros2','topic','list'],capture_output=True)\n",
    "    print(list.stdout.decode().split('\\n')[0])"
   ]
  },
  {
   "cell_type": "code",
   "execution_count": null,
   "id": "2ffc7ffd-9a17-4585-923a-1f346e0c0c9f",
   "metadata": {
    "jupyter": {
     "source_hidden": true
    },
    "tags": []
   },
   "outputs": [],
   "source": [
    "import os\n",
    "import time\n",
    "\n",
    "import rclpy\n",
    "from rclpy.node import Node\n",
    "from rclpy.qos import qos_profile_sensor_data\n",
    "from sensor_msgs.msg import BatteryState\n",
    "\n",
    "class battery(Node):\n",
    "    def __init__(self, name):\n",
    "        super().__init__('battery_subscriber')\n",
    "        self.subscription = self.create_subscription(BatteryState, \n",
    "                    '/' + name + '/battery_state', self.callback, qos_profile_sensor_data)\n",
    "    \n",
    "    def callback(self, msg: BatteryState):\n",
    "        charge = 100*msg.percentage\n",
    "        print(' %0.1f ' % charge, end='')\n",
    "\n",
    "\n",
    "names = ['rogers','Syndrome','Dory','Nemo','Remy','EdnaMode','Woody','Buzz','MikeWazowski','LightningMcQueen','Mater','Dash','ElastGirl','Pig','PotatoHead','Dot','Sully','Carl']\n",
    "\n",
    "\n",
    "rclpy.init()\n",
    "\n",
    "for i in range(len(names)):\n",
    "    bs = battery(names[i])\n",
    "    print('checking %s (%d)' % (names[i],i), end='')\n",
    "    os.environ['ROS_DOMAIN_ID'] = str(i)\n",
    "    try:\n",
    "        rclpy.spin_once(bs, timeout_sec = 10)\n",
    "    except KeyboardInterrupt:\n",
    "        print('\\nCaught keyboard interrupt')\n",
    "        break\n",
    "    finally:\n",
    "        print(\" Done\")\n",
    "        bs.destroy_node()\n",
    "    \n",
    "rclpy.shutdown()"
   ]
  },
  {
   "cell_type": "markdown",
   "id": "a1bfc9fc-c764-4ba1-8b52-7674fdf4269c",
   "metadata": {},
   "source": [
    "Or if you want to check all connected Creates, run this code (assuming it was recently updated)."
   ]
  },
  {
   "cell_type": "code",
   "execution_count": null,
   "id": "9e76c7c5-f95a-47cf-9617-070c490a8c40",
   "metadata": {},
   "outputs": [],
   "source": [
    "import os\n",
    "from sys import platform\n",
    "opencmd = {'linux':'xdg-open','win32':'start','darwin':'open'}\n",
    "os.system(opencmd[platform] + ' \\\"http://apple.com\\\"')"
   ]
  },
  {
   "cell_type": "code",
   "execution_count": null,
   "id": "accb1d1d-3fad-4347-acf4-9601620a9d65",
   "metadata": {},
   "outputs": [],
   "source": [
    "import os\n",
    "from sys import platform\n",
    "opencmd = {'linux':'xdg-open','win32':'start','darwin':'open'}\n",
    "\n",
    "with open('/home/ddeche01/irobot-status.txt') as file:\n",
    "    creates = file.readlines()\n",
    "file.close()\n",
    "\n",
    "clients = []\n",
    "for create in creates:\n",
    "    if create:\n",
    "        try:\n",
    "            name = create.split('hostName\\\" : \\\"')[1].split('\\\",')[0]\n",
    "            IP = 'http://'+create.split('hostIpV4\\\" : \\\"')[1].split('\\\",')[0]\n",
    "            print(name, end=': ')\n",
    "            print(IP)\n",
    "            #print(IP + '/ros-config')\n",
    "            #print(IP + '/wifi')\n",
    "            os.system(opencmd[platform] +' \\\"' + IP + '/ros-config\\\"')\n",
    "            clients.append(create)\n",
    "        except:\n",
    "            pass"
   ]
  },
  {
   "cell_type": "markdown",
   "id": "8f3a7c7c-b73b-4b87-b11d-c4619621b851",
   "metadata": {},
   "source": [
    "If that does not work, try go to [here](https://rock.net.tufts.edu/metrics/irobot-status.txt) and copy paste the list below"
   ]
  },
  {
   "cell_type": "code",
   "execution_count": null,
   "id": "3127c43e-1638-4d46-994e-5d48bc1bc386",
   "metadata": {
    "jupyter": {
     "source_hidden": true
    },
    "tags": []
   },
   "outputs": [],
   "source": [
    "data = '''\n",
    "    \"hostName\" : \"Dory\",,    \"hostMac\" : \"50:14:79:43:A5:7A\",,    \"hostIpV4\" : \"10.245.152.174\",,    \"clientConnection\" : \"M204-161c-ap\",,    \"rssi\" : \"-54.0\",\n",
    "    \"hostName\" : \"Nemo\",,    \"hostMac\" : \"50:14:79:43:A4:F4\",,    \"hostIpV4\" : \"10.245.157.95\",,    \"clientConnection\" : \"M204-161c-ap\",,    \"rssi\" : \"-46.0\",\n",
    "    \"hostName\" : \"Buzz\",,    \"hostMac\" : \"50:14:79:44:BD:C6\",,    \"hostIpV4\" : \"10.245.156.217\",,    \"clientConnection\" : \"M204-r100h0a-ap0\",,    \"rssi\" : \"-52.0\",\n",
    "    \"hostName\" : \"MikeWazowski\",,    \"hostMac\" : \"50:14:79:43:A5:81\",,    \"hostIpV4\" : \"10.245.154.102\",,    \"clientConnection\" : \"M204-161c-ap\",,    \"rssi\" : \"-52.0\",\n",
    "    \"hostName\" : \"LightningMcQueen\",,    \"hostMac\" : \"50:14:79:44:BF:5C\",,    \"hostIpV4\" : \"10.245.147.32\",,    \"clientConnection\" : \"M204-fast-ap1\",,    \"rssi\" : \"-53.0\",\n",
    "    \"hostName\" : \"Mater\",,    \"hostMac\" : \"50:14:79:44:BE:0A\",,    \"hostIpV4\" : \"10.245.144.147\",,    \"clientConnection\" : \"M204-161c-ap\",,    \"rssi\" : \"-44.0\",\n",
    "    \"hostName\" : \"Dash\",,    \"hostMac\" : \"50:14:79:44:B8:D1\",,    \"hostIpV4\" : \"10.245.153.15\",,    \"clientConnection\" : \"M204-r100h0a-ap0\",,    \"rssi\" : \"-50.0\",\n",
    "    \"hostName\" : \"ElastaGirl\",,    \"hostMac\" : \"50:14:79:44:BF:26\",,    \"hostIpV4\" : \"10.245.150.175\",,    \"clientConnection\" : \"M204-r100h0a-ap0\",,    \"rssi\" : \"-49.0\",\n",
    "    \"hostName\" : \"Pig\",,    \"hostMac\" : \"50:14:79:44:B8:49\",,    \"hostIpV4\" : \"10.245.146.233\",,    \"clientConnection\" : \"M204-161c-ap\",,    \"rssi\" : \"-53.0\",\n",
    "    \"hostName\" : \"PotatoHead\",,    \"hostMac\" : \"50:14:79:44:B7:D3\",,    \"hostIpV4\" : \"10.245.153.159\",,    \"clientConnection\" : \"M204-r100h0a-ap0\",,    \"rssi\" : \"-47.0\",\n",
    "    \"hostName\" : \"Dot\",,    \"hostMac\" : \"50:14:79:43:A5:6B\",,    \"hostIpV4\" : \"10.245.148.45\",,    \"clientConnection\" : \"M204-161c-ap\",,    \"rssi\" : \"-45.0\",\n",
    "    \"hostName\" : \"Sully\",,    \"hostMac\" : \"50:14:79:43:A5:46\",,    \"hostIpV4\" : \"10.245.154.21\",,    \"clientConnection\" : \"M204-161c-ap\",,    \"rssi\" : \"-52.0\",\n",
    "'''\n",
    "clients = data.split('\\n')\n",
    "for client in clients:\n",
    "    if client:\n",
    "        name = client.split('hostName\\\" : \\\"')[1].split('\\\",')[0]\n",
    "        IP = 'http://'+client.split('hostIpV4\\\" : \\\"')[1].split('\\\",')[0]\n",
    "        print(name, end=': ')\n",
    "        print(IP)"
   ]
  },
  {
   "cell_type": "markdown",
   "id": "4b98d575-e64d-408f-b422-3f36de385507",
   "metadata": {},
   "source": [
    "Now query each webpage and see what the settings are:"
   ]
  },
  {
   "cell_type": "code",
   "execution_count": null,
   "id": "06c095e5-bc07-4bdb-ab6e-fb0df36a176a",
   "metadata": {},
   "outputs": [],
   "source": [
    "import os, sys\n",
    "import subprocess\n",
    "import requests\n",
    "\n",
    "for client in clients:\n",
    "    if client:\n",
    "        name = client.split('hostName\\\" : \\\"')[1].split('\\\",')[0]\n",
    "        url = 'http://' + client.split('hostIpV4\\\" : \\\"')[1].split('\\\",')[0]\n",
    "        print(name, end=': ')\n",
    "        print(url)\n",
    "        print('    Testing Version ',end='')\n",
    "        r = requests.get(url+'/home').text\n",
    "        reply = r.split('VERSION: ')[1].split('</pre>')[0]\n",
    "        print ('- good - ' if  ('G.3' in reply) else '- BAD - ',end='')\n",
    "        print(reply)\n",
    "        print('    Testing ID ',end='')\n",
    "        r = requests.get(url+'/ros-config').text\n",
    "        reply = r.split('required value=\\\"')[1].split('\\\"')[0]\n",
    "        #print ('- good - ' if  (int(reply) == int(ID)) else '- BAD - ',end='')\n",
    "        print(reply)\n",
    "        print('    Testing namespace ',end='')\n",
    "        reply = r.split('name=\\\"ros_namespace\" value=\\\"')[1].split('\\\"')[0]\n",
    "        print ('- good - ' if  (reply) else '- BAD - ',end='')\n",
    "        print(reply)\n",
    "\n",
    "        print('    Testing middleware ',end='')\n",
    "        option1 = r.split('<option value=\\\"')[1].split('</option>')[0]\n",
    "        option2 = r.split('<option value=\\\"')[2].split('</option>')[0]\n",
    "        reply='failed'\n",
    "        reply = option1.split('\\\"')[0] if 'selected' in option1 else reply\n",
    "        reply = option2.split('\\\"')[0] if 'selected' in option2 else reply\n",
    "        #print ('- good - ' if  (mware in reply) else '- BAD - ',end='')\n",
    "        print(reply)\n"
   ]
  },
  {
   "cell_type": "markdown",
   "id": "98566567-c7e2-4d75-bfc4-4990ce60b1d3",
   "metadata": {
    "jp-MarkdownHeadingCollapsed": true,
    "tags": []
   },
   "source": [
    "## Even crazier tests"
   ]
  },
  {
   "cell_type": "markdown",
   "id": "6602d87f-9164-4086-8e10-d59f5a7084bb",
   "metadata": {},
   "source": [
    "Reset everything - then test for a topic list, if it comes up with less than 5 options, whip through all the domain IDs and come back and try again."
   ]
  },
  {
   "cell_type": "code",
   "execution_count": null,
   "id": "51d2b0ce-7ebb-4da7-823a-b949814dfbc2",
   "metadata": {},
   "outputs": [],
   "source": [
    "import os\n",
    "import subprocess\n",
    "import time\n",
    "\n",
    "import sys\n",
    "import rclpy\n",
    "from rclpy.node import Node\n",
    "from rclpy.qos import qos_profile_sensor_data\n",
    "from sensor_msgs.msg import BatteryState\n",
    "\n",
    "class BatterySubscriber(Node):\n",
    "    def __init__(self, namespace: str = \"\"):\n",
    "        super().__init__('battery_subscriber')\n",
    "        self.subscription = self.create_subscription(BatteryState, namespace + '/battery_state', self.listener_callback, qos_profile_sensor_data)\n",
    "        self.percent = -100\n",
    "\n",
    "    def listener_callback(self, msg: BatteryState):\n",
    "        #self.get_logger().info('I heard: \"%s\"' % msg)\n",
    "        self.percent = msg.percentage\n",
    "\n",
    "def ask(name = '/Carl'):\n",
    "    rclpy.init(args=None)\n",
    "    bs = BatterySubscriber(name)\n",
    "    try:\n",
    "        rclpy.spin_once(bs)\n",
    "    except KeyboardInterrupt:\n",
    "        print('\\nCaught keyboard interrupt')\n",
    "    finally:\n",
    "        #print(\"Done\")\n",
    "        bs.destroy_node()\n",
    "        rclpy.shutdown()\n",
    "    return bs.percent\n",
    "\n",
    "debug = False\n",
    "\n",
    "def setup(ID = 4):\n",
    "    home = os.path.expanduser('~')\n",
    "    os.environ['ROS_DOMAIN_ID']=str(ID)\n",
    "    os.environ['RMW_IMPLEMENTATION'] = 'rmw_cyclonedds_cpp'\n",
    "    #os.environ['RMW_IMPLEMENTATION'] = 'rmw_fastrtps_cpp'\n",
    "    if debug:\n",
    "        print(os.environ['ROS_DOMAIN_ID'], end=': ')\n",
    "        print(os.environ['RMW_IMPLEMENTATION'])\n",
    "        #print(os.environ['FASTRTPS_DEFAULT_PROFILES_FILE'])\n",
    "\n",
    "def check():\n",
    "    list = subprocess.run(['ros2','topic','list'],capture_output=True)\n",
    "    list =list.stdout.decode().split('\\n')\n",
    "    #print(list)\n",
    "    try:\n",
    "        name = list[0].split('/')[1]\n",
    "        return (name,len(list))\n",
    "    except:\n",
    "        return None\n",
    "\n",
    "def scan(num=17):\n",
    "    for i in range(num):\n",
    "        os.environ['ROS_DOMAIN_ID']=str(i)\n",
    "        #print(os.environ['ROS_DOMAIN_ID'],end=': ')\n",
    "        time.sleep(0.1)\n",
    "        check()\n",
    "        #print(check())\n",
    "        \n",
    "def tryAll():   \n",
    "    iteration = 100\n",
    "    for i in range(18):\n",
    "        setup(i)\n",
    "        j=0\n",
    "        while not (check() and j<=10):\n",
    "            scan()\n",
    "            j=j+1\n",
    "        (name,length) = check()\n",
    "        if debug:\n",
    "            print('ID: %d #topics: %s (%d tries)'%(i,name,j))\n",
    "        else:\n",
    "            print('%d%s%d'%(i,name[0:3] + '' + str(length),j), end=' ')\n",
    "        if length > 5:\n",
    "            level = ask(name)\n",
    "            if level:\n",
    "                print(' %3.1f '% level, end=' ')\n",
    "    return iteration \n",
    "\n",
    "setup()\n",
    "while True:\n",
    "    tryAll()\n",
    "    print(' ')\n",
    "    time.sleep(5*60)"
   ]
  },
  {
   "cell_type": "markdown",
   "id": "e173f978-10c1-4973-ab6d-287af686f358",
   "metadata": {},
   "source": [
    "And now for reading them all off the list and checking based on the logs"
   ]
  },
  {
   "cell_type": "code",
   "execution_count": null,
   "id": "508a2ea6-9feb-4872-8445-95e102c605f3",
   "metadata": {},
   "outputs": [],
   "source": [
    "import os\n",
    "import time, requests\n",
    "from Subs.CreateLib import Create\n",
    "\n",
    "with open('/home/ddeche01/irobot-status.txt') as file:\n",
    "    creates = file.readlines()\n",
    "file.close()\n",
    "\n",
    "clients = []\n",
    "for create in creates:\n",
    "    if create:\n",
    "        try:\n",
    "            name = create.split('hostName\\\" : \\\"')[1].split('\\\",')[0]\n",
    "            IP = 'http://'+create.split('hostIpV4\\\" : \\\"')[1].split('\\\",')[0]\n",
    "            #r = requests.get(IP+'/ros-config').text\n",
    "            #ID = r.split('required value=\\\"')[1].split('\\\"')[0]\n",
    "            r = requests.get(IP+'/logs-raw').text\n",
    "            RMW = r.split('RMW_IMPLEMENTATION=')[-1].split('\\n')[0]\n",
    "            name = r.split('ROS_NAMESPACE=')[-1].split('\\n')[0]\n",
    "            ID = r.split('ROS_DOMAIN_ID=')[-1].split('\\n')[0]\n",
    "            print('%s (%s): %s >> %s'%(name,ID,IP,RMW))\n",
    "            clients.append([name,ID,IP,RMW])\n",
    "        except:\n",
    "            pass\n",
    "        \n",
    "for create in clients:\n",
    "    os.environ['ROS_DOMAIN_ID']=create[1]\n",
    "    MyCreate = Create(create[0])\n",
    "    try:\n",
    "        print(create[0],end=': ')\n",
    "        print(MyCreate.battery())\n",
    "        MyCreate.beep()\n",
    "        MyCreate.close()\n",
    "    except:\n",
    "        pass"
   ]
  }
 ],
 "metadata": {
  "kernelspec": {
   "display_name": "Python 3 (ipykernel)",
   "language": "python",
   "name": "python3"
  },
  "language_info": {
   "codemirror_mode": {
    "name": "ipython",
    "version": 3
   },
   "file_extension": ".py",
   "mimetype": "text/x-python",
   "name": "python",
   "nbconvert_exporter": "python",
   "pygments_lexer": "ipython3",
   "version": "3.9.13"
  }
 },
 "nbformat": 4,
 "nbformat_minor": 5
}
