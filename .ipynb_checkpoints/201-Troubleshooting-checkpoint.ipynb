{
 "cells": [
  {
   "cell_type": "markdown",
   "id": "c0cfa1b1-268c-4388-8379-e1fc8ca414c4",
   "metadata": {},
   "source": [
    "<h2>Troubleshooting</h2>"
   ]
  },
  {
   "cell_type": "markdown",
   "id": "4f96790c-c2fc-40c0-b1ae-71ab00382f21",
   "metadata": {},
   "source": [
    "<h4> Create Issues</h4>\n",
    "\n",
    "1. How do I turn it on? - put it on the charger\n",
    "2. How do I turn it off? - pull it off the charger and hold the button down for 10 sec - it will blink and beep and shut down\n",
    "3. How do I turn it off if it is stubborn? - hold the button down for a min - and that usually does it\n",
    "4. How do I turn it off if it is really stubborn? - you unscrew the battery (5 screws take off the bottom and then you can unhook the hook and pull the battery out)"
   ]
  },
  {
   "cell_type": "markdown",
   "id": "17a6d96f-71f2-47cc-b105-c790ace52e58",
   "metadata": {},
   "source": [
    "<h4>Connection Issues</h4>"
   ]
  },
  {
   "cell_type": "markdown",
   "id": "2e90d775-6352-4755-a184-559b8c6a48b0",
   "metadata": {},
   "source": [
    "Are you online?  Try pinging Apple"
   ]
  },
  {
   "cell_type": "code",
   "execution_count": null,
   "id": "c50e2434-aa2e-4204-9360-f5a5ae63fa76",
   "metadata": {},
   "outputs": [],
   "source": [
    "!ping apple.com"
   ]
  },
  {
   "cell_type": "markdown",
   "id": "7b1f74c5-1c5d-4451-8dfa-db797188ab68",
   "metadata": {},
   "source": [
    "Is your robot on?  Check that the LED is not red.  Can you open it's webpage by going to the IP address listed [here](https://docs.google.com/spreadsheets/d/1xecZjXfFmFzZ6gqWdvJEo7XQHoThx7uRky23N8nAhvs/edit?usp=sharing)?"
   ]
  },
  {
   "cell_type": "markdown",
   "id": "f6e781e0-6731-45c8-a97d-bc7773e44da7",
   "metadata": {},
   "source": [
    "Do you have the right domain ID?  The list of IDs is [here](https://docs.google.com/spreadsheets/d/1xecZjXfFmFzZ6gqWdvJEo7XQHoThx7uRky23N8nAhvs/edit?usp=sharing)"
   ]
  },
  {
   "cell_type": "code",
   "execution_count": null,
   "id": "59a4b888-fc0c-49ee-95ab-1efee21cd393",
   "metadata": {},
   "outputs": [],
   "source": [
    "import os\n",
    "os.environ['ROS_DOMAIN_ID']"
   ]
  },
  {
   "cell_type": "markdown",
   "id": "07c4f990-2530-489d-bba9-99b56c083b13",
   "metadata": {},
   "source": [
    "If that is the wrong ID, then change it in the line below and hit run"
   ]
  },
  {
   "cell_type": "code",
   "execution_count": null,
   "id": "dff96cb5-267a-4809-8d69-55069a1e50ff",
   "metadata": {},
   "outputs": [],
   "source": [
    "os.environ['ROS_DOMAIN_ID'] = '8'"
   ]
  },
  {
   "cell_type": "markdown",
   "id": "46c2e0d3-51c1-4fe8-8bf1-4fbdd4051f88",
   "metadata": {
    "tags": []
   },
   "source": [
    "First check your paths by running the code below - is galactic on the path?"
   ]
  },
  {
   "cell_type": "code",
   "execution_count": null,
   "id": "43ea66d9-cc66-4799-b5f5-7af2a8cd260a",
   "metadata": {
    "scrolled": true,
    "tags": []
   },
   "outputs": [],
   "source": [
    "import sys; print(sys.path)"
   ]
  },
  {
   "cell_type": "markdown",
   "id": "a4c95301-ae0a-40d8-bc46-3c7991d2cefc",
   "metadata": {},
   "source": [
    "Check to see if you can import a local file"
   ]
  },
  {
   "cell_type": "code",
   "execution_count": null,
   "id": "8330bc77-ad70-492f-a6fe-d19f72070dbc",
   "metadata": {},
   "outputs": [],
   "source": [
    "import Subs.directory\n",
    "\n",
    "directory.test()"
   ]
  },
  {
   "cell_type": "markdown",
   "id": "082bf891-3433-4772-b308-f38f65e23a85",
   "metadata": {},
   "source": [
    "Can you import rclpy?\n"
   ]
  },
  {
   "cell_type": "code",
   "execution_count": null,
   "id": "8c1f0dc0-c777-45ae-81ca-8fa15231a29e",
   "metadata": {},
   "outputs": [],
   "source": [
    "import rclpy\n",
    "import rclpy.node"
   ]
  },
  {
   "cell_type": "markdown",
   "id": "e60b7edb-f72b-4b14-af12-6336db947996",
   "metadata": {},
   "source": [
    "What if I need to switch to unicast mode?\n",
    "1. save the following file of IP addresses (as disableMC.xml) \n",
    "2. update the environmental variable"
   ]
  },
  {
   "cell_type": "code",
   "execution_count": null,
   "id": "56bd10e3-5a8c-408c-8f25-b22863462251",
   "metadata": {
    "jupyter": {
     "source_hidden": true
    },
    "tags": []
   },
   "outputs": [],
   "source": [
    "%%writefile disableMC.xml\n",
    "\n",
    "<?xml version=\"1.0\" encoding=\"UTF-8\" ?>\n",
    "<profiles xmlns=\"http://www.eprosima.com/XMLSchemas/fastRTPS_Profiles\">\n",
    "   <participant profile_name=\"unicast_connection\" is_default_profile=\"true\">\n",
    "       <rtps>\n",
    "           <builtin>\n",
    "               <metatrafficUnicastLocatorList>\n",
    "                   <locator/>\n",
    "               </metatrafficUnicastLocatorList>\n",
    "               <initialPeersList>\n",
    "                    <locator>\n",
    "                       <udpv4>\n",
    "                           <address>10.247.231.226</address>\n",
    "                           <!--Syndrome -->\n",
    "                       </udpv4>\n",
    "                   </locator>\n",
    "                    <locator>\n",
    "                       <udpv4>\n",
    "                           <address>10.247.225.173</address>\n",
    "                           <!--Dory -->\n",
    "                       </udpv4>\n",
    "                   </locator>\n",
    "                    <locator>\n",
    "                       <udpv4>\n",
    "                           <address>10.247.224.139</address>\n",
    "                           <!--Nemo -->\n",
    "                       </udpv4>\n",
    "                   </locator>\n",
    "                    <locator>\n",
    "                       <udpv4>\n",
    "                           <address>10.247.233.108</address>\n",
    "                           <!--Remy -->\n",
    "                       </udpv4>\n",
    "                   </locator>\n",
    "                    <locator>\n",
    "                       <udpv4>\n",
    "                           <address>10.247.228.95</address>\n",
    "                           <!--EdnaMode -->\n",
    "                       </udpv4>\n",
    "                   </locator>\n",
    "                    <locator>\n",
    "                       <udpv4>\n",
    "                           <address>10.247.230.51</address>\n",
    "                           <!--Woody -->\n",
    "                       </udpv4>\n",
    "                   </locator>\n",
    "                    <locator>\n",
    "                       <udpv4>\n",
    "                           <address>10.247.230.58</address>\n",
    "                           <!--Buzz -->\n",
    "                       </udpv4>\n",
    "                   </locator>\n",
    "                    <locator>\n",
    "                       <udpv4>\n",
    "                           <address>10.247.227.121</address>\n",
    "                           <!--MikeWazowski -->\n",
    "                       </udpv4>\n",
    "                   </locator>\n",
    "                    <locator>\n",
    "                       <udpv4>\n",
    "                           <address>10.247.228.58</address>\n",
    "                           <!--LightningMcQueen -->\n",
    "                       </udpv4>\n",
    "                   </locator>\n",
    "                    <locator>\n",
    "                       <udpv4>\n",
    "                           <address>10.247.235.176</address>\n",
    "                           <!--Mater -->\n",
    "                       </udpv4>\n",
    "                   </locator>\n",
    "                    <locator>\n",
    "                       <udpv4>\n",
    "                           <address>10.247.232.178</address>\n",
    "                           <!--Dash -->\n",
    "                       </udpv4>\n",
    "                   </locator>\n",
    "                    <locator>\n",
    "                       <udpv4>\n",
    "                           <address>10.247.227.176</address>\n",
    "                           <!--ElastaGirl -->\n",
    "                       </udpv4>\n",
    "                   </locator>\n",
    "                    <locator>\n",
    "                       <udpv4>\n",
    "                           <address>10.247.238.97</address>\n",
    "                           <!--Pig -->\n",
    "                       </udpv4>\n",
    "                   </locator>\n",
    "                    <locator>\n",
    "                       <udpv4>\n",
    "                           <address>10.247.231.168</address>\n",
    "                           <!--PotatoHead -->\n",
    "                       </udpv4>\n",
    "                   </locator>\n",
    "                    <locator>\n",
    "                       <udpv4>\n",
    "                           <address>10.247.231.5</address>\n",
    "                           <!--Dot -->\n",
    "                       </udpv4>\n",
    "                   </locator>\n",
    "                    <locator>\n",
    "                       <udpv4>\n",
    "                           <address>10.247.226.121</address>\n",
    "                           <!--Sully -->\n",
    "                       </udpv4>\n",
    "                   </locator>\n",
    "               </initialPeersList>\n",
    "           </builtin>\n",
    "       </rtps>\n",
    "   </participant>\n",
    "</profiles>\n",
    "<!--ros2 daemon stop 🤔️ source ~/.bashrc 🤔️ ros2 topic list-->"
   ]
  },
  {
   "cell_type": "markdown",
   "id": "d0888dd8-6aba-48bd-84b0-328c6d45edaf",
   "metadata": {},
   "source": [
    "Next lets get your user path so that you can give the right path"
   ]
  },
  {
   "cell_type": "code",
   "execution_count": null,
   "id": "ecba5e62-fb67-44ea-b13c-44730f6d536a",
   "metadata": {},
   "outputs": [],
   "source": [
    "!pwd"
   ]
  },
  {
   "cell_type": "markdown",
   "id": "2f5bdfe1-897d-4918-87ef-fd5ad4e5a862",
   "metadata": {},
   "source": [
    "And we have to update the environmental variables too - remember to replace {your user} with your path from above"
   ]
  },
  {
   "cell_type": "code",
   "execution_count": null,
   "id": "dc0af956-05c9-41b6-ba0a-b1356b4f2cd7",
   "metadata": {},
   "outputs": [],
   "source": [
    "!export FASTRTPS_DEFAULT_PROFILES_FILE='/home/{your user}/disableMC.xml'"
   ]
  }
 ],
 "metadata": {
  "kernelspec": {
   "display_name": "Python 3 (ipykernel)",
   "language": "python",
   "name": "python3"
  },
  "language_info": {
   "codemirror_mode": {
    "name": "ipython",
    "version": 3
   },
   "file_extension": ".py",
   "mimetype": "text/x-python",
   "name": "python",
   "nbconvert_exporter": "python",
   "pygments_lexer": "ipython3",
   "version": "3.9.13"
  }
 },
 "nbformat": 4,
 "nbformat_minor": 5
}
