{
 "cells": [
  {
   "cell_type": "markdown",
   "id": "755369b2-e5bf-429a-a1ae-f482f43a1338",
   "metadata": {},
   "source": [
    "# ROS Help"
   ]
  },
  {
   "cell_type": "markdown",
   "id": "46c2e0d3-51c1-4fe8-8bf1-4fbdd4051f88",
   "metadata": {
    "tags": []
   },
   "source": [
    "For those totally new to ROS and want to learn a lot more, there are a number of great online courses (for instance [this](https://docs.ros.org/en/foxy/Tutorials.html)).  On this page we will go over some of the basic stuff.  ROS is a way of asynchronosly talking with the Create.  ROS has 4 basic ways of communication - publishers, subscribers, services, and actions."
   ]
  },
  {
   "cell_type": "markdown",
   "id": "2647b05d-7be1-4c9a-8cd8-b0512525d8cc",
   "metadata": {},
   "source": [
    "<h4>Publishers and Subscribers</h4>"
   ]
  },
  {
   "cell_type": "markdown",
   "id": "970f49dc-5b3c-43fc-b487-6966ba9d8be2",
   "metadata": {},
   "source": [
    "One of the most commmon ways of communicating is by either telling the robot what to do (publishing) or listening to the robot (subscribing).  Publishing to a topic happens on uniform time intervals (that you set) and subscribing happens whenever something is published.  Multiple nodes (computers, robots, etc) can publish to the same topic and multiple nodes can subscribe.  See an animation of them [here](https://docs.ros.org/en/galactic/Tutorials/Beginner-CLI-Tools/Understanding-ROS2-Topics/Understanding-ROS2-Topics.html).  A few examples on the Create:\n",
    "- Publish to the LEDs to change the light color\n",
    "- Subscribe to the battery to see how much battery power is left\n",
    "- Publish the desired location\n",
    "- Subscribe to the current location"
   ]
  },
  {
   "cell_type": "markdown",
   "id": "c9c47836-6603-4d17-aca9-8240bb39db4a",
   "metadata": {},
   "source": [
    "<h4>Services and Actions</h4>"
   ]
  },
  {
   "cell_type": "markdown",
   "id": "b93da74c-e450-49e0-af87-07d19b30c736",
   "metadata": {},
   "source": [
    "A service is something where you want immediate feedback from the Create - and you really only want it once.  Actions are similar, but they usually take a while (like turning 180 degrees).  So with actions, you set a goal and then when the goal is done, the action will execute a callback (a \"I am Done\" function).  There is a nice animation of services [here](https://docs.ros.org/en/galactic/Tutorials/Beginner-CLI-Tools/Understanding-ROS2-Services/Understanding-ROS2-Services.html) and actions [here](https://docs.ros.org/en/galactic/Tutorials/Beginner-CLI-Tools/Understanding-ROS2-Actions/Understanding-ROS2-Actions.html).  A few examples for the Create are:\n",
    "- this is a service\n",
    "- docking and undocking are actions\n",
    "- something else is a service\n",
    "- Moving or turning a certian amount is an action."
   ]
  },
  {
   "cell_type": "code",
   "execution_count": null,
   "id": "8bf19719-c710-4a43-8f87-b1d9dbd41568",
   "metadata": {},
   "outputs": [],
   "source": []
  }
 ],
 "metadata": {
  "kernelspec": {
   "display_name": "Python 3 (ipykernel)",
   "language": "python",
   "name": "python3"
  },
  "language_info": {
   "codemirror_mode": {
    "name": "ipython",
    "version": 3
   },
   "file_extension": ".py",
   "mimetype": "text/x-python",
   "name": "python",
   "nbconvert_exporter": "python",
   "pygments_lexer": "ipython3",
   "version": "3.9.13"
  }
 },
 "nbformat": 4,
 "nbformat_minor": 5
}
