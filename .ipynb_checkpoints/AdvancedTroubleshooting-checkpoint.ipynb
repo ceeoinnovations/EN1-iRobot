{
 "cells": [
  {
   "cell_type": "code",
   "execution_count": null,
   "id": "39104507-f526-466b-ab06-b04155c957b8",
   "metadata": {},
   "outputs": [],
   "source": [
    "!printenv | grep 'ROS'\n",
    "!printenv | grep 'RMW'"
   ]
  },
  {
   "cell_type": "code",
   "execution_count": null,
   "id": "729f1cdc-c3a4-4622-a537-cfe22c9c80c0",
   "metadata": {},
   "outputs": [],
   "source": [
    "import os\n",
    "os.environ['ROS_DOMAIN_ID']=\"0\"\n",
    "os.environ['RMW_IMPLEMENTATION']=\"rmw_cyclonedds_cpp\""
   ]
  },
  {
   "cell_type": "code",
   "execution_count": null,
   "id": "1a9cbe07-cedf-4569-864c-c99df7c70290",
   "metadata": {},
   "outputs": [],
   "source": [
    "!ros2 daemon stop"
   ]
  },
  {
   "cell_type": "code",
   "execution_count": null,
   "id": "3f373f02-f062-4fda-8a16-c704cd7006d0",
   "metadata": {},
   "outputs": [],
   "source": [
    "!ros2 topic list"
   ]
  },
  {
   "cell_type": "code",
   "execution_count": null,
   "id": "d8725e5a-78ed-4c18-84b9-b0ae79f2b1ba",
   "metadata": {},
   "outputs": [],
   "source": [
    "#!ros2 action send_goal /Dory/undock irobot_create_msgs/action/Undock \"{}\""
   ]
  },
  {
   "cell_type": "code",
   "execution_count": null,
   "id": "0cd6c38e-9374-4bdf-af73-07dd7e7858b1",
   "metadata": {},
   "outputs": [],
   "source": [
    "import os, sys\n",
    "import subprocess\n",
    "import requests\n",
    "\n",
    "url = 'http://10.245.150.128'\n",
    "url = 'http://192.168.86.250'\n",
    "\n",
    "print('PC side ')\n",
    "print('    Testing Kernel ',end='')\n",
    "reply = sys.version\n",
    "print ('- good - ' if  ('3.8' in reply) else '- BAD - ',end='')\n",
    "print(reply.split(' ')[0])\n",
    "print('    Testing middleware ',end='')\n",
    "mware = os.environ['RMW_IMPLEMENTATION']\n",
    "print ('- good - ' if  ('cyclone' in mware) else '- BAD - ',end='')\n",
    "print(mware)\n",
    "print('    Testing ID ',end='')\n",
    "ID = int(os.environ['ROS_DOMAIN_ID'])\n",
    "print ('- good - ' if  (0 <= ID <=17) else '- BAD - ',end='')\n",
    "print(ID)\n",
    "\n",
    "print('Robot side ')\n",
    "print('    Testing Version ',end='')\n",
    "r = requests.get(url+'/home').text\n",
    "reply = r.split('VERSION: ')[1].split('</pre>')[0]\n",
    "print ('- good - ' if  ('G3' in reply) else '- BAD - ',end='')\n",
    "print(reply)\n",
    "print('    Testing ID ',end='')\n",
    "r = requests.get(url+'/ros-config').text\n",
    "reply = r.split('required value=\\\"')[1].split('\\\"')[0]\n",
    "print ('- good - ' if  (int(reply) == int(ID)) else '- BAD - ',end='')\n",
    "print(reply)\n",
    "print('    Testing middleware ',end='')\n",
    "r = requests.get(url+'/ros-config').text\n",
    "reply = r.split('required value=\\\"')[1].split('\\\"')[0]\n",
    "print ('- good - ' if  (int(reply) == int(ID)) else '- BAD - ',end='')\n",
    "print(reply)\n",
    "print('    Testing namespace ',end='')\n",
    "reply = r.split('name=\\\"ros_namespace\" value=\\\"')[1].split('\\\"')[0]\n",
    "print ('- good - ' if  (reply) else '- BAD - ',end='')\n",
    "print(reply)\n",
    "\n",
    "print('    Testing middleware ',end='')\n",
    "option1 = r.split('<option value=\\\"')[1].split('</option>')[0]\n",
    "option2 = r.split('<option value=\\\"')[2].split('</option>')[0]\n",
    "reply='failed'\n",
    "reply = option1.split('\\\"')[0] if 'selected' in option1 else reply\n",
    "reply = option2.split('\\\"')[0] if 'selected' in option2 else reply\n",
    "print ('- good - ' if  (mware in reply) else '- BAD - ',end='')\n",
    "print(reply)\n",
    "\n"
   ]
  },
  {
   "cell_type": "code",
   "execution_count": null,
   "id": "85d72f95-dccd-4e1b-879a-8cf8c144bff4",
   "metadata": {},
   "outputs": [],
   "source": []
  }
 ],
 "metadata": {
  "kernelspec": {
   "display_name": "Python 3 (ipykernel)",
   "language": "python",
   "name": "python3"
  },
  "language_info": {
   "codemirror_mode": {
    "name": "ipython",
    "version": 3
   },
   "file_extension": ".py",
   "mimetype": "text/x-python",
   "name": "python",
   "nbconvert_exporter": "python",
   "pygments_lexer": "ipython3",
   "version": "3.8.10"
  }
 },
 "nbformat": 4,
 "nbformat_minor": 5
}
