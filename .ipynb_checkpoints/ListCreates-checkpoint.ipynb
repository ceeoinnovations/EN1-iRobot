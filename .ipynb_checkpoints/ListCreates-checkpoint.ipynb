{
 "cells": [
  {
   "cell_type": "code",
   "execution_count": 46,
   "id": "af73b463-9c7e-427e-bb74-99777a0d25fa",
   "metadata": {},
   "outputs": [
    {
     "data": {
      "text/plain": [
       "'15'"
      ]
     },
     "execution_count": 46,
     "metadata": {},
     "output_type": "execute_result"
    }
   ],
   "source": [
    "import os\n",
    "import subprocess\n",
    "\n",
    "os.environ['ROS_DOMAIN_ID']=\"15\"\n",
    "os.environ['ROS_DOMAIN_ID']"
   ]
  },
  {
   "cell_type": "code",
   "execution_count": 47,
   "id": "e04fbf0f-c043-4194-bfc9-51274140a259",
   "metadata": {},
   "outputs": [],
   "source": [
    "list=subprocess.run(['ros2','topic','list'],capture_output=True)"
   ]
  },
  {
   "cell_type": "code",
   "execution_count": 48,
   "id": "20ffe1c9-7827-4214-be87-da1c7877ceab",
   "metadata": {},
   "outputs": [
    {
     "data": {
      "text/plain": [
       "'/Dot/battery_state'"
      ]
     },
     "execution_count": 48,
     "metadata": {},
     "output_type": "execute_result"
    }
   ],
   "source": [
    "list.stdout.decode().split('\\n')[0]"
   ]
  },
  {
   "cell_type": "code",
   "execution_count": 31,
   "id": "dff37fce-9cda-49d1-9b0d-8920678bb201",
   "metadata": {},
   "outputs": [
    {
     "name": "stdout",
     "output_type": "stream",
     "text": [
      "ROS_VERSION=2\n",
      "ROS_PYTHON_VERSION=3\n",
      "ROS_DOMAIN_ID=15\n",
      "ROS_LOCALHOST_ONLY=0\n",
      "ROS_DISTRO=galactic\n"
     ]
    }
   ],
   "source": [
    "! printenv | grep 'ROS'"
   ]
  },
  {
   "cell_type": "code",
   "execution_count": 50,
   "id": "f1772a7d-f40f-4a1e-bab8-05963d279719",
   "metadata": {},
   "outputs": [
    {
     "name": "stdout",
     "output_type": "stream",
     "text": [
      "0\n",
      "/parameter_events\n",
      "1\n",
      "/Syndrome/battery_state\n",
      "2\n",
      "/Dori/battery_state\n",
      "3\n",
      "/parameter_events\n",
      "4\n",
      "/Remy/battery_state\n",
      "5\n",
      "/parameter_events\n",
      "6\n",
      "/parameter_events\n",
      "7\n",
      "/parameter_events\n",
      "8\n",
      "/parameter_events\n",
      "9\n",
      "/parameter_events\n",
      "10\n",
      "/parameter_events\n",
      "11\n",
      "/parameter_events\n",
      "12\n",
      "/parameter_events\n",
      "13\n",
      "/parameter_events\n",
      "14\n",
      "/PotatoHead/battery_state\n",
      "15\n",
      "/Dot/battery_state\n",
      "16\n",
      "/parameter_events\n"
     ]
    }
   ],
   "source": [
    "import time\n",
    "for i in range(17):\n",
    "    os.environ['ROS_DOMAIN_ID']=str(i)\n",
    "    print(os.environ['ROS_DOMAIN_ID'])\n",
    "    time.sleep(0.1)\n",
    "    list = subprocess.run(['ros2','topic','list'],capture_output=True)\n",
    "    print(list.stdout.decode().split('\\n')[0])"
   ]
  },
  {
   "cell_type": "code",
   "execution_count": null,
   "id": "de802628-9fdc-40dd-b6b6-76f76b282779",
   "metadata": {},
   "outputs": [],
   "source": []
  }
 ],
 "metadata": {
  "kernelspec": {
   "display_name": "Python 3 (ipykernel)",
   "language": "python",
   "name": "python3"
  },
  "language_info": {
   "codemirror_mode": {
    "name": "ipython",
    "version": 3
   },
   "file_extension": ".py",
   "mimetype": "text/x-python",
   "name": "python",
   "nbconvert_exporter": "python",
   "pygments_lexer": "ipython3",
   "version": "3.8.10"
  }
 },
 "nbformat": 4,
 "nbformat_minor": 5
}
