{
 "cells": [
  {
   "cell_type": "markdown",
   "id": "889b4082-3792-4503-9b62-3689c8f2cb19",
   "metadata": {},
   "source": [
    "<h1 style=\"text-align: center;\">Welcome to ME35 - 2023</h1>This set of notebooks can help you get started with ROS2 on the iRobot Create.  Below are the pages that might be of interest to you.\n",
    "\n",
    "|Assignment|Description|\n",
    "|--------|-----------|\n",
    "|[Getting Started with ROS](Activities/200-ME35_ROS_Intro.ipynb)|A walk-through on how to get started with publishers and subscribers|\n",
    "|[Going to the Create](Activities/203-ME35_ROS_CreateCLI.ipynb)|Control the Create from the Command Line Interface (CLI)|\n",
    "|[Writing some code](Activities/108-Writing_ROS_Code.ipynb)|Write some Python code|\n",
    "|[Serial Control over ROS](Activities/210-ROS_Serial_Complete.ipynb)|This is a code I wrote that runs a ROS server on your computer that allows others to talk over your serial port|"
   ]
  }
 ],
 "metadata": {
  "kernelspec": {
   "display_name": "Python 3 (ipykernel)",
   "language": "python",
   "name": "python3"
  },
  "language_info": {
   "codemirror_mode": {
    "name": "ipython",
    "version": 3
   },
   "file_extension": ".py",
   "mimetype": "text/x-python",
   "name": "python",
   "nbconvert_exporter": "python",
   "pygments_lexer": "ipython3",
   "version": "3.8.10"
  }
 },
 "nbformat": 4,
 "nbformat_minor": 5
}
