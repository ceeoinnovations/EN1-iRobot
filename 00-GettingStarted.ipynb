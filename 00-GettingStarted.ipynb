{
 "cells": [
  {
   "cell_type": "markdown",
   "id": "e14625a9-d4a4-4f96-8b51-e3cdd16f5f9e",
   "metadata": {},
   "source": [
    "# Welcome to EN1"
   ]
  },
  {
   "cell_type": "markdown",
   "id": "3de0062a-649e-4109-b463-54a1aed8f05c",
   "metadata": {},
   "source": [
    "These notebooks are here to help you get up to speed on controlling your Create.  Note that as you go through this coding environment, your notebooks will become your work.  So save often.\n",
    "\n",
    "|Notebook|Description|\n",
    "|--------|-----------|\n",
    "|[00-GettingStarted](00-GettingStarted.ipynb)|This page|\n",
    "|[01-Beeping](01-Beeping.ipynb)|Connect to your Create and make it beeo (and move)|\n",
    "|[02-EditCreateLib](02-EditCreateLib.ipynb)|Change the abilities of the Create object so that it does more things|\n",
    "|[03-EditROSLib](03-EditROSLib.ipynb)|Connect to your Create and make it beeo (and move)|\n",
    "|[04-ROS](04-ROS.ipynb)|Starting from scratch with ROS| \n"
   ]
  },
  {
   "cell_type": "code",
   "execution_count": null,
   "id": "9bd220a4-0e49-4d17-8730-8d3213a7e1b1",
   "metadata": {},
   "outputs": [],
   "source": []
  }
 ],
 "metadata": {
  "kernelspec": {
   "display_name": "Python 3 (ipykernel)",
   "language": "python",
   "name": "python3"
  },
  "language_info": {
   "codemirror_mode": {
    "name": "ipython",
    "version": 3
   },
   "file_extension": ".py",
   "mimetype": "text/x-python",
   "name": "python",
   "nbconvert_exporter": "python",
   "pygments_lexer": "ipython3",
   "version": "3.8.10"
  }
 },
 "nbformat": 4,
 "nbformat_minor": 5
}
