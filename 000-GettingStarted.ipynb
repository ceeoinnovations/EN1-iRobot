{
 "cells": [
  {
   "cell_type": "markdown",
   "id": "e14625a9-d4a4-4f96-8b51-e3cdd16f5f9e",
   "metadata": {},
   "source": [
    "# Welcome to EN1"
   ]
  },
  {
   "cell_type": "markdown",
   "id": "131551a0-1526-43bf-9dbf-cb718773bbea",
   "metadata": {},
   "source": [
    "Welcome to class - we will progress through 9ish weekly assignments - each one more fun than the last - each with different learning goals.  The first set of notebooks are the challenges, the second set are things to help you learn the coding and the third are more in-depth help.  Note that as you go through this coding environment, your notebooks will become your work.  So save often. \n",
    "\n",
    "Lets run some tests - just type stuff in and hit return to test your notebook - the first just tests python, the second tests your internet connection (it is retrieving a joke from that website)."
   ]
  },
  {
   "cell_type": "code",
   "execution_count": null,
   "id": "c8e856f4-e947-461b-b176-0b072c12295d",
   "metadata": {},
   "outputs": [],
   "source": [
    "2 + 2"
   ]
  },
  {
   "cell_type": "markdown",
   "id": "75ab8edb-20c0-4ea5-8053-3135a079cc4b",
   "metadata": {},
   "source": [
    "For more python ideas and code, go [here](203-Python.ipynb) otherwise try to ask the internet for a Chuck Norris joke."
   ]
  },
  {
   "cell_type": "code",
   "execution_count": null,
   "id": "f9305ded-fffb-4a49-a1e2-c66500126dcc",
   "metadata": {},
   "outputs": [],
   "source": [
    "import requests\n",
    "r = requests.get('https://api.chucknorris.io/jokes/random')\n",
    "r.json()['value']"
   ]
  },
  {
   "cell_type": "markdown",
   "id": "5e5f3d57-2bde-432b-92c9-09ede7659c25",
   "metadata": {},
   "source": [
    "<h4>Moving Forward</h4>"
   ]
  },
  {
   "cell_type": "markdown",
   "id": "f3eaad96-c4b8-4ddb-b4d8-19e25f35352e",
   "metadata": {},
   "source": [
    "You will need to update the notebooks perodically as I develop better ones - so make sure you always make a copy and use the copy so that when you replace them, you do not lose all your previous work.  You can update by clicking [here](http://130.64.80.78/hub/user-redirect/git-pull?repo=https://github.com/ceeoinnovations/EN1-iRobot&branch=main&app=lab).\n",
    "\n",
    "Finally - [here](https://docs.google.com/spreadsheets/d/1xecZjXfFmFzZ6gqWdvJEo7XQHoThx7uRky23N8nAhvs/edit?usp=sharing) is the list of possible Creates and their domain IDs and IP addresses.\n",
    "\n",
    "|Homework|Description|\n",
    "|--------|-----------|\n",
    "|[000-GettingStarted](000-GettingStarted.ipynb)|This page|\n",
    "|[001-Baseball](001-Baseball.ipynb)|Time to run the bases - the one with the most flair wins|\n",
    "|[002-BeginningJousting](002-BeginningJousting.ipynb)|Using the keyboard to joust (and learning some ROS tools)|\n",
    "|[003-TeleRobotRaces](003-TeleOp_Races.ipynb)|Remotely drive your phone around|\n",
    "|[004-Soccer Shootout](00-GettingStarted.ipynb)|Time for some CAD and laser cutting as well|\n",
    "|[005-RelayRace](00-GettingStarted.ipynb)|Pass the baton - and adding LEGO to the top|\n",
    "|[006-ShootoutForReal](00-GettingStarted.ipynb)|Adding a LEGO kicker and moving goalie|\n",
    "|[007-CloudExploration](00-GettingStarted.ipynb)|Can your get the robot to drive from your phone?|\n",
    "|[008-RemoteExploration](00-GettingStarted.ipynb)|Can your get the robot to drive around the hallway, avoiding things?|\n",
    "|[009-PacMan](00-GettingStarted.ipynb)|Drive by April tags - stay in the maze and do not get eaten|\n",
    "|[010-FinalJoust](00-GettingStarted.ipynb)|Who knows what will happen here|\n"
   ]
  },
  {
   "cell_type": "markdown",
   "id": "3de0062a-649e-4109-b463-54a1aed8f05c",
   "metadata": {},
   "source": [
    "These notebooks are here to help you get up to speed on controlling your Create.  \n",
    "\n",
    "|Notebook|Description|\n",
    "|--------|-----------|\n",
    "|[100-Beeping](100-Beeping.ipynb)|Connect to your Create and make it beeo (and move)|\n",
    "|[101-EditCreateLib](101-EditCreateLib.ipynb)|Change the abilities of the Create object so that it does more things|\n",
    "|[102-EditROS2Lib](102-EditROS2Lib.ipynb)|Connect to your Create and make it beeo (and move)|\n",
    "|[103-ROS](103-ROS.ipynb)|Starting from scratch with ROS| \n",
    "|[104-SerialComm](104-Serial.ipynb)|Talking to other processors over the USB-C cable| \n",
    "\n",
    "\n",
    "These notebooks are for more help\n",
    "\n",
    "|Notebook|Description|\n",
    "|--------|-----------|\n",
    "|[200-JupyterLabs](200-JupyterLabs.ipynb)|Getting started with making your own notebooks|\n",
    "|[201-Troubleshooting](201-Troubleshooting.ipynb)|General tips when things go wrong|\n",
    "|[202-CLI](202-CLI.ipynb)|Command Line ROS overview|\n",
    "|[203-Python](203-Python.ipynb)|General tips for using python|\n",
    "|[204-ROS](204-ROS.ipynb)|General tips for using ROS2|"
   ]
  },
  {
   "cell_type": "code",
   "execution_count": null,
   "id": "9bd220a4-0e49-4d17-8730-8d3213a7e1b1",
   "metadata": {},
   "outputs": [],
   "source": []
  }
 ],
 "metadata": {
  "kernelspec": {
   "display_name": "Python 3 (ipykernel)",
   "language": "python",
   "name": "python3"
  },
  "language_info": {
   "codemirror_mode": {
    "name": "ipython",
    "version": 3
   },
   "file_extension": ".py",
   "mimetype": "text/x-python",
   "name": "python",
   "nbconvert_exporter": "python",
   "pygments_lexer": "ipython3",
   "version": "3.8.10"
  }
 },
 "nbformat": 4,
 "nbformat_minor": 5
}
