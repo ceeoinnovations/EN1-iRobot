{
 "cells": [
  {
   "cell_type": "markdown",
   "id": "ef05f6a6-0bb8-453c-ac5b-56752a01f2f7",
   "metadata": {},
   "source": [
    "# Soccer Shootout"
   ]
  },
  {
   "cell_type": "markdown",
   "id": "65a1a2d7-77dc-43f4-8137-41be3f013db5",
   "metadata": {},
   "source": [
    "The goal with this activity is to have your robot start on a starting line then, when you hit run, it moves to a position behind the kickiing line and kicks the ball.  The TAs will have a goalie that will protect the goal."
   ]
  },
  {
   "cell_type": "markdown",
   "id": "59ffdc9b-3d4f-400c-9348-9bf6a40e3907",
   "metadata": {
    "jp-MarkdownHeadingCollapsed": true,
    "tags": []
   },
   "source": [
    "<h4>Constraints:</h4>\n",
    "\n",
    "- Code must autonomous (aka no keyboard control/teleop)\n",
    "- Ball must be kicked by Milan's motor\n",
    "- Ball must be kicked before the kick line (2 ft in front of the goal)\n",
    "- Ball can start anywhere you want before the kick line (on the ground, on the create, etc) but\n",
    "you cannot touch the ball once you start your code\n",
    "- Your motor can be triggered by anything (LED on the create, flashlight you hover over it, etc)\n",
    "as long as you don't touch the robot once you start your code\n",
    "- The goal is 1.5 ft high\n",
    "- Your create will start 4 ft from the kick line"
   ]
  },
  {
   "cell_type": "markdown",
   "id": "476ad2b1-7cc8-4efd-9149-1830901152cd",
   "metadata": {},
   "source": [
    "<h4>Grading rubric:</h4>\n",
    "\n",
    "6. you came to class\n",
    "7. you made an attempt: something happened - the robot moved\n",
    "8. satisfactory: you drove your robot to the kick line and something happened\n",
    "9. good: your robot smoothly moved to the kick line and you succeeded in kicking the ball.\n",
    "10. excellent: you added functionality to your bot, and you had a nice kicking arm.\n",
    "11. above and beyond: totally up to you"
   ]
  },
  {
   "cell_type": "markdown",
   "id": "ff2ff311-fead-4a71-b96c-809c27790adf",
   "metadata": {},
   "source": [
    "<h4>Your code </h4>\n",
    "This will be your first chance to write the code yourself - using CreateLib.py."
   ]
  },
  {
   "cell_type": "code",
   "execution_count": null,
   "id": "2cd221bd-3a8f-454d-b615-88cbd20a7663",
   "metadata": {},
   "outputs": [],
   "source": [
    "import os\n",
    "os.environ['ROS_DOMAIN_ID']=\"1\"\n",
    "!printenv | grep 'ROS'\n",
    "!printenv | grep 'RMW'"
   ]
  },
  {
   "cell_type": "code",
   "execution_count": null,
   "id": "49912350-4fcf-44b5-b960-d4c149378d53",
   "metadata": {},
   "outputs": [],
   "source": [
    "!ros2 topic list"
   ]
  },
  {
   "cell_type": "code",
   "execution_count": null,
   "id": "899aee47-cd8d-4e85-837c-e230df6c3116",
   "metadata": {
    "tags": []
   },
   "outputs": [],
   "source": [
    "from Subs.CreateLib import Create\n",
    "\n",
    "MyCreate = Create('/yourCreate')\n",
    "\n",
    "MyCreate.beep()\n",
    "# add your code here\n",
    "MyCreate.close()"
   ]
  },
  {
   "cell_type": "markdown",
   "id": "c924864d-cab5-4344-93a0-9ba8cef4cdcd",
   "metadata": {
    "tags": []
   },
   "source": [
    "<h4>Your reflections </h4>"
   ]
  },
  {
   "cell_type": "markdown",
   "id": "7b1ad1bb-7772-4c9e-b438-a8ade5dbf34c",
   "metadata": {},
   "source": [
    "Type your thoughts here - what worked well - what did not?  What was tough and what was easy?  Share any good links you found that helped."
   ]
  },
  {
   "cell_type": "markdown",
   "id": "48c19a9a-4556-4829-ba09-d9f5e6e53faf",
   "metadata": {},
   "source": []
  },
  {
   "cell_type": "markdown",
   "id": "0c8d122f-1ce9-4496-b61f-53d106c730a8",
   "metadata": {},
   "source": [
    "<h4>More thoughts</h4>\n",
    "\n",
    "You can try starting to write your own lower level control by examining how ROS works."
   ]
  },
  {
   "cell_type": "code",
   "execution_count": null,
   "id": "e9a251e1-b4fd-4170-8ae5-d502d3218ee3",
   "metadata": {},
   "outputs": [],
   "source": []
  }
 ],
 "metadata": {
  "kernelspec": {
   "display_name": "Python 3 (ipykernel)",
   "language": "python",
   "name": "python3"
  },
  "language_info": {
   "codemirror_mode": {
    "name": "ipython",
    "version": 3
   },
   "file_extension": ".py",
   "mimetype": "text/x-python",
   "name": "python",
   "nbconvert_exporter": "python",
   "pygments_lexer": "ipython3",
   "version": "3.9.13"
  }
 },
 "nbformat": 4,
 "nbformat_minor": 5
}
