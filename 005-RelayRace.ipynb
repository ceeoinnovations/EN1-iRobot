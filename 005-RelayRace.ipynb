{
 "cells": [
  {
   "cell_type": "markdown",
   "id": "ef05f6a6-0bb8-453c-ac5b-56752a01f2f7",
   "metadata": {},
   "source": [
    "# Relay Races"
   ]
  },
  {
   "cell_type": "markdown",
   "id": "65a1a2d7-77dc-43f4-8137-41be3f013db5",
   "metadata": {},
   "source": [
    "The goal with this activity is to pass a ping pong ball across the room.  We will compete with Ethan Danahy's class for fewest \"Hand of God\" replacing an errant ball.  The goal will be to pass the ball across all 16 robots without dropping it - and coming back to the first robot (so we can go around again)."
   ]
  },
  {
   "cell_type": "markdown",
   "id": "59ffdc9b-3d4f-400c-9348-9bf6a40e3907",
   "metadata": {
    "jp-MarkdownHeadingCollapsed": true,
    "tags": []
   },
   "source": [
    "<h4>Constraints:</h4>\n",
    "\n",
    "- the bases will start 2 Create lengths apart\n",
    "- your code must be completely autonomous\n",
    "- your robot must drive and spin to deliver the ball to the next robot\n",
    "- your MakerPi must move some sort of passing arm and be triggered by the light sensor"
   ]
  },
  {
   "cell_type": "markdown",
   "id": "476ad2b1-7cc8-4efd-9149-1830901152cd",
   "metadata": {},
   "source": [
    "<h4>Grading rubric:</h4> \n",
    "\n",
    "6. you had something\n",
    "7. it was duct tape and cardboard but the ball moved\n",
    "8. you had a nice ball passing mechanism using the MakerPi and the create moved (using Root coding or ROS)\n",
    "9. Everything is laser cut or 3D printed and you are using ROS with your robot motion\n",
    "10. You added something to the board (sensor, buzzer, etc) and to the Create\n",
    "11. above and beyond: totally up to you"
   ]
  },
  {
   "cell_type": "markdown",
   "id": "a68ab854-81dd-44ce-80de-980ee3282947",
   "metadata": {},
   "source": [
    "Enter your vote  [here](https://docs.google.com/forms/d/e/1FAIpQLScFHbqW2rr1KMSoWHOPNccbpoRxJXhOZUqr8u0CuwzE6gmoWA/viewform?usp=sf_link)"
   ]
  },
  {
   "cell_type": "markdown",
   "id": "ff2ff311-fead-4a71-b96c-809c27790adf",
   "metadata": {},
   "source": [
    "<h4>Your code </h4>\n",
    "This one is all yours - it can still be done using CreateLib if you want."
   ]
  },
  {
   "cell_type": "code",
   "execution_count": null,
   "id": "40eff7eb-27af-49c8-968d-8e5e0e2de347",
   "metadata": {},
   "outputs": [],
   "source": [
    "import os\n",
    "os.environ['ROS_DOMAIN_ID']=\"1\"\n",
    "!printenv | grep 'ROS'\n",
    "!printenv | grep 'RMW'"
   ]
  },
  {
   "cell_type": "code",
   "execution_count": null,
   "id": "6f772170-66fc-4d51-abc7-0b387c68855b",
   "metadata": {},
   "outputs": [],
   "source": [
    "!ros2 topic list"
   ]
  },
  {
   "cell_type": "code",
   "execution_count": null,
   "id": "899aee47-cd8d-4e85-837c-e230df6c3116",
   "metadata": {
    "tags": []
   },
   "outputs": [],
   "source": [
    "from Subs.CreateLib import Create\n",
    "\n",
    "MyCreate = Create('/yourCreate')\n",
    "\n",
    "MyCreate.beep()\n",
    "# add your code here\n",
    "MyCreate.close()"
   ]
  },
  {
   "cell_type": "markdown",
   "id": "5b2a76d2-220f-46c7-bc1c-39197773e18a",
   "metadata": {
    "jp-MarkdownHeadingCollapsed": true,
    "tags": []
   },
   "source": [
    "<h4> If things are not working </h4>\n",
    "run this code and try again"
   ]
  },
  {
   "cell_type": "code",
   "execution_count": null,
   "id": "1763617b-3bc6-433d-a7f2-12ec4cb431b3",
   "metadata": {},
   "outputs": [],
   "source": [
    "import os, time\n",
    "import subprocess\n",
    "\n",
    "home = os.path.expanduser('~')\n",
    "os.environ['ROS_DOMAIN_ID']=\"15\"\n",
    "os.environ['RMW_IMPLEMENTATION'] = 'rmw_cyclonedds_cpp'\n",
    "print(os.environ['ROS_DOMAIN_ID'])\n",
    "print(os.environ['RMW_IMPLEMENTATION'])\n",
    "\n",
    "for i in range(18):\n",
    "    list = subprocess.run(['ros2','daemon','stop'],capture_output=True)\n",
    "    os.environ['ROS_DOMAIN_ID']=str(i)\n",
    "    print(os.environ['ROS_DOMAIN_ID'])\n",
    "    time.sleep(0.1)\n",
    "    list = subprocess.run(['ros2','topic','list'],capture_output=True)\n",
    "    print(list.stdout.decode().split('\\n')[0])"
   ]
  },
  {
   "cell_type": "markdown",
   "id": "c924864d-cab5-4344-93a0-9ba8cef4cdcd",
   "metadata": {
    "tags": []
   },
   "source": [
    "<h4>Your reflections </h4>"
   ]
  },
  {
   "cell_type": "markdown",
   "id": "7b1ad1bb-7772-4c9e-b438-a8ade5dbf34c",
   "metadata": {},
   "source": [
    "Type your thoughts here - what worked well - what did not?  What was tough and what was easy?  Share any good links you found that helped."
   ]
  },
  {
   "cell_type": "markdown",
   "id": "48c19a9a-4556-4829-ba09-d9f5e6e53faf",
   "metadata": {},
   "source": []
  },
  {
   "cell_type": "markdown",
   "id": "0c8d122f-1ce9-4496-b61f-53d106c730a8",
   "metadata": {},
   "source": [
    "<h4>More thoughts</h4>\n",
    "\n",
    "You can try starting to write your own lower level control by examining how ROS works."
   ]
  },
  {
   "cell_type": "code",
   "execution_count": null,
   "id": "e9a251e1-b4fd-4170-8ae5-d502d3218ee3",
   "metadata": {},
   "outputs": [],
   "source": []
  }
 ],
 "metadata": {
  "kernelspec": {
   "display_name": "Python 3 (ipykernel)",
   "language": "python",
   "name": "python3"
  },
  "language_info": {
   "codemirror_mode": {
    "name": "ipython",
    "version": 3
   },
   "file_extension": ".py",
   "mimetype": "text/x-python",
   "name": "python",
   "nbconvert_exporter": "python",
   "pygments_lexer": "ipython3",
   "version": "3.9.13"
  }
 },
 "nbformat": 4,
 "nbformat_minor": 5
}
