{
 "cells": [
  {
   "cell_type": "markdown",
   "id": "e8691386-e2b0-4bc4-91ec-a7f28171d83c",
   "metadata": {},
   "source": [
    "# Getting started: Beeping"
   ]
  },
  {
   "cell_type": "markdown",
   "id": "f1c8f295-768e-458a-ae37-16f25f38884e",
   "metadata": {},
   "source": [
    "Welcome to getting started.  If you are new to JupyterLabs, then I recommend clicking [here](200-JupyterLabs.ipynb) for a few tips.  The first step is to do a ros topic list - to make sure you can see your robot - if your robot does not appear in the list, go to the [troubleshooting notebook](201-Troubleshooting.ipynb)."
   ]
  },
  {
   "cell_type": "code",
   "execution_count": null,
   "id": "91cefb7e-2da8-4ae5-aa27-a234e26d5bfa",
   "metadata": {},
   "outputs": [],
   "source": [
    "!ros2 topic list"
   ]
  },
  {
   "cell_type": "markdown",
   "id": "b9981635-0f8a-49d7-bc98-7701936d0d1f",
   "metadata": {},
   "source": [
    "If your Create is listed, all is good.*(note the ! - it lets you run a command in the [terminal](200-JupyterLabs.ipynb))* Otherwise head over to the [troubleshooting notebook](201-Troubleshooting.ipynb)."
   ]
  },
  {
   "cell_type": "markdown",
   "id": "95f0076d-0e4d-4dfb-9c16-355f234e36b8",
   "metadata": {},
   "source": [
    "With ROS, you can test everything out from the command line (CLI) - so we can make the Create beep with the following command - just replace 'rogers' with the name of your create and hit run.  For more CLI info, go [here](202-CLI.ipynb)."
   ]
  },
  {
   "cell_type": "code",
   "execution_count": null,
   "id": "b8916284-eca8-45b4-bd11-4897f28bef5d",
   "metadata": {},
   "outputs": [],
   "source": [
    "!ros2 topic pub --once /rogers/cmd_audio irobot_create_msgs/msg/AudioNoteVector \"{append: false, notes: [{frequency: 100, max_runtime: {sec: 1,nanosec: 0}}, {frequency: 50, max_runtime: {sec: 1,nanosec: 0}}]}\""
   ]
  },
  {
   "cell_type": "markdown",
   "id": "0678f1a5-4d1b-4fe3-a7af-5e9d5028334e",
   "metadata": {},
   "source": [
    "Next step is to write a small python code to make your robot beep. If you are new to python, go [here](103-Python.ipynb) for some starting points. Step one is to import the Create library that defines a Create class that will let you beep the bot."
   ]
  },
  {
   "cell_type": "code",
   "execution_count": null,
   "id": "67fc8c85-6d1d-47a2-a4bc-19e23b0d58b5",
   "metadata": {
    "tags": []
   },
   "outputs": [],
   "source": [
    "from CreateLib import Create"
   ]
  },
  {
   "cell_type": "markdown",
   "id": "795a2899-ff50-466b-8baf-1e7971dab8f8",
   "metadata": {},
   "source": [
    "Now that library is loaded into memory.  To unload it, hit the \"Restart Kernel\" button at the top next to the run and stop signs.  The next step is to define an instance of Create and call a method or two.  Make sure to replace \"rogers\" with the name of your robot."
   ]
  },
  {
   "cell_type": "code",
   "execution_count": null,
   "id": "96a501a9-a045-463a-b5f3-ffa75d67d420",
   "metadata": {
    "tags": []
   },
   "outputs": [],
   "source": [
    "fred = Create('/rogers')"
   ]
  },
  {
   "cell_type": "markdown",
   "id": "36cd2774-829f-49f7-9235-c728dda1fc05",
   "metadata": {},
   "source": [
    "Now try changing the LED colors - pick a number between 0 and 10"
   ]
  },
  {
   "cell_type": "code",
   "execution_count": null,
   "id": "a3a642f8-0c49-4c38-a0e4-600ad6c0e7a3",
   "metadata": {},
   "outputs": [],
   "source": [
    "fred.LED(6)"
   ]
  },
  {
   "cell_type": "markdown",
   "id": "866da74b-9bb9-42e8-a1ab-9c4d6de22228",
   "metadata": {},
   "source": [
    "Next lets have it make some noise"
   ]
  },
  {
   "cell_type": "code",
   "execution_count": null,
   "id": "bbcef30f-0eda-4272-a50a-00474152207c",
   "metadata": {
    "tags": []
   },
   "outputs": [],
   "source": [
    "fred.beep(440)"
   ]
  },
  {
   "cell_type": "markdown",
   "id": "3d15af02-cacf-4c2d-83c4-c95a9275de25",
   "metadata": {},
   "source": [
    "Now it is time to move - try turning in place"
   ]
  },
  {
   "cell_type": "code",
   "execution_count": null,
   "id": "27508104-569f-4881-89ef-fe10e455a186",
   "metadata": {
    "tags": []
   },
   "outputs": [],
   "source": [
    "fred.turn(90)"
   ]
  },
  {
   "cell_type": "markdown",
   "id": "a57e5324-dfe6-4df0-8a84-3e0844f05725",
   "metadata": {},
   "source": [
    "or driving forward"
   ]
  },
  {
   "cell_type": "code",
   "execution_count": null,
   "id": "4b27f0e7-b843-4050-8d1a-aa5830c4e58d",
   "metadata": {
    "tags": []
   },
   "outputs": [],
   "source": [
    "fred.forward(0.5)"
   ]
  },
  {
   "cell_type": "markdown",
   "id": "18ac7b45-1c6f-4d0b-b148-2d69b370741c",
   "metadata": {},
   "source": [
    "Now combine them all to sing and run from base to base (drive in a square) - don't forget to restart the kernel before hitting run..."
   ]
  },
  {
   "cell_type": "code",
   "execution_count": null,
   "id": "96e965fa-4456-4e2e-9532-7cffea4a081d",
   "metadata": {},
   "outputs": [],
   "source": [
    "from CreateLib import Create\n",
    "\n",
    "MyCreate = Create('/rogers')\n",
    "\n",
    "MyCreate.beep()\n",
    "MyCreate.LED(2)\n",
    "MyCreate.forward(0.5)\n",
    "MyCreate.turn(90)\n",
    "# and more - add on and mix them up\n",
    "MyCreate.close()"
   ]
  },
  {
   "cell_type": "code",
   "execution_count": null,
   "id": "6274b69b-0844-4f7e-be68-9222fa3e6eaa",
   "metadata": {},
   "outputs": [],
   "source": []
  }
 ],
 "metadata": {
  "kernelspec": {
   "display_name": "Python 3 (ipykernel)",
   "language": "python",
   "name": "python3"
  },
  "language_info": {
   "codemirror_mode": {
    "name": "ipython",
    "version": 3
   },
   "file_extension": ".py",
   "mimetype": "text/x-python",
   "name": "python",
   "nbconvert_exporter": "python",
   "pygments_lexer": "ipython3",
   "version": "3.9.13"
  }
 },
 "nbformat": 4,
 "nbformat_minor": 5
}
