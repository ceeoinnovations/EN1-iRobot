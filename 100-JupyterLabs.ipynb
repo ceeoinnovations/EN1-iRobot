{
 "cells": [
  {
   "cell_type": "markdown",
   "id": "2a94a071-1edf-4092-98d2-0ef0adea6023",
   "metadata": {},
   "source": [
    "# JupyterLabs"
   ]
  },
  {
   "cell_type": "markdown",
   "id": "fa793067-6eda-4f10-ad07-21886334a6ff",
   "metadata": {},
   "source": [
    "Lots of help will be here - mention ! and python kernals, terminal window etc"
   ]
  },
  {
   "cell_type": "code",
   "execution_count": null,
   "id": "88d0bfeb-538b-461f-afbe-de55cd53aad7",
   "metadata": {},
   "outputs": [],
   "source": []
  },
  {
   "cell_type": "markdown",
   "id": "cbc643aa-c774-4e45-9c4a-37d5f8cd7a70",
   "metadata": {},
   "source": [
    "for spelling:\n",
    "\n",
    "- pip install jupyter_contrib_nbextensions\n",
    "- jupyter contrib nbextension install --user\n",
    "- jupyter nbextension enable spellchecker/main"
   ]
  },
  {
   "cell_type": "markdown",
   "id": "b6587d00-3ed0-442e-87b8-ae910a11732c",
   "metadata": {},
   "source": [
    "for markdown hints, go [here](https://www.markdownguide.org/cheat-sheet/)"
   ]
  },
  {
   "cell_type": "code",
   "execution_count": null,
   "id": "2fb84fba-9d14-43f5-a4e6-04731f7860ed",
   "metadata": {},
   "outputs": [],
   "source": []
  }
 ],
 "metadata": {
  "kernelspec": {
   "display_name": "Python 3 (ipykernel)",
   "language": "python",
   "name": "python3"
  },
  "language_info": {
   "codemirror_mode": {
    "name": "ipython",
    "version": 3
   },
   "file_extension": ".py",
   "mimetype": "text/x-python",
   "name": "python",
   "nbconvert_exporter": "python",
   "pygments_lexer": "ipython3",
   "version": "3.8.10"
  }
 },
 "nbformat": 4,
 "nbformat_minor": 5
}
