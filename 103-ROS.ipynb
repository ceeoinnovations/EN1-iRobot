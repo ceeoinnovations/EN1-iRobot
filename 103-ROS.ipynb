{
 "cells": [
  {
   "cell_type": "markdown",
   "id": "7f607b8d-df12-4d68-ab28-ce8a749e8739",
   "metadata": {},
   "source": [
    "# Writing ROS commands in python"
   ]
  },
  {
   "cell_type": "markdown",
   "id": "dfdab2b9-725f-4b31-9a02-1cb01d456baa",
   "metadata": {},
   "source": [
    "How do you start ROS from scratch?  I found the easiest way was to start with publishers and subscribers.  "
   ]
  },
  {
   "cell_type": "markdown",
   "id": "57e1e5ec-7803-4bf3-a588-beebfc2c5c63",
   "metadata": {},
   "source": [
    "<h4>Publish and Subscribe</h4>"
   ]
  },
  {
   "cell_type": "markdown",
   "id": "889ad7b0-e215-4a37-91e5-e5aaf1db36e3",
   "metadata": {},
   "source": [
    "Grabbing the example code from the [ROS tutorials](https://docs.ros.org/en/foxy/Tutorials/Beginner-Client-Libraries/Writing-A-Simple-Py-Publisher-And-Subscriber.html), we can set up a topic that \"chatters\" and we can also subscribe to it. To do this, we are going to have to set up two separate kernels (or threads) - one that is running the publisher and one that is running the subscriber.  We can do that with two different notebooks - [publisher](103a-ROS_Publisher.ipynb) and [subscriber](103b-ROS_Subscriber.ipynb). Open them as two separate windows side by side and you can see them talking with each other."
   ]
  },
  {
   "cell_type": "code",
   "execution_count": null,
   "id": "aff8a682-8ec7-4f3c-bdd0-d4193d6c0562",
   "metadata": {},
   "outputs": [],
   "source": []
  },
  {
   "cell_type": "code",
   "execution_count": null,
   "id": "b91f247a-ae6a-4d8b-9421-ee6a26d72f19",
   "metadata": {},
   "outputs": [],
   "source": []
  },
  {
   "cell_type": "markdown",
   "id": "dbb2e853-6c74-4cfe-a105-deb6c5d68841",
   "metadata": {},
   "source": [
    "Also, Sawyer (previous student) developed a slew of Create examples [here](https://github.com/paccionesawyer/Create3_ROS2_Intro)"
   ]
  },
  {
   "cell_type": "code",
   "execution_count": null,
   "id": "d39eaeda-d2c1-4577-a5a2-34eff6780f33",
   "metadata": {},
   "outputs": [],
   "source": []
  }
 ],
 "metadata": {
  "kernelspec": {
   "display_name": "Python 3 (ipykernel)",
   "language": "python",
   "name": "python3"
  },
  "language_info": {
   "codemirror_mode": {
    "name": "ipython",
    "version": 3
   },
   "file_extension": ".py",
   "mimetype": "text/x-python",
   "name": "python",
   "nbconvert_exporter": "python",
   "pygments_lexer": "ipython3",
   "version": "3.9.13"
  }
 },
 "nbformat": 4,
 "nbformat_minor": 5
}
