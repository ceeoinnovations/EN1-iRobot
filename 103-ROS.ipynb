{
 "cells": [
  {
   "cell_type": "markdown",
   "id": "7f607b8d-df12-4d68-ab28-ce8a749e8739",
   "metadata": {},
   "source": [
    "# Writing ROS commands in python"
   ]
  },
  {
   "cell_type": "markdown",
   "id": "dfdab2b9-725f-4b31-9a02-1cb01d456baa",
   "metadata": {},
   "source": [
    "How do you start ROS from scratch?  I found the easiest way was to start with publishers and subscribers.  "
   ]
  },
  {
   "cell_type": "markdown",
   "id": "57e1e5ec-7803-4bf3-a588-beebfc2c5c63",
   "metadata": {},
   "source": [
    "<h4>Publish and Subscribe</h4>"
   ]
  },
  {
   "cell_type": "markdown",
   "id": "889ad7b0-e215-4a37-91e5-e5aaf1db36e3",
   "metadata": {},
   "source": [
    "Grabbing the example code from the [ROS tutorials](https://docs.ros.org/en/foxy/Tutorials/Beginner-Client-Libraries/Writing-A-Simple-Py-Publisher-And-Subscriber.html), we can set up a topic that \"chatters\" and we can also subscribe to it. To do this, we are going to have to set up two separate kernels (or threads) - one that is running the publisher and one that is running the subscriber.  We can do that with two different notebooks - [publisher](103a-ROS_Publisher.ipynb) and [subscriber](103b-ROS_Subscriber.ipynb). Open them as two separate windows side by side and you can see them talking with each other."
   ]
  },
  {
   "cell_type": "markdown",
   "id": "26788ea1",
   "metadata": {},
   "source": [
    "<h4>Services</h4>"
   ]
  },
  {
   "cell_type": "markdown",
   "id": "78af8998-d09b-4966-a00e-a987c389fbf8",
   "metadata": {},
   "source": [
    "Again grabbing the example code from the [ROS tutorials](https://docs.ros.org/en/foxy/Tutorials/Beginner-Client-Libraries/Writing-A-Simple-Py-Publisher-And-Subscriber.html), we can set up a simple service that answers a question and we can also query  it. To do this, we are going to have to set up two separate kernels (or threads) - one that is running the host and one that is running the client.  We can do that with two different notebooks - [host](103a-ROS_Publisher.ipynb) and [client](103b-ROS_Subscriber.ipynb). Open them as two separate windows side by side and you can see them talking with each other."
   ]
  },
  {
   "cell_type": "markdown",
   "id": "2bd179d4-5ca2-4961-a279-214c729b34d7",
   "metadata": {},
   "source": [
    "<h4>Actions</h4>"
   ]
  },
  {
   "cell_type": "markdown",
   "id": "fbe09be4-0aa0-4329-9b43-5dd16465efee",
   "metadata": {},
   "source": [
    "Finally, we can grab the example code from the [ROS tutorials](https://docs.ros.org/en/foxy/Tutorials/Beginner-Client-Libraries/Writing-A-Simple-Py-Publisher-And-Subscriber.html), we can set up a simple service that answers a question and we can also query  it. To do this, we are going to have to set up two separate kernels (or threads) - one that is running the host and one that is running the client.  We can do that with two different notebooks - [host](103a-ROS_Publisher.ipynb) and [client](103b-ROS_Subscriber.ipynb). Open them as two separate windows side by side and you can see them talking with each other."
   ]
  },
  {
   "cell_type": "markdown",
   "id": "a9262968-5660-41b0-a3c4-2d19e58f51d5",
   "metadata": {},
   "source": [
    "<h4>The Kitchen Sink</h4>"
   ]
  },
  {
   "cell_type": "markdown",
   "id": "9441400c-83b2-42f0-82f1-eca3e44da53e",
   "metadata": {},
   "source": [
    "Now lets combine them all together to do something stupendus."
   ]
  },
  {
   "cell_type": "code",
   "execution_count": null,
   "id": "c4d926ba-f380-4184-9377-67e4233ce08f",
   "metadata": {},
   "outputs": [],
   "source": []
  },
  {
   "cell_type": "markdown",
   "id": "dbb2e853-6c74-4cfe-a105-deb6c5d68841",
   "metadata": {},
   "source": [
    "Finally, Maddie and Kate developed a slew of examples [here]() and Sawyer (previous student) developed some more [here](https://github.com/paccionesawyer/Create3_ROS2_Intro) that you might find useful."
   ]
  }
 ],
 "metadata": {
  "kernelspec": {
   "display_name": "Python 3 (ipykernel)",
   "language": "python",
   "name": "python3"
  },
  "language_info": {
   "codemirror_mode": {
    "name": "ipython",
    "version": 3
   },
   "file_extension": ".py",
   "mimetype": "text/x-python",
   "name": "python",
   "nbconvert_exporter": "python",
   "pygments_lexer": "ipython3",
   "version": "3.9.13"
  }
 },
 "nbformat": 4,
 "nbformat_minor": 5
}
