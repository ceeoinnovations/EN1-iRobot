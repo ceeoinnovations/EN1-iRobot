{
 "cells": [
  {
   "cell_type": "markdown",
   "id": "cbe62943-50a3-4bb8-a2ee-40c6594682b5",
   "metadata": {},
   "source": [
    "## Defining a Service: Server and Client"
   ]
  },
  {
   "cell_type": "markdown",
   "id": "15fd0f2d-1e9e-4b9f-9fe1-cc8caefe43d6",
   "metadata": {},
   "source": [
    "Now that the message types and the service have been defined, lets write a simple server and client called *version_service*"
   ]
  },
  {
   "cell_type": "code",
   "execution_count": null,
   "id": "c4c0bdae",
   "metadata": {
    "tags": []
   },
   "outputs": [],
   "source": [
    "import os\n",
    "import subprocess\n",
    "\n",
    "home = os.path.expanduser('~')\n",
    "workspace = home +'/ros2_ws/'\n",
    "sourceFiles = workspace + 'src/'\n",
    "serviceName = 'version_service'\n",
    "servicePath = sourceFiles + serviceName\n",
    "\n",
    "os.chdir(sourceFiles)\n",
    "if not os.path.exists(servicePath):\n",
    "    reply = subprocess.run(['ros2','pkg','create','--build-type',\n",
    "        'ament_python',serviceName,'--dependencies','rclpy',\n",
    "        'example_interfaces'],capture_output=True) #same as !ros2 pkg create --build-type ament_python py_srvcli --dependencies rclpy example_interfaces    \n"
   ]
  },
  {
   "cell_type": "markdown",
   "id": "08e803ec-571b-47d2-85a1-2a3515b1076c",
   "metadata": {},
   "source": [
    "Next set up the server and client - assuming that you have already created the package with the service and message types"
   ]
  },
  {
   "cell_type": "code",
   "execution_count": null,
   "id": "5ce2a30b-fcf8-41d3-b134-7dc92d33ebcd",
   "metadata": {},
   "outputs": [],
   "source": [
    "os.chdir(servicePath + '/' + serviceName)"
   ]
  },
  {
   "cell_type": "code",
   "execution_count": null,
   "id": "eb585c60-9723-48db-849d-94f7fd07b069",
   "metadata": {
    "tags": []
   },
   "outputs": [],
   "source": [
    "%%writefile VersionServer.py\n",
    "from version.srv import Version                                                           \n",
    "\n",
    "import rclpy\n",
    "from rclpy.node import Node\n",
    "\n",
    "class VersionServer(Node):\n",
    "    def __init__(self):\n",
    "        super().__init__('version_service')\n",
    "        self.srv = self.create_service(Version, 'versionServer', self.version_callback)      \n",
    "\n",
    "    def version_callback(self, request, response):\n",
    "        response.value = 3.27 + request.mode\n",
    "        self.get_logger().info('Requesting version') \n",
    "\n",
    "        return response\n",
    "\n",
    "def main(args=None):\n",
    "    rclpy.init(args=args)\n",
    "    version_service = VersionServer()\n",
    "    rclpy.spin(version_service)\n",
    "    rclpy.shutdown()\n",
    "\n",
    "if __name__ == '__main__':\n",
    "    main()"
   ]
  },
  {
   "cell_type": "code",
   "execution_count": null,
   "id": "6bcd1199-48ef-42bd-86aa-78ae24c4deca",
   "metadata": {
    "tags": []
   },
   "outputs": [],
   "source": [
    "%%writefile VersionClient.py\n",
    "from version.srv import Version                                                           \n",
    "import sys\n",
    "import rclpy\n",
    "from rclpy.node import Node\n",
    "\n",
    "\n",
    "class VersionClient(Node):  #async\n",
    "    def __init__(self):\n",
    "        super().__init__('version_client_async')\n",
    "        self.cli = self.create_client(Version, 'versionServer')       \n",
    "        while not self.cli.wait_for_service(timeout_sec=1.0):\n",
    "            self.get_logger().info('service not available, waiting again...')\n",
    "        self.req = Version.Request()                                   \n",
    "\n",
    "    def send_request(self, mode = 1):\n",
    "        self.req.mode = int(mode)\n",
    "\n",
    "        self.future = self.cli.call_async(self.req)\n",
    "\n",
    "def main(args=None):\n",
    "    rclpy.init(args=args)\n",
    "\n",
    "    client = VersionClient()\n",
    "    client.send_request(2)\n",
    "\n",
    "    while rclpy.ok():\n",
    "        rclpy.spin_once(client)\n",
    "        if client.future.done():\n",
    "            try:\n",
    "                response = client.future.result()\n",
    "            except Exception as e:\n",
    "                client.get_logger().info('Service call failed %r' % (e,))\n",
    "            else:\n",
    "                client.get_logger().info('Version: %d' % (response.value))  \n",
    "            break\n",
    "\n",
    "    client.destroy_node()\n",
    "    rclpy.shutdown()\n",
    "\n",
    "\n",
    "if __name__ == '__main__':\n",
    "    main()"
   ]
  },
  {
   "cell_type": "markdown",
   "id": "d402cb9e-8f1c-4229-9f07-d89874cc8e83",
   "metadata": {},
   "source": [
    "And add them to the setup file"
   ]
  },
  {
   "cell_type": "code",
   "execution_count": null,
   "id": "23df64e9-f64a-43c7-b376-205271850b14",
   "metadata": {},
   "outputs": [],
   "source": [
    "os.chdir(servicePath)"
   ]
  },
  {
   "cell_type": "code",
   "execution_count": null,
   "id": "a4ce240d-37a2-4ec8-944e-503ce3f872b5",
   "metadata": {},
   "outputs": [],
   "source": [
    "%%writefile setup.py\n",
    "from setuptools import setup\n",
    "\n",
    "package_name = 'version_service'\n",
    "\n",
    "setup(\n",
    "    name=package_name,\n",
    "    version='0.0.0',\n",
    "    packages=[package_name],\n",
    "    data_files=[\n",
    "        ('share/ament_index/resource_index/packages',\n",
    "            ['resource/' + package_name]),\n",
    "        ('share/' + package_name, ['package.xml']),\n",
    "    ],\n",
    "    install_requires=['setuptools'],\n",
    "    zip_safe=True,\n",
    "    maintainer='parallels',\n",
    "    maintainer_email='parallels@todo.todo',\n",
    "    description='TODO: Package description',\n",
    "    license='TODO: License declaration',\n",
    "    tests_require=['pytest'],\n",
    "    entry_points={\n",
    "        'console_scripts': [\n",
    "            'service = version_service.VersionServer:main',\n",
    "            'client = version_service.VersionClient:main',\n",
    "        ],\n",
    "    },\n",
    ")"
   ]
  },
  {
   "cell_type": "code",
   "execution_count": null,
   "id": "ac0aa449-8212-44f1-afc3-2fb9117a75dc",
   "metadata": {},
   "outputs": [],
   "source": [
    "os.chdir(workspace)\n",
    "subprocess.run(['colcon','build','--packages-select',serviceName],capture_output=True)\n"
   ]
  },
  {
   "cell_type": "markdown",
   "id": "00198890-300c-4966-8c2d-e4b0d46b0dcc",
   "metadata": {},
   "source": [
    "Now you can confirm in the Terminal that they were running \n",
    "```bash\n",
    "cd ~/ros2_ws\n",
    "export ROS_DOMAIN_ID=0\n",
    ". install/setup.bash\n",
    "python3.8 VersionServer.py\n",
    "```\n",
    "This will start the server running.  And then open a new terminal and try \n",
    "```bash\n",
    "cd ~/ros2_ws\n",
    "export ROS_DOMAIN_ID=0\n",
    ". install/setup.bash\n",
    "python3.8 VersionClient.py\n",
    "```"
   ]
  },
  {
   "cell_type": "code",
   "execution_count": null,
   "id": "9395ca9b-b16b-4d39-99b4-2a9744a221df",
   "metadata": {},
   "outputs": [],
   "source": []
  }
 ],
 "metadata": {
  "kernelspec": {
   "display_name": "Python 3 (ipykernel)",
   "language": "python",
   "name": "python3"
  },
  "language_info": {
   "codemirror_mode": {
    "name": "ipython",
    "version": 3
   },
   "file_extension": ".py",
   "mimetype": "text/x-python",
   "name": "python",
   "nbconvert_exporter": "python",
   "pygments_lexer": "ipython3",
   "version": "3.9.13"
  }
 },
 "nbformat": 4,
 "nbformat_minor": 5
}
