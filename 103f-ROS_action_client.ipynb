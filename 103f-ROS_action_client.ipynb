{
 "cells": [
  {
   "cell_type": "markdown",
   "id": "cbe62943-50a3-4bb8-a2ee-40c6594682b5",
   "metadata": {},
   "source": [
    "<h4>Building an action server</h4>"
   ]
  },
  {
   "cell_type": "markdown",
   "id": "15fd0f2d-1e9e-4b9f-9fe1-cc8caefe43d6",
   "metadata": {},
   "source": [
    "This is an exact replication of creating an action ([here](https://docs.ros.org/en/galactic/Tutorials/Intermediate/Creating-an-Action.html)) and defining it ([here](https://docs.ros.org/en/galactic/Tutorials/Intermediate/Writing-an-Action-Server-Client/Py.html))  The first step is to define it by creating the requisite folders."
   ]
  },
  {
   "cell_type": "code",
   "execution_count": null,
   "id": "c4c0bdae",
   "metadata": {
    "tags": []
   },
   "outputs": [],
   "source": [
    "import os\n",
    "import subprocess\n",
    "\n",
    "home = os.path.expanduser('~')\n",
    "workspace = home +'/ros2_ws/'\n",
    "sourceFiles = workspace + 'src/'\n",
    "actionName = 'action_tutorials_interfaces'\n",
    "\n",
    "os.chdir(home)\n",
    "\n",
    "if not os.path.exists(sourceFiles):\n",
    "    os.makedirs(sourceFiles)\n",
    "    os.chdir(sourceFiles)\n",
    "    reply = subprocess.run(['ros2','pkg','create',actionName],capture_output=True) #same as !ros2 pkg create action_tutorials_interfaces\n",
    "    os.chdir(sourceFiles + actionName)\n",
    "    os.mkdir('action')"
   ]
  },
  {
   "cell_type": "markdown",
   "id": "08e803ec-571b-47d2-85a1-2a3515b1076c",
   "metadata": {},
   "source": [
    "Next we set up the action definition file.  This defines the data types for *Resquest*, *Result*, and *Feedback*: the three parts to every action.  In this case, request (only one parameter: order) is a 32 bit integer, the result (only one parameter: sequence) is an array of 32 bit integers, and the feedback you get when quering it while it is running (partial_sequence) is a similar array."
   ]
  },
  {
   "cell_type": "code",
   "execution_count": null,
   "id": "bf845c45",
   "metadata": {},
   "outputs": [],
   "source": [
    "os.chdir(sourceFiles + actionName + '/action')\n",
    "\n",
    "%%writefile Fibonacci.action\n",
    "\n",
    "int32 order\n",
    "---\n",
    "int32[] sequence\n",
    "---\n",
    "int32[] partial_sequence"
   ]
  },
  {
   "cell_type": "markdown",
   "id": "476240b3-88e7-4fea-a763-ab68c13463da",
   "metadata": {},
   "source": [
    "We then have to edit the CMakeList - adding the package *rosidl_generate_interafaces* and then generating the ros2 interface for the action we just defined above.\n",
    "```bash\n",
    "find_package(rosidl_default_generators REQUIRED)\n",
    "\n",
    "rosidl_generate_interfaces(${PROJECT_NAME}\n",
    "  \"action/Fibonacci.action\"\n",
    ")\n",
    "\n",
    "```"
   ]
  },
  {
   "cell_type": "code",
   "execution_count": null,
   "id": "d7a51f6c",
   "metadata": {},
   "outputs": [],
   "source": [
    "os.chdir(sourceFiles + actionName)\n",
    "\n",
    "%%writefile CMakeLists.txt\n",
    "cmake_minimum_required(VERSION 3.8)\n",
    "project(action_tutorials_interfaces)\n",
    "\n",
    "if(CMAKE_COMPILER_IS_GNUCXX OR CMAKE_CXX_COMPILER_ID MATCHES \"Clang\")\n",
    "  add_compile_options(-Wall -Wextra -Wpedantic)\n",
    "endif()\n",
    "\n",
    "# find dependencies\n",
    "find_package(ament_cmake REQUIRED)\n",
    "# uncomment the following section in order to fill in\n",
    "# further dependencies manually.\n",
    "# find_package(<dependency> REQUIRED)\n",
    "\n",
    "if(BUILD_TESTING)\n",
    "  find_package(ament_lint_auto REQUIRED)\n",
    "  # the following line skips the linter which checks for copyrights\n",
    "  # uncomment the line when a copyright and license is not present in all source files\n",
    "  #set(ament_cmake_copyright_FOUND TRUE)\n",
    "  # the following line skips cpplint (only works in a git repo)\n",
    "  # uncomment the line when this package is not in a git repo\n",
    "  #set(ament_cmake_cpplint_FOUND TRUE)\n",
    "  ament_lint_auto_find_test_dependencies()\n",
    "endif()\n",
    "\n",
    "find_package(rosidl_default_generators REQUIRED)\n",
    "\n",
    "rosidl_generate_interfaces(${PROJECT_NAME}\n",
    "  \"action/Fibonacci.action\"\n",
    ")\n",
    "\n",
    "ament_package()\n"
   ]
  },
  {
   "cell_type": "markdown",
   "id": "6cfbf460-b009-4324-b1dd-5fa26c3e675e",
   "metadata": {},
   "source": [
    "We then edit the package xml so that it has the new dependencies for the action\n",
    "```bash\n",
    "<buildtool_depend>rosidl_default_generators</buildtool_depend>\n",
    "\n",
    "<depend>action_msgs</depend>\n",
    "\n",
    "<member_of_group>rosidl_interface_packages</member_of_group>\n",
    "```"
   ]
  },
  {
   "cell_type": "code",
   "execution_count": null,
   "id": "44739f3c",
   "metadata": {},
   "outputs": [],
   "source": [
    "os.chdir(sourceFiles + actionName)\n",
    "\n",
    "%%writefile package.xml\n",
    "<?xml version=\"1.0\"?>\n",
    "<?xml-model href=\"http://download.ros.org/schema/package_format3.xsd\" schematypens=\"http://www.w3.org/2001/XMLSchema\"?>\n",
    "<package format=\"3\">\n",
    "  <name>action_tutorials_interfaces</name>\n",
    "  <version>0.0.0</version>\n",
    "  <description>TODO: Package description</description>\n",
    "  <maintainer email=\"parallels@todo.todo\">parallels</maintainer>\n",
    "  <license>TODO: License declaration</license>\n",
    "\n",
    "  <buildtool_depend>ament_cmake</buildtool_depend>\n",
    "    \n",
    "  <buildtool_depend>rosidl_default_generators</buildtool_depend>\n",
    "  <depend>action_msgs</depend>\n",
    "  <member_of_group>rosidl_interface_packages</member_of_group>\n",
    "    \n",
    "  <test_depend>ament_lint_auto</test_depend>\n",
    "  <test_depend>ament_lint_common</test_depend>\n",
    "\n",
    "  <export>\n",
    "    <build_type>ament_cmake</build_type>\n",
    "  </export>\n",
    "</package>\n"
   ]
  },
  {
   "cell_type": "markdown",
   "id": "f5c7201e-b8f7-4f71-84c1-b18d24625380",
   "metadata": {},
   "source": [
    "Lastly we have to build it by running *colcon build* in the workspace directory"
   ]
  },
  {
   "cell_type": "code",
   "execution_count": null,
   "id": "d9b4cff2-0d44-467d-9641-926dddf2f2e0",
   "metadata": {},
   "outputs": [],
   "source": [
    "import subprocess\n",
    "os.chdir(home + '/ros2_ws')\n",
    "reply = subprocess.run(['colcon','build'],capture_output=True)"
   ]
  },
  {
   "cell_type": "code",
   "execution_count": null,
   "id": "b73cca4d-2950-4364-b709-5f0447f7b5fe",
   "metadata": {},
   "outputs": [],
   "source": [
    "reply"
   ]
  },
  {
   "cell_type": "markdown",
   "id": "300c4b18-36c4-4e1b-be9b-34275a807195",
   "metadata": {},
   "source": [
    "Now you have to go to the terminal and run *. install/setup.bash* and you can test it by running *ros2 interface show action_tutorials_interfaces/action/Fibonacci*.  Note that you will need to be on the same ros domain - so run *export ROS_DOMAIN_ID=0* in both terminals as well."
   ]
  },
  {
   "cell_type": "markdown",
   "id": "26bd5747-7905-4b45-a8bd-6518b3979168",
   "metadata": {},
   "source": [
    "#### Server code"
   ]
  },
  {
   "cell_type": "markdown",
   "id": "40ceb883-7443-47ce-b04b-35f17f0ed733",
   "metadata": {},
   "source": [
    "the next step is to write the python code that will define the server.  We first define the server, importing the message type we defined above and defining a callback that returns the result.  "
   ]
  },
  {
   "cell_type": "code",
   "execution_count": null,
   "id": "d158cd46-88bd-4b06-b34f-cdaa55eff96c",
   "metadata": {},
   "outputs": [],
   "source": [
    "%%writefile ~/ros2_ws/fibonacci_action_server.py\n",
    "\n",
    "import rclpy\n",
    "from rclpy.action import ActionServer\n",
    "from rclpy.node import Node\n",
    "\n",
    "from action_tutorials_interfaces.action import Fibonacci\n",
    "\n",
    "class FibonacciActionServer(Node):\n",
    "\n",
    "    def __init__(self):\n",
    "        super().__init__('fibonacci_action_server')\n",
    "        self._action_server = ActionServer(\n",
    "            self,Fibonacci,'fibonacci',self.execute_callback)\n",
    "        print('set up and waiting')\n",
    "\n",
    "    def execute_callback(self, goal_handle):\n",
    "        self.get_logger().info('Executing goal...')\n",
    "\n",
    "        sequence = [0, 1]\n",
    "\n",
    "        for i in range(1, goal_handle.request.order):\n",
    "            sequence.append(sequence[i] + sequence[i-1])\n",
    "\n",
    "        goal_handle.succeed()\n",
    "\n",
    "        result = Fibonacci.Result()\n",
    "        result.sequence = sequence\n",
    "        return result\n",
    "\n",
    "def main(args=None):\n",
    "    rclpy.init(args=args)\n",
    "\n",
    "    fibonacci_action_server = FibonacciActionServer()\n",
    "\n",
    "    rclpy.spin(fibonacci_action_server)\n",
    "\n",
    "\n",
    "if __name__ == '__main__':\n",
    "    main()"
   ]
  },
  {
   "cell_type": "markdown",
   "id": "755ca46d-19a3-44c5-9e52-c2f85e1125e2",
   "metadata": {},
   "source": [
    "#### Client code"
   ]
  },
  {
   "cell_type": "markdown",
   "id": "ed47bcd1-9e13-40fe-a29e-72af15339802",
   "metadata": {},
   "source": [
    "Our next step is to call the server from whithin python and get back the result.  So (similar to all the iRobot calls) we set up a callback on sending out the goal and then on getting the result."
   ]
  },
  {
   "cell_type": "code",
   "execution_count": null,
   "id": "b727809a-774e-40f8-b3f2-9963c4b2c58a",
   "metadata": {},
   "outputs": [],
   "source": [
    "%%writefile ~/ros2_ws/fibonacci_action_client.py\n",
    "\n",
    "import rclpy\n",
    "from rclpy.action import ActionClient\n",
    "from rclpy.node import Node\n",
    "\n",
    "from action_tutorials_interfaces.action import Fibonacci\n",
    "\n",
    "\n",
    "class FibonacciActionClient(Node):\n",
    "\n",
    "    def __init__(self):\n",
    "        super().__init__('fibonacci_action_client')\n",
    "        self._action_client = ActionClient(self, Fibonacci, 'fibonacci')\n",
    "\n",
    "    def send_goal(self, order):\n",
    "        print('sending goal')\n",
    "        goal_msg = Fibonacci.Goal()\n",
    "        goal_msg.order = order\n",
    "\n",
    "        self._action_client.wait_for_server()\n",
    "        print('done waiting')\n",
    "        self._send_goal_future = self._action_client.send_goal_async(goal_msg)\n",
    "\n",
    "        self._send_goal_future.add_done_callback(self.goal_response_callback)\n",
    "\n",
    "    def goal_response_callback(self, future):\n",
    "        \n",
    "        goal_handle = future.result()\n",
    "        if not goal_handle.accepted:\n",
    "            self.get_logger().info('Goal rejected :(')\n",
    "            return\n",
    "\n",
    "        self.get_logger().info('Goal accepted :)')\n",
    "\n",
    "        self._get_result_future = goal_handle.get_result_async()\n",
    "        self._get_result_future.add_done_callback(self.get_result_callback)\n",
    "\n",
    "    def get_result_callback(self, future):\n",
    "        result = future.result().result\n",
    "        self.get_logger().info('Result: {0}'.format(result.sequence))\n",
    "        rclpy.shutdown()\n",
    "\n",
    "\n",
    "def main(args=None):\n",
    "    rclpy.init(args=args)\n",
    "\n",
    "    action_client = FibonacciActionClient()\n",
    "    print('set up')\n",
    "    action_client.send_goal(10)\n",
    "\n",
    "    rclpy.spin(action_client)\n",
    "\n",
    "\n",
    "if __name__ == '__main__':\n",
    "    main()"
   ]
  },
  {
   "cell_type": "markdown",
   "id": "9fba96d6-e917-4746-a55c-4fb1c269ac27",
   "metadata": {},
   "source": [
    "### More advanced server"
   ]
  },
  {
   "cell_type": "markdown",
   "id": "177404b1-b875-4124-b8b4-0d73e5bad0f1",
   "metadata": {},
   "source": [
    "We can also have a server that returns values as it is running - leveraging hte *partial_sequence* feedback parameter.\n"
   ]
  },
  {
   "cell_type": "code",
   "execution_count": null,
   "id": "4323abdb-12cd-4b08-a69c-c56cffaa5b2b",
   "metadata": {},
   "outputs": [],
   "source": [
    "%%writefile ~/ros2_ws/fibonacci_action_server2.py\n",
    "\n",
    "import time\n",
    "\n",
    "import rclpy\n",
    "from rclpy.action import ActionServer\n",
    "from rclpy.node import Node\n",
    "\n",
    "from action_tutorials_interfaces.action import Fibonacci\n",
    "\n",
    "\n",
    "class FibonacciActionServer(Node):\n",
    "\n",
    "    def __init__(self):\n",
    "        super().__init__('fibonacci_action_server')\n",
    "        self._action_server = ActionServer(\n",
    "            self,\n",
    "            Fibonacci,\n",
    "            'fibonacci',\n",
    "            self.execute_callback)\n",
    "\n",
    "    def execute_callback(self, goal_handle):\n",
    "        self.get_logger().info('Executing goal...')\n",
    "\n",
    "        feedback_msg = Fibonacci.Feedback()\n",
    "        feedback_msg.partial_sequence = [0, 1]\n",
    "\n",
    "        for i in range(1, goal_handle.request.order):\n",
    "            feedback_msg.partial_sequence.append(\n",
    "                feedback_msg.partial_sequence[i] + feedback_msg.partial_sequence[i-1])\n",
    "            self.get_logger().info('Feedback: {0}'.format(feedback_msg.partial_sequence))\n",
    "            goal_handle.publish_feedback(feedback_msg)\n",
    "            time.sleep(1)\n",
    "\n",
    "        goal_handle.succeed()\n",
    "\n",
    "        result = Fibonacci.Result()\n",
    "        result.sequence = feedback_msg.partial_sequence\n",
    "        return result\n",
    "\n",
    "\n",
    "def main(args=None):\n",
    "    rclpy.init(args=args)\n",
    "\n",
    "    fibonacci_action_server = FibonacciActionServer()\n",
    "\n",
    "    rclpy.spin(fibonacci_action_server)\n",
    "\n",
    "\n",
    "if __name__ == '__main__':\n",
    "    main()"
   ]
  },
  {
   "cell_type": "markdown",
   "id": "453b104f-fbb0-4a48-aea5-6ba3208d1e86",
   "metadata": {},
   "source": [
    "And then your client code looks like this."
   ]
  },
  {
   "cell_type": "code",
   "execution_count": null,
   "id": "72904366-a6c6-4ada-ad3d-8ea3ff852698",
   "metadata": {},
   "outputs": [],
   "source": [
    "i%%writefile ~/ros2_ws/fibonacci_action_client2.py\n",
    "\n",
    "mport rclpy\n",
    "from rclpy.action import ActionClient\n",
    "from rclpy.node import Node\n",
    "\n",
    "from action_tutorials_interfaces.action import Fibonacci\n",
    "\n",
    "\n",
    "class FibonacciActionClient(Node):\n",
    "\n",
    "    def __init__(self):\n",
    "        super().__init__('fibonacci_action_client')\n",
    "        self._action_client = ActionClient(self, Fibonacci, 'fibonacci')\n",
    "\n",
    "    def send_goal(self, order):\n",
    "        goal_msg = Fibonacci.Goal()\n",
    "        goal_msg.order = order\n",
    "\n",
    "        self._action_client.wait_for_server()\n",
    "\n",
    "        self._send_goal_future = self._action_client.send_goal_async(goal_msg, feedback_callback=self.feedback_callback)\n",
    "\n",
    "        self._send_goal_future.add_done_callback(self.goal_response_callback)\n",
    "\n",
    "    def goal_response_callback(self, future):\n",
    "        goal_handle = future.result()\n",
    "        if not goal_handle.accepted:\n",
    "            self.get_logger().info('Goal rejected :(')\n",
    "            return\n",
    "\n",
    "        self.get_logger().info('Goal accepted :)')\n",
    "\n",
    "        self._get_result_future = goal_handle.get_result_async()\n",
    "        self._get_result_future.add_done_callback(self.get_result_callback)\n",
    "\n",
    "    def get_result_callback(self, future):\n",
    "        result = future.result().result\n",
    "        self.get_logger().info('Result: {0}'.format(result.sequence))\n",
    "        rclpy.shutdown()\n",
    "\n",
    "    def feedback_callback(self, feedback_msg):\n",
    "        feedback = feedback_msg.feedback\n",
    "        self.get_logger().info('Received feedback: {0}'.format(feedback.partial_sequence))\n",
    "\n",
    "\n",
    "def main(args=None):\n",
    "    rclpy.init(args=args)\n",
    "\n",
    "    action_client = FibonacciActionClient()\n",
    "\n",
    "    action_client.send_goal(10)\n",
    "\n",
    "    rclpy.spin(action_client)\n",
    "\n",
    "\n",
    "if __name__ == '__main__':\n",
    "    main()"
   ]
  }
 ],
 "metadata": {
  "kernelspec": {
   "display_name": "Python 3 (ipykernel)",
   "language": "python",
   "name": "python3"
  },
  "language_info": {
   "codemirror_mode": {
    "name": "ipython",
    "version": 3
   },
   "file_extension": ".py",
   "mimetype": "text/x-python",
   "name": "python",
   "nbconvert_exporter": "python",
   "pygments_lexer": "ipython3",
   "version": "3.8.10"
  }
 },
 "nbformat": 4,
 "nbformat_minor": 5
}
