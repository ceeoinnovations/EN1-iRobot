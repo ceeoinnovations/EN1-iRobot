{
 "cells": [
  {
   "cell_type": "markdown",
   "id": "26bd5747-7905-4b45-a8bd-6518b3979168",
   "metadata": {},
   "source": [
    "#### Building an Action Server"
   ]
  },
  {
   "cell_type": "markdown",
   "id": "40ceb883-7443-47ce-b04b-35f17f0ed733",
   "metadata": {},
   "source": [
    "Once you have defined the action ([here](103e-ROS_action_definition.ipynb)) the next step is to write the python code that will define the server.  We first define the server, importing the message type we defined above and defining a callback that returns the result.  "
   ]
  },
  {
   "cell_type": "code",
   "execution_count": null,
   "id": "ac8b5d64-b2b9-4b9d-a064-39448bda77b3",
   "metadata": {},
   "outputs": [],
   "source": [
    "os.chdir(workspace)"
   ]
  },
  {
   "cell_type": "code",
   "execution_count": null,
   "id": "d158cd46-88bd-4b06-b34f-cdaa55eff96c",
   "metadata": {},
   "outputs": [],
   "source": [
    "%%writefile timer_action_server.py\n",
    "\n",
    "import time\n",
    "import rclpy\n",
    "from rclpy.action import ActionServer\n",
    "from rclpy.node import Node\n",
    "\n",
    "from timer.action import Timer\n",
    "\n",
    "class TimerActionServer(Node):\n",
    "\n",
    "    def __init__(self):\n",
    "        super().__init__('timer_action_server')\n",
    "        self._action_server = ActionServer(\n",
    "            self,Timer,'timer',self.execute_callback)\n",
    "        print('set up and waiting')\n",
    "\n",
    "    def execute_callback(self, goal_handle):\n",
    "        self.get_logger().info('Executing goal...')\n",
    "        feedback_msg = Timer.Feedback()\n",
    "        duration = goal_handle.request.duration\n",
    "\n",
    "        start = time.time()\n",
    "        while (time.time()-start) < goal_handle.request.duration:\n",
    "            feedback_msg.sec_left = duration - int(time.time()-start)\n",
    "            self.get_logger().info('Feedback: {0}'.format(feedback_msg.sec_left))\n",
    "            goal_handle.publish_feedback(feedback_msg)\n",
    "            time.sleep(1)\n",
    "\n",
    "        goal_handle.succeed()\n",
    "\n",
    "        result = Timer.Result()\n",
    "        result.done = 0\n",
    "        return result\n",
    "\n",
    "def main(args=None):\n",
    "    rclpy.init(args=args)\n",
    "\n",
    "    timer_action_server = TimerActionServer()\n",
    "\n",
    "    rclpy.spin(timer_action_server)\n",
    "\n",
    "\n",
    "if __name__ == '__main__':\n",
    "    main()"
   ]
  },
  {
   "cell_type": "markdown",
   "id": "1b75a55a-09f9-47be-8618-5ff34c960dae",
   "metadata": {},
   "source": [
    "Now you can run it in the terminal by typing:\n",
    "```bash\n",
    "cd ~/ros2_ws\n",
    "export ROS_DOMAIN_ID=0\n",
    "python3 timer_action_server.py\n",
    "```\n",
    "Then open up a second terminal, and type:\n",
    "```bash\n",
    "cd ~/ros2_ws\n",
    "export ROS_DOMAIN_ID=0\n",
    ". install/setup.bash\n",
    "ros2 action send_goal timer timer/action/Timer \"{duration: 10}\"\n",
    "```"
   ]
  },
  {
   "cell_type": "markdown",
   "id": "7a272763-e4e9-41bf-aef6-37ac50a2f977",
   "metadata": {},
   "source": [
    "For some reason I cannot run this in the notebook"
   ]
  },
  {
   "cell_type": "code",
   "execution_count": null,
   "id": "a421f8af-999f-4ed6-bb51-55846aa825c5",
   "metadata": {},
   "outputs": [],
   "source": [
    "os.chdir(workspace)\n",
    "!. install/setup.bash\n",
    "!export ROS_DOMAIN_ID=0\n",
    "!pwd\n",
    "!ros2 action send_goal timer timer/action/Timer \"{duration: 10}\""
   ]
  },
  {
   "cell_type": "code",
   "execution_count": null,
   "id": "3d55d6ed-d4b3-471e-bc50-57aaee75fcdd",
   "metadata": {},
   "outputs": [],
   "source": []
  }
 ],
 "metadata": {
  "kernelspec": {
   "display_name": "Python 3 (ipykernel)",
   "language": "python",
   "name": "python3"
  },
  "language_info": {
   "codemirror_mode": {
    "name": "ipython",
    "version": 3
   },
   "file_extension": ".py",
   "mimetype": "text/x-python",
   "name": "python",
   "nbconvert_exporter": "python",
   "pygments_lexer": "ipython3",
   "version": "3.8.10"
  }
 },
 "nbformat": 4,
 "nbformat_minor": 5
}
