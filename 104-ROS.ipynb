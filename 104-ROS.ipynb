{
 "cells": [
  {
   "cell_type": "markdown",
   "id": "755369b2-e5bf-429a-a1ae-f482f43a1338",
   "metadata": {},
   "source": [
    "# ROS Help"
   ]
  },
  {
   "cell_type": "markdown",
   "id": "46c2e0d3-51c1-4fe8-8bf1-4fbdd4051f88",
   "metadata": {
    "tags": []
   },
   "source": [
    "For those totally new to ROS and want to learn a lot more, there are a number of great online courses (for instance [this](https://docs.ros.org/en/foxy/Tutorials.html)).  On this page we will go over some of the basic stuff.  ROS is a way of asynchronosly talking "
   ]
  },
  {
   "cell_type": "markdown",
   "id": "970f49dc-5b3c-43fc-b487-6966ba9d8be2",
   "metadata": {},
   "source": []
  }
 ],
 "metadata": {
  "kernelspec": {
   "display_name": "Python 3 (ipykernel)",
   "language": "python",
   "name": "python3"
  },
  "language_info": {
   "codemirror_mode": {
    "name": "ipython",
    "version": 3
   },
   "file_extension": ".py",
   "mimetype": "text/x-python",
   "name": "python",
   "nbconvert_exporter": "python",
   "pygments_lexer": "ipython3",
   "version": "3.8.10"
  }
 },
 "nbformat": 4,
 "nbformat_minor": 5
}
