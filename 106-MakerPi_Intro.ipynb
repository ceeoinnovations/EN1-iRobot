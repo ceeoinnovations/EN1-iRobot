{
 "cells": [
  {
   "cell_type": "markdown",
   "id": "ffdf0811-b8c2-4c6c-9e6e-7a78884b1753",
   "metadata": {},
   "source": [
    "## MakerPi"
   ]
  },
  {
   "cell_type": "markdown",
   "id": "3ade9f01-3803-4080-91e5-7de1ee9ff7b9",
   "metadata": {},
   "source": [
    "This is a board with an RP 2040 at the core.  I great intro to the board and micropython is [here](https://www.coderdojotc.org/micropython/intro/01-about/) and even more info (how to connect etc) [here](https://dmccreary.medium.com/the-cytron-maker-pi-rp2040-robotics-board-b1dc7f0eab34)."
   ]
  },
  {
   "cell_type": "code",
   "execution_count": 1,
   "id": "aa39fa36-e61b-421e-9001-a4ff58a35a6d",
   "metadata": {},
   "outputs": [],
   "source": [
    "import serial"
   ]
  },
  {
   "cell_type": "code",
   "execution_count": null,
   "id": "485a855a-ee86-4b4d-9810-41c5ed639741",
   "metadata": {},
   "outputs": [],
   "source": []
  }
 ],
 "metadata": {
  "kernelspec": {
   "display_name": "Python 3 (ipykernel)",
   "language": "python",
   "name": "python3"
  },
  "language_info": {
   "codemirror_mode": {
    "name": "ipython",
    "version": 3
   },
   "file_extension": ".py",
   "mimetype": "text/x-python",
   "name": "python",
   "nbconvert_exporter": "python",
   "pygments_lexer": "ipython3",
   "version": "3.9.13"
  }
 },
 "nbformat": 4,
 "nbformat_minor": 5
}
