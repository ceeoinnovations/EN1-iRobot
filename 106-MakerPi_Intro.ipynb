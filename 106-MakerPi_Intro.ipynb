{
 "cells": [
  {
   "cell_type": "markdown",
   "id": "ffdf0811-b8c2-4c6c-9e6e-7a78884b1753",
   "metadata": {},
   "source": [
    "## MakerPi"
   ]
  },
  {
   "cell_type": "markdown",
   "id": "3ade9f01-3803-4080-91e5-7de1ee9ff7b9",
   "metadata": {},
   "source": [
    "This is a board with an RP 2040 at the core.  A great intro to the board and micropython is [here](https://www.coderdojotc.org/micropython/intro/01-about/) and even more info (how to connect etc) [here](https://dmccreary.medium.com/the-cytron-maker-pi-rp2040-robotics-board-b1dc7f0eab34).  Unfortunately you will not be able to program this board directly from the ROS server until later.  So for now, copy/paste your code into [here](https://pyrepl.web.app/).  (This UI was developed by Gabe last summer at the CEEO).  First check to make sure the REPL is talking..."
   ]
  },
  {
   "cell_type": "code",
   "execution_count": null,
   "id": "aa39fa36-e61b-421e-9001-a4ff58a35a6d",
   "metadata": {},
   "outputs": [],
   "source": [
    "2+2"
   ]
  },
  {
   "cell_type": "markdown",
   "id": "120cb6ed-ffba-49e8-a888-653876ba46ee",
   "metadata": {},
   "source": [
    "Then see if you can turn on a light"
   ]
  },
  {
   "cell_type": "code",
   "execution_count": null,
   "id": "6e06a73e-e0de-4db0-8990-8510a0863534",
   "metadata": {},
   "outputs": [],
   "source": [
    "import machine\n",
    "import time\n",
    "\n",
    "for i in range(8):\n",
    "    fred = machine.Pin(i, machine.Pin.OUT)\n",
    "    fred.on()\n",
    "    time.sleep(1)\n",
    "    fred.off()"
   ]
  },
  {
   "cell_type": "markdown",
   "id": "e2bb929f-8b6d-497e-a6ad-67a5a678c75c",
   "metadata": {},
   "source": [
    "Or, if you want to play with arrays..."
   ]
  },
  {
   "cell_type": "code",
   "execution_count": null,
   "id": "0bbfa20d-9f4c-48a3-988f-4278e11348d4",
   "metadata": {
    "tags": []
   },
   "outputs": [],
   "source": [
    "import machine\n",
    "import time\n",
    "\n",
    "# 13 blue LEDs\n",
    "led_gpio = [0,1,2,3,4,5,6,7,16,17,26,27,28]\n",
    "ports = []\n",
    "\n",
    "# Make the ports array\n",
    "for led in led_gpio:\n",
    "    ports.append(machine.Pin(led, machine.Pin.OUT))\n",
    "\n",
    "for i in range(len(ports)):\n",
    "    led_ports[i].high()\n",
    "    time.sleep(0.1)\n",
    "    led_ports[i].low()"
   ]
  },
  {
   "cell_type": "markdown",
   "id": "257e3566-d2a9-4939-8d10-2fdafa8c1f24",
   "metadata": {},
   "source": [
    "And then there are nightrider lights"
   ]
  },
  {
   "cell_type": "code",
   "execution_count": null,
   "id": "19901b18-bef6-419e-a48e-656b4932cc8d",
   "metadata": {},
   "outputs": [],
   "source": [
    "import machine\n",
    "import time\n",
    "\n",
    "# 13 blue LEDs\n",
    "led_gpio = [0,1,2,3,4,5,6,7,16,17,26,27,28]\n",
    "ports = []\n",
    "\n",
    "# Make the ports array\n",
    "for led in led_gpio:\n",
    "    ports.append(machine.Pin(led, machine.Pin.OUT))\n",
    "\n",
    "wait=0.2\n",
    "\n",
    "while True:\n",
    "    # move down\n",
    "    for i in range(len(ports)):\n",
    "        ports[i].high()\n",
    "        time.sleep(wait)\n",
    "        ports[i].low()\n",
    "    # move up\n",
    "    for i in range(len(ports) - 1, 0, -1):\n",
    "        ports[i].high()\n",
    "        time.sleep(wait)\n",
    "        ports[i].low()"
   ]
  },
  {
   "cell_type": "markdown",
   "id": "6e0e1749-f455-496f-a31a-589ca6c32998",
   "metadata": {},
   "source": [
    "Can you read the light sensor?  Find the pin you plugged it into and your code should look something like this:"
   ]
  },
  {
   "cell_type": "code",
   "execution_count": null,
   "id": "f6077b69-0bf0-45f5-a33e-5c45d9830116",
   "metadata": {},
   "outputs": [],
   "source": [
    "import machine\n",
    "import time\n",
    "\n",
    "photo_pin = machine.ADC(28)  # port 7\n",
    "\n",
    "while not done:\n",
    "    val = photo_pin.read_u16()\n",
    "    print(val)\n",
    "    time.sleep(.2)"
   ]
  },
  {
   "cell_type": "markdown",
   "id": "991185ce-7680-48c4-b6cd-d4125818ec55",
   "metadata": {},
   "source": [
    "Now try to control a servo motor - this should go back and forth.  Notice that you have 65536 possible values (2^16) spread over a 1 msec duty cycle (from 1 to 2 msec with 1.5 msec being the middle).  This will vary a little from servo to servo - so you migh ahve to calibrate.  Then you set it up to send *pwm* out the port at 50 Hz (20 msec) and just loop through rotating in 1 degree increments."
   ]
  },
  {
   "cell_type": "code",
   "execution_count": null,
   "id": "52c52947-6831-40e3-b60f-9a96e23ceed1",
   "metadata": {},
   "outputs": [],
   "source": [
    "import machine\n",
    "import time\n",
    "\n",
    "#-------initialize things\n",
    "period = 20 #msec\n",
    "frequency = int(1000/period)\n",
    "min = int(65536/period * 1.0)\n",
    "mid = int(1.5 * period)\n",
    "max = int(2.0 * period)\n",
    "\n",
    "pwm = machine.PWM(machine.Pin(15))\n",
    "pwm.freq(frequency)\n",
    "\n",
    "#---------define function\n",
    "def servo(angle=0):\n",
    "    dutycycle = int(((max - min)/180)*angle)+min\n",
    "    pwm.duty_u16(dutycycle)\n",
    "    \n",
    "#----------main code\n",
    "servo(-90)\n",
    "\n",
    "while True:\n",
    "    for angle in range (-90,90,1):\n",
    "        servo(angle)\n",
    "        time.sleep(0.01)\n",
    "    for angle in range (90,-90,-1):\n",
    "        servo(angle)\n",
    "        time.sleep(0.01)\n"
   ]
  },
  {
   "cell_type": "markdown",
   "id": "9f1107f0-d4b3-45aa-a9c2-524ab9828d21",
   "metadata": {},
   "source": [
    "And if you want to add a buzzer, it is on pin 22 (make sure the switch is switched to on next to the buzzer).  Play around with different duty cycles - can you explain the result?"
   ]
  },
  {
   "cell_type": "code",
   "execution_count": null,
   "id": "f410305f-d9c9-4e3b-8a40-efe0814b3da6",
   "metadata": {},
   "outputs": [],
   "source": [
    "def beep(frequency = 440):\n",
    "    buzzer = machine.PWM(machine.Pin(22))\n",
    "    buzzer.freq(frequency)\n",
    "    buzzer.duty_u16(int(65536/2))\n",
    "    time.sleep(0.5)\n",
    "    buzzer.duty_u16(0)"
   ]
  },
  {
   "cell_type": "markdown",
   "id": "841d3cdd-f6b9-40a6-856b-02bc396a877a",
   "metadata": {},
   "source": [
    "Next - lets set up an interrupt (or callback) to stop the loop when the button is pushed.  You could do this also by just always checking the state of the button in the while loop - but then you have to have the button held down when the check happens, this will interrupt the code no matter where it is."
   ]
  },
  {
   "cell_type": "code",
   "execution_count": null,
   "id": "1a68ce3d-03df-4dd6-bb34-19954908c179",
   "metadata": {},
   "outputs": [],
   "source": [
    "from machine import Pin\n",
    "import machine, micropython\n",
    "import time\n",
    "\n",
    "#-------initialize things\n",
    "micropython.alloc_emergency_exception_buf(100) # allows error reporting for callbacks\n",
    "\n",
    "light = [Pin(0, Pin.OUT),Pin(1, Pin.OUT),Pin(2, Pin.OUT)]\n",
    "button1 = machine.Pin(20, machine.Pin.IN, machine.Pin.PULL_DOWN)\n",
    "done = False\n",
    "delay = 1\n",
    "\n",
    "def button1_pressed(change):\n",
    "    global done, delay\n",
    "    print('pushed')\n",
    "    time.sleep(0.1)\n",
    "    done = True  #stop the loop\n",
    "    delay = 0 #hurry up and finish the loop\n",
    "    button1.irq(None) #end the interrupt\n",
    "\n",
    "#---------go\n",
    "button1.irq(handler=button1_pressed, trigger=machine.Pin.IRQ_FALLING)  #start interrupt\n",
    "\n",
    "while not done:\n",
    "    time.sleep(0.01)\n",
    "    for led in light:\n",
    "        led.on()\n",
    "    time.sleep(delay)\n",
    "    for led in light:\n",
    "        led.off()\n",
    "    time.sleep(delay)"
   ]
  }
 ],
 "metadata": {
  "kernelspec": {
   "display_name": "Python 3 (ipykernel)",
   "language": "python",
   "name": "python3"
  },
  "language_info": {
   "codemirror_mode": {
    "name": "ipython",
    "version": 3
   },
   "file_extension": ".py",
   "mimetype": "text/x-python",
   "name": "python",
   "nbconvert_exporter": "python",
   "pygments_lexer": "ipython3",
   "version": "3.9.13"
  }
 },
 "nbformat": 4,
 "nbformat_minor": 5
}
