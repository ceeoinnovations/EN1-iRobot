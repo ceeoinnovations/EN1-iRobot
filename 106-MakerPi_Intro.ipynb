{
 "cells": [
  {
   "cell_type": "markdown",
   "id": "ffdf0811-b8c2-4c6c-9e6e-7a78884b1753",
   "metadata": {},
   "source": [
    "## MakerPi"
   ]
  },
  {
   "cell_type": "markdown",
   "id": "3ade9f01-3803-4080-91e5-7de1ee9ff7b9",
   "metadata": {},
   "source": [
    "This is a board with an RP 2040 at the core.  A great intro to the board and micropython is [here](https://www.coderdojotc.org/micropython/intro/01-about/) and even more info (how to connect etc) [here](https://dmccreary.medium.com/the-cytron-maker-pi-rp2040-robotics-board-b1dc7f0eab34).  Unfortunately you will not be able to program this board directly from the ROS server until later.  So for now, copy/paste your code into [here](https://pyrepl.web.app/).  (This UI was developed by Gabe last summer at the CEEO).  You might need to download firmware - follow these steps if you cannot see your board in Chrome.  \n",
    "\n",
    "1. turn the board off, old down the BOOT button and then turn the board on (connect to the computer) and let go\n",
    "2. look to see that the board showed up as a USB key on your computer\n",
    "3. download the firmware from [here](https://micropython.org/download/rp2-pico/)\n",
    "4. drag the firmware over to the USB Key, it will copy it over and reboot the board\n",
    "5. go to the software - all should work\n",
    "\n",
    "First check to make sure the REPL is talking..."
   ]
  },
  {
   "cell_type": "code",
   "execution_count": null,
   "id": "aa39fa36-e61b-421e-9001-a4ff58a35a6d",
   "metadata": {},
   "outputs": [],
   "source": [
    "2+2"
   ]
  },
  {
   "cell_type": "markdown",
   "id": "d9f8d51b-4853-4f35-9b87-e2383668a598",
   "metadata": {
    "jp-MarkdownHeadingCollapsed": true,
    "tags": []
   },
   "source": [
    "## Turning on an LED"
   ]
  },
  {
   "cell_type": "markdown",
   "id": "120cb6ed-ffba-49e8-a888-653876ba46ee",
   "metadata": {},
   "source": [
    "To turn on a light, we need to tell the processor which pin to toggle - we can set up the pins from a library called machine.  Set it up to be an output (send voltage out rather than receive it)"
   ]
  },
  {
   "cell_type": "code",
   "execution_count": null,
   "id": "6e06a73e-e0de-4db0-8990-8510a0863534",
   "metadata": {},
   "outputs": [],
   "source": [
    "import machine\n",
    "import time\n",
    "\n",
    "fred = machine.Pin(0, machine.Pin.OUT)\n",
    "fred.on()\n",
    "time.sleep(1)\n",
    "fred.off()"
   ]
  },
  {
   "cell_type": "markdown",
   "id": "0e1bc28c-468a-4dc5-b07a-0fdae55be7b8",
   "metadata": {},
   "source": [
    "Can you edit the code above to run through the first 8 lights?  A python for loop looks like:"
   ]
  },
  {
   "cell_type": "code",
   "execution_count": null,
   "id": "4cd992e2-d39e-4ccd-ac47-7b4bf5f83566",
   "metadata": {},
   "outputs": [],
   "source": [
    "for i in range(8):\n",
    "    print(i)"
   ]
  },
  {
   "cell_type": "markdown",
   "id": "e2bb929f-8b6d-497e-a6ad-67a5a678c75c",
   "metadata": {},
   "source": [
    "Or, if you want to play with arrays, you can do it like this... pins on microprocessors are usually called GPIO pins (general purpose input/output pins)."
   ]
  },
  {
   "cell_type": "code",
   "execution_count": null,
   "id": "0bbfa20d-9f4c-48a3-988f-4278e11348d4",
   "metadata": {
    "tags": []
   },
   "outputs": [],
   "source": [
    "import machine\n",
    "import time\n",
    "\n",
    "# 13 blue LEDs\n",
    "led_gpio = [0,1,2,3,4,5,6,7,16,17,26,27,28]\n",
    "ports = []\n",
    "\n",
    "# Make the ports array\n",
    "for led in led_gpio:\n",
    "    ports.append(machine.Pin(led, machine.Pin.OUT))\n",
    "\n",
    "for i in range(len(ports)):\n",
    "    led_ports[i].high()\n",
    "    time.sleep(0.1)\n",
    "    led_ports[i].low()"
   ]
  },
  {
   "cell_type": "markdown",
   "id": "257e3566-d2a9-4939-8d10-2fdafa8c1f24",
   "metadata": {},
   "source": [
    "And then there are nightrider lights - can you figure this code out?  Try changing the speed and order of the lights."
   ]
  },
  {
   "cell_type": "code",
   "execution_count": null,
   "id": "19901b18-bef6-419e-a48e-656b4932cc8d",
   "metadata": {},
   "outputs": [],
   "source": [
    "import machine\n",
    "import time\n",
    "\n",
    "# 13 blue LEDs\n",
    "led_gpio = [0,1,2,3,4,5,6,7,16,17,26,27,28]\n",
    "ports = []\n",
    "\n",
    "# Make the ports array\n",
    "for led in led_gpio:\n",
    "    ports.append(machine.Pin(led, machine.Pin.OUT))\n",
    "\n",
    "wait=0.2\n",
    "\n",
    "while True:\n",
    "    # move down\n",
    "    for i in range(len(ports)):\n",
    "        ports[i].high()\n",
    "        time.sleep(wait)\n",
    "        ports[i].low()\n",
    "    # move up\n",
    "    for i in range(len(ports) - 1, 0, -1):\n",
    "        ports[i].high()\n",
    "        time.sleep(wait)\n",
    "        ports[i].low()"
   ]
  },
  {
   "cell_type": "markdown",
   "id": "00b3bdd8-f3c5-4fdd-833a-17887e884297",
   "metadata": {
    "jp-MarkdownHeadingCollapsed": true,
    "tags": []
   },
   "source": [
    "## Reading the light sensor"
   ]
  },
  {
   "cell_type": "markdown",
   "id": "6e0e1749-f455-496f-a31a-589ca6c32998",
   "metadata": {},
   "source": [
    "First, find the pin you plugged the light sensor into and then setup the pins.  You will use an *analog to digital converter* to convert the voltage into a number.  Use the link at the top of the page to figure out which pin is which (or look at the board).  Notice it is reading the voltage as an unsigned 16 bit integer - or values from 0 to 65535 (which is $2^{16}$)"
   ]
  },
  {
   "cell_type": "code",
   "execution_count": null,
   "id": "f6077b69-0bf0-45f5-a33e-5c45d9830116",
   "metadata": {},
   "outputs": [],
   "source": [
    "import machine\n",
    "import time\n",
    "\n",
    "photo_pin = machine.ADC(28)  # port 7\n",
    "\n",
    "while not done:\n",
    "    val = photo_pin.read_u16()\n",
    "    print(val)\n",
    "    time.sleep(.2)"
   ]
  },
  {
   "cell_type": "markdown",
   "id": "fd1a469a-5dd4-400e-a70b-53a9e733eb81",
   "metadata": {
    "jp-MarkdownHeadingCollapsed": true,
    "tags": []
   },
   "source": [
    "## Controlling a servo motor"
   ]
  },
  {
   "cell_type": "markdown",
   "id": "991185ce-7680-48c4-b6cd-d4125818ec55",
   "metadata": {},
   "source": [
    "Now try to make a servo motor rock back and forth.  Notice that you have 65536 possible values ($2^{16}$) spread over a 1 msec duty cycle (from 1 to 2 msec with 1.5 msec being the middle).  This will vary a little from servo to servo - so you might have to calibrate.  Then you set it up to send *pwm* out the port at 50 Hz (20 msec) and just loop through rotating in 1 degree increments."
   ]
  },
  {
   "cell_type": "code",
   "execution_count": null,
   "id": "52c52947-6831-40e3-b60f-9a96e23ceed1",
   "metadata": {},
   "outputs": [],
   "source": [
    "import machine\n",
    "import time\n",
    "\n",
    "#-------initialize things\n",
    "period = 20 #msec\n",
    "frequency = int(1000/period)\n",
    "min = int(65536/period * 1.0)\n",
    "mid = int(1.5 * period)\n",
    "max = int(2.0 * period)\n",
    "\n",
    "pwm = machine.PWM(machine.Pin(15))\n",
    "pwm.freq(frequency)\n",
    "\n",
    "#---------define function\n",
    "def servo(angle=0):\n",
    "    dutycycle = int(((max - min)/180)*angle)+min\n",
    "    pwm.duty_u16(dutycycle)\n",
    "    \n",
    "#----------main code\n",
    "servo(-90)\n",
    "\n",
    "while True:\n",
    "    for angle in range (-90,90,1):\n",
    "        servo(angle)\n",
    "        time.sleep(0.01)\n",
    "    for angle in range (90,-90,-1):\n",
    "        servo(angle)\n",
    "        time.sleep(0.01)\n"
   ]
  },
  {
   "cell_type": "markdown",
   "id": "603e7424-d617-4957-88bf-5dbadbfb8d49",
   "metadata": {
    "jp-MarkdownHeadingCollapsed": true,
    "tags": []
   },
   "source": [
    "## Adding sound"
   ]
  },
  {
   "cell_type": "markdown",
   "id": "9f1107f0-d4b3-45aa-a9c2-524ab9828d21",
   "metadata": {},
   "source": [
    "And if you want to add a buzzer, it is on pin 22 (make sure the switch is switched to on next to the buzzer).  Play around with different duty cycles - can you explain the result?"
   ]
  },
  {
   "cell_type": "code",
   "execution_count": null,
   "id": "37dd815d-d7fa-4f39-9772-44343013d445",
   "metadata": {},
   "outputs": [],
   "source": [
    "buzzer = machine.PWM(machine.Pin(22))\n",
    "buzzer.freq(440)\n",
    "buzzer.duty_u16(int(65536/2))"
   ]
  },
  {
   "cell_type": "markdown",
   "id": "464730de-5e9d-4686-93e0-cb73bd0a4765",
   "metadata": {},
   "source": [
    "or make it a function that you can call"
   ]
  },
  {
   "cell_type": "code",
   "execution_count": null,
   "id": "f410305f-d9c9-4e3b-8a40-efe0814b3da6",
   "metadata": {},
   "outputs": [],
   "source": [
    "def beep(frequency = 440):\n",
    "    buzzer = machine.PWM(machine.Pin(22))\n",
    "    buzzer.freq(frequency)\n",
    "    buzzer.duty_u16(int(65536/2))\n",
    "    time.sleep(0.5)\n",
    "    buzzer.duty_u16(0)"
   ]
  },
  {
   "cell_type": "markdown",
   "id": "9d511d4c-7c6b-4a8a-a826-f8d9e512472e",
   "metadata": {},
   "source": [
    "and try calling it"
   ]
  },
  {
   "cell_type": "code",
   "execution_count": null,
   "id": "6cbd3ef4-ebb5-45dd-942a-561b9f8b506a",
   "metadata": {},
   "outputs": [],
   "source": [
    "beep(880)"
   ]
  },
  {
   "cell_type": "markdown",
   "id": "606676dc-a169-48d7-9e71-97afc0636ff9",
   "metadata": {
    "jp-MarkdownHeadingCollapsed": true,
    "tags": []
   },
   "source": [
    "## Interrupts (callbacks)"
   ]
  },
  {
   "cell_type": "markdown",
   "id": "841d3cdd-f6b9-40a6-856b-02bc396a877a",
   "metadata": {},
   "source": [
    "Next - lets set up an interrupt (or callback) to stop the loop when the button is pushed.  You could do this also by just always checking the state of the button in the while loop - but then you have to have the button held down when the check happens, this will interrupt the code no matter where it is."
   ]
  },
  {
   "cell_type": "code",
   "execution_count": null,
   "id": "1a68ce3d-03df-4dd6-bb34-19954908c179",
   "metadata": {},
   "outputs": [],
   "source": [
    "from machine import Pin\n",
    "import micropython\n",
    "import time\n",
    "\n",
    "#-------initialize things\n",
    "micropython.alloc_emergency_exception_buf(100) # allows error reporting for callbacks\n",
    "\n",
    "light = [Pin(0, Pin.OUT),Pin(1, Pin.OUT),Pin(2, Pin.OUT)]\n",
    "button1 = Pin(20, Pin.IN, Pin.PULL_DOWN)\n",
    "done = False\n",
    "delay = 1\n",
    "\n",
    "def button1_pressed(change):\n",
    "    global done, delay\n",
    "    print('pushed')\n",
    "    time.sleep(0.1)\n",
    "    done = True  #stop the loop\n",
    "    delay = 0 #hurry up and finish the loop\n",
    "    button1.irq(None) #end the interrupt\n",
    "\n",
    "#---------go\n",
    "button1.irq(handler=button1_pressed, trigger=Pin.IRQ_FALLING)  #start interrupt\n",
    "\n",
    "while not done:\n",
    "    time.sleep(0.01)\n",
    "    for led in light:\n",
    "        led.on()\n",
    "    time.sleep(delay)\n",
    "    for led in light:\n",
    "        led.off()\n",
    "    time.sleep(delay)"
   ]
  },
  {
   "cell_type": "markdown",
   "id": "0c02ad6a-8301-4c22-a7c6-eb5586ff360a",
   "metadata": {},
   "source": [
    "## Putting it all together"
   ]
  },
  {
   "cell_type": "markdown",
   "id": "a84d6821-d5a1-49de-84e2-8d2cfc0a73ee",
   "metadata": {},
   "source": [
    "Try to rewrite your code that would kick the soccer ball - only this time beep when you see a light change as well as kick"
   ]
  },
  {
   "cell_type": "code",
   "execution_count": null,
   "id": "5fc83981-9868-43b0-b18a-501edace490f",
   "metadata": {},
   "outputs": [],
   "source": []
  },
  {
   "cell_type": "markdown",
   "id": "56fd9024-a296-46fa-a4c3-2f074efd9273",
   "metadata": {
    "jp-MarkdownHeadingCollapsed": true,
    "tags": []
   },
   "source": [
    "## Making a class"
   ]
  },
  {
   "cell_type": "markdown",
   "id": "526ae27b-0d05-44fe-93c3-79e827afe6cd",
   "metadata": {},
   "source": [
    "Instead of having different functions, lets combine them all into a class and then call the different class methods.  Here is the start - see if you can add the rest..."
   ]
  },
  {
   "cell_type": "code",
   "execution_count": null,
   "id": "ec7c448c-526d-40d8-a03d-290afccc417f",
   "metadata": {},
   "outputs": [],
   "source": [
    "import machine, time\n",
    "from machine import Pin\n",
    "\n",
    "class MakerPi():\n",
    "    def __init__(self,adc = 28, pwm = 15):\n",
    "        self.photo_pin = machine.ADC(adc)  # port 7\n",
    "        \n",
    "        period = 20 #msec\n",
    "        frequency = int(1000/period)\n",
    "        self.min = int(65536/period * 1.0)\n",
    "        self.mid = int(1.5 * period)\n",
    "        self.max = int(2.0 * period)\n",
    "\n",
    "        self.pwm = machine.PWM(machine.Pin(pwm))\n",
    "        self.pwm.freq(frequency)\n",
    "        \n",
    "    def brightness(self):\n",
    "        return self.photo_pin.read_u16()\n",
    "    \n",
    "    def servo(self, angle=0):\n",
    "        dutycycle = int(((self.max - self.min)/180)*angle)+self.min\n",
    "        self.pwm.duty_u16(dutycycle)\n"
   ]
  },
  {
   "cell_type": "markdown",
   "id": "d8fade83-180f-4e25-b0c4-c2a5c5778f0a",
   "metadata": {},
   "source": [
    "And then call the class instance"
   ]
  },
  {
   "cell_type": "code",
   "execution_count": null,
   "id": "c598e4c2-3e09-4302-9ea3-e8a2bb642fbb",
   "metadata": {},
   "outputs": [],
   "source": [
    "fred = MakerPi(pwm = 15)\n",
    "print(fred.brightness())\n",
    "fred.servo(90)"
   ]
  },
  {
   "cell_type": "markdown",
   "id": "02d33650-1bf9-4c37-a0ba-945393323af4",
   "metadata": {
    "jp-MarkdownHeadingCollapsed": true,
    "tags": []
   },
   "source": [
    "## Adding the Neopixel"
   ]
  },
  {
   "cell_type": "markdown",
   "id": "a6fa6206-fe54-4b8a-9e36-fc9008e21c9d",
   "metadata": {},
   "source": [
    "You can also add the neopixel control to your class"
   ]
  },
  {
   "cell_type": "code",
   "execution_count": null,
   "id": "055ecc08-8567-4cb2-953c-ecfce61c1446",
   "metadata": {},
   "outputs": [],
   "source": [
    "from machine import Pin\n",
    "from neopixel import NeoPixel\n",
    "import time\n",
    "\n",
    "NUMBER_PIXELS = 2\n",
    "LED_PIN = 18\n",
    "strip = NeoPixel(Pin(LED_PIN), NUMBER_PIXELS)\n",
    "\n",
    "for i in range(64):\n",
    "    strip[0] = (i,0,0)   # brightness of  (R, G, B)\n",
    "    strip[1] = (0,i,0)\n",
    "    strip.write()\n",
    "    time.sleep(0.01)\n",
    "strip[0] = (0,0,0)\n",
    "strip[1] = (0,0,0)\n",
    "strip.write()"
   ]
  },
  {
   "cell_type": "markdown",
   "id": "566c2ce7-836f-4ebe-af2b-5e794570f41f",
   "metadata": {},
   "source": [
    "And everything together"
   ]
  },
  {
   "cell_type": "markdown",
   "id": "5dea1a65-4afe-463f-a1a1-d6f3b65f7560",
   "metadata": {
    "jp-MarkdownHeadingCollapsed": true,
    "tags": []
   },
   "source": [
    "## A solution"
   ]
  },
  {
   "cell_type": "code",
   "execution_count": null,
   "id": "cb9284cf-5edc-460c-b1ba-ccb7eec187da",
   "metadata": {
    "tags": []
   },
   "outputs": [],
   "source": [
    "import machine, time\n",
    "from machine import Pin\n",
    "from neopixel import NeoPixel\n",
    "import micropython\n",
    "\n",
    "micropython.alloc_emergency_exception_buf(100) # allows error reporting for callbacks\n",
    "\n",
    "class MakerPi():\n",
    "    def __init__(self,adc = 28, pwm = 15, buzzer = 22, btn = 20):\n",
    "        self.delay = 1\n",
    "        self.done = False\n",
    "        self.photo_pin = machine.ADC(adc)  # port 7\n",
    "        \n",
    "        period = 20 #msec\n",
    "        frequency = int(1000/period)\n",
    "        self.min = int(65536/period * 1.0)\n",
    "        self.mid = int(1.5 * period)\n",
    "        self.max = int(2.0 * period)\n",
    "\n",
    "        self.pwm = machine.PWM(Pin(pwm))\n",
    "        self.pwm.freq(frequency)\n",
    "        \n",
    "        self.buzzer_pwm = machine.PWM(Pin(buzzer))\n",
    "        \n",
    "        self.strip = NeoPixel(Pin(18), 2)\n",
    "\n",
    "        self.button1 = Pin(btn, Pin.IN, Pin.PULL_DOWN)\n",
    "        self.button1.irq(handler=self.button1_pressed, trigger=Pin.IRQ_FALLING)  #start interrupt\n",
    "\n",
    "    def brightness(self):\n",
    "        return self.photo_pin.read_u16()\n",
    "    \n",
    "    def servo(self, angle=0):\n",
    "        dutycycle = int(((self.max - self.min)/180)*angle)+self.min\n",
    "        self.pwm.duty_u16(dutycycle)\n",
    "        \n",
    "    def buzzer(self, frequency=400):\n",
    "        if frequency == 0:\n",
    "            self.buzzer_pwm.duty_u16(0)\n",
    "        else:\n",
    "            self.buzzer_pwm.freq(frequency)\n",
    "            self.buzzer_pwm.duty_u16(int(65536/2))\n",
    "            \n",
    "    def Neopixel(self,neo0=(64,0,0),neo1=(0,64,0)):\n",
    "        self.strip[0] = neo0\n",
    "        self.strip[1] = neo1\n",
    "        self.strip.write()\n",
    "\n",
    "    def button1_pressed(self,change):\n",
    "        print('pushed')\n",
    "        time.sleep(0.1)\n",
    "        self.done = True  #stop the loop\n",
    "        self.delay = 0 #hurry up and finish the loop\n",
    "        self.buzzer(0)\n",
    "        self.Neopixel((0,0,0),(0,0,0))\n",
    "        self.button1.irq(None) #end the interrupt\n",
    "\n",
    "#---------go\n",
    "light = [Pin(0, Pin.OUT),Pin(1, Pin.OUT),Pin(2, Pin.OUT)]\n",
    "done = False\n",
    "delay = 1\n",
    "\n",
    "fred = MakerPi()\n",
    "fred.buzzer(400)\n",
    "time.sleep(1)\n",
    "fred.buzzer(0)\n",
    "fred.Neopixel((0,64,0),(0,0,64))\n",
    "\n",
    "while not fred.done:\n",
    "    time.sleep(0.01)\n",
    "    for led in light:\n",
    "        led.on()\n",
    "    time.sleep(fred.delay)\n",
    "    for led in light:\n",
    "        led.off()\n",
    "    time.sleep(fred.delay)"
   ]
  },
  {
   "cell_type": "markdown",
   "id": "7b1630a6-3c5c-4679-a270-b7f130882b8b",
   "metadata": {},
   "source": [
    "## Saving as main.py"
   ]
  },
  {
   "cell_type": "markdown",
   "id": "99227863-7ce4-4e08-9005-17900eccfaee",
   "metadata": {},
   "source": [
    "So on eattribute of the MakerPi is that whatever you save on the board as main.py will be automatically run at startup.  Try it out - you can save your file to the board by connecting up on Gabe's webpage and then clicking on the three dots (more) and selecting \"Upload to device\" and naming it main.py (you can save it as anything but only main.py will run at startup)."
   ]
  },
  {
   "cell_type": "markdown",
   "id": "cf3aa128-8683-433d-b02a-0275a541ac35",
   "metadata": {},
   "source": [
    "## Building your own library"
   ]
  },
  {
   "cell_type": "markdown",
   "id": "3562aa35-1398-4673-aba5-20c62144975c",
   "metadata": {},
   "source": [
    "You can also save an entire set of functions and classes as a library that you then can call from your program.  This can be useful if you want to avoid saving the same thing all the time.  Try saving the program below as MakerPi.py. (Make sure to add the extension *.py*)"
   ]
  },
  {
   "cell_type": "code",
   "execution_count": null,
   "id": "209572a6-0dca-44f4-bc72-162686de399d",
   "metadata": {},
   "outputs": [],
   "source": [
    "import machine, time\n",
    "from machine import Pin\n",
    "from neopixel import NeoPixel\n",
    "import micropython\n",
    "\n",
    "micropython.alloc_emergency_exception_buf(100) # allows error reporting for callbacks\n",
    "\n",
    "class MakerPi():\n",
    "    def __init__(self,adc = 28, pwm = 15, buzzer = 22, btn = 20):\n",
    "        self.delay = 1\n",
    "        self.done = False\n",
    "        self.photo_pin = machine.ADC(adc)  # port 7\n",
    "        \n",
    "        period = 20 #msec\n",
    "        frequency = int(1000/period)\n",
    "        self.min = int(65536/period * 1.0)\n",
    "        self.mid = int(1.5 * period)\n",
    "        self.max = int(2.0 * period)\n",
    "\n",
    "        self.pwm = machine.PWM(Pin(pwm))\n",
    "        self.pwm.freq(frequency)\n",
    "        \n",
    "        self.buzzer_pwm = machine.PWM(Pin(buzzer))\n",
    "        \n",
    "        self.strip = NeoPixel(Pin(18), 2)\n",
    "\n",
    "        self.button1 = Pin(btn, Pin.IN, Pin.PULL_DOWN)\n",
    "        self.button1.irq(handler=self.button1_pressed, trigger=Pin.IRQ_FALLING)  #start interrupt\n",
    "\n",
    "    def brightness(self):\n",
    "        return self.photo_pin.read_u16()\n",
    "    \n",
    "    def servo(self, angle=0):\n",
    "        dutycycle = int(((self.max - self.min)/180)*angle)+self.min\n",
    "        self.pwm.duty_u16(dutycycle)\n",
    "        \n",
    "    def buzzer(self, frequency=400):\n",
    "        if frequency == 0:\n",
    "            self.buzzer_pwm.duty_u16(0)\n",
    "        else:\n",
    "            self.buzzer_pwm.freq(frequency)\n",
    "            self.buzzer_pwm.duty_u16(int(65536/2))\n",
    "            \n",
    "    def Neopixel(self,neo0=(64,0,0),neo1=(0,64,0)):\n",
    "        self.strip[0] = neo0\n",
    "        self.strip[1] = neo1\n",
    "        self.strip.write()\n",
    "\n",
    "    def button1_pressed(self,change):\n",
    "        print('pushed')\n",
    "        time.sleep(0.1)\n",
    "        self.done = True  #stop the loop\n",
    "        self.delay = 0 #hurry up and finish the loop\n",
    "        self.buzzer(0)\n",
    "        self.Neopixel((0,0,0),(0,0,0))\n",
    "        self.button1.irq(None) #end the interrupt"
   ]
  },
  {
   "cell_type": "markdown",
   "id": "e6d922a4-f232-46f8-86d8-1ce40b697d08",
   "metadata": {},
   "source": [
    "and then calling that library in your new code. Note that you can import it in many different ways - try them out\n",
    "```python\n",
    "import MakerPi\n",
    "fred = MakerPi.MakerPi()\n",
    "```\n",
    "or\n",
    "```python\n",
    "from MakerPi import MakerPi\n",
    "fred = MakerPi()\n",
    "```\n",
    "or\n",
    "```python\n",
    "from MakerPi import MakerPi as Make\n",
    "fred = Make()\n",
    "```"
   ]
  },
  {
   "cell_type": "code",
   "execution_count": null,
   "id": "7a5dd1d0-9aa1-4407-b568-9c4314dfc9fc",
   "metadata": {},
   "outputs": [],
   "source": [
    "from MakerPi import MakerPi\n",
    "\n",
    "light = [Pin(0, Pin.OUT),Pin(1, Pin.OUT),Pin(2, Pin.OUT)]\n",
    "done = False\n",
    "delay = 1\n",
    "\n",
    "fred = MakerPi()\n",
    "fred.buzzer(400)\n",
    "time.sleep(1)\n",
    "fred.buzzer(0)\n",
    "fred.Neopixel((0,64,0),(0,0,64))\n",
    "\n",
    "while not fred.done:\n",
    "    time.sleep(0.01)\n",
    "    for led in light:\n",
    "        led.on()\n",
    "    time.sleep(fred.delay)\n",
    "    for led in light:\n",
    "        led.off()\n",
    "    time.sleep(fred.delay)"
   ]
  },
  {
   "cell_type": "markdown",
   "id": "48323572-2a7a-47ce-8386-2e7791e5fd19",
   "metadata": {},
   "source": [
    "Or if you want to run the library from your ROS code"
   ]
  },
  {
   "cell_type": "code",
   "execution_count": null,
   "id": "fdc6d47b-bca3-41a3-bf49-837b7237555a",
   "metadata": {},
   "outputs": [],
   "source": [
    "from Subs.CreateLib import Create\n",
    "import time\n",
    "\n",
    "CREATE_IP = \"192.168.86.20\"\n",
    "CREATE_PORT = 5051\n",
    "\n",
    "code = '''\n",
    "from MakerPi import MakerPi\n",
    "\n",
    "fred = MakerPi()\n",
    "fred.buzzer(400)\n",
    "'''\n",
    "\n",
    "def main():\n",
    "    MyCreate = Create('/rogers')\n",
    "    MyCreate.serial_init(CREATE_IP, CREATE_PORT, 1)\n",
    "    MyCreate.serial_abort() # stop any program that is running\n",
    "    MyCreate.serial_run(code)    # download and run a code\n",
    "    MyCreate.serial_close()\n",
    "    MyCreate.close()\n",
    "    print('done')\n",
    "        \n",
    "main()"
   ]
  },
  {
   "cell_type": "code",
   "execution_count": null,
   "id": "3e90eabc-bcb4-4d47-959d-313892c12c39",
   "metadata": {},
   "outputs": [],
   "source": []
  }
 ],
 "metadata": {
  "kernelspec": {
   "display_name": "Python 3 (ipykernel)",
   "language": "python",
   "name": "python3"
  },
  "language_info": {
   "codemirror_mode": {
    "name": "ipython",
    "version": 3
   },
   "file_extension": ".py",
   "mimetype": "text/x-python",
   "name": "python",
   "nbconvert_exporter": "python",
   "pygments_lexer": "ipython3",
   "version": "3.9.13"
  }
 },
 "nbformat": 4,
 "nbformat_minor": 5
}
