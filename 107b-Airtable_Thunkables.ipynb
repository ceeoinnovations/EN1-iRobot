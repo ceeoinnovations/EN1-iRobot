{
 "cells": [
  {
   "cell_type": "markdown",
   "id": "ffdf0811-b8c2-4c6c-9e6e-7a78884b1753",
   "metadata": {},
   "source": [
    "## Airtable Thunkables"
   ]
  },
  {
   "cell_type": "markdown",
   "id": "3ade9f01-3803-4080-91e5-7de1ee9ff7b9",
   "metadata": {},
   "source": [
    "[Airtable](https://airtable.com) can also be accessed by Thunkables.  First go [here](https://thunkable.com) to make an account.  Then see if you can use [this page](https://docs.thunkable.com/web-api) to build the following python code in blocks.  If you are not sure how objects work, [this](https://docs.thunkable.com/objects) page helps a bit (and I found [this](https://community.thunkable.com/t/json-object-tutorial/1085666/4) one and t[this one](https://community.thunkable.com/t/weather-forecast/1646239/8) useful as well).  Lets start again wiht our python code."
   ]
  },
  {
   "cell_type": "code",
   "execution_count": null,
   "id": "aa39fa36-e61b-421e-9001-a4ff58a35a6d",
   "metadata": {},
   "outputs": [],
   "source": [
    "import requests\n",
    "r = requests.get('https://api.chucknorris.io/jokes/random')\n",
    "r.json()['value']"
   ]
  },
  {
   "cell_type": "markdown",
   "id": "d35193b9-7a2e-45d4-aab0-d06a4f18b644",
   "metadata": {},
   "source": [
    "In block language it would look something like this"
   ]
  },
  {
   "cell_type": "markdown",
   "id": "38c268b6-29b9-40bc-a4bc-207d0fab877c",
   "metadata": {},
   "source": [
    "<img src=\"Images/Chuck.jpg\" alt=\"Chuck's code\" />"
   ]
  },
  {
   "cell_type": "markdown",
   "id": "ad055e16-192e-43e1-8452-53419610278c",
   "metadata": {},
   "source": [
    "Try first throwing the entire respose to the Label1 and see if you can pull out something else like the time.  It will pay off to get good at messing with JSON."
   ]
  },
  {
   "cell_type": "markdown",
   "id": "b43d5a54-9205-4549-956b-e2409c33dcf8",
   "metadata": {},
   "source": [
    "## Reading from Airtable"
   ]
  },
  {
   "cell_type": "markdown",
   "id": "eafbc85d-68db-4d4c-b659-ddd471abbeca",
   "metadata": {},
   "source": [
    "Before we had something like this:"
   ]
  },
  {
   "cell_type": "code",
   "execution_count": null,
   "id": "5d09cb54-94c0-4012-bf8c-3d7e5960ea1f",
   "metadata": {},
   "outputs": [],
   "source": [
    "APIKey = ''\n",
    "BaseID = ''\n",
    "RecID_X = ''\n",
    "RecID_Y = ''\n",
    "RecID_Theta = ''\n",
    "tableName = 'Buzz'"
   ]
  },
  {
   "cell_type": "markdown",
   "id": "eec8301c-faef-487c-8074-c01793a47b35",
   "metadata": {},
   "source": [
    "now it might look like this <img src=\"Images/variables.jpg\" alt=\"Chuck's code\" />"
   ]
  },
  {
   "cell_type": "code",
   "execution_count": null,
   "id": "2b44f96c-03a5-4dab-ae7d-03ec2dcfd7dd",
   "metadata": {},
   "outputs": [],
   "source": [
    "URL = 'https://api.airtable.com/v0/' + BaseID + '/' + tableName + '?api_key=' + APIKey\n",
    "try:\n",
    "    r = requests.get(url = URL, params = {})\n",
    "    data = r.json()\n",
    "    print(data)\n",
    "except:\n",
    "    print('failed')"
   ]
  },
  {
   "cell_type": "markdown",
   "id": "9f86b7e2-b4fb-494e-a410-23cf4537eb99",
   "metadata": {},
   "source": [
    "now might look more like this <img src=\"Images/ExampleRead.jpg\" alt=\"AirtableRead code\" />"
   ]
  },
  {
   "cell_type": "markdown",
   "id": "13426e20-8ac2-43a9-86af-5ac04e5c8995",
   "metadata": {},
   "source": [
    "And finally you need to pull out the different fields from JSON"
   ]
  },
  {
   "cell_type": "markdown",
   "id": "b6896ee4-bec9-4c06-969b-5fbe5cf16f3e",
   "metadata": {},
   "source": [
    "## Writing to Airtable"
   ]
  },
  {
   "cell_type": "markdown",
   "id": "94c8fa7a-7690-453c-8b6f-0fbad03627c8",
   "metadata": {},
   "source": [
    "I leave this one up to you all to figure out."
   ]
  },
  {
   "cell_type": "code",
   "execution_count": null,
   "id": "bf8b4e8d-7790-4187-bc88-9b3b7201d9a0",
   "metadata": {},
   "outputs": [],
   "source": []
  }
 ],
 "metadata": {
  "kernelspec": {
   "display_name": "Python 3 (ipykernel)",
   "language": "python",
   "name": "python3"
  },
  "language_info": {
   "codemirror_mode": {
    "name": "ipython",
    "version": 3
   },
   "file_extension": ".py",
   "mimetype": "text/x-python",
   "name": "python",
   "nbconvert_exporter": "python",
   "pygments_lexer": "ipython3",
   "version": "3.9.13"
  }
 },
 "nbformat": 4,
 "nbformat_minor": 5
}
