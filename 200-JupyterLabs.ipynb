{
 "cells": [
  {
   "cell_type": "markdown",
   "id": "4003dd69-b150-4e8e-a752-4bc734a93c36",
   "metadata": {},
   "source": [
    "# JupyterLabs"
   ]
  },
  {
   "cell_type": "markdown",
   "id": "2e0c6387-94ea-4a14-8378-c97fb2544316",
   "metadata": {
    "tags": []
   },
   "source": [
    "<h2>General Overview</h2>"
   ]
  },
  {
   "cell_type": "markdown",
   "id": "731a2afc-2ce3-4f67-af28-97d4e5047df2",
   "metadata": {
    "tags": []
   },
   "source": [
    "JupyterLabs is based on Jupyter Notebooks - and there are a lot of help pages out on the internet.  I recommend links to Stackoverflow pages or w3Schools.  I have pulled some of my favorite things below. For a nice example of what you can do, check out [this](https://jupyterlab.readthedocs.io/en/stable/user/interface.html)"
   ]
  },
  {
   "cell_type": "markdown",
   "id": "7c326f0b-2170-460d-969b-4ba459139c76",
   "metadata": {},
   "source": [
    "<h2>Working in a terminal</h2>"
   ]
  },
  {
   "cell_type": "markdown",
   "id": "61842045-e111-4ccb-80f4-b3ee4c7e2cd9",
   "metadata": {
    "tags": []
   },
   "source": [
    "There are a lot of times that you need to run stuff in a terminal - there are two different ways to do that.  You can always open a terminal in JupyterLabs by hitting the blue + sign and then choosing terminal.  I prefer using the ! sign.  Try the command below - it will show you the path to this notebook (because you are running the terminal from wherever you were when you opened JupyterLabs originally):"
   ]
  },
  {
   "cell_type": "code",
   "execution_count": null,
   "id": "23925241-8680-4318-903c-e280277790d5",
   "metadata": {},
   "outputs": [],
   "source": [
    "!pwd"
   ]
  },
  {
   "cell_type": "markdown",
   "id": "3558ef48-a54b-472a-a537-2453e24af92c",
   "metadata": {},
   "source": [
    "Or if you want to check what version of python you are running"
   ]
  },
  {
   "cell_type": "code",
   "execution_count": null,
   "id": "40320342-525f-42a5-b848-829f41dc26d2",
   "metadata": {},
   "outputs": [],
   "source": [
    "!ipython --version"
   ]
  },
  {
   "cell_type": "markdown",
   "id": "e914c41d-a33d-455c-b789-5e2c7c696786",
   "metadata": {},
   "source": [
    "Note that this could be different from the default python on your machine"
   ]
  },
  {
   "cell_type": "code",
   "execution_count": null,
   "id": "36a26348-2b68-405d-82f4-91b2246fc07b",
   "metadata": {},
   "outputs": [],
   "source": [
    "!python3 --version"
   ]
  },
  {
   "cell_type": "markdown",
   "id": "0e56a7d7-4fa3-4fca-a573-d872cd768f96",
   "metadata": {},
   "source": [
    "<h2>Working with kernels</h2>"
   ]
  },
  {
   "cell_type": "markdown",
   "id": "0a7d22b1-82fd-4f23-b193-52c1aee1674e",
   "metadata": {},
   "source": [
    "Kernels are separate instances of python code - it is similar to if you had multiple terminal windows open with python running in them.  Each instance of python runs quite happily on its own but will not talk to any of the other instances (unless you do some fancy coding).  That means variables will can different values in different windows and the different windows run totally asynchronously (that is without a clue of what the other programs are doing).  It is often very useful to restart your kernel, to remove all previously defined variables and imported libraries and start again from the beginning.  That is easily done by clicking on the \"reset kernel\" button above, next to the run and stop buttons."
   ]
  },
  {
   "cell_type": "markdown",
   "id": "28735e69-d049-4491-b775-70013d1d0d77",
   "metadata": {},
   "source": [
    "<h2>Markdown: Making your text look good</h2>"
   ]
  },
  {
   "cell_type": "markdown",
   "id": "ab1b7bd4-6fc9-4f07-a548-6d801c5607d3",
   "metadata": {},
   "source": [
    "There are a lot of tricks you can use in your text areas of these notebooks.  The easiest way to learn it is to find a notebook with the format you want, and copy it (or just search it). I found [this](https://docs.github.com/en/get-started/writing-on-github/getting-started-with-writing-and-formatting-on-github/basic-writing-and-formatting-syntax#supported-color-models) very helpful. Double click on this text to see the markdown code behind it.  It is pretty straight foward to do things like *italics*, **bold**, ~~strikethrough~~, and **bold _italics_ as well**.  Links are pretty straight forward as well - like this one to a good definition of [markup syntax](https://daringfireball.net/projects/markdown/).  You can even do cool formulas with TeX, like this important one: $$Re = {\\rho u D \\over{\\mu}}$$  <!-- you can even have comments that do not get displayed -->"
   ]
  },
  {
   "cell_type": "markdown",
   "id": "499a059b-acaf-463c-b21c-e8acc2a805a0",
   "metadata": {},
   "source": [
    "<h2>Navigating JupyterLabs</h2>"
   ]
  },
  {
   "cell_type": "markdown",
   "id": "245d5c70-5c95-41ef-9d90-5fbeedc2b95f",
   "metadata": {},
   "source": [
    "It is also worthwhile to learn a little about how to navigate efficiently around the JupyterLabs environment - everything is well-defined (with embedded movies) [here](https://jupyterlab.readthedocs.io/en/stable/user/jupyterhub.html)"
   ]
  },
  {
   "cell_type": "markdown",
   "id": "4330a485-191c-4b6f-a76f-807699680c60",
   "metadata": {},
   "source": [
    "<h2>Widgets</h2>"
   ]
  },
  {
   "cell_type": "markdown",
   "id": "533d5e88-6b90-4f4b-99bd-de4b440a4ab8",
   "metadata": {},
   "source": [
    "So widgets are fun - to access them you need to enable them.  First lets check to see if they are installed:"
   ]
  },
  {
   "cell_type": "code",
   "execution_count": null,
   "id": "6d8f9f56-b50d-4c89-aeeb-5001a6c1aef3",
   "metadata": {},
   "outputs": [],
   "source": [
    "pip show ipywidgets"
   ]
  },
  {
   "cell_type": "markdown",
   "id": "1993c0f9-0119-45a2-a12a-d2c6c0ad8152",
   "metadata": {},
   "source": [
    "If they are not installed, then run this:"
   ]
  },
  {
   "cell_type": "code",
   "execution_count": null,
   "id": "13fcb39f-1493-4308-ab92-200dbcf24a13",
   "metadata": {},
   "outputs": [],
   "source": [
    "!pip install ipywidgets"
   ]
  },
  {
   "cell_type": "markdown",
   "id": "403201a8-a83b-4cf2-9526-7dbe9764cca3",
   "metadata": {},
   "source": [
    "Enable them (you only need to do this once)"
   ]
  },
  {
   "cell_type": "code",
   "execution_count": null,
   "id": "6df27545-bff7-4b86-9a1d-fd633d52675b",
   "metadata": {},
   "outputs": [],
   "source": [
    "!jupyter nbextension enable –py –sys-prefix widgetsnbextension"
   ]
  },
  {
   "cell_type": "markdown",
   "id": "607dae18-c7b4-40c9-b719-af3659d76758",
   "metadata": {},
   "source": [
    "Now you have to call the iPython to actually run them - you should see two scroll bars.  "
   ]
  },
  {
   "cell_type": "code",
   "execution_count": null,
   "id": "eaa7ade2-5850-456d-8026-798d2076c9eb",
   "metadata": {},
   "outputs": [],
   "source": [
    "# import ipywidgets.interact class, this class will represent a slide bar.\n",
    "from ipywidgets import interact\n",
    "\n",
    "# use interact decorator to decorate the function, so the function can receive the slide bar's value with parameter x.\n",
    "@interact(x=(0, 100))\n",
    "def double_number(x):\n",
    "    print(\"The double of %d is %d.\" % (x, x*2))\n",
    "    \n",
    "# add another slide bar to this function with the interact decorator.    \n",
    "@interact(y=(0, 10))\n",
    "def square_number(y):\n",
    "    print(\"The square of %d is %d.\" % (y, y**2))"
   ]
  },
  {
   "cell_type": "markdown",
   "id": "887f9436-b348-445b-8779-7b581a915fc1",
   "metadata": {},
   "source": [
    "Note this example code was taken from [here](https://www.dev2qa.com/how-to-add-interactive-widget-slide-bar-in-jupyter-notebook/)"
   ]
  },
  {
   "cell_type": "code",
   "execution_count": null,
   "id": "01433275-ce48-496a-a2a4-11eceefc2f0c",
   "metadata": {},
   "outputs": [],
   "source": []
  },
  {
   "cell_type": "code",
   "execution_count": null,
   "id": "52b01011-0fa4-42c9-b42f-2e7b4779a444",
   "metadata": {},
   "outputs": [],
   "source": []
  },
  {
   "cell_type": "code",
   "execution_count": null,
   "id": "ca49bc50-23e3-4bf1-8bdc-13badc24f8e6",
   "metadata": {},
   "outputs": [],
   "source": []
  },
  {
   "cell_type": "markdown",
   "id": "fa793067-6eda-4f10-ad07-21886334a6ff",
   "metadata": {},
   "source": [
    "Lots of help will be here - mention ! and python kernals, terminal window etc"
   ]
  },
  {
   "cell_type": "code",
   "execution_count": null,
   "id": "88d0bfeb-538b-461f-afbe-de55cd53aad7",
   "metadata": {},
   "outputs": [],
   "source": []
  },
  {
   "cell_type": "markdown",
   "id": "cbc643aa-c774-4e45-9c4a-37d5f8cd7a70",
   "metadata": {},
   "source": [
    "for spelling:\n",
    "\n",
    "- pip install jupyter_contrib_nbextensions\n",
    "- jupyter contrib nbextension install --user\n",
    "- jupyter nbextension enable spellchecker/main"
   ]
  },
  {
   "cell_type": "markdown",
   "id": "b6587d00-3ed0-442e-87b8-ae910a11732c",
   "metadata": {},
   "source": [
    "for markdown hints, go [here](https://www.markdownguide.org/cheat-sheet/)"
   ]
  },
  {
   "cell_type": "code",
   "execution_count": null,
   "id": "2fb84fba-9d14-43f5-a4e6-04731f7860ed",
   "metadata": {},
   "outputs": [],
   "source": []
  }
 ],
 "metadata": {
  "kernelspec": {
   "display_name": "Python 3 (ipykernel)",
   "language": "python",
   "name": "python3"
  },
  "language_info": {
   "codemirror_mode": {
    "name": "ipython",
    "version": 3
   },
   "file_extension": ".py",
   "mimetype": "text/x-python",
   "name": "python",
   "nbconvert_exporter": "python",
   "pygments_lexer": "ipython3",
   "version": "3.9.13"
  },
  "toc-autonumbering": true,
  "toc-showcode": false,
  "toc-showmarkdowntxt": false
 },
 "nbformat": 4,
 "nbformat_minor": 5
}
