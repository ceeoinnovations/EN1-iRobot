{
 "cells": [
  {
   "cell_type": "markdown",
   "id": "c0cfa1b1-268c-4388-8379-e1fc8ca414c4",
   "metadata": {},
   "source": [
    "<h2>Troubleshooting</h2>"
   ]
  },
  {
   "cell_type": "markdown",
   "id": "4f96790c-c2fc-40c0-b1ae-71ab00382f21",
   "metadata": {},
   "source": [
    "<h4> Create Issues</h4>\n",
    "\n",
    "1. How do I turn it on? - put it on the charger\n",
    "2. How do I turn it off? - pull it off the charger and hold the button down for 10 sec - it will blink and beep and shut down\n",
    "3. How do I tirn it off if it is stubborn? - hold the button down for a min - and that usually does it\n",
    "4. How do I tirn it off if it is really stubborn? - you unscrew the battery "
   ]
  },
  {
   "cell_type": "markdown",
   "id": "17a6d96f-71f2-47cc-b105-c790ace52e58",
   "metadata": {},
   "source": [
    "<h4>Connection Issues</h4>"
   ]
  },
  {
   "cell_type": "markdown",
   "id": "2e90d775-6352-4755-a184-559b8c6a48b0",
   "metadata": {},
   "source": [
    "Are you online?  Try pinging Apple"
   ]
  },
  {
   "cell_type": "code",
   "execution_count": null,
   "id": "c50e2434-aa2e-4204-9360-f5a5ae63fa76",
   "metadata": {},
   "outputs": [],
   "source": [
    "!ping apple.com"
   ]
  },
  {
   "cell_type": "markdown",
   "id": "7b1f74c5-1c5d-4451-8dfa-db797188ab68",
   "metadata": {},
   "source": [
    "Is your robot on?  Check that the LED is not red.  Can you open it's webpage by going to the IP address listed [here](https://docs.google.com/spreadsheets/d/1xecZjXfFmFzZ6gqWdvJEo7XQHoThx7uRky23N8nAhvs/edit?usp=sharing)?"
   ]
  },
  {
   "cell_type": "markdown",
   "id": "f6e781e0-6731-45c8-a97d-bc7773e44da7",
   "metadata": {},
   "source": [
    "Do you have the right domain ID?  The list of IDs is [here](https://docs.google.com/spreadsheets/d/1xecZjXfFmFzZ6gqWdvJEo7XQHoThx7uRky23N8nAhvs/edit?usp=sharing)"
   ]
  },
  {
   "cell_type": "code",
   "execution_count": null,
   "id": "59a4b888-fc0c-49ee-95ab-1efee21cd393",
   "metadata": {},
   "outputs": [],
   "source": [
    "import os\n",
    "os.environ['ROS_DOMAIN_ID']"
   ]
  },
  {
   "cell_type": "markdown",
   "id": "07c4f990-2530-489d-bba9-99b56c083b13",
   "metadata": {},
   "source": [
    "If that is the wrong ID, then change it in the line below and hit run"
   ]
  },
  {
   "cell_type": "code",
   "execution_count": null,
   "id": "dff96cb5-267a-4809-8d69-55069a1e50ff",
   "metadata": {},
   "outputs": [],
   "source": [
    "os.environ['ROS_DOMAIN_ID'] = '8'"
   ]
  },
  {
   "cell_type": "markdown",
   "id": "46c2e0d3-51c1-4fe8-8bf1-4fbdd4051f88",
   "metadata": {
    "tags": []
   },
   "source": [
    "First check your paths by running the code below - is galactic on the path?"
   ]
  },
  {
   "cell_type": "code",
   "execution_count": null,
   "id": "43ea66d9-cc66-4799-b5f5-7af2a8cd260a",
   "metadata": {
    "scrolled": true,
    "tags": []
   },
   "outputs": [],
   "source": [
    "import sys; print(sys.path)"
   ]
  },
  {
   "cell_type": "markdown",
   "id": "a4c95301-ae0a-40d8-bc46-3c7991d2cefc",
   "metadata": {},
   "source": [
    "Check to see if you can import a local file"
   ]
  },
  {
   "cell_type": "code",
   "execution_count": null,
   "id": "8330bc77-ad70-492f-a6fe-d19f72070dbc",
   "metadata": {},
   "outputs": [],
   "source": [
    "import Subs.directory\n",
    "\n",
    "directory.test()"
   ]
  },
  {
   "cell_type": "markdown",
   "id": "082bf891-3433-4772-b308-f38f65e23a85",
   "metadata": {},
   "source": [
    "Can you import rclpy?\n"
   ]
  },
  {
   "cell_type": "code",
   "execution_count": null,
   "id": "8c1f0dc0-c777-45ae-81ca-8fa15231a29e",
   "metadata": {},
   "outputs": [],
   "source": [
    "import rclpy\n",
    "import rclpy.node"
   ]
  },
  {
   "cell_type": "markdown",
   "id": "e60b7edb-f72b-4b14-af12-6336db947996",
   "metadata": {},
   "source": []
  }
 ],
 "metadata": {
  "kernelspec": {
   "display_name": "Python 3 (ipykernel)",
   "language": "python",
   "name": "python3"
  },
  "language_info": {
   "codemirror_mode": {
    "name": "ipython",
    "version": 3
   },
   "file_extension": ".py",
   "mimetype": "text/x-python",
   "name": "python",
   "nbconvert_exporter": "python",
   "pygments_lexer": "ipython3",
   "version": "3.9.13"
  }
 },
 "nbformat": 4,
 "nbformat_minor": 5
}
