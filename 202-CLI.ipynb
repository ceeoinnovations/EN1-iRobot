{
 "cells": [
  {
   "cell_type": "markdown",
   "id": "755369b2-e5bf-429a-a1ae-f482f43a1338",
   "metadata": {},
   "source": [
    "# Command Line Interface"
   ]
  },
  {
   "cell_type": "markdown",
   "id": "46c2e0d3-51c1-4fe8-8bf1-4fbdd4051f88",
   "metadata": {
    "tags": []
   },
   "source": [
    "This is a very powerful way of testing out various topics and generally getting ros help.  For a complete listing, go [here](https://www.theconstructsim.com/wp-content/uploads/2021/10/ROS2-Command-Cheat-Sheets-updated.pdf).  Try these:"
   ]
  },
  {
   "cell_type": "code",
   "execution_count": null,
   "id": "43ea66d9-cc66-4799-b5f5-7af2a8cd260a",
   "metadata": {
    "scrolled": true,
    "tags": []
   },
   "outputs": [],
   "source": [
    "!ros2 topic list"
   ]
  },
  {
   "cell_type": "markdown",
   "id": "a4c95301-ae0a-40d8-bc46-3c7991d2cefc",
   "metadata": {},
   "source": [
    "If you want to know more about a topic, try something like this (replace rogers with the name of your Create)"
   ]
  },
  {
   "cell_type": "code",
   "execution_count": null,
   "id": "8330bc77-ad70-492f-a6fe-d19f72070dbc",
   "metadata": {},
   "outputs": [],
   "source": [
    "!ros2 topic info /rogers/odm"
   ]
  },
  {
   "cell_type": "markdown",
   "id": "082bf891-3433-4772-b308-f38f65e23a85",
   "metadata": {},
   "source": [
    "If you want to subscribe, try this"
   ]
  },
  {
   "cell_type": "code",
   "execution_count": null,
   "id": "8c1f0dc0-c777-45ae-81ca-8fa15231a29e",
   "metadata": {},
   "outputs": [],
   "source": [
    "!ros2 topic echo /chatter"
   ]
  },
  {
   "cell_type": "markdown",
   "id": "e60b7edb-f72b-4b14-af12-6336db947996",
   "metadata": {},
   "source": [
    "If you want to publish:"
   ]
  },
  {
   "cell_type": "code",
   "execution_count": null,
   "id": "66bd1c97-db66-4914-a959-3493e055d857",
   "metadata": {},
   "outputs": [],
   "source": [
    "!ros2 topic pub /chatter std_msgs/String \"data: Hello world\""
   ]
  },
  {
   "cell_type": "markdown",
   "id": "fc568c1c-ccd6-4e18-8b42-68d3ae9f2588",
   "metadata": {},
   "source": [
    "if you want to try anything else - there is a list of just about everything [here](https://www.theconstructsim.com/wp-content/uploads/2021/10/ROS2-Command-Cheat-Sheets-updated.pdf)"
   ]
  },
  {
   "cell_type": "code",
   "execution_count": null,
   "id": "dab5ed23-0f58-4510-ab7b-1703e633809f",
   "metadata": {},
   "outputs": [],
   "source": []
  }
 ],
 "metadata": {
  "kernelspec": {
   "display_name": "Python 3 (ipykernel)",
   "language": "python",
   "name": "python3"
  },
  "language_info": {
   "codemirror_mode": {
    "name": "ipython",
    "version": 3
   },
   "file_extension": ".py",
   "mimetype": "text/x-python",
   "name": "python",
   "nbconvert_exporter": "python",
   "pygments_lexer": "ipython3",
   "version": "3.9.13"
  }
 },
 "nbformat": 4,
 "nbformat_minor": 5
}
