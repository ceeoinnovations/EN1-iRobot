{
 "cells": [
  {
   "cell_type": "markdown",
   "id": "bdec522e-a378-4f8f-becb-22931ee26639",
   "metadata": {},
   "source": [
    "# Writing your own ROS2 Code"
   ]
  },
  {
   "cell_type": "markdown",
   "id": "27c452d8-0325-4ad1-94cd-1b1da55928ea",
   "metadata": {},
   "source": [
    "The goal here is to write your first ROS2 code from scratch, subscribing to the battery (using what already exists in ROS2Lib) and then writing - from scratch - a code that will subscribe to the proximity sensor.  Finally, you will combine that with the twist code in ROS2Lib to make a car that keeps a safe distance from anything in front of it."
   ]
  },
  {
   "cell_type": "markdown",
   "id": "f155038a-8180-4b1b-9c40-ac5eee9becaa",
   "metadata": {},
   "source": [
    "## Subscribing to the battery"
   ]
  },
  {
   "cell_type": "markdown",
   "id": "be516f1d-4811-469e-94fc-1fdc3169f724",
   "metadata": {},
   "source": [
    "First set up your domain ID and then see if you can echo it"
   ]
  },
  {
   "cell_type": "code",
   "execution_count": null,
   "id": "fa5c7394-130b-435a-b075-a4060189c4e1",
   "metadata": {},
   "outputs": [],
   "source": [
    "import os\n",
    "os.environ['ROS_DOMAIN_ID'] = \"0\""
   ]
  },
  {
   "cell_type": "code",
   "execution_count": null,
   "id": "3b0dadf2-8940-4e88-ac4c-5a8745cae881",
   "metadata": {},
   "outputs": [],
   "source": [
    "!ros2 topic echo /rogers/battery_state"
   ]
  },
  {
   "cell_type": "markdown",
   "id": "ceb57b38-0dcf-4b7b-81db-e1fd49d97013",
   "metadata": {},
   "source": [
    "Now to write that in python.  First, we need to find the syntax - what type of message is getting sent?  You can use *ros2 topic info* to figure that one out (or go [here](https://iroboteducation.github.io/create3_docs/api/ros2/))."
   ]
  },
  {
   "cell_type": "code",
   "execution_count": null,
   "id": "a7390687-871c-4e33-9fa9-9f359b46574e",
   "metadata": {},
   "outputs": [],
   "source": [
    "!ros2 topic info /rogers/battery_state"
   ]
  },
  {
   "cell_type": "markdown",
   "id": "6eaebb2f-18de-4f6e-9ef8-74801a24084a",
   "metadata": {},
   "source": [
    "So we know there is one publisher (the Create) and some subscribers (one of them is us).  We therefore know that we will need\n",
    "``` python\n",
    "import rclpy\n",
    "from rclpy.node import Node\n",
    "from sensor_msgs.msg import BatteryState\n",
    "from rclpy.qos import qos_profile_sensor_data\n",
    "```\n",
    "with the last line (*qos*) defines if you just want to get the latest or not.  So now we need to create a battery class, using that message type, initiate a subscriber with that message type (*BatteryState*) and a callback for when the Create sends out the next battery level message, and update a variable in the class (*percentage*) when that happens."
   ]
  },
  {
   "cell_type": "code",
   "execution_count": null,
   "id": "19babef2-7fd5-4cdc-a25b-24e451d90912",
   "metadata": {},
   "outputs": [],
   "source": [
    "import rclpy\n",
    "from rclpy.node import Node\n",
    "import time, os\n",
    "\n",
    "from rclpy.qos import qos_profile_sensor_data\n",
    "from sensor_msgs.msg import BatteryState\n",
    "\n",
    "class Battery(Node):\n",
    "    '''\n",
    "    Set up a node that lets you subscribe to the battery level\n",
    "    '''\n",
    "    def __init__(self, namespace = '/rogers'):   \n",
    "        '''\n",
    "        define the node and set up the subscriber\n",
    "        '''\n",
    "        super().__init__('battery_subscription') #name it anything you want - this is what will appear in the ros topic list\n",
    "        \n",
    "        self.subscription = self.create_subscription(BatteryState, namespace + '/battery_state', self.callback, qos_profile_sensor_data)\n",
    "        self.done = False\n",
    "        \n",
    "    def callback(self, msg: BatteryState):\n",
    "        self.charge = 100*msg.percentage\n",
    "        self.done = True   # tell the parent program you are done - you have data\n",
    "\n",
    "os.environ['ROS_DOMAIN_ID'] = \"0\"\n",
    "create = '/rogers'\n",
    "\n",
    "rclpy.init()\n",
    "battery_subscriber = Battery(create)\n",
    "rclpy.spin_once(battery_subscriber)  # start it up once\n",
    "\n",
    "while not battery_subscriber.done:  # keep running until you get a result\n",
    "    print('...', end = '')\n",
    "    rclpy.spin_once(battery_subscriber)\n",
    "\n",
    "print('%s battery at %0.1f ' % (create, battery_subscriber.charge))\n",
    "\n",
    "rclpy.shutdown()   # shut everything down"
   ]
  },
  {
   "cell_type": "markdown",
   "id": "5085bea0-8e99-4e9b-9b25-10b1fd1b2ff0",
   "metadata": {},
   "source": [
    "## Subscribing to the infrared proximity sensor"
   ]
  },
  {
   "cell_type": "markdown",
   "id": "7970cf73-41d9-4497-919b-369ac626a859",
   "metadata": {},
   "source": [
    "Now we have to do the same thing for the ir proximity sensor.  You can do a ros2 topic list and take a guess at which topic will give you the information.  Then get the message type and build a subscriber by copying the one above but replacing everything for the ir instead of battery.  To parse the incoming message, look at how I did the battery one above and compare it to what you read with *ros2 topic echo /rogers/battery_state* and see if you can guess it.  To get the labels of all the 5 ir sensors, I used this in the callback (note this builds an array for every separate reading in the message).\n",
    "```python\n",
    "self.names = [h.header.frame_id for h in msg.readings]\n",
    "```"
   ]
  },
  {
   "cell_type": "code",
   "execution_count": null,
   "id": "0aaebf93-4519-4012-964f-e300635217bf",
   "metadata": {},
   "outputs": [],
   "source": []
  },
  {
   "cell_type": "markdown",
   "id": "5967c64a-f6b2-469a-84f7-9a2d2820c78b",
   "metadata": {},
   "source": [
    "## Publishing the desired twist"
   ]
  },
  {
   "cell_type": "markdown",
   "id": "2187acd3-190f-4823-8478-5dde1a47d409",
   "metadata": {},
   "source": [
    "If we look back at the code you used for the Airtable or for the keyboard control, you know that we can set the velocity of the robot with the twist call.  Grab that class from the ROS2Lib file (in Subs) and make sure that works on its own as well (try telling it to move forward for a second and then stop). If you are uncertian how to publish, look at CreateLib and see how it is done there."
   ]
  },
  {
   "cell_type": "code",
   "execution_count": null,
   "id": "d77eafef-a51b-4715-9eb6-ea8cc2132d3e",
   "metadata": {},
   "outputs": [],
   "source": []
  },
  {
   "cell_type": "markdown",
   "id": "73e89c6b-e2f9-4246-ac86-e9751b5ed7b0",
   "metadata": {},
   "source": [
    "## Going backwards"
   ]
  },
  {
   "cell_type": "markdown",
   "id": "8d997230-2ac2-4297-80d5-fff3d2d77bf6",
   "metadata": {},
   "source": [
    "You probably want to reset the safety parameter to let the Create back up.  Here is a code that does that using a service - try integrating that into your code."
   ]
  },
  {
   "cell_type": "code",
   "execution_count": null,
   "id": "b5a093d6-0a22-4128-909b-d4ee18e6454b",
   "metadata": {},
   "outputs": [],
   "source": [
    "# see https://iroboteducation.github.io/create3_docs/api/safety/\n",
    "\n",
    "import rclpy\n",
    "from rclpy.node import Node\n",
    "\n",
    "from rcl_interfaces.srv import SetParameters\n",
    "from rcl_interfaces.msg import ParameterType, ParameterValue, Parameter\n",
    "\n",
    "import os\n",
    "\n",
    "class Safety(Node):\n",
    "    def __init__(self, namespace = '/Picard'):\n",
    "    \n",
    "        super().__init__('linefollow')\n",
    "        self.params_client = self.create_client(SetParameters, namespace + '/motion_control/set_parameters')\n",
    "    \n",
    "    def Set(self, task):\n",
    "        '''\n",
    "        define the parameter that we wish to append. In this case we want the safety override parameter to be 'full'\n",
    "        options are done, backup_only, full'''\n",
    "        \n",
    "        options = ['full','backup_only','none']\n",
    "        if not task in options:\n",
    "            return None\n",
    "        request = SetParameters.Request()\n",
    "        param = Parameter() \n",
    "        param.name = \"safety_override\"\n",
    "        param.value.type = ParameterType.PARAMETER_STRING\n",
    "        param.value.string_value = task\n",
    "        request.parameters.append(param)\n",
    "        \n",
    "        # wait for a service client to be available then send that appended parameter\n",
    "        print('setting safety to ' + task,end='')\n",
    "        self.params_client.wait_for_service()\n",
    "        print(' ... ',end='')\n",
    "        self.future = self.params_client.call_async(request)\n",
    "        print('done')\n",
    "\n",
    "    def AllOn(self):\n",
    "        self.Set('none')\n",
    "        \n",
    "    def Backup(self):\n",
    "        self.Set('backup_only')\n",
    "        \n",
    "    def AllOff(self):\n",
    "        self.Set('full')\n",
    "\n",
    "os.environ['ROS_DOMAIN_ID'] = \"7\"\n",
    "create = '/Buzz'\n",
    "\n",
    "rclpy.init()\n",
    "safety = Safety(create)\n",
    "safety.Backup()\n",
    "rclpy.shutdown()"
   ]
  },
  {
   "cell_type": "markdown",
   "id": "f2663d17-2d2a-4fc5-93f2-bd2e7ed57dff",
   "metadata": {},
   "source": [
    "## Bringing it all together"
   ]
  },
  {
   "cell_type": "markdown",
   "id": "d0fa1e09-5df9-4900-ac05-90108256209d",
   "metadata": {},
   "source": [
    "Now the deal is have the callback change the motor speed - so that it is proportional to the IR reading (maybe average the front left and front right or just use one of them).  That is, when you get a callback, call twist.  To succeed, that means you will have to initialize a twist_publisher in the init of the ir class, and call it in the ir callback.  The real magic is figuring out the equation for calculating motor speed as a function of ir reading."
   ]
  },
  {
   "cell_type": "code",
   "execution_count": null,
   "id": "6d822ff7-6ae1-417b-9eb0-740690aa0885",
   "metadata": {},
   "outputs": [],
   "source": []
  }
 ],
 "metadata": {
  "kernelspec": {
   "display_name": "Python 3 (ipykernel)",
   "language": "python",
   "name": "python3"
  },
  "language_info": {
   "codemirror_mode": {
    "name": "ipython",
    "version": 3
   },
   "file_extension": ".py",
   "mimetype": "text/x-python",
   "name": "python",
   "nbconvert_exporter": "python",
   "pygments_lexer": "ipython3",
   "version": "3.9.13"
  }
 },
 "nbformat": 4,
 "nbformat_minor": 5
}
