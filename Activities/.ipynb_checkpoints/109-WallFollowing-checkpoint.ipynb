{
 "cells": [
  {
   "cell_type": "markdown",
   "id": "9154920f-eba4-4bc6-b8d9-29fa7a3ad2fa",
   "metadata": {},
   "source": [
    "## WallFollowing"
   ]
  },
  {
   "cell_type": "code",
   "execution_count": 1,
   "id": "577fe8e3-edbd-4780-8ab5-8c3513d79aad",
   "metadata": {},
   "outputs": [],
   "source": [
    "import os\n",
    "os.environ['ROS_DOMAIN_ID'] = \"6\""
   ]
  },
  {
   "cell_type": "code",
   "execution_count": null,
   "id": "3913709e-c182-4d46-a331-e6e647266706",
   "metadata": {},
   "outputs": [],
   "source": [
    "!printenv | grep RMW\n",
    "!printenv | grep ROS"
   ]
  },
  {
   "cell_type": "markdown",
   "id": "a6dcd4a4-deb6-4a01-a996-90d2f782560b",
   "metadata": {},
   "source": [
    "Next to a topic list and an action list to see if you can find the command.  Is it something you publish to (*ros2 topic list*) or is it an action (*ros2 action list*) or service(*ros2 service list*)?  If you add -t, you will see the message types."
   ]
  },
  {
   "cell_type": "code",
   "execution_count": null,
   "id": "ae58179b-0438-44d7-bbca-2822abb2e4fb",
   "metadata": {},
   "outputs": [],
   "source": [
    "!ros2 topic list -t"
   ]
  },
  {
   "cell_type": "markdown",
   "id": "efc5ad07-2f2f-48d8-9a6e-b8d786ad0cb3",
   "metadata": {},
   "source": [
    "Ask for more information about it with a *!ros2 interface show* and then the full name of your message type (copy paste from inside the brackets above)."
   ]
  },
  {
   "cell_type": "code",
   "execution_count": null,
   "id": "36f95843-e236-49ca-9692-99da0f832636",
   "metadata": {},
   "outputs": [],
   "source": []
  },
  {
   "cell_type": "markdown",
   "id": "e0b3f1ac-59b5-4a91-a212-b4a1661c333c",
   "metadata": {},
   "source": [
    "Now you know what to send in and what you will get back.  Try writing some python code to make sure you have it right.  Start with importing the message type and then see if you can set the parameters to follow left for 1 second."
   ]
  },
  {
   "cell_type": "code",
   "execution_count": null,
   "id": "0593a331-f584-4fa2-8676-92cbeb829e58",
   "metadata": {},
   "outputs": [],
   "source": [
    "from XXXXXX import YYYYY\n",
    "\n",
    "goal_msg = YYYY.Goal()\n",
    "goal_msg.???? = -1\n",
    "\n",
    "print(goal_msg)"
   ]
  },
  {
   "cell_type": "markdown",
   "id": "e941107f-2eec-4af6-9c92-f97ef68ef581",
   "metadata": {},
   "source": [
    "If that worked, see if you can write a simple action client that will tell the robot to follow along a wall.  I would recommend at looking at the Drive class in ROS2Lib - you can pull directly from there.  You should notice three steps:\n",
    "1. initialize the action client - do not forget to import and define the right message type and action name\n",
    "2. wait for the action server and then send your request - with a callback to see if your request was accepted or not.\n",
    "3. Define a second callback for when the action is done.\n",
    "\n",
    "If you want some more help, [this](https://github.com/iRobotEducation/create3_docs/blob/main/docs/examples/actuators-cli.md#driving) might be useful."
   ]
  },
  {
   "cell_type": "code",
   "execution_count": null,
   "id": "604e44f8-78a1-4497-a06b-a872df4a3741",
   "metadata": {},
   "outputs": [],
   "source": []
  }
 ],
 "metadata": {
  "kernelspec": {
   "display_name": "\"Python/Mu (mu_venv-38-20221117-084736)\"",
   "language": "python",
   "name": "mu_venv-38-20221117-084736"
  },
  "language_info": {
   "codemirror_mode": {
    "name": "ipython",
    "version": 3
   },
   "file_extension": ".py",
   "mimetype": "text/x-python",
   "name": "python",
   "nbconvert_exporter": "python",
   "pygments_lexer": "ipython3",
   "version": "3.8.12"
  }
 },
 "nbformat": 4,
 "nbformat_minor": 5
}
