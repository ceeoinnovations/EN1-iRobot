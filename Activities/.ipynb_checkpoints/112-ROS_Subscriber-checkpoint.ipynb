{
 "cells": [
  {
   "cell_type": "markdown",
   "id": "7f607b8d-df12-4d68-ab28-ce8a749e8739",
   "metadata": {},
   "source": [
    "# Writing ROS subscriber"
   ]
  },
  {
   "cell_type": "markdown",
   "id": "dfdab2b9-725f-4b31-9a02-1cb01d456baa",
   "metadata": {},
   "source": [
    "Grabbing the example code from the [ROS tutorials](https://docs.ros.org/en/foxy/Tutorials/Beginner-Client-Libraries/Writing-A-Simple-Py-Publisher-And-Subscriber.html), we can set up a topic that \"chatters\" and we can also subscribe to it. To do this, we are going to have to set up two separate kernels (or threads) - one that is running the publisher and one that is running the subscriber.  We can do that with two different notebooks - [publisher](111-ROS_Publisher.ipynb) and [subscriber](112-ROS_Subscriber.ipynb). Open them as two separate windows side by side and you can see them talking with each other."
   ]
  },
  {
   "cell_type": "markdown",
   "id": "7f4e42b5-a953-49d5-a244-b0fe048be819",
   "metadata": {},
   "source": [
    "We could do this with a CLI command:"
   ]
  },
  {
   "cell_type": "code",
   "execution_count": null,
   "id": "f819d8fc-4b89-4970-bfa3-272024499da2",
   "metadata": {},
   "outputs": [],
   "source": [
    "!ros2 topic echo /chatter"
   ]
  },
  {
   "cell_type": "markdown",
   "id": "216565d7-8261-461a-87a4-e140e0c0c4fd",
   "metadata": {},
   "source": [
    "or with python:"
   ]
  },
  {
   "cell_type": "code",
   "execution_count": null,
   "id": "107af8e7-6b1f-4b8a-80a4-20ad97498773",
   "metadata": {},
   "outputs": [],
   "source": [
    "import rclpy\n",
    "from rclpy.node import Node\n",
    "\n",
    "from std_msgs.msg import String\n",
    "\n",
    "\n",
    "class MinimalSubscriber(Node):\n",
    "\n",
    "    def __init__(self):\n",
    "        super().__init__('SubscriberNode')\n",
    "        self.subscription = self.create_subscription(String,'chatter',self.listener_callback,10)\n",
    "        self.subscription  # prevent unused variable warning\n",
    "\n",
    "    def listener_callback(self, msg):\n",
    "        self.get_logger().info('I heard: \"%s\"' % msg.data)\n",
    "\n",
    "def main():\n",
    "    rclpy.init()\n",
    "    chatter = MinimalSubscriber()\n",
    "\n",
    "    try:\n",
    "        print('spinning up chatter')\n",
    "        rclpy.spin(chatter)\n",
    "        # stay here forever, publishing strings\n",
    "    except Exception as e:\n",
    "        print(e)\n",
    "        chatter.destroy_node()\n",
    "        rclpy.shutdown()\n",
    "        print('Done')\n",
    "\n",
    "if __name__ == '__main__':\n",
    "    main()"
   ]
  },
  {
   "cell_type": "markdown",
   "id": "6399d779-e249-40b0-8544-24b6f687346a",
   "metadata": {},
   "source": [
    "you can get a great explaination for how this works [here](https://docs.ros.org/en/foxy/Tutorials/Beginner-Client-Libraries/Writing-A-Simple-Py-Publisher-And-Subscriber.html#id1), but basically you set up a subscriber when initiallizing and link it to a callback (that right now only logs the message) and then you spin it up (run forever)."
   ]
  },
  {
   "cell_type": "code",
   "execution_count": null,
   "id": "2f2f7746-9f51-44df-b76f-ee9629dbe21d",
   "metadata": {},
   "outputs": [],
   "source": []
  }
 ],
 "metadata": {
  "kernelspec": {
   "display_name": "Python 3 (ipykernel)",
   "language": "python",
   "name": "python3"
  },
  "language_info": {
   "codemirror_mode": {
    "name": "ipython",
    "version": 3
   },
   "file_extension": ".py",
   "mimetype": "text/x-python",
   "name": "python",
   "nbconvert_exporter": "python",
   "pygments_lexer": "ipython3",
   "version": "3.8.10"
  }
 },
 "nbformat": 4,
 "nbformat_minor": 5
}
