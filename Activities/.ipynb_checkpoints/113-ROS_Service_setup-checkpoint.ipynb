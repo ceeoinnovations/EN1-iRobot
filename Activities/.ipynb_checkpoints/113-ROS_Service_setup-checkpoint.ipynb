{
 "cells": [
  {
   "cell_type": "markdown",
   "id": "cbe62943-50a3-4bb8-a2ee-40c6594682b5",
   "metadata": {},
   "source": [
    "## Defining a Service: Setting up custom formats"
   ]
  },
  {
   "cell_type": "markdown",
   "id": "15fd0f2d-1e9e-4b9f-9fe1-cc8caefe43d6",
   "metadata": {},
   "source": [
    "This is building off of the ROS2 tutorial [here](https://docs.ros.org/en/galactic/Tutorials/Beginner-Client-Libraries/Writing-A-Simple-Py-Service-And-Client.html).  If you want the an exact replication, go [here](../Help/213-ServiceTutorial.ipynb).  I stole some from [here](https://docs.ros.org/en/galactic/Tutorials/Beginner-Client-Libraries/Custom-ROS2-Interfaces.html) to get the srv file setup.  The first step is to define it by creating the requisite paths, then folders and then create the package defining the service and message types.  Note we have to make a C++ package for the custom interface, but will use Python for defining the node."
   ]
  },
  {
   "cell_type": "code",
   "execution_count": null,
   "id": "c4c0bdae",
   "metadata": {
    "tags": []
   },
   "outputs": [],
   "source": [
    "import os\n",
    "import subprocess\n",
    "\n",
    "home = os.path.expanduser('~')\n",
    "workspace = home +'/ros2_ws/'\n",
    "sourceFiles = workspace + 'src/'\n",
    "serviceName = 'version'\n",
    "servicePath = sourceFiles + serviceName\n",
    "\n",
    "os.chdir(home)\n",
    "\n",
    "if not os.path.exists(sourceFiles):\n",
    "    os.makedirs(sourceFiles)\n",
    "    \n",
    "os.chdir(sourceFiles)\n",
    "if not os.path.exists(servicePath):\n",
    "    reply = subprocess.run(['ros2','pkg','create','--build-type','ament_cmake',serviceName],capture_output=True) \n",
    "os.chdir(servicePath)\n",
    "if not os.path.exists('msg'):\n",
    "    os.mkdir('msg')\n",
    "    os.mkdir('srv')\n",
    "    "
   ]
  },
  {
   "cell_type": "markdown",
   "id": "08e803ec-571b-47d2-85a1-2a3515b1076c",
   "metadata": {},
   "source": [
    "Next we set up the service definition file.  This defines the data types for *Requests* and  *Response*, separated by a dashed line.  In this case, the request is a 64bit integer for request type (mode) and the result  is a 64bit float with the version number.  First change the directory to the service folder and then save it."
   ]
  },
  {
   "cell_type": "code",
   "execution_count": null,
   "id": "beb02373-3404-4c1d-8dbf-2fb7cddb4ccb",
   "metadata": {},
   "outputs": [],
   "source": [
    "os.chdir(servicePath + '/srv')"
   ]
  },
  {
   "cell_type": "code",
   "execution_count": null,
   "id": "bf845c45",
   "metadata": {},
   "outputs": [],
   "source": [
    "%%writefile Version.srv\n",
    "\n",
    "int64 mode\n",
    "---\n",
    "float64 value"
   ]
  },
  {
   "cell_type": "markdown",
   "id": "afd684ae-a986-44c0-9a22-a909bc190943",
   "metadata": {},
   "source": [
    "Now define any new message types as well (we will not be using one in this example but I kept it here for completeness)"
   ]
  },
  {
   "cell_type": "code",
   "execution_count": null,
   "id": "86ed522b-1405-4cb9-aefc-b6c863335e4e",
   "metadata": {},
   "outputs": [],
   "source": [
    "os.chdir(servicePath + '/msg')"
   ]
  },
  {
   "cell_type": "code",
   "execution_count": null,
   "id": "88790ab3-c5b4-4b47-a130-0984529de045",
   "metadata": {},
   "outputs": [],
   "source": [
    "%%writefile Version.msg\n",
    "\n",
    "int64 version\n",
    "int64 time"
   ]
  },
  {
   "cell_type": "markdown",
   "id": "476240b3-88e7-4fea-a763-ab68c13463da",
   "metadata": {},
   "source": [
    "We then have to edit the CMakeList - adding the package *rosidl_generate_interfaces* and then generating the ros2 interface for the service and message type we just defined above.\n",
    "```bash\n",
    "find_package(rosidl_default_generators REQUIRED)\n",
    "\n",
    "rosidl_generate_interfaces(${PROJECT_NAME}\n",
    "  \"msg/Version.msg\"\n",
    "  \"srv/Version.srv\"\n",
    ")\n",
    "```"
   ]
  },
  {
   "cell_type": "code",
   "execution_count": null,
   "id": "fa8ba4d3-556e-4362-b21a-3edfbf8cf3a6",
   "metadata": {},
   "outputs": [],
   "source": [
    "os.chdir(servicePath)"
   ]
  },
  {
   "cell_type": "code",
   "execution_count": null,
   "id": "d7a51f6c",
   "metadata": {},
   "outputs": [],
   "source": [
    "%%writefile CMakeLists.txt\n",
    "cmake_minimum_required(VERSION 3.8)\n",
    "project(timer)\n",
    "\n",
    "cmake_minimum_required(VERSION 3.8)\n",
    "project(version)\n",
    "\n",
    "if(CMAKE_COMPILER_IS_GNUCXX OR CMAKE_CXX_COMPILER_ID MATCHES \"Clang\")\n",
    "  add_compile_options(-Wall -Wextra -Wpedantic)\n",
    "endif()\n",
    "\n",
    "# find dependencies\n",
    "find_package(ament_cmake REQUIRED)\n",
    "# uncomment the following section in order to fill in\n",
    "# further dependencies manually.\n",
    "# find_package(<dependency> REQUIRED)\n",
    "\n",
    "if(BUILD_TESTING)\n",
    "  find_package(ament_lint_auto REQUIRED)\n",
    "  # the following line skips the linter which checks for copyrights\n",
    "  # uncomment the line when a copyright and license is not present in all source files\n",
    "  #set(ament_cmake_copyright_FOUND TRUE)\n",
    "  # the following line skips cpplint (only works in a git repo)\n",
    "  # uncomment the line when this package is not in a git repo\n",
    "  #set(ament_cmake_cpplint_FOUND TRUE)\n",
    "  ament_lint_auto_find_test_dependencies()\n",
    "endif()\n",
    "\n",
    "find_package(rosidl_default_generators REQUIRED)\n",
    "\n",
    "rosidl_generate_interfaces(${PROJECT_NAME}\n",
    "  \"msg/Version.msg\"\n",
    "  \"srv/Version.srv\"\n",
    "  )\n",
    "                           \n",
    "ament_package()"
   ]
  },
  {
   "cell_type": "markdown",
   "id": "6cfbf460-b009-4324-b1dd-5fa26c3e675e",
   "metadata": {},
   "source": [
    "We then edit the package xml so that it has the new dependencies for the action\n",
    "```bash\n",
    "<build_depend>rosidl_default_generators</build_depend>\n",
    "\n",
    "<exec_depend>rosidl_default_runtime</exec_depend>\n",
    "\n",
    "<member_of_group>rosidl_interface_packages</member_of_group>\n",
    "```"
   ]
  },
  {
   "cell_type": "code",
   "execution_count": null,
   "id": "a3f90697-c656-46f6-9f9b-d227fb209a22",
   "metadata": {},
   "outputs": [],
   "source": [
    "os.chdir(servicePath)"
   ]
  },
  {
   "cell_type": "code",
   "execution_count": null,
   "id": "44739f3c",
   "metadata": {},
   "outputs": [],
   "source": [
    "%%writefile package.xml\n",
    "<?xml version=\"1.0\"?>\n",
    "<?xml-model href=\"http://download.ros.org/schema/package_format3.xsd\" schematypens=\"http://www.w3.org/2001/XMLSchema\"?>\n",
    "<package format=\"3\">\n",
    "  <name>version</name>\n",
    "  <version>0.0.0</version>\n",
    "  <description>TODO: Package description</description>\n",
    "  <maintainer email=\"parallels@todo.todo\">parallels</maintainer>\n",
    "  <license>TODO: License declaration</license>\n",
    "\n",
    "  <buildtool_depend>ament_cmake</buildtool_depend>\n",
    "\n",
    "    <build_depend>rosidl_default_generators</build_depend>\n",
    "    <exec_depend>rosidl_default_runtime</exec_depend>\n",
    "    <member_of_group>rosidl_interface_packages</member_of_group>\n",
    "\n",
    "  <test_depend>ament_lint_auto</test_depend>\n",
    "  <test_depend>ament_lint_common</test_depend>\n",
    "\n",
    "  <export>\n",
    "    <build_type>ament_cmake</build_type>\n",
    "  </export>\n",
    "</package>\n"
   ]
  },
  {
   "cell_type": "markdown",
   "id": "f5c7201e-b8f7-4f71-84c1-b18d24625380",
   "metadata": {},
   "source": [
    "Lastly we have to build it by running *colcon build* in the workspace directory"
   ]
  },
  {
   "cell_type": "code",
   "execution_count": null,
   "id": "d9b4cff2-0d44-467d-9641-926dddf2f2e0",
   "metadata": {},
   "outputs": [],
   "source": [
    "os.chdir(workspace)\n",
    "subprocess.run(['colcon','build','--packages-select',serviceName],capture_output=True)\n"
   ]
  },
  {
   "cell_type": "markdown",
   "id": "300c4b18-36c4-4e1b-be9b-34275a807195",
   "metadata": {},
   "source": [
    "Now you can confirm in the Terminal that they were built \n",
    "```bash\n",
    "cd ~/ros2_ws\n",
    "export ROS_DOMAIN_ID=0\n",
    ". install/setup.bash\n",
    "ros2 interface show version/msg/Version\n",
    "ros2 interface show version/srv/Version\n",
    "```\n",
    "This will test the service and message type definitions"
   ]
  },
  {
   "cell_type": "markdown",
   "id": "21c054ea-5aa8-4010-b775-b733a6098d67",
   "metadata": {},
   "source": [
    "Now that you have defined the service - you need to write some code - for the server and client - [here](114-ROS_Service_serverClient.ipynb)"
   ]
  },
  {
   "cell_type": "code",
   "execution_count": null,
   "id": "2b4b3b25-8683-4fd3-813b-31bac518a0c3",
   "metadata": {},
   "outputs": [],
   "source": []
  }
 ],
 "metadata": {
  "kernelspec": {
   "display_name": "Python 3 (ipykernel)",
   "language": "python",
   "name": "python3"
  },
  "language_info": {
   "codemirror_mode": {
    "name": "ipython",
    "version": 3
   },
   "file_extension": ".py",
   "mimetype": "text/x-python",
   "name": "python",
   "nbconvert_exporter": "python",
   "pygments_lexer": "ipython3",
   "version": "3.9.13"
  }
 },
 "nbformat": 4,
 "nbformat_minor": 5
}
