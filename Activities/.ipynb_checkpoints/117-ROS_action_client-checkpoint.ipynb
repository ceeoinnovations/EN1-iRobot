{
 "cells": [
  {
   "cell_type": "markdown",
   "id": "cbe62943-50a3-4bb8-a2ee-40c6594682b5",
   "metadata": {},
   "source": [
    "### Building an Action Client"
   ]
  },
  {
   "cell_type": "markdown",
   "id": "15fd0f2d-1e9e-4b9f-9fe1-cc8caefe43d6",
   "metadata": {},
   "source": [
    "Once you have the action defined ([here](115-ROS_action_definition.ipynb)) and the server running ([here](116-ROS_action_server.ipynb)), then it is time to write the client that talks with the server."
   ]
  },
  {
   "cell_type": "code",
   "execution_count": null,
   "id": "c4c0bdae",
   "metadata": {
    "tags": []
   },
   "outputs": [],
   "source": [
    "import os\n",
    "import subprocess\n",
    "\n",
    "home = os.path.expanduser('~')\n",
    "workspace = home +'/ros2_ws/'\n",
    "sourceFiles = workspace + 'src/'"
   ]
  },
  {
   "cell_type": "markdown",
   "id": "dea60c09-ea93-4b5d-a846-20f01823442c",
   "metadata": {},
   "source": [
    "The client is similar, and if you want updates, you have to add the feedback callback."
   ]
  },
  {
   "cell_type": "code",
   "execution_count": null,
   "id": "b727809a-774e-40f8-b3f2-9963c4b2c58a",
   "metadata": {},
   "outputs": [],
   "source": [
    "%%writefile ~/ros2_ws/timer_action_client.py\n",
    "\n",
    "import rclpy\n",
    "from rclpy.action import ActionClient\n",
    "from rclpy.node import Node\n",
    "\n",
    "from timer.action import Timer\n",
    "\n",
    "\n",
    "class TimerActionClient(Node):\n",
    "\n",
    "    def __init__(self):\n",
    "        super().__init__('timer_action_client')\n",
    "        self._action_client = ActionClient(self, Timer, 'timer')\n",
    "\n",
    "    def send_goal(self, duration):\n",
    "        print('sending goal')\n",
    "        goal_msg = Timer.Goal()\n",
    "        goal_msg.duration = duration\n",
    "\n",
    "        self._action_client.wait_for_server()\n",
    "        print('done waiting')\n",
    "        self._send_goal_future = self._action_client.send_goal_async(goal_msg,feedback_callback=self.feedback_callback)\n",
    "        self._send_goal_future.add_done_callback(self.goal_response_callback)\n",
    "\n",
    "    def goal_response_callback(self, future):\n",
    "        \n",
    "        goal_handle = future.result()\n",
    "        if not goal_handle.accepted:\n",
    "            self.get_logger().info('Goal rejected :(')\n",
    "            return\n",
    "\n",
    "        self.get_logger().info('Goal accepted :)')\n",
    "\n",
    "        self._get_result_future = goal_handle.get_result_async()\n",
    "        self._get_result_future.add_done_callback(self.get_result_callback)\n",
    "\n",
    "    def get_result_callback(self, future):\n",
    "        result = future.result().result\n",
    "        self.get_logger().info('Result: {0}'.format(result.done))\n",
    "        rclpy.shutdown()\n",
    "\n",
    "    def feedback_callback(self, feedback_msg):\n",
    "        feedback = feedback_msg.feedback\n",
    "        self.get_logger().info('Received feedback: {0}'.format(feedback.sec_left))\n",
    "\n",
    "\n",
    "def main(args=None):\n",
    "    rclpy.init(args=args)\n",
    "\n",
    "    action_client = TimerActionClient()\n",
    "    print('set up')\n",
    "    action_client.send_goal(10)\n",
    "\n",
    "    rclpy.spin(action_client)\n",
    "\n",
    "\n",
    "if __name__ == '__main__':\n",
    "    main()"
   ]
  },
  {
   "cell_type": "markdown",
   "id": "dbac2f27-8868-4c82-acca-f0fbd920ee89",
   "metadata": {},
   "source": [
    "Now you can run it in the terminal by typing:\n",
    "```bash\n",
    "cd ~/ros2_ws\n",
    "export ROS_DOMAIN_ID=0\n",
    "python3 timer_action_server.py\n",
    "```\n",
    "Then open up a second terminal, and type:\n",
    "```bash\n",
    "cd ~/ros2_ws\n",
    "export ROS_DOMAIN_ID=0\n",
    ". install/setup.bash\n",
    "ros2 action send_goal timer timer/action/Timer \"{duration: 10}\"\n",
    "```"
   ]
  },
  {
   "cell_type": "code",
   "execution_count": null,
   "id": "203f6472-d76c-461c-af66-137c8cca201a",
   "metadata": {},
   "outputs": [],
   "source": []
  }
 ],
 "metadata": {
  "kernelspec": {
   "display_name": "Python 3 (ipykernel)",
   "language": "python",
   "name": "python3"
  },
  "language_info": {
   "codemirror_mode": {
    "name": "ipython",
    "version": 3
   },
   "file_extension": ".py",
   "mimetype": "text/x-python",
   "name": "python",
   "nbconvert_exporter": "python",
   "pygments_lexer": "ipython3",
   "version": "3.9.13"
  }
 },
 "nbformat": 4,
 "nbformat_minor": 5
}
