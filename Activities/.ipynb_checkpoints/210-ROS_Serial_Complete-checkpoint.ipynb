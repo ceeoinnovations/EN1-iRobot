{
 "cells": [
  {
   "cell_type": "markdown",
   "id": "337d6d52-069a-4aa7-a9aa-fa193040c6a3",
   "metadata": {
    "tags": []
   },
   "source": [
    "## Getting Serial to talk properly in ROS2\n",
    "This is an example of using all the different parts of ROS, publisher, subscriber, service, and action.  You can publish things you want written to the serial port, subscribe to the port to read anything new, list ports (a service), or write and wait for a reply (action).  You can do everything without any package installs EXCEPT you need to have installed pyserial and for the action, you have to define a new action message type (you do not have to do this for the port list because I was able to just use a default message type).\n"
   ]
  },
  {
   "cell_type": "markdown",
   "id": "e173e903-0ae4-4146-953e-5b1271527cdf",
   "metadata": {
    "tags": []
   },
   "source": [
    "## 0. Choose a directory in which to do all your work\n",
    "We will be changing directories to compile the action message type - but then flip back to this directory."
   ]
  },
  {
   "cell_type": "code",
   "execution_count": null,
   "id": "0f4930d8-1f07-4d16-a25c-406e344914d4",
   "metadata": {},
   "outputs": [],
   "source": [
    "import os\n",
    "\n",
    "home = os.path.expanduser('~')\n",
    "myDirectory = os.getcwd()\n",
    "myDirectory"
   ]
  },
  {
   "cell_type": "markdown",
   "id": "deaa76ee-f51a-42e4-ac91-8d34a4d206b0",
   "metadata": {
    "tags": []
   },
   "source": [
    "## 1. Talking over the serial port\n",
    "First we need to make sure you can talk over the serial port.  To do this, you have to install pyserial (pip3 install pyserial) and then run this code - can you talk with a micropython board?  First, here is the library we will use - you will need to save it locally\n"
   ]
  },
  {
   "cell_type": "code",
   "execution_count": null,
   "id": "be1bcf95-abea-453f-9125-fe8d822a5c5d",
   "metadata": {},
   "outputs": [],
   "source": [
    "%%writefile RogersSerial.py\n",
    "\n",
    "import serial\n",
    "import sys\n",
    "import glob\n",
    "import time\n",
    "import serial.tools.list_ports\n",
    "\n",
    "class SerialComm():\n",
    "    def __init__(self, port = None, baud = 115200, timeout = 0.1):\n",
    "        self.portList = self.ports()\n",
    "        if not port:\n",
    "            try:\n",
    "                port = self.portList[0]\n",
    "            except:\n",
    "                port = None\n",
    "        self.port = port\n",
    "        self.baud = baud\n",
    "        self.timeout = timeout\n",
    "        self.ser = None\n",
    "        \n",
    "    def ports(self):\n",
    "         result = []\n",
    "         portList = serial.tools.list_ports.comports()\n",
    "         for port, desc, hwid in sorted(portList):\n",
    "              result.append(port) \n",
    "         return result\n",
    "    \n",
    "    def init(self):\n",
    "        self.ser = serial.Serial(self.port, self.baud, timeout = self.timeout)  # open serial port\n",
    "        self.ser.flushInput()\n",
    "        self.ser.flushOutput()\n",
    "        return self.ser.name\n",
    "\n",
    "    def close(self):\n",
    "        self.ser.flush()\n",
    "        self.ser.close()\n",
    "\n",
    "    def write(self, string):\n",
    "        reply = self.ser.write(string)\n",
    "        return reply\n",
    "\n",
    "    def send(self, string):\n",
    "        payload = string + '\\r\\n'\n",
    "        reply = self.write(payload.encode())\n",
    "        return reply\n",
    "\n",
    "    def readline(self):\n",
    "        reply = ''\n",
    "        if self.ser.in_waiting:\n",
    "            reply = self.ser.readline().decode()\n",
    "        return reply\n",
    "    \n",
    "    def read(self, n = 0):\n",
    "        reply = ''\n",
    "        n = self.ser.in_waiting if n == 0 else n\n",
    "        if n:\n",
    "            reply = self.ser.read(n).decode()\n",
    "        return reply"
   ]
  },
  {
   "cell_type": "markdown",
   "id": "14be9ccb-00c2-4039-b0ce-50303e86a1d2",
   "metadata": {},
   "source": [
    "and then test it to make sure it is working - the code below should pick the first serial port on the list, initialize it, send 2+2 (it appends '\\r\\n') and read back the answer."
   ]
  },
  {
   "cell_type": "code",
   "execution_count": null,
   "id": "7e13b03f-789b-4a19-8e86-f5e02dbdcac4",
   "metadata": {},
   "outputs": [],
   "source": [
    "from RogersSerial import SerialComm\n",
    "\n",
    "s = SerialComm(timeout = 0.5)\n",
    "print(s.portList)\n",
    "s.init()\n",
    "s.send('2+2')\n",
    "print(s.read(100))\n",
    "s.close()"
   ]
  },
  {
   "cell_type": "markdown",
   "id": "8b5e5369-b8f5-40c6-a243-70f27c5235ef",
   "metadata": {
    "tags": []
   },
   "source": [
    "## 2. define a new action message\n",
    "For this, we will have to do the full ROS compiling.  This is building off of ([here](https://docs.ros.org/en/galactic/Tutorials/Intermediate/Creating-an-Action.html)) and defining it ([here](https://docs.ros.org/en/galactic/Tutorials/Intermediate/Writing-an-Action-Server-Client/Py.html))  The first step is to define it by creating the requisite paths, then folders and then create the package defining the action."
   ]
  },
  {
   "cell_type": "code",
   "execution_count": null,
   "id": "00e11210-6e1c-4c49-a10f-6f90c9c9151c",
   "metadata": {
    "tags": []
   },
   "outputs": [],
   "source": [
    "import os\n",
    "import subprocess\n",
    "\n",
    "home = os.path.expanduser('~')\n",
    "workspace = home +'/ros2_ws/'\n",
    "sourceFiles = workspace + 'src/'\n",
    "actionName = 'serialcomm'\n",
    "\n",
    "os.chdir(home)\n",
    "\n",
    "if not os.path.exists(sourceFiles):\n",
    "    os.makedirs(sourceFiles)\n",
    "os.chdir(sourceFiles)\n",
    "if not os.path.exists(sourceFiles + actionName):\n",
    "    reply = subprocess.run(['ros2','pkg','create',actionName],capture_output=True) #same as !ros2 pkg create action_tutorials_interfaces\n",
    "    os.chdir(sourceFiles + actionName)\n",
    "    os.mkdir('action')"
   ]
  },
  {
   "cell_type": "markdown",
   "id": "fc0c15ae-c5bc-420a-8286-1277c7dbac88",
   "metadata": {},
   "source": [
    "Next we set up the action definition file.  This defines the data types for *Resquest*, *Result*, and *Feedback*: the three parts to every action.  In this case, request (only one parameter: send) is a string, the result (only one parameter: redall) is a string, and the feedback you get when quering it while it is running (sofar) is a string.  So move to the action folder and then write the definition file."
   ]
  },
  {
   "cell_type": "code",
   "execution_count": null,
   "id": "4f0b6147-92a2-46ed-93eb-77fcd09dc65e",
   "metadata": {},
   "outputs": [],
   "source": [
    "os.chdir(sourceFiles + actionName + '/action')"
   ]
  },
  {
   "cell_type": "code",
   "execution_count": null,
   "id": "0e0f0780-eed4-436a-a9cc-0045784ce5e7",
   "metadata": {},
   "outputs": [],
   "source": [
    "%%writefile Serial.action\n",
    "\n",
    "string send\n",
    "---\n",
    "string readall\n",
    "---\n",
    "string sofar"
   ]
  },
  {
   "cell_type": "markdown",
   "id": "3415a308-8b54-4348-89bf-473e33e72802",
   "metadata": {},
   "source": [
    "We then have to edit the CMakeList - adding first the project name and then the package *rosidl_generate_interafaces* and then generating the ros2 interface for the action we just defined above.\n",
    "```bash\n",
    "find_package(rosidl_default_generators REQUIRED)\n",
    "\n",
    "rosidl_generate_interfaces(${PROJECT_NAME}\n",
    "  \"action/Serial.action\"\n",
    ")\n",
    "\n",
    "```"
   ]
  },
  {
   "cell_type": "code",
   "execution_count": null,
   "id": "e5a94059-434b-4e4d-bc56-6989ed7cfa31",
   "metadata": {},
   "outputs": [],
   "source": [
    "os.chdir(sourceFiles + actionName)"
   ]
  },
  {
   "cell_type": "code",
   "execution_count": null,
   "id": "6fe6dc64-19f5-4319-8948-1cd652471513",
   "metadata": {},
   "outputs": [],
   "source": [
    "%%writefile CMakeLists.txt\n",
    "cmake_minimum_required(VERSION 3.8)\n",
    "project(serialcomm)\n",
    "\n",
    "if(CMAKE_COMPILER_IS_GNUCXX OR CMAKE_CXX_COMPILER_ID MATCHES \"Clang\")\n",
    "  add_compile_options(-Wall -Wextra -Wpedantic)\n",
    "endif()\n",
    "\n",
    "# find dependencies\n",
    "find_package(ament_cmake REQUIRED)\n",
    "# uncomment the following section in order to fill in\n",
    "# further dependencies manually.\n",
    "# find_package(<dependency> REQUIRED)\n",
    "\n",
    "if(BUILD_TESTING)\n",
    "  find_package(ament_lint_auto REQUIRED)\n",
    "  # the following line skips the linter which checks for copyrights\n",
    "  # uncomment the line when a copyright and license is not present in all source files\n",
    "  #set(ament_cmake_copyright_FOUND TRUE)\n",
    "  # the following line skips cpplint (only works in a git repo)\n",
    "  # uncomment the line when this package is not in a git repo\n",
    "  #set(ament_cmake_cpplint_FOUND TRUE)\n",
    "  ament_lint_auto_find_test_dependencies()\n",
    "endif()\n",
    "\n",
    "find_package(rosidl_default_generators REQUIRED)\n",
    "\n",
    "rosidl_generate_interfaces(${PROJECT_NAME}\n",
    "  \"action/Serial.action\"\n",
    ")\n",
    "\n",
    "ament_package()\n"
   ]
  },
  {
   "cell_type": "markdown",
   "id": "88f50558-aee2-4c4d-8f78-14f20a320dd1",
   "metadata": {},
   "source": [
    "We then edit the package xml so that it has the right project name and has the new dependencies for the action\n",
    "```bash\n",
    "<buildtool_depend>rosidl_default_generators</buildtool_depend>\n",
    "\n",
    "<depend>action_msgs</depend>\n",
    "\n",
    "<member_of_group>rosidl_interface_packages</member_of_group>\n",
    "```"
   ]
  },
  {
   "cell_type": "code",
   "execution_count": null,
   "id": "cc786f36-14b5-4611-95c0-520588234a60",
   "metadata": {},
   "outputs": [],
   "source": [
    "os.chdir(sourceFiles + actionName)"
   ]
  },
  {
   "cell_type": "code",
   "execution_count": null,
   "id": "0cff21c8-9ede-4b0b-8936-e4ed1f4942e8",
   "metadata": {},
   "outputs": [],
   "source": [
    "%%writefile package.xml\n",
    "<?xml version=\"1.0\"?>\n",
    "<?xml-model href=\"http://download.ros.org/schema/package_format3.xsd\" schematypens=\"http://www.w3.org/2001/XMLSchema\"?>\n",
    "<package format=\"3\">\n",
    "  <name>serialcomm</name>\n",
    "  <version>0.0.1</version>\n",
    "  <description>This package will talk over the serial port</description>\n",
    "  <maintainer email=\"parallels@todo.todo\">parallels</maintainer>\n",
    "  <license>TODO: License declaration</license>\n",
    "\n",
    "  <buildtool_depend>ament_cmake</buildtool_depend>\n",
    "    \n",
    "  <buildtool_depend>rosidl_default_generators</buildtool_depend>\n",
    "  <depend>action_msgs</depend>\n",
    "  <member_of_group>rosidl_interface_packages</member_of_group>\n",
    "    \n",
    "  <test_depend>ament_lint_auto</test_depend>\n",
    "  <test_depend>ament_lint_common</test_depend>\n",
    "\n",
    "  <export>\n",
    "    <build_type>ament_cmake</build_type>\n",
    "  </export>\n",
    "</package>\n"
   ]
  },
  {
   "cell_type": "markdown",
   "id": "6235c368-3636-4aaa-998e-1de9add4c24e",
   "metadata": {},
   "source": [
    "Lastly we have to build it by running *colcon build* in the workspace directory and hope that it works successfully."
   ]
  },
  {
   "cell_type": "code",
   "execution_count": null,
   "id": "dc824cdb-c28b-4f4f-afad-32e7b0895cdf",
   "metadata": {},
   "outputs": [],
   "source": [
    "import subprocess\n",
    "os.chdir(home + '/ros2_ws')\n",
    "reply = subprocess.run(['colcon','build'],capture_output=True)"
   ]
  },
  {
   "cell_type": "code",
   "execution_count": null,
   "id": "aa4449a5-8ef7-4ff8-9138-0daffcf9d71d",
   "metadata": {},
   "outputs": [],
   "source": [
    "reply"
   ]
  },
  {
   "cell_type": "markdown",
   "id": "31d5f214-a176-4511-be6f-e736cc648262",
   "metadata": {},
   "source": [
    "Now you have to go to the terminal (I cannot figure out how to run this within the notebook) and run \n",
    "```bash\n",
    "cd ~/ros2_ws\n",
    ". install/setup.bash\n",
    "ros2 interface show serialcomm/action/Serial\n",
    "```\n",
    "This will test the action definition. Now that you have defined the action - you need to write some code "
   ]
  },
  {
   "cell_type": "markdown",
   "id": "251d1c3e-261d-4ff5-b2ef-8760e43ccca2",
   "metadata": {
    "tags": []
   },
   "source": [
    "## 3. set up your ROS server\n",
    "We need to write a server that has one publisher, one subscriber, one service, and one action.  Note, you cannot run this server in the notebook page because the setup.bash was not run.  You have to run it in the same terminal window that you ran the setup.bash.  Make sure to move to the directory you chose in the beginnning."
   ]
  },
  {
   "cell_type": "code",
   "execution_count": null,
   "id": "63531df8-b637-41a7-88d8-1b73da6e5cf8",
   "metadata": {},
   "outputs": [],
   "source": [
    "import os\n",
    "os.chdir(myDirectory)"
   ]
  },
  {
   "cell_type": "code",
   "execution_count": null,
   "id": "a8235519-c55f-40c0-a910-b8ed462dc77b",
   "metadata": {},
   "outputs": [],
   "source": [
    "%%writefile ROSserialServer.py\n",
    "\n",
    "from rclpy.node import Node\n",
    "from rclpy.action import ActionServer\n",
    "from std_msgs.msg import String\n",
    "from std_srvs.srv import SetBool\n",
    "from serialcomm.action import Serial\n",
    "\n",
    "from RogersSerial import SerialComm\n",
    "import time\n",
    "\n",
    "class ROS_Serial(Node):\n",
    "\n",
    "    def __init__(self, port = None):  \n",
    "        # initialize the topic (name it, create the publisher and publishing rate\n",
    "        super().__init__('SerialNode')\n",
    "        queue_size = 10\n",
    "        self.serialPub = self.create_publisher(String, '/serial/read', queue_size)  \n",
    "        self.serialSub = self.create_subscription(String,'/serial/write',self.listener_callback,10)\n",
    "        self.serialSub  # prevent unused variable warning\n",
    "        self.srv = self.create_service(SetBool, '/serial/list', self.ports_callback)      \n",
    "        self._action_server = ActionServer(self,Serial,'/serial/writeRead',self.execute_callback)\n",
    "        print('set up and waiting')\n",
    "\n",
    "        timer_period = 1  # seconds\n",
    "        self.timer = self.create_timer(timer_period, self.timer_callback)\n",
    "        self.serial = SerialComm(port, 115200, 0.1)   # defaults to first port if port is None\n",
    "        self.serial.init()\n",
    "        print('initialized port ' + str(self.serial.port))\n",
    "        \n",
    "#-------------------------define both callbacks\n",
    "\n",
    "    def timer_callback(self):\n",
    "        # every interval, check for new data\n",
    "        reply = self.serial.read()  # reads everything in the buffer without a wait\n",
    "        if reply:\n",
    "            msg = String()\n",
    "            msg.data = reply\n",
    "            self.serialPub.publish(msg)\n",
    "            self.get_logger().info('reading back: \"%s\"' % msg.data)  # prints to console / log\n",
    "\n",
    "    def listener_callback(self, msg):\n",
    "        payload = msg.data + '\\r\\n'\n",
    "        self.get_logger().info('I am writing this to the serial port: \"%s\"' % payload)\n",
    "        self.serial.write(payload.encode())\n",
    "        \n",
    "        \n",
    "    def ports_callback(self, request, response):\n",
    "        pL = self.serial.ports()\n",
    "        response.message = str(pL) if request.data else pL[0]\n",
    "        response.success = True\n",
    "        self.get_logger().info('deal') \n",
    "        return response\n",
    "    \n",
    "    def execute_callback(self, goal_handle):\n",
    "        self.get_logger().info('Executing goal...')\n",
    "        feedback_msg = Serial.Feedback()\n",
    "        payload = goal_handle.request.send + '\\r\\n'\n",
    "        self.serial.write(payload.encode())\n",
    "\n",
    "        done = False\n",
    "        reply = ''\n",
    "        while not done:\n",
    "            reply = reply + self.serial.read()\n",
    "            feedback_msg.sofar = reply\n",
    "            self.get_logger().info('Feedback: {0}'.format(feedback_msg.sofar))\n",
    "            goal_handle.publish_feedback(feedback_msg)\n",
    "            time.sleep(1)\n",
    "            done = '>>>' in reply\n",
    "\n",
    "        goal_handle.succeed()\n",
    "\n",
    "        result = Serial.Result()\n",
    "        result.readall = reply\n",
    "        return result\n"
   ]
  },
  {
   "cell_type": "markdown",
   "id": "468a37b1-a4de-405f-9aa6-2047cda7c558",
   "metadata": {},
   "source": [
    "and write the main code to spin up the server "
   ]
  },
  {
   "cell_type": "code",
   "execution_count": null,
   "id": "11dbb2e0-828b-4f4e-992b-222bece192a2",
   "metadata": {},
   "outputs": [],
   "source": [
    "%%writefile serialMain.py\n",
    "import rclpy\n",
    "from ROSserialServer import *\n",
    "\n",
    "def main():\n",
    "    rclpy.init()\n",
    "    s = ROS_Serial()\n",
    "    try:\n",
    "        print('spinning up serial')\n",
    "        rclpy.spin(s)\n",
    "        # stay here forever, reading and publishing strings\n",
    "    except Exception as e:\n",
    "        print(e)\n",
    "    finally:\n",
    "        s.destroy_node()\n",
    "        rclpy.shutdown()\n",
    "        print('Done')\n",
    "        \n",
    "main()"
   ]
  },
  {
   "cell_type": "markdown",
   "id": "4c4aca5d-de20-4904-b6c3-1aba9feefcab",
   "metadata": {},
   "source": [
    "Now you should have the ability to run your server (and to test it).  To run it, go to your terminal (where you previously ran the setup.bash) and:\n",
    "```bash\n",
    ". ~/ros2_ws/install/setup.bash\n",
    "python3 serialMain.py\n",
    "```\n",
    "You can test it by opening a second terminal window and subscribe to reading the serial port:\n",
    "```bash\n",
    ". ~/ros2_ws/install/setup.bash\n",
    "ros2 node list\n",
    "ros2 topic echo '/serial/read'\n",
    "```\n",
    "then you can test a bunch of stuff from within the notebook.  First make sure your new node /SerialNode appears in the list.  Then, ask for the full information and make srue that you see your publisher, subscriber, service, and action.  Then try publishing a command and see that the answer appears in your subscriber window.  Finally, you can try the action as well."
   ]
  },
  {
   "cell_type": "code",
   "execution_count": null,
   "id": "7b549b26-35b0-4792-8fc3-5fcc904f98da",
   "metadata": {},
   "outputs": [],
   "source": [
    "!ros2 node list\n",
    "!ros2 node info /SerialNode"
   ]
  },
  {
   "cell_type": "code",
   "execution_count": null,
   "id": "0d24786c-152a-4f2f-9f54-13489cae6143",
   "metadata": {},
   "outputs": [],
   "source": [
    "!ros2 topic list\n",
    "!ros2 topic pub -1 /serial/write std_msgs/msg/String 'data: 2+2'"
   ]
  },
  {
   "cell_type": "code",
   "execution_count": null,
   "id": "69f59449-c6c0-49bb-941a-fbd3803d0c78",
   "metadata": {},
   "outputs": [],
   "source": [
    "!ros2 service call /serial/list std_srvs/srv/SetBool \"{data: True}\""
   ]
  },
  {
   "cell_type": "markdown",
   "id": "7c1abfb5-dc98-4966-be3d-170089a9a4a9",
   "metadata": {},
   "source": [
    "Finally, you can test the action by opening up a third terminal window and seding hte following commands\n",
    "```bash\n",
    ". ~/ros2_ws/install/setup.bash\n",
    "ros2 action send_goal /serial/writeRead serialcomm/action/Serial \"{send: '2+2'}\"\n",
    "```"
   ]
  },
  {
   "cell_type": "markdown",
   "id": "856c6054-5524-4274-9952-450313eee323",
   "metadata": {
    "tags": []
   },
   "source": [
    "## 4. Done\n",
    "You now should have a way to send information back and forth over the serial port."
   ]
  },
  {
   "cell_type": "code",
   "execution_count": null,
   "id": "d8f8a2dc-26df-4795-81b2-6ffa2603269b",
   "metadata": {},
   "outputs": [],
   "source": []
  }
 ],
 "metadata": {
  "kernelspec": {
   "display_name": "Python 3 (ipykernel)",
   "language": "python",
   "name": "python3"
  },
  "language_info": {
   "codemirror_mode": {
    "name": "ipython",
    "version": 3
   },
   "file_extension": ".py",
   "mimetype": "text/x-python",
   "name": "python",
   "nbconvert_exporter": "python",
   "pygments_lexer": "ipython3",
   "version": "3.9.13"
  }
 },
 "nbformat": 4,
 "nbformat_minor": 5
}
