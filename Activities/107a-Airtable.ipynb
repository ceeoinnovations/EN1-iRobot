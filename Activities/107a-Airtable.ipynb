{
 "cells": [
  {
   "cell_type": "markdown",
   "id": "ffdf0811-b8c2-4c6c-9e6e-7a78884b1753",
   "metadata": {},
   "source": [
    "## Airtable"
   ]
  },
  {
   "cell_type": "markdown",
   "id": "3ade9f01-3803-4080-91e5-7de1ee9ff7b9",
   "metadata": {},
   "source": [
    "[Airtable](https://airtable.com) is essentially a table in the cloud that you can write to and read from using RestAPI.  RestAPI is the standard way your web browser gets a webpage.  When you type apple.com into the browser, it performs a GET call and the server at apple replies with a bunch of HTML and a slew of different pieces of information (page size, etc).  To do a GET call, you either go to a public site  (like Chuck Norris jokes below) or one that has passwords and AppKeys."
   ]
  },
  {
   "cell_type": "code",
   "execution_count": null,
   "id": "aa39fa36-e61b-421e-9001-a4ff58a35a6d",
   "metadata": {},
   "outputs": [],
   "source": [
    "import requests\n",
    "r = requests.get('https://api.chucknorris.io/jokes/random')\n",
    "r.json()['value']"
   ]
  },
  {
   "cell_type": "markdown",
   "id": "b43d5a54-9205-4549-956b-e2409c33dcf8",
   "metadata": {},
   "source": [
    "A few things to note here - you need to import the library called *requests* and then tell it to GET your url.  It will return text (usually in [json format](https://en.wikipedia.org/wiki/JSON)).  To talk with Airtable, we will need to deal with some security.  Instead of using passwords, most IoT cloud servers use AppKeys - this lets you give different people different keys to your site and you can kill keys whenever you want without changing your password.  Otherwise they are just like a password.  So steps:\n",
    "1. go to [airtable](https://airtable.com) and set up an account\n",
    "2. follow [these](https://www.ceeoinnovations.org/telerobotics-workshop/img/Airtable_Step_by_Step.pdf) directions and get an APIKey (access to your account), BaseID (access to that workbook) and RecIDs (one for each cell) and save them as variables.\n",
    "3. Go to [here](https://airtable.com/api) to see how the API works"
   ]
  },
  {
   "cell_type": "code",
   "execution_count": null,
   "id": "5d09cb54-94c0-4012-bf8c-3d7e5960ea1f",
   "metadata": {},
   "outputs": [],
   "source": [
    "APIKey = ''\n",
    "BaseID = ''\n",
    "RecID_X = ''\n",
    "RecID_Y = ''\n",
    "RecID_Theta = ''\n",
    "tableName = 'Buzz'"
   ]
  },
  {
   "cell_type": "markdown",
   "id": "eec8301c-faef-487c-8074-c01793a47b35",
   "metadata": {},
   "source": [
    "Airtable actually has a really nice site for learning the API calls [here](https://airtable.com/api) - Now make sure to fill in values for the different commands and you should be able to read them back with this:"
   ]
  },
  {
   "cell_type": "code",
   "execution_count": null,
   "id": "2b44f96c-03a5-4dab-ae7d-03ec2dcfd7dd",
   "metadata": {},
   "outputs": [],
   "source": [
    "import requests\n",
    "\n",
    "URL = 'https://api.airtable.com/v0/' + BaseID + '/' + tableName + '?api_key=' + APIKey\n",
    "try:\n",
    "    r = requests.get(url = URL, params = {})\n",
    "    data = r.json()\n",
    "    print(data)\n",
    "except:\n",
    "    print('failed')"
   ]
  },
  {
   "cell_type": "markdown",
   "id": "9f86b7e2-b4fb-494e-a410-23cf4537eb99",
   "metadata": {},
   "source": [
    "Hopefully you see a bunch of json coming back.  We now need to read off the values we want.  I set my table up with floating point values for the speeds, if you used strings like in the example, make values a bunch of strings."
   ]
  },
  {
   "cell_type": "code",
   "execution_count": null,
   "id": "b3b7c0a2-9d2c-4486-b69f-da2fa62cc0f8",
   "metadata": {},
   "outputs": [],
   "source": [
    "IDs = [RecID_X,RecID_Y,RecID_Theta]\n",
    "values = [0.0,0.0,0.0]\n",
    "names = ['','','']\n",
    "\n",
    "for command in data['records']:\n",
    "    values[IDs.index(command['fields']['RecordID'])] = command['fields']['Value']    \n",
    "    names[IDs.index(command['fields']['RecordID'])] = command['fields']['Name']\n",
    "print(values)"
   ]
  },
  {
   "cell_type": "markdown",
   "id": "efb44f8a-c508-427d-ae28-9f048fc71aee",
   "metadata": {},
   "source": [
    "If you want to see a sammple record, run this"
   ]
  },
  {
   "cell_type": "code",
   "execution_count": null,
   "id": "a95b6b23-78e3-4444-a777-a067794842f5",
   "metadata": {},
   "outputs": [],
   "source": [
    "command=data['records'][0]\n",
    "command"
   ]
  },
  {
   "cell_type": "markdown",
   "id": "c2b608d3-6fb7-4496-a00a-c984c058a5d3",
   "metadata": {},
   "source": [
    "Now to control the Create.  First make sure that the main EN1-iRobot is on the python path"
   ]
  },
  {
   "cell_type": "code",
   "execution_count": null,
   "id": "bc164941-920e-4251-a124-a8b094303d4a",
   "metadata": {},
   "outputs": [],
   "source": [
    "import os, sys\n",
    "\n",
    "path = os. getcwd()\n",
    "print(path)\n",
    "sys.path.append(os.path.split(path)[0])"
   ]
  },
  {
   "cell_type": "markdown",
   "id": "f697c382-eb7a-44a5-8f00-cbb064f25376",
   "metadata": {},
   "source": [
    "Now we need to translate those records into motion with the Create.  We can take the Keyboard code we used and have it read from Airtable instead."
   ]
  },
  {
   "cell_type": "code",
   "execution_count": null,
   "id": "a6429b5b-b0fa-4428-a10e-380f2931336b",
   "metadata": {
    "tags": []
   },
   "outputs": [],
   "source": [
    "import time, os, requests\n",
    "from Subs.CreateLib import Create\n",
    "\n",
    "APIKey = ''\n",
    "BaseID = ''\n",
    "RecID_X = ''\n",
    "RecID_Y = ''\n",
    "RecID_Theta = ''\n",
    "tableName = 'Buzz'\n",
    "IDs = [RecID_X,RecID_Y,RecID_Theta]\n",
    "\n",
    "def AskAirtable():\n",
    "    URL = 'https://api.airtable.com/v0/' + BaseID + '/' + tableName + '?api_key=' + APIKey\n",
    "    values = [0.0,0.0,0.0]\n",
    "    names = ['','','']\n",
    "\n",
    "    try:\n",
    "        r = requests.get(url = URL, params = {})\n",
    "        data = r.json()\n",
    "        for command in data['records']:\n",
    "            values[IDs.index(command['fields']['recordID'])] = command['fields']['Value']    \n",
    "            names[IDs.index(command['fields']['recordID'])] = command['fields']['Name']\n",
    "        return values\n",
    "    except:\n",
    "        return None\n",
    "\n",
    "def main():\n",
    "    os.environ['ROS_DOMAIN_ID']=\"7\"\n",
    "    os.environ['RMW_IMPLEMENTATION']=\"rmw_cyclonedds_cpp\"\n",
    "    motion = Create('/Buzz')\n",
    "\n",
    "    speed = 0.5\n",
    "    turn = 1.0\n",
    "    (x, y, z, th) = (0.0,0.0,0.0,0.0)\n",
    "\n",
    "    try:\n",
    "        print('ready to drive',end='')\n",
    "        \n",
    "        while True:\n",
    "            key = AskAirtable()\n",
    "            print(key)\n",
    "            if key:  #make sure you read data\n",
    "                x = key[0]\n",
    "                y = key[1]\n",
    "                z = 0.0\n",
    "                th = key[2]\n",
    "                \n",
    "                motion.twist(x, y, z, th, speed, turn)\n",
    "                print('.',end='')\n",
    "                \n",
    "            else:\n",
    "                (x, y, z, th) = (0.0,0.0,0.0,0.0)\n",
    "            time.sleep(2)\n",
    "                    \n",
    "    except Exception as e:\n",
    "        print(e)\n",
    "\n",
    "    finally:\n",
    "        motion.twist(0.0, 0.0, 0.0, 0.0, 0.5, 1.0)\n",
    "        motion.close()\n",
    "\n",
    "main()"
   ]
  },
  {
   "cell_type": "markdown",
   "id": "ddb4e3bc-0747-4ab0-b2f3-0a621c1c6154",
   "metadata": {},
   "source": [
    "## Writing to Airtable"
   ]
  },
  {
   "cell_type": "markdown",
   "id": "7463e314-d371-4ae9-a644-daee5f3e87d9",
   "metadata": {},
   "source": [
    "And you can set Airtable cells like this:"
   ]
  },
  {
   "cell_type": "code",
   "execution_count": null,
   "id": "5915f8fc-262f-4bff-855d-299a13bbcd88",
   "metadata": {},
   "outputs": [],
   "source": [
    "URL='https://api.airtable.com/v0/appH1treteNoTJTyN/Buzz'\n",
    "\n",
    "Headers={\"Authorization\":\"Bearer \" + APIKey,\n",
    "        \"Content-Type\":\"application/json\"}\n",
    "\n",
    "Params = {\n",
    "  \"records\": [\n",
    "    {\n",
    "      \"id\": RecID_X,\n",
    "      \"fields\": {\n",
    "        \"Name\": \"X\",\n",
    "        \"Value\": 4.3\n",
    "      }\n",
    "    }\n",
    "    ]\n",
    "    }\n",
    "\n",
    "r = requests.patch(url = URL, headers=Headers, json = Params)\n",
    "print(r.text)\n",
    "print(Headers)\n",
    "print(URL)"
   ]
  },
  {
   "cell_type": "code",
   "execution_count": null,
   "id": "8565b4a2-0353-4ef6-960c-74ec62885315",
   "metadata": {},
   "outputs": [],
   "source": []
  }
 ],
 "metadata": {
  "kernelspec": {
   "display_name": "Python 3 (ipykernel)",
   "language": "python",
   "name": "python3"
  },
  "language_info": {
   "codemirror_mode": {
    "name": "ipython",
    "version": 3
   },
   "file_extension": ".py",
   "mimetype": "text/x-python",
   "name": "python",
   "nbconvert_exporter": "python",
   "pygments_lexer": "ipython3",
   "version": "3.9.13"
  }
 },
 "nbformat": 4,
 "nbformat_minor": 5
}
