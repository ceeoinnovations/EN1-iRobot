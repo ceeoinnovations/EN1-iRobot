{
 "cells": [
  {
   "cell_type": "markdown",
   "id": "7f607b8d-df12-4d68-ab28-ce8a749e8739",
   "metadata": {
    "tags": []
   },
   "source": [
    "# Writing ROS commands in python"
   ]
  },
  {
   "cell_type": "markdown",
   "id": "dfdab2b9-725f-4b31-9a02-1cb01d456baa",
   "metadata": {},
   "source": [
    "For those totally new to ROS and want to learn a lot more, there are a number of great online courses (for instance [this](https://docs.ros.org/en/foxy/Tutorials.html)).  How do you start ROS from scratch?  I found the easiest way was to start with publishers and subscribers.  "
   ]
  },
  {
   "cell_type": "markdown",
   "id": "57e1e5ec-7803-4bf3-a588-beebfc2c5c63",
   "metadata": {},
   "source": [
    "<h4>Publish and Subscribe</h4>"
   ]
  },
  {
   "cell_type": "markdown",
   "id": "889ad7b0-e215-4a37-91e5-e5aaf1db36e3",
   "metadata": {},
   "source": [
    "Grabbing the example code from the [ROS tutorials](https://docs.ros.org/en/galactic/Tutorials/Beginner-Client-Libraries/Writing-A-Simple-Py-Publisher-And-Subscriber.html), we can set up a topic that \"chatters\" and we can also subscribe to it. To do this, we are going to have to set up two separate kernels (or threads) - one that is running the publisher and one that is running the subscriber.  We can do that with two different notebooks - [publisher](111-ROS_Publisher.ipynb) and [subscriber](112-ROS_Subscriber.ipynb). Open them as two separate windows side by side and you can see them talking with each other."
   ]
  },
  {
   "cell_type": "markdown",
   "id": "26788ea1",
   "metadata": {},
   "source": [
    "<h4>Services</h4>"
   ]
  },
  {
   "cell_type": "markdown",
   "id": "78af8998-d09b-4966-a00e-a987c389fbf8",
   "metadata": {},
   "source": [
    "We will not really be using services in this class - but again you can grab the example code from the [ROS tutorials](https://docs.ros.org/en/galactic/Tutorials/Beginner-Client-Libraries/Writing-A-Simple-Py-Publisher-And-Subscriber.html), and set up a simple service that answers a question and then query it. I have an example that works [here](113-ROS_Service_setup.ipynb)."
   ]
  },
  {
   "cell_type": "markdown",
   "id": "2bd179d4-5ca2-4961-a279-214c729b34d7",
   "metadata": {},
   "source": [
    "<h4>Actions</h4>"
   ]
  },
  {
   "cell_type": "markdown",
   "id": "fbe09be4-0aa0-4329-9b43-5dd16465efee",
   "metadata": {},
   "source": [
    "Finally, we will be using a few actions - but only the client side.  If you write the server side (what iRobot wrote for the Create), then you have to make a package - as with services.  I wrote up a simple example [here](115-ROS_action_definition.ipynb)"
   ]
  },
  {
   "cell_type": "markdown",
   "id": "a9262968-5660-41b0-a3c4-2d19e58f51d5",
   "metadata": {},
   "source": [
    "<h4>The Kitchen Sink</h4>"
   ]
  },
  {
   "cell_type": "markdown",
   "id": "9441400c-83b2-42f0-82f1-eca3e44da53e",
   "metadata": {},
   "source": [
    "Now lets combine them all together to do something stupendus."
   ]
  },
  {
   "cell_type": "code",
   "execution_count": null,
   "id": "c4d926ba-f380-4184-9377-67e4233ce08f",
   "metadata": {},
   "outputs": [],
   "source": []
  },
  {
   "cell_type": "markdown",
   "id": "dbb2e853-6c74-4cfe-a105-deb6c5d68841",
   "metadata": {},
   "source": [
    "Finally, Maddie and Kate developed a slew of examples [here]() and Sawyer (previous student) developed some more [here](https://github.com/paccionesawyer/Create3_ROS2_Intro) that you might find useful."
   ]
  },
  {
   "cell_type": "markdown",
   "id": "b82d03eb-3758-48c7-b47c-6b6495f67707",
   "metadata": {},
   "source": [
    "## ROS and the Create"
   ]
  },
  {
   "cell_type": "markdown",
   "id": "8377825b-bf71-4d8b-9737-1c6983f6ed3c",
   "metadata": {
    "tags": []
   },
   "source": [
    "So how do all these apply to the Create?  Here are some more specific examples."
   ]
  },
  {
   "cell_type": "markdown",
   "id": "119def56-3c47-4899-b9a2-4791c6bbc4f4",
   "metadata": {},
   "source": [
    "<h4>Publishers and Subscribers</h4>"
   ]
  },
  {
   "cell_type": "markdown",
   "id": "c678d3d4-eee4-45b1-8c0f-68180f6ea08c",
   "metadata": {},
   "source": [
    "One of the most commmon ways of communicating is by either telling the robot what to do (publishing) or listening to the robot (subscribing).  Publishing to a topic happens on uniform time intervals (that you set) and subscribing happens whenever something is published.  Multiple nodes (computers, robots, etc) can publish to the same topic and multiple nodes can subscribe.  See an animation of them [here](https://docs.ros.org/en/galactic/Tutorials/Beginner-CLI-Tools/Understanding-ROS2-Topics/Understanding-ROS2-Topics.html).  A few examples on the Create:\n",
    "- Publish to the LEDs to change the light color\n",
    "- Subscribe to the battery to see how much battery power is left\n",
    "- Publish the desired location\n",
    "- Subscribe to the current location"
   ]
  },
  {
   "cell_type": "markdown",
   "id": "a2164449-fd91-41d8-960b-77b8ff3f4332",
   "metadata": {},
   "source": [
    "<h4>Services and Actions</h4>"
   ]
  },
  {
   "cell_type": "markdown",
   "id": "e92f1625-c10a-40be-9b9b-ae3e9fd2a022",
   "metadata": {},
   "source": [
    "A service is something where you want immediate feedback from the Create - and you really only want it once.  Actions are similar, but they usually take a while (like turning 180 degrees).  So with actions, you set a goal and then when the goal is done, the action will execute a callback (a \"I am Done\" function).  There is a nice animation of services [here](https://docs.ros.org/en/galactic/Tutorials/Beginner-CLI-Tools/Understanding-ROS2-Services/Understanding-ROS2-Services.html) and actions [here](https://docs.ros.org/en/galactic/Tutorials/Beginner-CLI-Tools/Understanding-ROS2-Actions/Understanding-ROS2-Actions.html).  A few examples for the Create are:\n",
    "- this is a service\n",
    "- docking and undocking are actions\n",
    "- something else is a service\n",
    "- Moving or turning a certian amount is an action."
   ]
  },
  {
   "cell_type": "markdown",
   "id": "88b25ffe-e717-4c2e-8e4b-c2e03c44e28b",
   "metadata": {},
   "source": [
    "<h4>Parameters</h4>"
   ]
  },
  {
   "cell_type": "markdown",
   "id": "b770be8e-fcbb-4bc0-8e9c-1119a7d39d67",
   "metadata": {},
   "source": [
    "There are also a number of robot parameters (for instance "
   ]
  },
  {
   "cell_type": "markdown",
   "id": "8df62806-6c93-4272-8708-36f2cf038b1a",
   "metadata": {},
   "source": [
    "<h4>Packages</h4>"
   ]
  },
  {
   "cell_type": "markdown",
   "id": "279a2f4e-71fa-4a71-8769-056222505cfc",
   "metadata": {},
   "source": [
    "If you want to write your own drivers (for instance, what the folks at iRobot are doing for all the Create-specific commands you have been using), you need to do things like define new message types, define properties of an action or service, and so on.  These are all part of a bigger package format, where you save descriptor files (message types etc) and your python code."
   ]
  }
 ],
 "metadata": {
  "kernelspec": {
   "display_name": "Python 3 (ipykernel)",
   "language": "python",
   "name": "python3"
  },
  "language_info": {
   "codemirror_mode": {
    "name": "ipython",
    "version": 3
   },
   "file_extension": ".py",
   "mimetype": "text/x-python",
   "name": "python",
   "nbconvert_exporter": "python",
   "pygments_lexer": "ipython3",
   "version": "3.8.10"
  }
 },
 "nbformat": 4,
 "nbformat_minor": 5
}
