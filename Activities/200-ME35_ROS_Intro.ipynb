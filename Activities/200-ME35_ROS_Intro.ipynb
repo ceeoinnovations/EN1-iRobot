{
 "cells": [
  {
   "cell_type": "markdown",
   "id": "292a4af1-0c96-4064-9e4d-c2421ea1489e",
   "metadata": {
    "tags": []
   },
   "source": [
    "<h1>Beginning ROS2</h1>ROS2 is similar to MQTT in that you publish and subscribe to send messages over TCP/IP. However, in this case there is no broker as it only looks for other ROS nodes on the same LAN (local area network). You can go outside your network by saving a config file with the appropriate IP addresses."
   ]
  },
  {
   "cell_type": "markdown",
   "id": "d90448b3-953d-46ed-999d-7376a053f07a",
   "metadata": {
    "jp-MarkdownHeadingCollapsed": true,
    "tags": []
   },
   "source": [
    "## Publishing and Subscribing with CLI\n",
    "You can publish anything you want by simply typing the following command line (CLI) into a terminal on a computer that is running ROS.  Note that the ! is a Jupyter Notebook trick for running a command line from within the notebook.  This line says that you are going to publish once a topic called \"chatter\" and send the string (a standard message type) \"Hello\".  For more on how to use the notebooks, go [here](../Help/200-JupyterLabs.ipynb)."
   ]
  },
  {
   "cell_type": "code",
   "execution_count": null,
   "id": "2a6624a9-b916-4d48-8724-4f68884c6a86",
   "metadata": {},
   "outputs": [],
   "source": [
    "!ros2 topic pub -1 /chatter std_msgs/msg/String 'data: Hello'"
   ]
  },
  {
   "cell_type": "markdown",
   "id": "59855eff-0e25-42db-954c-d6cc139bffa7",
   "metadata": {},
   "source": [
    "Of course that does not do any good if no one is listening - so likewise you can subscribe to a topic in a commandline with the message below.  HOWEVER, if you do this from within the notebook, you will not be able to run any other commands - so you have a few choices.  (1) you can buddy up - and one of you publishes and one of you subscribes, or (2) you can open a terminal (blue plus sign and choose a terminal) and talk from notebook to terminal, or (3) you can start a new notebook."
   ]
  },
  {
   "cell_type": "code",
   "execution_count": null,
   "id": "19b07ff8-dd54-491b-a01c-05dd510ff69f",
   "metadata": {},
   "outputs": [],
   "source": [
    "!ros2 topic echo '/chatter'"
   ]
  },
  {
   "cell_type": "markdown",
   "id": "4b8b8a5e-d3cf-4d7f-8e8e-faecd5f9cf17",
   "metadata": {},
   "source": [
    "There are a lot of commandline codes (look [here](https://www.theconstructsim.com/wp-content/uploads/2021/10/ROS2-Command-Cheat-Sheets-updated.pdf) for a complete list).  Some of the more useful ones are listing notes and topics."
   ]
  },
  {
   "cell_type": "code",
   "execution_count": null,
   "id": "19e2a04a-814e-4c89-8b2e-84dfb3a7c208",
   "metadata": {},
   "outputs": [],
   "source": [
    "!ros2 topic list"
   ]
  },
  {
   "cell_type": "code",
   "execution_count": null,
   "id": "0de22292-37b5-42f3-92e5-06a26ef4dca4",
   "metadata": {},
   "outputs": [],
   "source": [
    "!ros2 node list"
   ]
  },
  {
   "cell_type": "markdown",
   "id": "8ec2bc80-8ef3-4c5f-bbe1-9cb4b0b7a7e1",
   "metadata": {},
   "source": [
    "So what is the difference?  Each node contains a number of topics.  Each topic can be published to or subscribed to.  Typically, your robot is a node (like /myRobot) with a number of topics (like /myRobot/move).  You can always find out more about the topic with this command:"
   ]
  },
  {
   "cell_type": "code",
   "execution_count": null,
   "id": "6a768482-5064-4cde-af2c-cb309c97e173",
   "metadata": {},
   "outputs": [],
   "source": [
    "!ros2 topic info /chatter"
   ]
  },
  {
   "cell_type": "markdown",
   "id": "b037941d-f21c-453c-81d2-45202f4f1dcc",
   "metadata": {
    "jp-MarkdownHeadingCollapsed": true,
    "tags": []
   },
   "source": [
    "## Publish and Subscribe with Python\n",
    "Clearly the CLI will not work in the long term in that you probably want to integrate a bunch of other sutff with your robot control code - so that is where Python comes in.\n",
    "\n",
    "All of your python code is asynchronous - meaning that you have to set up mulitple tasks that run in parallel.  Like asyncio, you will define a few functions with callbacks and then spin it all up.  Here is a simple code that publishes every second to the topic \"tell\" and subscribes to the topic \"listen\"."
   ]
  },
  {
   "cell_type": "code",
   "execution_count": null,
   "id": "2d4d2802-0267-457e-adf2-6ce479a481f8",
   "metadata": {},
   "outputs": [],
   "source": [
    "from rclpy.node import Node\n",
    "from std_msgs.msg import String\n",
    "\n",
    "import time\n",
    "\n",
    "class ROS_Minimal(Node):\n",
    "\n",
    "    def __init__(self, port = None):  \n",
    "        # initialize the topic (name it, create the publisher and publishing rate\n",
    "        super().__init__('MinimalNode')\n",
    "        queue_size = 10\n",
    "        self.serialPub = self.create_publisher(String, '/tell', queue_size)  \n",
    "        self.serialSub = self.create_subscription(String,'/listen',self.listener_callback,10)\n",
    "        self.serialSub  # prevent unused variable warning\n",
    "\n",
    "        timer_period = 1  # seconds\n",
    "        self.timer = self.create_timer(timer_period, self.timer_callback)\n",
    "        print('initialized node ')\n",
    "        \n",
    "#-------------------------define callbacks\n",
    "\n",
    "    def timer_callback(self):\n",
    "        # every interval, check for new data\n",
    "        msg = String()\n",
    "        msg.data = str(time.time())\n",
    "        self.serialPub.publish(msg)\n",
    "        self.get_logger().info('published: \"%s\"' % msg.data)  # prints to console / log\n",
    "\n",
    "    def listener_callback(self, msg):\n",
    "        payload = msg.data\n",
    "        print(\"I heard \"+payload)\n",
    "        self.get_logger().info('I heard: \"%s\"' % payload)        \n",
    "        \n",
    "#------------------------run everything\n",
    "import rclpy\n",
    "\n",
    "def main():\n",
    "    print('starting up')\n",
    "    rclpy.init()\n",
    "    node = ROS_Minimal()\n",
    "    try:\n",
    "        print('spinning up node')\n",
    "        rclpy.spin(node)\n",
    "        # stay here forever, reading and publishing messages\n",
    "    except Exception as e:\n",
    "        print(e)\n",
    "    finally:\n",
    "        node.destroy_node()\n",
    "        rclpy.shutdown()\n",
    "        print('Done')\n",
    "        \n",
    "main()"
   ]
  },
  {
   "cell_type": "markdown",
   "id": "1cdba290-7dc4-4c5a-979b-30c38fd22952",
   "metadata": {},
   "source": [
    "Try going to the terminal window and to a ros2 topic list - do you see your topic?  Get someone else to publish to '/listen' - does your subscription work?"
   ]
  },
  {
   "cell_type": "markdown",
   "id": "dae19f3f-d349-470b-b374-602ec0b1af3b",
   "metadata": {
    "tags": []
   },
   "source": [
    "## Services and actions\n",
    "But wait - there is more.  A node can also have services or actions.  Services are things that you ask for once and get back an immediate answer (for instance a version number- something that does not change).  A service has two parts - a *Request* and a *Response*. An action is the same thing only it is for things that take a little longer.  So it has three states (and two callbacks): *Resquest*, *Result*, and *Feedback*.  The request is what you send to the robot - and when it is done you get back a result - however you can, at any time, ask the robot how close it is to the goal with the feedback parameter."
   ]
  },
  {
   "cell_type": "markdown",
   "id": "1f48e253-4736-44f7-95a0-5147975dda25",
   "metadata": {
    "jp-MarkdownHeadingCollapsed": true,
    "tags": []
   },
   "source": [
    "## Parameters\n",
    "You can also set (or list) parameters.  These are things like dimensions of your robot etc - things that do not change a lot."
   ]
  },
  {
   "cell_type": "code",
   "execution_count": 1,
   "id": "f97d42e9-3218-4713-a947-c4968a9f13f2",
   "metadata": {},
   "outputs": [],
   "source": [
    "!ros2 param list"
   ]
  }
 ],
 "metadata": {
  "kernelspec": {
   "display_name": "Python 3 (ipykernel)",
   "language": "python",
   "name": "python3"
  },
  "language_info": {
   "codemirror_mode": {
    "name": "ipython",
    "version": 3
   },
   "file_extension": ".py",
   "mimetype": "text/x-python",
   "name": "python",
   "nbconvert_exporter": "python",
   "pygments_lexer": "ipython3",
   "version": "3.8.10"
  }
 },
 "nbformat": 4,
 "nbformat_minor": 5
}
