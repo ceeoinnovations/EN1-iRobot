{
 "cells": [
  {
   "cell_type": "markdown",
   "id": "292a4af1-0c96-4064-9e4d-c2421ea1489e",
   "metadata": {
    "tags": []
   },
   "source": [
    "# Trying the Create\n",
    "The Create (from iRobot) runs either Galactic or Humble versions of ROS - everything here has only been tested on Galactic so far.  They have a pretty complete set of docs [here](iroboteducation.github.io/create3_docs/) "
   ]
  },
  {
   "cell_type": "code",
   "execution_count": 1,
   "id": "103a69c3-d4e4-4ae8-9022-caa96ec5fdcb",
   "metadata": {},
   "outputs": [],
   "source": [
    "!ros2 param list"
   ]
  },
  {
   "cell_type": "markdown",
   "id": "fcd4d7dc-91fd-4969-87eb-b9c634c9a48c",
   "metadata": {
    "tags": []
   },
   "source": [
    "So we can try it all out on your create.  For you to talk to your create, you will need to set your domain ID (ewe set it up so that ach create has a different ID so that you only talk to your create).  Your possible IDs are:\n",
    "|ID|Create namespace|\n",
    "|--------|-----------|\n",
    "|0|Rogers|\n",
    "|4|Remy|\n",
    "|8|MikeWazowski|\n",
    "|9|LightningMcQueen|\n",
    "|16|Sully|\n",
    "\n",
    "First step is to get a topic list - and then see if you can change the LED color by publishing (go [here](https://iroboteducation.github.io/create3_docs/api/ros2/) for the full API)- first we check the ROS environment and make sure that is all correct (and if not reset it).  Then we reboot ROS and get a topic list.  Then we try to publish..."
   ]
  },
  {
   "cell_type": "code",
   "execution_count": null,
   "id": "c3f65626-e9e7-4bbb-a2cf-2c22351ac644",
   "metadata": {},
   "outputs": [],
   "source": [
    "!printenv | grep 'ROS'\n",
    "!printenv | grep 'RMW'"
   ]
  },
  {
   "cell_type": "markdown",
   "id": "18493dda-c47e-44f3-8fcd-3e852d2c7dbe",
   "metadata": {},
   "source": [
    "If that is the wrong ID, then change it in the line below and hit run"
   ]
  },
  {
   "cell_type": "code",
   "execution_count": null,
   "id": "e5449b68-6b49-4355-806b-10ab266299da",
   "metadata": {},
   "outputs": [],
   "source": [
    "import os\n",
    "os.environ['ROS_DOMAIN_ID']=\"0\"\n",
    "os.environ['RMW_IMPLEMENTATION']=\"rmw_cyclonedds_cpp\""
   ]
  },
  {
   "cell_type": "markdown",
   "id": "75e2f5a8-636a-4cbc-83ef-78784120e663",
   "metadata": {},
   "source": [
    "Now restart ros and then try the topic list"
   ]
  },
  {
   "cell_type": "code",
   "execution_count": null,
   "id": "b2a507f2-363f-4928-b2a1-42d520038d5f",
   "metadata": {},
   "outputs": [],
   "source": [
    "!ros2 daemon stop"
   ]
  },
  {
   "cell_type": "code",
   "execution_count": null,
   "id": "451186e5-9f9e-4dc8-b7c1-43a811bfd796",
   "metadata": {},
   "outputs": [],
   "source": [
    "!ros2 topic list"
   ]
  },
  {
   "cell_type": "markdown",
   "id": "59973d62-2110-49ae-8455-dcba944d4943",
   "metadata": {},
   "source": [
    "Or try to change the LED light color.  Note that you will have to put the name of your robot in there instead of *rogers* (not surprisingly the name of mine).  If that does not work (you do not see any topics) go [here](../Help/201b_FindCreate.ipynb) and select your create (delete the rest) in the python code and run it - it checks everything for you and usually gets you a topic list."
   ]
  },
  {
   "cell_type": "code",
   "execution_count": null,
   "id": "82bc4c37-cd23-4d10-a26a-30af4dc65716",
   "metadata": {},
   "outputs": [],
   "source": [
    "!ros2 topic pub /rogers/cmd_lightring irobot_create_msgs/msg/LightringLeds \"{override_system: true, leds: [{red: 255, green: 0, blue: 0}, {red: 0, green: 255, blue: 0}, {red: 0, green: 0, blue: 255}, {red: 255, green: 255, blue: 0}, {red: 255, green: 0, blue: 255}, {red: 0, green: 255, blue: 255}]}\""
   ]
  },
  {
   "cell_type": "markdown",
   "id": "e8523ff1-6d7c-483d-abaa-14449795e3df",
   "metadata": {},
   "source": [
    "It starts to get a lot more fun when you include actions - see f you can get help [here](https://iroboteducation.github.io/create3_docs/api/drive-goals/) to have it drive in an arc using the CLI.  What about docking?  You can also see if you can query some of the parameters on your Create - what is your max speed? (*ros2 param get /rogers/motion_control max_speed*) or your wheel base?  For a more indepth overview with all their examples, go [here](110-ROS.ipynb)"
   ]
  },
  {
   "cell_type": "code",
   "execution_count": null,
   "id": "c224c5ee-c5d9-43f4-983b-3e0cb3b0884c",
   "metadata": {},
   "outputs": [],
   "source": []
  }
 ],
 "metadata": {
  "kernelspec": {
   "display_name": "Python 3 (ipykernel)",
   "language": "python",
   "name": "python3"
  },
  "language_info": {
   "codemirror_mode": {
    "name": "ipython",
    "version": 3
   },
   "file_extension": ".py",
   "mimetype": "text/x-python",
   "name": "python",
   "nbconvert_exporter": "python",
   "pygments_lexer": "ipython3",
   "version": "3.8.10"
  }
 },
 "nbformat": 4,
 "nbformat_minor": 5
}
