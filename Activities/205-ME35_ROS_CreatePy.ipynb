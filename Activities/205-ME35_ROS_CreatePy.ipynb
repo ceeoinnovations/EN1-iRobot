{
 "cells": [
  {
   "cell_type": "markdown",
   "id": "292a4af1-0c96-4064-9e4d-c2421ea1489e",
   "metadata": {
    "tags": []
   },
   "source": [
    "# Python on the Create\n",
    "The Create (from iRobot) runs either Galactic or Humble versions of ROS - everything here has only been tested on Galactic so far.  They have a pretty complete set of docs [here](iroboteducation.github.io/create3_docs/).  Again your first step would be to make sure ROS is set up right for your Create."
   ]
  },
  {
   "cell_type": "code",
   "execution_count": null,
   "id": "c3f65626-e9e7-4bbb-a2cf-2c22351ac644",
   "metadata": {},
   "outputs": [],
   "source": [
    "!printenv | grep 'ROS'\n",
    "!printenv | grep 'RMW'"
   ]
  },
  {
   "cell_type": "markdown",
   "id": "18493dda-c47e-44f3-8fcd-3e852d2c7dbe",
   "metadata": {},
   "source": [
    "If that is the wrong ID, then change it in the line below and hit run"
   ]
  },
  {
   "cell_type": "code",
   "execution_count": null,
   "id": "e5449b68-6b49-4355-806b-10ab266299da",
   "metadata": {},
   "outputs": [],
   "source": [
    "import os\n",
    "os.environ['ROS_DOMAIN_ID']=\"0\"\n",
    "os.environ['RMW_IMPLEMENTATION']=\"rmw_cyclonedds_cpp\""
   ]
  },
  {
   "cell_type": "markdown",
   "id": "75e2f5a8-636a-4cbc-83ef-78784120e663",
   "metadata": {},
   "source": [
    "Now restart ros and then try the topic list"
   ]
  },
  {
   "cell_type": "code",
   "execution_count": null,
   "id": "b2a507f2-363f-4928-b2a1-42d520038d5f",
   "metadata": {},
   "outputs": [],
   "source": [
    "!ros2 daemon stop"
   ]
  },
  {
   "cell_type": "code",
   "execution_count": null,
   "id": "451186e5-9f9e-4dc8-b7c1-43a811bfd796",
   "metadata": {},
   "outputs": [],
   "source": [
    "!ros2 topic list"
   ]
  },
  {
   "cell_type": "code",
   "execution_count": null,
   "id": "c224c5ee-c5d9-43f4-983b-3e0cb3b0884c",
   "metadata": {},
   "outputs": [],
   "source": []
  }
 ],
 "metadata": {
  "kernelspec": {
   "display_name": "Python 3 (ipykernel)",
   "language": "python",
   "name": "python3"
  },
  "language_info": {
   "codemirror_mode": {
    "name": "ipython",
    "version": 3
   },
   "file_extension": ".py",
   "mimetype": "text/x-python",
   "name": "python",
   "nbconvert_exporter": "python",
   "pygments_lexer": "ipython3",
   "version": "3.8.10"
  }
 },
 "nbformat": 4,
 "nbformat_minor": 5
}
