{
 "cells": [
  {
   "cell_type": "code",
   "execution_count": 11,
   "id": "39104507-f526-466b-ab06-b04155c957b8",
   "metadata": {},
   "outputs": [
    {
     "name": "stdout",
     "output_type": "stream",
     "text": [
      "ROS_VERSION=2\n",
      "ROS_PYTHON_VERSION=3\n",
      "ROS_DOMAIN_ID=5\n",
      "ROS_LOCALHOST_ONLY=0\n",
      "ROS_DISTRO=galactic\n",
      "RMW_IMPLEMENTATION=rmw_cyclonedds_cpp\n"
     ]
    }
   ],
   "source": [
    "!printenv | grep 'ROS'\n",
    "!printenv | grep 'RMW'"
   ]
  },
  {
   "cell_type": "code",
   "execution_count": 18,
   "id": "729f1cdc-c3a4-4622-a537-cfe22c9c80c0",
   "metadata": {},
   "outputs": [],
   "source": [
    "import os\n",
    "os.environ['ROS_DOMAIN_ID']=\"14\"\n",
    "os.environ['RMW_IMPLEMENTATION']=\"rmw_cyclonedds_cpp\""
   ]
  },
  {
   "cell_type": "code",
   "execution_count": 19,
   "id": "1a9cbe07-cedf-4569-864c-c99df7c70290",
   "metadata": {},
   "outputs": [
    {
     "name": "stdout",
     "output_type": "stream",
     "text": [
      "The daemon is not running\n"
     ]
    }
   ],
   "source": [
    "!ros2 daemon stop"
   ]
  },
  {
   "cell_type": "code",
   "execution_count": 22,
   "id": "3f373f02-f062-4fda-8a16-c704cd7006d0",
   "metadata": {},
   "outputs": [
    {
     "name": "stdout",
     "output_type": "stream",
     "text": [
      "/PotatoHead/battery_state\n",
      "/PotatoHead/cmd_audio\n",
      "/PotatoHead/cmd_lightring\n",
      "/PotatoHead/cmd_vel\n",
      "/PotatoHead/dock\n",
      "/PotatoHead/hazard_detection\n",
      "/PotatoHead/imu\n",
      "/PotatoHead/interface_buttons\n",
      "/PotatoHead/ir_intensity\n",
      "/PotatoHead/ir_opcode\n",
      "/PotatoHead/kidnap_status\n",
      "/PotatoHead/mobility_monitor/transition_event\n",
      "/PotatoHead/mouse\n",
      "/PotatoHead/odom\n",
      "/PotatoHead/robot_state/transition_event\n",
      "/PotatoHead/slip_status\n",
      "/PotatoHead/static_transform/transition_event\n",
      "/PotatoHead/stop_status\n",
      "/PotatoHead/tf\n",
      "/PotatoHead/tf_static\n",
      "/PotatoHead/wheel_status\n",
      "/PotatoHead/wheel_ticks\n",
      "/PotatoHead/wheel_vels\n",
      "/parameter_events\n",
      "/rosout\n"
     ]
    }
   ],
   "source": [
    "!ros2 topic list"
   ]
  },
  {
   "cell_type": "code",
   "execution_count": null,
   "id": "d8725e5a-78ed-4c18-84b9-b0ae79f2b1ba",
   "metadata": {},
   "outputs": [],
   "source": [
    "#!ros2 action send_goal /Dory/undock irobot_create_msgs/action/Undock \"{}\""
   ]
  },
  {
   "cell_type": "code",
   "execution_count": 54,
   "id": "0cd6c38e-9374-4bdf-af73-07dd7e7858b1",
   "metadata": {},
   "outputs": [
    {
     "name": "stdout",
     "output_type": "stream",
     "text": [
      "PC side \n",
      "    Testing Kernel - good - 3.8.13\n",
      "    Testing middleware - good - rmw_cyclonedds_cpp\n",
      "    Testing ID - good - rmw_cyclonedds_cpp\n",
      "Robot side \n",
      "    Testing Version - BAD - G._.140\n",
      "    Testing ID - BAD - 4\n"
     ]
    }
   ],
   "source": [
    "import os, sys\n",
    "import subprocess\n",
    "import requests\n",
    "\n",
    "url = 'http://10.245.150.128'\n",
    "\n",
    "print('PC side ')\n",
    "print('    Testing Kernel ',end='')\n",
    "reply = sys.version\n",
    "print ('- good - ' if  ('3.8' in reply) else '- BAD - ',end='')\n",
    "print(reply.split(' ')[0])\n",
    "print('    Testing middleware ',end='')\n",
    "reply = os.environ['RMW_IMPLEMENTATION']\n",
    "print ('- good - ' if  ('cyclone' in reply) else '- BAD - ',end='')\n",
    "print(reply)\n",
    "print('    Testing ID ',end='')\n",
    "ID = int(os.environ['ROS_DOMAIN_ID'])\n",
    "print ('- good - ' if  (0 <= ID <=17) else '- BAD - ',end='')\n",
    "print(reply)\n",
    "\n",
    "print('Robot side ')\n",
    "print('    Testing Version ',end='')\n",
    "r = requests.get(url+'/home').text\n",
    "reply = r.split('VERSION: ')[1].split('</pre>')[0]\n",
    "print ('- good - ' if  ('G3' in reply) else '- BAD - ',end='')\n",
    "print(reply)\n",
    "print('    Testing ID ',end='')\n",
    "r = requests.get(url+'/ros-config').text\n",
    "reply = r.split('required value=\\\"')[1].split('\\\"')[0]\n",
    "print ('- good - ' if  (reply == ID) else '- BAD - ',end='')\n",
    "print(reply)\n",
    "\n"
   ]
  },
  {
   "cell_type": "code",
   "execution_count": 55,
   "id": "7753b04c-7b24-40eb-95c8-cd6d35f59fb7",
   "metadata": {},
   "outputs": [
    {
     "data": {
      "text/plain": [
       "14"
      ]
     },
     "execution_count": 55,
     "metadata": {},
     "output_type": "execute_result"
    }
   ],
   "source": [
    "reply\n",
    "ID"
   ]
  },
  {
   "cell_type": "code",
   "execution_count": 52,
   "id": "bb9b7f20-8fc4-4d67-88b4-29978f265de7",
   "metadata": {},
   "outputs": [
    {
     "data": {
      "text/plain": [
       "'4'"
      ]
     },
     "execution_count": 52,
     "metadata": {},
     "output_type": "execute_result"
    }
   ],
   "source": [
    "r.split('required value=\\\"')[1].split('\\\"')[0]"
   ]
  },
  {
   "cell_type": "code",
   "execution_count": null,
   "id": "85d72f95-dccd-4e1b-879a-8cf8c144bff4",
   "metadata": {},
   "outputs": [],
   "source": []
  }
 ],
 "metadata": {
  "kernelspec": {
   "display_name": "Python [conda env:ros_py38]",
   "language": "python",
   "name": "conda-env-ros_py38-py"
  },
  "language_info": {
   "codemirror_mode": {
    "name": "ipython",
    "version": 3
   },
   "file_extension": ".py",
   "mimetype": "text/x-python",
   "name": "python",
   "nbconvert_exporter": "python",
   "pygments_lexer": "ipython3",
   "version": "3.8.13"
  }
 },
 "nbformat": 4,
 "nbformat_minor": 5
}
