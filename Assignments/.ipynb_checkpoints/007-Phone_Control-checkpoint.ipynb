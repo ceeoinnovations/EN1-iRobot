{
 "cells": [
  {
   "cell_type": "markdown",
   "id": "ef05f6a6-0bb8-453c-ac5b-56752a01f2f7",
   "metadata": {},
   "source": [
    "# Obstacle Avoidance"
   ]
  },
  {
   "cell_type": "markdown",
   "id": "65a1a2d7-77dc-43f4-8137-41be3f013db5",
   "metadata": {},
   "source": [
    "The goal with this activity is to control your Create from your smartphone by writing an app using [Thunkables](https://thunkable.com/#/) connecting to the cloud ([Airtable](https://www.ceeoinnovations.org/telerobotics-workshop/img/Airtable_Step_by_Step.pdf)).  You will demonstrate your remote control skills by racing past obstacles in the classroom.  First go set up your own airtable account and make a set of fields for the twist that you can change from your app.  Then make a Thunkable app that will change the values of those fields.  In class, we will write some code that will have the Create read those fields every sec or two and twist accordingly."
   ]
  },
  {
   "cell_type": "markdown",
   "id": "59ffdc9b-3d4f-400c-9348-9bf6a40e3907",
   "metadata": {
    "jp-MarkdownHeadingCollapsed": true,
    "tags": []
   },
   "source": [
    "<h4>Constraints:</h4>\n",
    "\n",
    "- You cannot touch your create - all control should be from your phone\n",
    "- All contestants have to start from the same starting line\n",
    "- First to cross the finish line wins\n",
    "- Create bashing etc is allowed"
   ]
  },
  {
   "cell_type": "markdown",
   "id": "476ad2b1-7cc8-4efd-9149-1830901152cd",
   "metadata": {},
   "source": [
    "<h4>Grading rubric:</h4>\n",
    "\n",
    "6. you came to class \n",
    "7. you made an attempt: you have something on Thunkables and Airtable\n",
    "8. satisfactory: your phone app communicated through airtable\n",
    "9. good: you had a nice app was clean and easy to use\n",
    "10. excellent: you added functionality to the top of your bot, your app (does it give me the weather too?), or the Create code.\n",
    "11. above and beyond: totally up to you"
   ]
  },
  {
   "cell_type": "markdown",
   "id": "d8ee536e-9333-4311-97de-86a76702b0c2",
   "metadata": {},
   "source": [
    "<h4>Your code </h4>"
   ]
  },
  {
   "cell_type": "markdown",
   "id": "a787ad8e-ad3f-459d-ac8e-9e1ece29f75e",
   "metadata": {},
   "source": [
    "This one we will do in class using CreateLib.  Try going [here](../Help/201b_FindCreate.ipynb) if you are having issues."
   ]
  },
  {
   "cell_type": "code",
   "execution_count": null,
   "id": "899aee47-cd8d-4e85-837c-e230df6c3116",
   "metadata": {
    "tags": []
   },
   "outputs": [],
   "source": [
    "from Subs.CreateLib import Create\n",
    "\n",
    "MyCreate = Create('/yourCreate')\n",
    "\n",
    "MyCreate.beep()\n",
    "# add your code here\n",
    "MyCreate.close()"
   ]
  },
  {
   "cell_type": "markdown",
   "id": "c924864d-cab5-4344-93a0-9ba8cef4cdcd",
   "metadata": {
    "tags": []
   },
   "source": [
    "<h4>Your reflections </h4>"
   ]
  },
  {
   "cell_type": "markdown",
   "id": "7b1ad1bb-7772-4c9e-b438-a8ade5dbf34c",
   "metadata": {},
   "source": [
    "Type your thoughts here - what worked well - what did not?  What was tough and what was easy?  Share any good links you found that helped."
   ]
  },
  {
   "cell_type": "markdown",
   "id": "48c19a9a-4556-4829-ba09-d9f5e6e53faf",
   "metadata": {},
   "source": []
  },
  {
   "cell_type": "markdown",
   "id": "0c8d122f-1ce9-4496-b61f-53d106c730a8",
   "metadata": {},
   "source": [
    "<h4>More thoughts</h4>\n",
    "\n",
    "You can try starting to write your own lower level control by examining how ROS works."
   ]
  },
  {
   "cell_type": "code",
   "execution_count": null,
   "id": "e9a251e1-b4fd-4170-8ae5-d502d3218ee3",
   "metadata": {},
   "outputs": [],
   "source": []
  }
 ],
 "metadata": {
  "kernelspec": {
   "display_name": "Python 3 (ipykernel)",
   "language": "python",
   "name": "python3"
  },
  "language_info": {
   "codemirror_mode": {
    "name": "ipython",
    "version": 3
   },
   "file_extension": ".py",
   "mimetype": "text/x-python",
   "name": "python",
   "nbconvert_exporter": "python",
   "pygments_lexer": "ipython3",
   "version": "3.9.13"
  }
 },
 "nbformat": 4,
 "nbformat_minor": 5
}
