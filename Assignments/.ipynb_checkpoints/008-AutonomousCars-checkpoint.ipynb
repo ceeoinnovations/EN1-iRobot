{
 "cells": [
  {
   "cell_type": "markdown",
   "id": "ef05f6a6-0bb8-453c-ac5b-56752a01f2f7",
   "metadata": {},
   "source": [
    "# Autonomous Cars"
   ]
  },
  {
   "cell_type": "markdown",
   "id": "65a1a2d7-77dc-43f4-8137-41be3f013db5",
   "metadata": {},
   "source": [
    "The goal with this activity is to write your own ROS code.  You will demonstrate your coding prowess by having the creates line up and stay a constant distance from each other.  Basically you will write a proportional controller - one that continually reads the proximity sensor (*d(t)*) and continually updates the forward speed (*X(t)*) proportional to the distance between creates (*d(t)*) (minus the desired spacing - *s*).  So $$X(t) = K_p * (d(t) - s)$$"
   ]
  },
  {
   "cell_type": "markdown",
   "id": "60ecc943-554a-41d7-8334-38b8b392669f",
   "metadata": {},
   "source": [
    "### Constraints"
   ]
  },
  {
   "cell_type": "markdown",
   "id": "59ffdc9b-3d4f-400c-9348-9bf6a40e3907",
   "metadata": {
    "jp-MarkdownHeadingCollapsed": true,
    "tags": []
   },
   "source": [
    "- You cannot touch your create - all control should be from your computer\n",
    "- All contestants will start 5 inches apart\n",
    "- The front car will follow a leader, the rest will follow the one in front of them\n",
    "- Your code should be written from scratch in python\n",
    "- You should build your favorite car on top using a living hinge and notches"
   ]
  },
  {
   "cell_type": "markdown",
   "id": "d46a9985-b22d-40a1-b993-5c165c558fce",
   "metadata": {},
   "source": [
    "### Grading Rubric"
   ]
  },
  {
   "cell_type": "markdown",
   "id": "476ad2b1-7cc8-4efd-9149-1830901152cd",
   "metadata": {},
   "source": [
    "6. you came to class \n",
    "7. you made an attempt: you have some ROS code\n",
    "8. satisfactory: your create moved with the one in front of it and you had a car shape on top.\n",
    "9. good: you had clean and easy to use code and your car shape was made from a living hinge and held in its shape with notches.\n",
    "10. excellent: you added functionality to the Create code and made something more complicated than just the car.\n",
    "11. above and beyond: totally up to you"
   ]
  },
  {
   "cell_type": "markdown",
   "id": "d8ee536e-9333-4311-97de-86a76702b0c2",
   "metadata": {},
   "source": [
    "<h4>Your code </h4>"
   ]
  },
  {
   "cell_type": "markdown",
   "id": "a787ad8e-ad3f-459d-ac8e-9e1ece29f75e",
   "metadata": {},
   "source": [
    "This time you are starting from scratch. Try going [here](../Activities/108-Writing_ROS_Code.ipynb) if you are having issues and look at the [ROS2Lib](../Activities/102-EditROS2Lib.ipynb) as well."
   ]
  },
  {
   "cell_type": "code",
   "execution_count": null,
   "id": "899aee47-cd8d-4e85-837c-e230df6c3116",
   "metadata": {
    "tags": []
   },
   "outputs": [],
   "source": [
    "import rclpy\n",
    "from rclpy.node import Node\n",
    "\n"
   ]
  },
  {
   "cell_type": "markdown",
   "id": "c924864d-cab5-4344-93a0-9ba8cef4cdcd",
   "metadata": {
    "tags": []
   },
   "source": [
    "<h4>Your reflections </h4>"
   ]
  },
  {
   "cell_type": "markdown",
   "id": "7b1ad1bb-7772-4c9e-b438-a8ade5dbf34c",
   "metadata": {},
   "source": [
    "Type your thoughts here - what worked well - what did not?  What was tough and what was easy?  Share any good links you found that helped."
   ]
  },
  {
   "cell_type": "markdown",
   "id": "48c19a9a-4556-4829-ba09-d9f5e6e53faf",
   "metadata": {},
   "source": []
  },
  {
   "cell_type": "markdown",
   "id": "0c8d122f-1ce9-4496-b61f-53d106c730a8",
   "metadata": {},
   "source": [
    "<h4>More thoughts</h4>\n",
    "\n",
    "You can try starting to write your own lower level control by examining how ROS works."
   ]
  },
  {
   "cell_type": "code",
   "execution_count": null,
   "id": "e9a251e1-b4fd-4170-8ae5-d502d3218ee3",
   "metadata": {},
   "outputs": [],
   "source": []
  }
 ],
 "metadata": {
  "kernelspec": {
   "display_name": "Python 3 (ipykernel)",
   "language": "python",
   "name": "python3"
  },
  "language_info": {
   "codemirror_mode": {
    "name": "ipython",
    "version": 3
   },
   "file_extension": ".py",
   "mimetype": "text/x-python",
   "name": "python",
   "nbconvert_exporter": "python",
   "pygments_lexer": "ipython3",
   "version": "3.9.13"
  }
 },
 "nbformat": 4,
 "nbformat_minor": 5
}
