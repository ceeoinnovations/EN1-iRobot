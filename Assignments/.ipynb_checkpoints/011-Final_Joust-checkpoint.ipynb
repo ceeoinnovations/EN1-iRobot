{
 "cells": [
  {
   "cell_type": "markdown",
   "id": "ef05f6a6-0bb8-453c-ac5b-56752a01f2f7",
   "metadata": {},
   "source": [
    "# The Final: A joust to remember - BETA"
   ]
  },
  {
   "cell_type": "markdown",
   "id": "65a1a2d7-77dc-43f4-8137-41be3f013db5",
   "metadata": {},
   "source": [
    "Using everything you can get your hands on, build a knight that will joust and play a death song when toppled from his/her horse.  I will be looking for your proficiency in 4 skills (note the marketing grade is graded individually):\n",
    "\n",
    "1. fabrication: \n",
    "    1. CAD complexity (drawings, assembly view, ...)\n",
    "    2. laser cutting complexity (living hinges, tabs, etc)\n",
    "    3. 3d printing complexity\n",
    "2. coding: \n",
    "    1. python (with ROS) complexity\n",
    "    2. micropython complexity\n",
    "3. electronics: \n",
    "    1. use of grove sensors (light)\n",
    "    2. use of DC motors and servos\n",
    "    3. addition of homemade sensors or actuators\n",
    "4. marketing: Notion layout skills \n",
    "    1. quality pictures and video overview of the product and process\n",
    "    2. good story about the journey\n",
    "    3. include reflections on what was challenging and what worked\n"
   ]
  },
  {
   "cell_type": "markdown",
   "id": "59ffdc9b-3d4f-400c-9348-9bf6a40e3907",
   "metadata": {
    "jp-MarkdownHeadingCollapsed": true,
    "tags": []
   },
   "source": [
    "<h4>Constraints:</h4>\n",
    "\n",
    "- Must navigate past two barrels and then follow the central divider using the wall-follow action\n",
    "- Must talk ROS to the Create\n",
    "- Must start by an Airtable command\n",
    "- Must be interactive in some way (i.e. sense something and then act accordingly).\n"
   ]
  },
  {
   "cell_type": "markdown",
   "id": "476ad2b1-7cc8-4efd-9149-1830901152cd",
   "metadata": {
    "jp-MarkdownHeadingCollapsed": true,
    "tags": []
   },
   "source": [
    "<h4>Grading rubric:</h4>\n",
    "\n",
    "6. You added a Notion page to your Notion site that has something\n",
    "7. Satisfactory: you demonstrated at least 3 of the 4 skills\n",
    "8. Good: you demonstrate basic skills in all 4 areas\n",
    "9. Excellent: you demonstrate advanced abilities in at least 3 of the areas AND you were creative\n",
    "10. Superior: you demonstrate advanced abilities in all 4 areas AND super-creative\n",
    "11. Off-the-charts: I show my wife, it is that cool"
   ]
  },
  {
   "cell_type": "markdown",
   "id": "8ec3523f-b622-4982-8a56-88c6a0159369",
   "metadata": {},
   "source": [
    "## Your code "
   ]
  },
  {
   "cell_type": "markdown",
   "id": "a787ad8e-ad3f-459d-ac8e-9e1ece29f75e",
   "metadata": {},
   "source": [
    "This one is all on the serial board through the Create using port 8883"
   ]
  },
  {
   "cell_type": "code",
   "execution_count": null,
   "id": "899aee47-cd8d-4e85-837c-e230df6c3116",
   "metadata": {
    "tags": []
   },
   "outputs": [],
   "source": []
  },
  {
   "cell_type": "markdown",
   "id": "c924864d-cab5-4344-93a0-9ba8cef4cdcd",
   "metadata": {
    "tags": []
   },
   "source": [
    "<h4>Your reflections </h4>"
   ]
  },
  {
   "cell_type": "markdown",
   "id": "7b1ad1bb-7772-4c9e-b438-a8ade5dbf34c",
   "metadata": {},
   "source": [
    "Type your thoughts here - what worked well - what did not?  What was tough and what was easy?  Share any good links you found that helped."
   ]
  },
  {
   "cell_type": "markdown",
   "id": "48c19a9a-4556-4829-ba09-d9f5e6e53faf",
   "metadata": {},
   "source": []
  },
  {
   "cell_type": "markdown",
   "id": "0c8d122f-1ce9-4496-b61f-53d106c730a8",
   "metadata": {},
   "source": [
    "<h4>More thoughts</h4>\n",
    "\n",
    "You can try starting to write your own lower level control by examining how ROS works."
   ]
  },
  {
   "cell_type": "code",
   "execution_count": null,
   "id": "e9a251e1-b4fd-4170-8ae5-d502d3218ee3",
   "metadata": {},
   "outputs": [],
   "source": []
  }
 ],
 "metadata": {
  "kernelspec": {
   "display_name": "Python 3 (ipykernel)",
   "language": "python",
   "name": "python3"
  },
  "language_info": {
   "codemirror_mode": {
    "name": "ipython",
    "version": 3
   },
   "file_extension": ".py",
   "mimetype": "text/x-python",
   "name": "python",
   "nbconvert_exporter": "python",
   "pygments_lexer": "ipython3",
   "version": "3.9.13"
  }
 },
 "nbformat": 4,
 "nbformat_minor": 5
}
