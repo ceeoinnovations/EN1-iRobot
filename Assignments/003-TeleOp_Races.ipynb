{
 "cells": [
  {
   "cell_type": "markdown",
   "id": "ef05f6a6-0bb8-453c-ac5b-56752a01f2f7",
   "metadata": {},
   "source": [
    "# Beginning TeleOperations"
   ]
  },
  {
   "cell_type": "markdown",
   "id": "65a1a2d7-77dc-43f4-8137-41be3f013db5",
   "metadata": {},
   "source": [
    "The goal with this activity is to remotely pilot your smartphone around.  You will need to build a smartphone holder and Kate and Maddie will take your robots and toss them somewhere in Anderson.  The first group to remotely drive to my office will win."
   ]
  },
  {
   "cell_type": "markdown",
   "id": "59ffdc9b-3d4f-400c-9348-9bf6a40e3907",
   "metadata": {
    "jp-MarkdownHeadingCollapsed": true,
    "tags": []
   },
   "source": [
    "<h4>Constraints:</h4>\n",
    "\n",
    "- the bases will start in an undisclosed location\n",
    "- you will have to zoom into your phone with your teammate's phone to see where you are going\n",
    "- you will need to be able to remotely control your robot's motion"
   ]
  },
  {
   "cell_type": "markdown",
   "id": "476ad2b1-7cc8-4efd-9149-1830901152cd",
   "metadata": {},
   "source": [
    "<h4>Grading rubric:</h4>\n",
    "\n",
    "6. you came to class\n",
    "7. you made an attempt: something happened - the robot moved\n",
    "8. satisfactory: you drove your robot around in a remote location\n",
    "9. good: your robot easily moved around in the remote location and you designed and built an elegant smartphone holder.\n",
    "10. excellent: you added functionality to the keyboard controller, and you had a nice phone holder.\n",
    "11. above and beyond: totally up to you"
   ]
  },
  {
   "cell_type": "markdown",
   "id": "01782591-95bb-45b5-909d-d68c39561191",
   "metadata": {},
   "source": [
    "<h4>Your code </h4>"
   ]
  },
  {
   "cell_type": "markdown",
   "id": "ff2ff311-fead-4a71-b96c-809c27790adf",
   "metadata": {},
   "source": [
    "You can edit and improve on existing code for this - or use as is.  The first step is to make sure you are talking to your Create.  Try going [here](../Help/201b_FindCreate.ipynb) if you are having issues."
   ]
  },
  {
   "cell_type": "code",
   "execution_count": null,
   "id": "42acbfcf-5880-4c04-8053-46940c5c7427",
   "metadata": {
    "tags": []
   },
   "outputs": [],
   "source": [
    "import os\n",
    "os.environ['ROS_DOMAIN_ID']=\"1\"\n",
    "os.environ['RMW_IMPLEMENTATION']=\"rmw_cyclonedds_cpp\"\n",
    "\n",
    "#try a few times to get the topic list\n",
    "for i in range(10):\n",
    "    list = subprocess.run(['ros2','topic','list'],capture_output=True)\n",
    "    if len(list.stdout.decode().split('\\n')) > 4:\n",
    "        print(list.stdout.decode())\n",
    "        break\n",
    "    time.sleep(1)\n",
    "if i >=9: \n",
    "    print('connection failed')\n"
   ]
  },
  {
   "cell_type": "markdown",
   "id": "e20fa2d5-5b72-463c-828e-8d792464c2d0",
   "metadata": {},
   "source": [
    "Again you will have to run the code in the terminal: open up a terminal from the launcher, reset your Domain ID, and try \n",
    "\n",
    "*python3.8 TeleOp.py*\n"
   ]
  },
  {
   "cell_type": "code",
   "execution_count": null,
   "id": "899aee47-cd8d-4e85-837c-e230df6c3116",
   "metadata": {
    "tags": []
   },
   "outputs": [],
   "source": [
    "%%writefile TeleOp.py\n",
    "\n",
    "# Stolen (and edited) from Create examples - https://github.com/iRobotEducation/create3_examples\n",
    "\n",
    "import sys\n",
    "\n",
    "import termios\n",
    "import tty\n",
    "from Subs.CreateLib import Create\n",
    "\n",
    "msg = '''\n",
    "---------------------------\n",
    "Moving around:\n",
    "   u    i    o\n",
    "   j    k    l\n",
    "   m    ,    .\n",
    "\n",
    "anything else : stop\n",
    "\n",
    "CTRL-C to quit\n",
    "'''\n",
    "\n",
    "moveOptions = {  #  x, y, z velocity, angle velocity (radians/sec)\n",
    "    'u': (1, 0, 0, 1),\n",
    "    'i': (1, 0, 0, 0),\n",
    "    'o': (1, 0, 0, -1),\n",
    "    \n",
    "    'j': (0, 0, 0, 1),\n",
    "    'l': (0, 0, 0, -1),\n",
    "\n",
    "    'm': (-1, 0, 0, -1),  \n",
    "    ',': (-1, 0, 0, 0),\n",
    "    '.': (-1, 0, 0, 1),\n",
    "}\n",
    "\n",
    "def getKey(settings):\n",
    "    tty.setraw(sys.stdin.fileno())\n",
    "    # sys.stdin.read() returns a string on Linux\n",
    "    key = sys.stdin.read(1)\n",
    "    termios.tcsetattr(sys.stdin, termios.TCSADRAIN, settings)\n",
    "    return key\n",
    "\n",
    "def saveTerminalSettings():\n",
    "    return termios.tcgetattr(sys.stdin)\n",
    "\n",
    "def restoreTerminalSettings(old_settings):\n",
    "    termios.tcsetattr(sys.stdin, termios.TCSADRAIN, old_settings)\n",
    "\n",
    "def main():\n",
    "    settings = saveTerminalSettings()\n",
    "    motion = Create('/rogers')\n",
    "\n",
    "    speed = 0.5\n",
    "    turn = 1.0\n",
    "    (x, y, z, th) = (0.0,0.0,0.0,0.0)\n",
    "\n",
    "    try:\n",
    "        print(msg)\n",
    "        print('currently:  speed %s  turn %s ' % (speed, turn))\n",
    "        \n",
    "        while True:\n",
    "            key = getKey(settings)\n",
    "            if key in moveOptions.keys():\n",
    "                x = moveOptions[key][0]\n",
    "                y = moveOptions[key][1]\n",
    "                z = moveOptions[key][2]\n",
    "                th = moveOptions[key][3]\n",
    "                \n",
    "                motion.twist(x, y, z, th, speed, turn)\n",
    "                \n",
    "            else:\n",
    "                (x, y, z, th) = (0.0,0.0,0.0,0.0)\n",
    "                if (key == '\\x03'):\n",
    "                    break\n",
    "                    \n",
    "    except Exception as e:\n",
    "        print(e)\n",
    "\n",
    "    finally:\n",
    "        motion.twist(0.0, 0.0, 0.0, 0.0, 0.5, 1.0)\n",
    "        restoreTerminalSettings(settings)\n",
    "\n",
    "if __name__ == '__main__':\n",
    "    main()\n"
   ]
  },
  {
   "cell_type": "markdown",
   "id": "c924864d-cab5-4344-93a0-9ba8cef4cdcd",
   "metadata": {
    "tags": []
   },
   "source": [
    "<h4>Your reflections </h4>"
   ]
  },
  {
   "cell_type": "markdown",
   "id": "7b1ad1bb-7772-4c9e-b438-a8ade5dbf34c",
   "metadata": {},
   "source": [
    "Type your thoughts here - what worked well - what did not?  What was tough and what was easy?  Share any good links you found that helped."
   ]
  },
  {
   "cell_type": "markdown",
   "id": "48c19a9a-4556-4829-ba09-d9f5e6e53faf",
   "metadata": {},
   "source": []
  },
  {
   "cell_type": "markdown",
   "id": "0c8d122f-1ce9-4496-b61f-53d106c730a8",
   "metadata": {},
   "source": [
    "<h4>More thoughts</h4>\n",
    "\n",
    "You can try starting to write your own lower level control by examining how ROS works."
   ]
  },
  {
   "cell_type": "code",
   "execution_count": null,
   "id": "e9a251e1-b4fd-4170-8ae5-d502d3218ee3",
   "metadata": {},
   "outputs": [],
   "source": []
  }
 ],
 "metadata": {
  "kernelspec": {
   "display_name": "Python 3 (ipykernel)",
   "language": "python",
   "name": "python3"
  },
  "language_info": {
   "codemirror_mode": {
    "name": "ipython",
    "version": 3
   },
   "file_extension": ".py",
   "mimetype": "text/x-python",
   "name": "python",
   "nbconvert_exporter": "python",
   "pygments_lexer": "ipython3",
   "version": "3.9.13"
  }
 },
 "nbformat": 4,
 "nbformat_minor": 5
}
