{
 "cells": [
  {
   "cell_type": "markdown",
   "id": "82d5cb59-9437-44d0-8ab9-80c0d0531e04",
   "metadata": {},
   "source": [
    "<h4>Add Battery Level</h4>\n",
    "First add to Ros2Lib a new battery class"
   ]
  },
  {
   "cell_type": "code",
   "execution_count": null,
   "id": "450d99be-37aa-49e8-9ba4-24a08d660c1d",
   "metadata": {},
   "outputs": [],
   "source": [
    "from  sensor_msgs.msg import BatteryState\n",
    "\n",
    "class Battery(Node):\n",
    "    def __init__(self, namespace = '/Picard'):    \n",
    "        super().__init__('battery_subscriber')\n",
    "        \n",
    "        self.subscription = self.create_subscription(BatteryState, namespace + '/battery_state', self.callback, qos_profile_sensor_data)\n",
    "        self.charge = -1.0\n",
    "        self.done = False\n",
    "            \n",
    "    def callback(self, msg: BatteryState):\n",
    "        self.charge = 100*msg.percentage\n",
    "        self.done = True\n"
   ]
  },
  {
   "cell_type": "markdown",
   "id": "ed11489e-7ca7-4454-b155-9d0622379b77",
   "metadata": {},
   "source": [
    "and then add a battery method in CreateLib"
   ]
  },
  {
   "cell_type": "code",
   "execution_count": null,
   "id": "acfcfd23-06f5-49e2-9a99-af0b071abe29",
   "metadata": {},
   "outputs": [],
   "source": [
    "from Subs.ROS2Lib import Drive, Rotate, Lights, Audio, TwistIt, Battery\n",
    "\n",
    "self.battery_subscription = Battery(namespace)  #this starts the subscriber - add to __init__\n",
    "\n",
    "    def battery(self):\n",
    "        print('ask battery ', end = '')\n",
    "        self.wait(self.battery_subscription)\n",
    "        print('done')\n",
    "        return(' %0.1f ' % self.battery_subscription.charge)\n"
   ]
  },
  {
   "cell_type": "markdown",
   "id": "4648d94f-42dd-4ede-b1ee-459c0e405ece",
   "metadata": {},
   "source": [
    "And then restart the kernel and test"
   ]
  },
  {
   "cell_type": "code",
   "execution_count": null,
   "id": "808ba75c-65df-4a95-877d-e1426950f3af",
   "metadata": {},
   "outputs": [],
   "source": [
    "from Subs.CreateLib import Create\n",
    "\n",
    "MyCreate = Create('/rogers')\n",
    "\n",
    "print('Battery = %s ' % MyCreate.battery())\n",
    "MyCreate.close()"
   ]
  }
 ],
 "metadata": {
  "kernelspec": {
   "display_name": "Python 3 (ipykernel)",
   "language": "python",
   "name": "python3"
  },
  "language_info": {
   "codemirror_mode": {
    "name": "ipython",
    "version": 3
   },
   "file_extension": ".py",
   "mimetype": "text/x-python",
   "name": "python",
   "nbconvert_exporter": "python",
   "pygments_lexer": "ipython3",
   "version": "3.9.13"
  }
 },
 "nbformat": 4,
 "nbformat_minor": 5
}
