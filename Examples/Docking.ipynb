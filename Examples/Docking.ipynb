{
 "cells": [
  {
   "cell_type": "markdown",
   "id": "82d5cb59-9437-44d0-8ab9-80c0d0531e04",
   "metadata": {},
   "source": [
    "<h4>Add Docking</h4>\n",
    "First add to Ros2Lib a new docking class"
   ]
  },
  {
   "cell_type": "code",
   "execution_count": null,
   "id": "450d99be-37aa-49e8-9ba4-24a08d660c1d",
   "metadata": {},
   "outputs": [],
   "source": [
    "from rclpy.action import ActionClient\n",
    "from rclpy.node import Node\n",
    "\n",
    "from irobot_create_msgs.action import DockServo\n",
    "\n",
    "class Dock(Node):\n",
    "    '''\n",
    "    A good example of an action client that will cause the iRobot Create3 to dock \n",
    "    if it is currently undocked. It is a subclass of Node.  Taken from Sawyer's library\n",
    "    '''\n",
    "\n",
    "    def __init__(self, namespace = '/Picard'):    \n",
    "        '''\n",
    "        Purpose\n",
    "        -------\n",
    "        set up a node to dock the robot\n",
    "        '''\n",
    "        super().__init__('dock_action_client')\n",
    "        \n",
    "        self._action_client = ActionClient(self, DockServo, namespace + '/dock')\n",
    "        self.done = False\n",
    "\n",
    "    def send_goal(self):\n",
    "        '''\n",
    "        Purpose\n",
    "        -------\n",
    "        This method waits for the action server to be available, then sends a \n",
    "        goal to the server. It returns a future that we can later wait on.\n",
    "        '''\n",
    "        goal_msg = DockServo.Goal()\n",
    "\n",
    "        self._action_client.wait_for_server()\n",
    "        self._send_goal_future = self._action_client.send_goal_async(goal_msg)\n",
    "        \n",
    "        self._send_goal_future.add_done_callback(self.goal_response_callback)\n",
    "        \n",
    "        return self._send_goal_future\n",
    "\n",
    "    def goal_response_callback(self, future):\n",
    "        '''\n",
    "        Purpose\n",
    "        -------\n",
    "        A callback that is executed when the action server accepts or rejects the goal request.\n",
    "        '''\n",
    "        goal_handle = future.result()\n",
    "        if not goal_handle.accepted:\n",
    "            # Return early so there is no result\n",
    "            self.get_logger().info('Goal rejected :(')\n",
    "            self.done = True\n",
    "            return\n",
    "\n",
    "        self.get_logger().info('Goal accepted :)')\n",
    "        \n",
    "        #setup a callback for when the Create is docked\n",
    "        \n",
    "        self._get_result_future = goal_handle.get_result_async()\n",
    "        self._get_result_future.add_done_callback(self.get_result_callback)\n",
    "\n",
    "    def get_result_callback(self, future):\n",
    "        '''\n",
    "        Purpose\n",
    "        -------\n",
    "        This will execute when the Create is docked.\n",
    "        '''\n",
    "        result = future.result().result\n",
    "        self.get_logger().info('Result: {0}'.format(result))\n",
    "        self.done = True\n"
   ]
  },
  {
   "cell_type": "markdown",
   "id": "ed11489e-7ca7-4454-b155-9d0622379b77",
   "metadata": {},
   "source": [
    "and then add a dock method in CreateLib"
   ]
  },
  {
   "cell_type": "code",
   "execution_count": null,
   "id": "acfcfd23-06f5-49e2-9a99-af0b071abe29",
   "metadata": {},
   "outputs": [],
   "source": [
    "from Subs.ROS2Lib import Drive, Rotate, Lights, Audio, TwistIt, Battery, Dock\n",
    "\n",
    "self.dock_action = Dock(namespace)  #this starts the subscriber - add to __init__\n",
    "\n",
    "    def dock(self):\n",
    "        print('ask to dock ', end = '')\n",
    "        self.dock_action.send_goal()\n",
    "        print(' set ', end = '')        \n",
    "        self.wait(self.dock_action)\n",
    "        print('done')\n"
   ]
  },
  {
   "cell_type": "markdown",
   "id": "4648d94f-42dd-4ede-b1ee-459c0e405ece",
   "metadata": {},
   "source": [
    "And then restart the kernel and test"
   ]
  },
  {
   "cell_type": "code",
   "execution_count": null,
   "id": "808ba75c-65df-4a95-877d-e1426950f3af",
   "metadata": {},
   "outputs": [],
   "source": [
    "from Subs.CreateLib import Create\n",
    "\n",
    "MyCreate = Create('/rogers')\n",
    "\n",
    "MyCreate.dock()\n",
    "MyCreate.close()"
   ]
  }
 ],
 "metadata": {
  "kernelspec": {
   "display_name": "Python 3 (ipykernel)",
   "language": "python",
   "name": "python3"
  },
  "language_info": {
   "codemirror_mode": {
    "name": "ipython",
    "version": 3
   },
   "file_extension": ".py",
   "mimetype": "text/x-python",
   "name": "python",
   "nbconvert_exporter": "python",
   "pygments_lexer": "ipython3",
   "version": "3.9.13"
  }
 },
 "nbformat": 4,
 "nbformat_minor": 5
}
