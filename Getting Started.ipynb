{
 "cells": [
  {
   "cell_type": "markdown",
   "id": "5ba78b57",
   "metadata": {},
   "source": [
    "# First check your paths to see what version of python you are using (and where it is)"
   ]
  },
  {
   "cell_type": "code",
   "execution_count": 1,
   "id": "c122a41a",
   "metadata": {
    "scrolled": true
   },
   "outputs": [
    {
     "name": "stdout",
     "output_type": "stream",
     "text": [
      "['/media/psf/Home/Desktop/ClassNotebooks', '/usr/lib/python38.zip', '/usr/lib/python3.8', '/usr/lib/python3.8/lib-dynload', '', '/home/parallels/.local/lib/python3.8/site-packages', '/usr/local/lib/python3.8/dist-packages', '/usr/lib/python3/dist-packages', '/usr/lib/python3.8/dist-packages']\n"
     ]
    }
   ],
   "source": [
    "import sys; print(sys.path)"
   ]
  },
  {
   "cell_type": "markdown",
   "id": "7bead30c",
   "metadata": {},
   "source": [
    "## Now test to see if you can read a file near this one"
   ]
  },
  {
   "cell_type": "code",
   "execution_count": 2,
   "id": "184b179b",
   "metadata": {
    "scrolled": true
   },
   "outputs": [
    {
     "data": {
      "text/plain": [
       "['Getting Started.ipynb',\n",
       " '.DS_Store',\n",
       " 'ROS2Lib.py',\n",
       " '__pycache__',\n",
       " 'CreateLib.py',\n",
       " '.ipynb_checkpoints',\n",
       " 'directory.py']"
      ]
     },
     "execution_count": 2,
     "metadata": {},
     "output_type": "execute_result"
    }
   ],
   "source": [
    "import directory\n",
    "\n",
    "directory.test()"
   ]
  },
  {
   "cell_type": "markdown",
   "id": "6712359b",
   "metadata": {},
   "source": [
    "### Now check ROS (if it says no rclpy - then you do not have ROS installed correctly)."
   ]
  },
  {
   "cell_type": "code",
   "execution_count": 3,
   "id": "07e147c6",
   "metadata": {},
   "outputs": [
    {
     "ename": "ModuleNotFoundError",
     "evalue": "No module named 'rclpy'",
     "output_type": "error",
     "traceback": [
      "\u001b[0;31m---------------------------------------------------------------------------\u001b[0m",
      "\u001b[0;31mModuleNotFoundError\u001b[0m                       Traceback (most recent call last)",
      "Input \u001b[0;32mIn [3]\u001b[0m, in \u001b[0;36m<cell line: 2>\u001b[0;34m()\u001b[0m\n\u001b[1;32m      1\u001b[0m \u001b[38;5;66;03m# This would be a sample student code.\u001b[39;00m\n\u001b[0;32m----> 2\u001b[0m \u001b[38;5;28;01mfrom\u001b[39;00m \u001b[38;5;21;01mCreateLib\u001b[39;00m \u001b[38;5;28;01mimport\u001b[39;00m Create\n\u001b[1;32m      3\u001b[0m \u001b[38;5;28;01mimport\u001b[39;00m \u001b[38;5;21;01mtime\u001b[39;00m\n\u001b[1;32m      5\u001b[0m \u001b[38;5;28;01mdef\u001b[39;00m \u001b[38;5;21mmain\u001b[39m():\n",
      "File \u001b[0;32m/media/psf/Home/Desktop/ClassNotebooks/CreateLib.py:9\u001b[0m, in \u001b[0;36m<module>\u001b[0;34m\u001b[0m\n\u001b[1;32m      1\u001b[0m \u001b[38;5;66;03m#cd /media/psf/Home/Documents/Work/Classes/2022\\ Summer//Summer\\ 2022/ROS\u001b[39;00m\n\u001b[1;32m      2\u001b[0m \u001b[38;5;66;03m#exit()\u001b[39;00m\n\u001b[1;32m      3\u001b[0m \u001b[38;5;66;03m#python3\u001b[39;00m\n\u001b[1;32m      5\u001b[0m \u001b[38;5;124;03m'''\u001b[39;00m\n\u001b[1;32m      6\u001b[0m \u001b[38;5;124;03mThis library talks to the ROS library, setting up some key behaviors\u001b[39;00m\n\u001b[1;32m      7\u001b[0m \u001b[38;5;124;03m'''\u001b[39;00m\n\u001b[0;32m----> 9\u001b[0m \u001b[38;5;28;01mimport\u001b[39;00m \u001b[38;5;21;01mrclpy\u001b[39;00m\n\u001b[1;32m     10\u001b[0m \u001b[38;5;28;01mfrom\u001b[39;00m \u001b[38;5;21;01mROS2Lib\u001b[39;00m \u001b[38;5;28;01mimport\u001b[39;00m Drive, Rotate, Lights\n\u001b[1;32m     11\u001b[0m \u001b[38;5;28;01mimport\u001b[39;00m \u001b[38;5;21;01mtime\u001b[39;00m\n",
      "\u001b[0;31mModuleNotFoundError\u001b[0m: No module named 'rclpy'"
     ]
    }
   ],
   "source": [
    "# This would be a sample student code.\n",
    "from CreateLib import Create\n",
    "import time\n",
    "\n",
    "def main():\n",
    "    MyCreate = Create('/rogers')\n",
    "    try:\n",
    "        for i in range(1000):\n",
    "            print(i)\n",
    "            #MyCreate.forward(0.5)\n",
    "            #MyCreate.forward(-0.5)\n",
    "            MyCreate.LED(2)\n",
    "            MyCreate.turn(1.57)\n",
    "            time.sleep(5)\n",
    "            MyCreate.LED(3)\n",
    "            time.sleep(1)\n",
    "    finally:    \n",
    "        MyCreate.close()\n",
    "        \n",
    "main()\n"
   ]
  },
  {
   "cell_type": "code",
   "execution_count": null,
   "id": "dbb5ddee",
   "metadata": {},
   "outputs": [],
   "source": []
  }
 ],
 "metadata": {
  "kernelspec": {
   "display_name": "Python 3 (ipykernel)",
   "language": "python",
   "name": "python3"
  },
  "language_info": {
   "codemirror_mode": {
    "name": "ipython",
    "version": 3
   },
   "file_extension": ".py",
   "mimetype": "text/x-python",
   "name": "python",
   "nbconvert_exporter": "python",
   "pygments_lexer": "ipython3",
   "version": "3.8.10"
  }
 },
 "nbformat": 4,
 "nbformat_minor": 5
}
