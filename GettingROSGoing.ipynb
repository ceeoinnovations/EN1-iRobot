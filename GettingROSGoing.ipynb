{
 "cells": [
  {
   "cell_type": "code",
   "execution_count": 26,
   "id": "16cc4196-44e0-4fa3-bf80-0568e8cbcebe",
   "metadata": {},
   "outputs": [
    {
     "data": {
      "text/plain": [
       "'/srv/scratch/Latest'"
      ]
     },
     "execution_count": 26,
     "metadata": {},
     "output_type": "execute_result"
    }
   ],
   "source": [
    "pwd"
   ]
  },
  {
   "cell_type": "markdown",
   "id": "82ec1601",
   "metadata": {},
   "source": [
    "Click [here](http://130.64.80.78/hub/user-redirect/git-pull?repo=https://github.com/ceeoinnovations/EN1-iRobot&branch=main&app=lab) to update"
   ]
  },
  {
   "cell_type": "code",
   "execution_count": 20,
   "id": "8c3a35df-01a4-434c-a8b2-45af961acb40",
   "metadata": {},
   "outputs": [],
   "source": [
    "!echo \"source /usr/share/colcon_cd/function/colcon_cd.sh\" >> ~/.bashrc"
   ]
  },
  {
   "cell_type": "code",
   "execution_count": 21,
   "id": "923aa7a7-e454-4fa0-a15a-120875c5a997",
   "metadata": {},
   "outputs": [],
   "source": [
    "!echo \"export _colcon_cd_root=/opt/ros/galactic/\" >> ~/.bashrc"
   ]
  },
  {
   "cell_type": "code",
   "execution_count": 22,
   "id": "192eadf6-c193-4874-aa45-62049d19c8b1",
   "metadata": {},
   "outputs": [],
   "source": [
    "!echo \"source /usr/share/colcon_argcomplete/hook/colcon-argcomplete.bash\" >> ~/.bashrc"
   ]
  },
  {
   "cell_type": "code",
   "execution_count": 23,
   "id": "224df39c-a974-4628-846f-e550a234deaf",
   "metadata": {},
   "outputs": [],
   "source": [
    "!echo \"source /opt/ros/galactic/setup.bash\" >> ~/.bashrc"
   ]
  },
  {
   "cell_type": "code",
   "execution_count": 24,
   "id": "432be7c3-6825-4fb0-87d6-89ca76551cda",
   "metadata": {},
   "outputs": [],
   "source": [
    "!echo \"export RMW_IMPLEMENTATION=rmw_fastrtps_cpp\" >> ~/.bashrc"
   ]
  },
  {
   "cell_type": "code",
   "execution_count": 25,
   "id": "d42ae988-9791-411e-ba06-4f4990ef944b",
   "metadata": {},
   "outputs": [],
   "source": [
    "!echo \"export ROS_DOMAIN_ID=0\" >> ~/.bashrc"
   ]
  },
  {
   "cell_type": "code",
   "execution_count": 27,
   "id": "ef70b8aa-5853-4390-b7f4-ff8692b2864a",
   "metadata": {},
   "outputs": [],
   "source": [
    "!echo \"export FASTRTPS_DEFAULT_PROFILES_FILE='/srv/scratch/Latest/disable_MC.xml'\" >> ~/.bashrc"
   ]
  },
  {
   "cell_type": "code",
   "execution_count": 33,
   "id": "72473790-f408-46b0-a301-520cf2242e4c",
   "metadata": {},
   "outputs": [
    {
     "name": "stdout",
     "output_type": "stream",
     "text": [
      "/bin/bash: ros2: command not found\n"
     ]
    }
   ],
   "source": [
    "!ros2 daemon stop"
   ]
  },
  {
   "cell_type": "code",
   "execution_count": 32,
   "id": "fac16db5-e62f-4cda-b4d5-cc4601dbe708",
   "metadata": {},
   "outputs": [],
   "source": [
    "!source ~/.bashrc"
   ]
  },
  {
   "cell_type": "code",
   "execution_count": 16,
   "id": "e36fba52-9a05-4c0d-a9e4-887f87a171df",
   "metadata": {},
   "outputs": [
    {
     "name": "stdout",
     "output_type": "stream",
     "text": [
      "Overwriting /home/jupyter-crogers/disable_MC.xml\n"
     ]
    }
   ],
   "source": [
    "%%writefile /home/jupyter-crogers/disable_MC.xml\n",
    "\n",
    "<?xml version=\"1.0\" encoding=\"UTF-8\" ?>\n",
    "<profiles xmlns=\"http://www.eprosima.com/XMLSchemas/fastRTPS_Profiles\">\n",
    "   <participant profile_name=\"unicast_connection\" is_default_profile=\"true\">\n",
    "       <rtps>\n",
    "           <builtin>\n",
    "               <metatrafficUnicastLocatorList>\n",
    "                   <locator/>\n",
    "               </metatrafficUnicastLocatorList>\n",
    "               <initialPeersList>\n",
    "                   <locator>\n",
    "                       <udpv4>\n",
    "                           <address>127.0.0.1</address>\n",
    "                       </udpv4>\n",
    "                   </locator>\n",
    "                   <locator>\n",
    "                       <udpv4>\n",
    "                           <address>10.247.234.38</address>\n",
    "                           <!--Cersei - lab Dev -->\n",
    "                       </udpv4>\n",
    "                   </locator>\n",
    "                    <locator>\n",
    "                       <udpv4>\n",
    "                           <address>10.247.231.226</address>\n",
    "                           <!--Syndrome -->\n",
    "                       </udpv4>\n",
    "                   </locator>\n",
    "                    <locator>\n",
    "                       <udpv4>\n",
    "                           <address>10.247.225.173</address>\n",
    "                           <!--Dory -->\n",
    "                       </udpv4>\n",
    "                   </locator>\n",
    "                    <locator>\n",
    "                       <udpv4>\n",
    "                           <address>10.247.224.139</address>\n",
    "                           <!--Nemo -->\n",
    "                       </udpv4>\n",
    "                   </locator>\n",
    "                    <locator>\n",
    "                       <udpv4>\n",
    "                           <address>10.247.233.108</address>\n",
    "                           <!--Remy -->\n",
    "                       </udpv4>\n",
    "                   </locator>\n",
    "                    <locator>\n",
    "                       <udpv4>\n",
    "                           <address>10.247.228.95</address>\n",
    "                           <!--EdnaMode -->\n",
    "                       </udpv4>\n",
    "                   </locator>\n",
    "                    <locator>\n",
    "                       <udpv4>\n",
    "                           <address>10.247.230.51</address>\n",
    "                           <!--Woody -->\n",
    "                       </udpv4>\n",
    "                   </locator>\n",
    "                    <locator>\n",
    "                       <udpv4>\n",
    "                           <address>10.247.230.58</address>\n",
    "                           <!--Buzz -->\n",
    "                       </udpv4>\n",
    "                   </locator>\n",
    "                    <locator>\n",
    "                       <udpv4>\n",
    "                           <address>10.247.227.121</address>\n",
    "                           <!--MikeWazowski -->\n",
    "                       </udpv4>\n",
    "                   </locator>\n",
    "                    <locator>\n",
    "                       <udpv4>\n",
    "                           <address>10.247.228.58</address>\n",
    "                           <!--LightningMcQueen -->\n",
    "                       </udpv4>\n",
    "                   </locator>\n",
    "                    <locator>\n",
    "                       <udpv4>\n",
    "                           <address>10.247.235.176</address>\n",
    "                           <!--Mater -->\n",
    "                       </udpv4>\n",
    "                   </locator>\n",
    "                    <locator>\n",
    "                       <udpv4>\n",
    "                           <address>10.247.232.178</address>\n",
    "                           <!--Dash -->\n",
    "                       </udpv4>\n",
    "                   </locator>\n",
    "                    <locator>\n",
    "                       <udpv4>\n",
    "                           <address>10.247.227.176</address>\n",
    "                           <!--ElastGirl -->\n",
    "                       </udpv4>\n",
    "                   </locator>\n",
    "                    <locator>\n",
    "                       <udpv4>\n",
    "                           <address>10.247.238.97</address>\n",
    "                           <!--Pig -->\n",
    "                       </udpv4>\n",
    "                   </locator>\n",
    "                    <locator>\n",
    "                       <udpv4>\n",
    "                           <address>10.247.231.168</address>\n",
    "                           <!--PotatoHead -->\n",
    "                       </udpv4>\n",
    "                   </locator>\n",
    "                   <locator>\n",
    "                       <udpv4>\n",
    "                           <address>192.168.86.233</address>\n",
    "                           <!--RogersCreate - My Dev -->\n",
    "                       </udpv4>\n",
    "                   </locator>\n",
    "                   <locator>\n",
    "                       <udpv4>\n",
    "                           <address>192.168.86.225</address>\n",
    "                           <!--RogersCreate - My Dev at High Peaks -->\n",
    "                       </udpv4>\n",
    "                   </locator>\n",
    "               </initialPeersList>\n",
    "           </builtin>\n",
    "       </rtps>\n",
    "   </participant>\n",
    "</profiles>\n",
    "<!--ros2 daemon stop 🤔️ source ~/.bashrc 🤔️ ros2 topic list-->"
   ]
  },
  {
   "cell_type": "code",
   "execution_count": 13,
   "id": "60c81ef4-16ef-42b7-a9ee-ac9d84b157e9",
   "metadata": {},
   "outputs": [
    {
     "name": "stdout",
     "output_type": "stream",
     "text": [
      "000-GettingStarted.ipynb     103a-ROS_Publisher.ipynb\t202-CLI.ipynb\n",
      "001-Baseball.ipynb\t     103b-ROS_Subscriber.ipynb\t203-Python.ipynb\n",
      "002-BeginningJousting.ipynb  103-ROS.ipynb\t\t204-ROS.ipynb\n",
      "100-Beeping.ipynb\t     104-Serial.ipynb\t\tdisable_MC.xml\n",
      "101-EditCreateLib.ipynb      200-JupyterLabs.ipynb\tfred\n",
      "102-EditROSLib.ipynb\t     201-Troubleshooting.ipynb\tUntitled.ipynb\n"
     ]
    }
   ],
   "source": [
    "!ls"
   ]
  },
  {
   "cell_type": "code",
   "execution_count": null,
   "id": "de054376-b1ae-473f-9117-50714d0c3732",
   "metadata": {},
   "outputs": [],
   "source": []
  }
 ],
 "metadata": {
  "kernelspec": {
   "display_name": "Python 3 (ipykernel)",
   "language": "python",
   "name": "python3"
  },
  "language_info": {
   "codemirror_mode": {
    "name": "ipython",
    "version": 3
   },
   "file_extension": ".py",
   "mimetype": "text/x-python",
   "name": "python",
   "nbconvert_exporter": "python",
   "pygments_lexer": "ipython3",
   "version": "3.8.10"
  }
 },
 "nbformat": 4,
 "nbformat_minor": 5
}
