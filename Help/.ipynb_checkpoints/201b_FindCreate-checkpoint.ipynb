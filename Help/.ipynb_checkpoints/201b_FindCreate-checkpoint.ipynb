{
 "cells": [
  {
   "cell_type": "markdown",
   "id": "c0cfa1b1-268c-4388-8379-e1fc8ca414c4",
   "metadata": {},
   "source": [
    "## Resetting the ID"
   ]
  },
  {
   "cell_type": "markdown",
   "id": "6a266340-0b37-4db7-a5d7-a42226c8b3ed",
   "metadata": {},
   "source": [
    "First step, run this code with a clean kernel - it will look up the IP address, check create versus notebook and then make the robot beep"
   ]
  },
  {
   "cell_type": "code",
   "execution_count": null,
   "id": "f5b3ce2f-0100-48e3-bab7-5fb37ee766d6",
   "metadata": {},
   "outputs": [],
   "source": [
    "import os, subprocess, sys, requests,time\n",
    "from Subs.CreateLib import Create\n",
    "\n",
    "createName = 'Buzz'\n",
    "\n",
    "def findCreate(name):\n",
    "    creates = [{\"Name\":\"Syndrome\",\"ID\":\"1\",\"IP\":\"10.247.137.242\"},{\"Name\":\"Dory\",\"ID\":\"2\",\"IP\":\"10.247.137.243\"},{\"Name\":\"Nemo\",\"ID\":\"3\",\"IP\":\"10.247.137.244\"},{\"Name\":\"Remy\",\"ID\":\"4\",\"IP\":\"10.247.137.245\"},{\"Name\":\"EdnaMode \",\"ID\":\"5\",\"IP\":\"10.247.137.246\"},{\"Name\":\"Woody \",\"ID\":\"6\",\"IP\":\"10.247.137.247\"},{\"Name\":\"Buzz\",\"ID\":\"7\",\"IP\":\"10.247.137.241\"},{\"Name\":\"MikeWazowski\",\"ID\":\"8\",\"IP\":\"10.247.137.248\"},{\"Name\":\"LightningMcQueen \",\"ID\":\"9\",\"IP\":\"10.247.137.249\"},{\"Name\":\"Mater\",\"ID\":\"10\",\"IP\":\"10.247.137.250\"},{\"Name\":\"Dash\",\"ID\":\"11\",\"IP\":\"10.247.137.251\"},{\"Name\":\"ElastaGirl\",\"ID\":\"12\",\"IP\":\"10.247.137.252\"},{\"Name\":\"Pig\",\"ID\":\"13\",\"IP\":\"10.247.137.240\"},{\"Name\":\"PotatoHead\",\"ID\":\"14\",\"IP\":\"10.247.137.239\"},{\"Name\":\"Dot\",\"ID\":\"15\",\"IP\":\"10.247.137.238\"},{\"Name\":\"Sully\",\"ID\":\"16\",\"IP\":\"10.247.137.237\"},{\"Name\":\"Carl\",\"ID\":\"17\",\"IP\":\"10.247.137.236\"},{\"Name\":\"Merida\",\"ID\":\"18\",\"IP\":\"10.247.137.235\"}]    \n",
    "    for create in creates:\n",
    "        if create['Name'] == name:\n",
    "            return (int(create['ID']),create['IP'])\n",
    "    return (None, None)\n",
    "\n",
    "def Check(url):\n",
    "    reply = sys.version\n",
    "    mware = os.environ['RMW_IMPLEMENTATION']\n",
    "    ID = int(os.environ['ROS_DOMAIN_ID'])\n",
    "    print('PC side \\n    Testing Kernel ' + reply.split(' ')[0] + (' - good' if  ('3.8' in reply) else ' - BAD'))\n",
    "    print('    Testing middleware ' + mware + (' - good' if  ('cyclone' in mware) else ' - BAD'))\n",
    "    print('    Testing ID ' + str(ID) + (' - good' if  (0 <= ID <=17) else ' - BAD' ))\n",
    "\n",
    "    #go out and check the create setting\n",
    "    r = requests.get(url+'/home').text\n",
    "    ver = r.split('VERSION: ')[1].split('</pre>')[0]\n",
    "    r = requests.get(url+'/ros-config').text\n",
    "    IDreply = r.split('required value=\\\"')[1].split('\\\"')[0]\n",
    "    name = r.split('name=\\\"ros_namespace\" value=\\\"')[1].split('\\\"')[0]\n",
    "\n",
    "    print('Robot side \\n    Testing Version '+ ver + (' - good' if  ('G.3' in ver) else '- BAD'))\n",
    "    print('    Testing ID ' + str(IDreply) + (' - good' if  (int(IDreply) == ID) else '- BAD'))\n",
    "    print('    Testing namespace ' + name + (' - good' if  (name) else ' - BAD'))\n",
    "\n",
    "    print('    Testing middleware ',end='')\n",
    "    option1 = r.split('<option value=\\\"')[1].split('</option>')[0]\n",
    "    option2 = r.split('<option value=\\\"')[2].split('</option>')[0]\n",
    "    reply='failed'\n",
    "    reply = option1.split('\\\"')[0] if 'selected' in option1 else reply\n",
    "    reply = option2.split('\\\"')[0] if 'selected' in option2 else reply\n",
    "    print ('- good - ' if  (mware in reply) else '- BAD - ',end='')\n",
    "    print(reply)\n",
    "\n",
    "(ID,IP) = findCreate(createName)\n",
    "subprocess.run(['ros2','daemon','stop'],capture_output=True)\n",
    "\n",
    "if ID:\n",
    "    os.environ['ROS_DOMAIN_ID']=str(ID)\n",
    "    os.environ['RMW_IMPLEMENTATION']=\"rmw_cyclonedds_cpp\"\n",
    "    Check('http://'+IP)\n",
    "    for i in range(10):\n",
    "        list = subprocess.run(['ros2','topic','list'],capture_output=True)\n",
    "        if len(list.stdout.decode().split('\\n')) > 4:\n",
    "            print(list.stdout.decode())\n",
    "            break\n",
    "        time.sleep(1)\n",
    "    if i >=9: \n",
    "        print('connection failed')\n",
    "    else:\n",
    "        MyCreate = Create('/' + createName)\n",
    "        time.sleep(1)\n",
    "        MyCreate.beep()\n",
    "        MyCreate.LED(2)\n",
    "\n",
    "        MyCreate.close()\n",
    "else:\n",
    "    print('could not find the Create')"
   ]
  },
  {
   "cell_type": "markdown",
   "id": "b9cb2249-897b-4672-b26e-e8f4dd680316",
   "metadata": {},
   "source": [
    "Make sure it found your create"
   ]
  },
  {
   "cell_type": "code",
   "execution_count": null,
   "id": "b6e00897-4ffb-4539-8f97-93be04b124b8",
   "metadata": {},
   "outputs": [],
   "source": [
    "createName"
   ]
  },
  {
   "cell_type": "markdown",
   "id": "868a74f3-7a1b-4818-80eb-f5c2fcd79b0c",
   "metadata": {},
   "source": [
    "Try beeping again"
   ]
  },
  {
   "cell_type": "code",
   "execution_count": null,
   "id": "cdc1438e-d388-4b63-91d5-134dca1be6bf",
   "metadata": {},
   "outputs": [],
   "source": [
    "MyCreate = Create('/' + createName)\n",
    "MyCreate.beep()\n",
    "MyCreate.LED(2)\n",
    "\n",
    "MyCreate.close()\n"
   ]
  }
 ],
 "metadata": {
  "kernelspec": {
   "display_name": "Python 3 (ipykernel)",
   "language": "python",
   "name": "python3"
  },
  "language_info": {
   "codemirror_mode": {
    "name": "ipython",
    "version": 3
   },
   "file_extension": ".py",
   "mimetype": "text/x-python",
   "name": "python",
   "nbconvert_exporter": "python",
   "pygments_lexer": "ipython3",
   "version": "3.9.13"
  }
 },
 "nbformat": 4,
 "nbformat_minor": 5
}
