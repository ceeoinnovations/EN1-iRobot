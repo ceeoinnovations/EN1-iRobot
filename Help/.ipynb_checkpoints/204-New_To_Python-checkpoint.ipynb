{
 "cells": [
  {
   "cell_type": "markdown",
   "id": "cbf51133-1026-4b1e-b763-41e43260b1ad",
   "metadata": {},
   "source": [
    "## New to Python?"
   ]
  },
  {
   "cell_type": "markdown",
   "id": "9ba1a0f7-ba0b-404c-9abd-171bcb8cbb90",
   "metadata": {},
   "source": [
    "Here are a few things to try.  First lets talk variables:"
   ]
  },
  {
   "cell_type": "code",
   "execution_count": null,
   "id": "80f7f3af-e8c2-45df-aba0-3e921b6cdcd1",
   "metadata": {},
   "outputs": [],
   "source": [
    "fred = 23"
   ]
  },
  {
   "cell_type": "markdown",
   "id": "8e61d75a-b478-43fd-bb64-0ccd114839ac",
   "metadata": {},
   "source": [
    "you can assign anything to fred - an integer (like above), a float (fred = 2.3), a string (fred='great'), and so on.  Try to make fred equal to himself plus 12"
   ]
  },
  {
   "cell_type": "code",
   "execution_count": null,
   "id": "ab44286d-124a-4f33-bad4-88440972dbe5",
   "metadata": {},
   "outputs": [],
   "source": [
    "fred = fred + 12\n",
    "print(fred)"
   ]
  },
  {
   "cell_type": "markdown",
   "id": "97fc73a2-deb0-48ab-9c81-118c9aaeb035",
   "metadata": {},
   "source": [
    "what about doing the equation above again?  Or one more time, only this time add a floating point number instead (like 3.14) - what happens to fred?  What if we want to do that 10 times?  Then a *for loop* is handy - this one runs 10 times, each time incrementing fred by the number i."
   ]
  },
  {
   "cell_type": "code",
   "execution_count": null,
   "id": "d9f543e7-44be-4caf-ace3-b2346bb7fc23",
   "metadata": {},
   "outputs": [],
   "source": [
    "for i in range(10):\n",
    "    fred = fred + i\n",
    "    print(fred)"
   ]
  },
  {
   "cell_type": "markdown",
   "id": "5e05981d-aa15-4511-84be-74a036dc0e5f",
   "metadata": {},
   "source": [
    "or you could use a while loop as well"
   ]
  },
  {
   "cell_type": "code",
   "execution_count": null,
   "id": "ef99b3f9-b817-468d-aff7-5d66a2152429",
   "metadata": {},
   "outputs": [],
   "source": [
    "i = 0\n",
    "while i<10:\n",
    "    fred = fred + i\n",
    "    i = i + 1\n",
    "    print(fred)"
   ]
  },
  {
   "cell_type": "markdown",
   "id": "8dc6dd4e-1e94-4b72-9b9c-66591c592f24",
   "metadata": {},
   "source": [
    "Or you can do an infinite loop, and break it when i gets large"
   ]
  },
  {
   "cell_type": "code",
   "execution_count": null,
   "id": "534b0ee2-ca5f-4881-87f1-c7bfb269a659",
   "metadata": {},
   "outputs": [],
   "source": [
    "i = 0\n",
    "while True:\n",
    "    fred = fred + i\n",
    "    i = i + 1\n",
    "    print(fred)\n",
    "    if (i >9):\n",
    "        break"
   ]
  },
  {
   "cell_type": "markdown",
   "id": "e23045ea-cd5a-486d-8c4e-6127cec7ae97",
   "metadata": {},
   "source": [
    "Notice how you can do a conditional (if something is the case, then do something) - you can add an *else* statement as well.  Notice I added a wait time - so that means I have to import the library called *time*"
   ]
  },
  {
   "cell_type": "code",
   "execution_count": null,
   "id": "e85cb9eb-6d78-4156-9d79-b523f475e19a",
   "metadata": {},
   "outputs": [],
   "source": [
    "import time\n",
    "\n",
    "i = 0\n",
    "while True:\n",
    "    fred = fred + i\n",
    "    i = i + 1\n",
    "    print(fred)\n",
    "    if (i >9):\n",
    "        break\n",
    "    else:\n",
    "        time.sleep(1) # waits for 1 second"
   ]
  },
  {
   "cell_type": "markdown",
   "id": "ee937f30-29d3-4cec-a1bb-e60192146cce",
   "metadata": {},
   "source": [
    "Usually you are doing something more complicated than just adding the number - so it might make sense to define a function - like this:"
   ]
  },
  {
   "cell_type": "code",
   "execution_count": null,
   "id": "c4043cf7-94b4-4c2f-bed9-c4dfa73e51f3",
   "metadata": {},
   "outputs": [],
   "source": [
    "import time\n",
    "\n",
    "def addThem(a,b):\n",
    "    return a + b\n",
    "\n",
    "i = 0\n",
    "while True:\n",
    "    fred = addThem(fred, i)\n",
    "    i = i + 1\n",
    "    print(fred)\n",
    "    if (i >9):\n",
    "        break\n",
    "    else:\n",
    "        time.sleep(1) # waits for 1 second"
   ]
  },
  {
   "cell_type": "markdown",
   "id": "2495221f-80c3-49af-bf4e-a74039ba87c2",
   "metadata": {},
   "source": [
    "and you can even give default values if the main program does not specify both parameters (*a and b*) - so guess at the output of this before running it."
   ]
  },
  {
   "cell_type": "code",
   "execution_count": null,
   "id": "f036e7c5-e26d-4e37-81e6-a52d7e954912",
   "metadata": {},
   "outputs": [],
   "source": [
    "import time\n",
    "\n",
    "def addThem(a,b = 2):\n",
    "    return a + b\n",
    "\n",
    "i = 0\n",
    "while True:\n",
    "    fred = addThem(fred)\n",
    "    i = i + 1\n",
    "    print(fred)\n",
    "    if (i >9):\n",
    "        break\n",
    "    else:\n",
    "        time.sleep(1) # waits for 1 second"
   ]
  },
  {
   "cell_type": "markdown",
   "id": "33a42310-1e52-45d9-a505-0e55338c6ac2",
   "metadata": {},
   "source": [
    "Where to go for more help?  There are a billion \"learn python\" sites, you can google search anything you want (*How do I read a string in python?*).  I have a lot of examples I use to remind me how to do things [here](203-Python.ipynb).  If you know the library - try typing *help* - like this:"
   ]
  },
  {
   "cell_type": "code",
   "execution_count": null,
   "id": "1d9fe6e6-8d51-4341-804a-8c0af538df9d",
   "metadata": {},
   "outputs": [],
   "source": [
    "help(time.sleep)"
   ]
  },
  {
   "cell_type": "markdown",
   "id": "6b2356c2-61fc-4fa4-b9f8-064cdb70d4af",
   "metadata": {},
   "source": [
    "And there is a cool trick in Jupyter - if you start to type a command (like time) and you do not know what functions are available (like *sleep*), you can type the first part (*time.*) and then hit tab for more options"
   ]
  },
  {
   "cell_type": "code",
   "execution_count": null,
   "id": "2e887dc4-5d1a-4862-b174-a47f616e5340",
   "metadata": {},
   "outputs": [],
   "source": [
    "time."
   ]
  }
 ],
 "metadata": {
  "kernelspec": {
   "display_name": "Python 3 (ipykernel)",
   "language": "python",
   "name": "python3"
  },
  "language_info": {
   "codemirror_mode": {
    "name": "ipython",
    "version": 3
   },
   "file_extension": ".py",
   "mimetype": "text/x-python",
   "name": "python",
   "nbconvert_exporter": "python",
   "pygments_lexer": "ipython3",
   "version": "3.9.13"
  }
 },
 "nbformat": 4,
 "nbformat_minor": 5
}
