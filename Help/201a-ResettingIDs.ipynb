{
 "cells": [
  {
   "cell_type": "markdown",
   "id": "c0cfa1b1-268c-4388-8379-e1fc8ca414c4",
   "metadata": {},
   "source": [
    "## Resetting the ID"
   ]
  },
  {
   "cell_type": "markdown",
   "id": "6a266340-0b37-4db7-a5d7-a42226c8b3ed",
   "metadata": {},
   "source": [
    "First step, make sure you are on the right ID and the right middleware"
   ]
  },
  {
   "cell_type": "code",
   "execution_count": null,
   "id": "dff96cb5-267a-4809-8d69-55069a1e50ff",
   "metadata": {},
   "outputs": [],
   "source": [
    "import os\n",
    "import subprocess\n",
    "\n",
    "os.environ['ROS_DOMAIN_ID']=\"0\"\n",
    "os.environ['RMW_IMPLEMENTATION']=\"rmw_cyclonedds_cpp\"\n",
    "#os.environ['RMW_IMPLEMENTATION'] = 'rmw_fastrtps_cpp'\n",
    "!printenv | grep 'ROS'\n",
    "!printenv | grep 'RMW'\n",
    "#print(os.environ['FASTRTPS_DEFAULT_PROFILES_FILE'])"
   ]
  },
  {
   "cell_type": "markdown",
   "id": "5916d3e4-d2e1-44ef-8b60-6162423c8ef0",
   "metadata": {},
   "source": [
    "Now restart ros and then try the topic list"
   ]
  },
  {
   "cell_type": "code",
   "execution_count": null,
   "id": "b1ff9287-5486-4569-81ba-afda29716147",
   "metadata": {},
   "outputs": [],
   "source": [
    "!ros2 daemon stop"
   ]
  },
  {
   "cell_type": "code",
   "execution_count": null,
   "id": "8c73fb03-b15d-4705-aacd-1f95bd54c5df",
   "metadata": {},
   "outputs": [],
   "source": [
    "!ros2 topic list"
   ]
  },
  {
   "cell_type": "markdown",
   "id": "bedd604f-50ec-4932-ad54-df3d42a4ba55",
   "metadata": {},
   "source": [
    "if that did not work - try running through all possible IDs."
   ]
  },
  {
   "cell_type": "code",
   "execution_count": null,
   "id": "3ac937a2-7043-4014-b2c9-7bc5fc5ff73b",
   "metadata": {},
   "outputs": [],
   "source": [
    "import time\n",
    "for i in range(19):\n",
    "    list = subprocess.run(['ros2','daemon','stop'],capture_output=True)\n",
    "    os.environ['ROS_DOMAIN_ID']=str(i)\n",
    "    print(os.environ['ROS_DOMAIN_ID'])\n",
    "    time.sleep(0.1)\n",
    "    list = subprocess.run(['ros2','topic','list'],capture_output=True)\n",
    "    print(list.stdout.decode().split('\\n')[0])"
   ]
  },
  {
   "cell_type": "markdown",
   "id": "4b98d575-e64d-408f-b422-3f36de385507",
   "metadata": {
    "jp-MarkdownHeadingCollapsed": true,
    "tags": []
   },
   "source": [
    "## Test all webpages"
   ]
  },
  {
   "cell_type": "markdown",
   "id": "a1bfc9fc-c764-4ba1-8b52-7674fdf4269c",
   "metadata": {},
   "source": [
    "First, check all connected Creates, run this code (assuming it was recently updated)."
   ]
  },
  {
   "cell_type": "code",
   "execution_count": null,
   "id": "accb1d1d-3fad-4347-acf4-9601620a9d65",
   "metadata": {},
   "outputs": [],
   "source": [
    "import os\n",
    "\n",
    "with open('/home/ddeche01/irobot-status.txt') as file:\n",
    "    creates = file.readlines()\n",
    "file.close()\n",
    "\n",
    "clients = []\n",
    "for create in creates:\n",
    "    if create:\n",
    "        try:\n",
    "            name = create.split('hostName\\\" : \\\"')[1].split('\\\",')[0]\n",
    "            IP = 'http://'+create.split('hostIpV4\\\" : \\\"')[1].split('\\\",')[0]\n",
    "            print(name, end=': ')\n",
    "            #print(IP)\n",
    "            print(IP + '/ros-config')\n",
    "            #print(IP + '/wifi')\n",
    "            clients.append(create)\n",
    "        except:\n",
    "            pass"
   ]
  },
  {
   "cell_type": "markdown",
   "id": "e447a936-6d69-4034-ae86-1a31cb7c507a",
   "metadata": {},
   "source": [
    "Next get all the info and test the battery level"
   ]
  },
  {
   "cell_type": "code",
   "execution_count": null,
   "id": "06c095e5-bc07-4bdb-ab6e-fb0df36a176a",
   "metadata": {},
   "outputs": [],
   "source": [
    "import os, sys\n",
    "import subprocess\n",
    "import requests\n",
    "\n",
    "for client in clients:\n",
    "    if client:\n",
    "        name = client.split('hostName\\\" : \\\"')[1].split('\\\",')[0]\n",
    "        url = 'http://' + client.split('hostIpV4\\\" : \\\"')[1].split('\\\",')[0]\n",
    "        print(name, end=': ')\n",
    "        print(url)\n",
    "        print('    Testing Version ',end='')\n",
    "        r = requests.get(url+'/home').text\n",
    "        reply = r.split('VERSION: ')[1].split('</pre>')[0]\n",
    "        print ('- good - ' if  ('G.3' in reply) else '- BAD - ',end='')\n",
    "        print(reply)\n",
    "        print('    Testing ID ',end='')\n",
    "        r = requests.get(url+'/ros-config').text\n",
    "        reply = r.split('required value=\\\"')[1].split('\\\"')[0]\n",
    "        #print ('- good - ' if  (int(reply) == int(ID)) else '- BAD - ',end='')\n",
    "        print(reply)\n",
    "        print('    Testing namespace ',end='')\n",
    "        reply = r.split('name=\\\"ros_namespace\" value=\\\"')[1].split('\\\"')[0]\n",
    "        print ('- good - ' if  (reply) else '- BAD - ',end='')\n",
    "        print(reply)\n",
    "\n",
    "        print('    Testing middleware ',end='')\n",
    "        option1 = r.split('<option value=\\\"')[1].split('</option>')[0]\n",
    "        option2 = r.split('<option value=\\\"')[2].split('</option>')[0]\n",
    "        reply='failed'\n",
    "        reply = option1.split('\\\"')[0] if 'selected' in option1 else reply\n",
    "        reply = option2.split('\\\"')[0] if 'selected' in option2 else reply\n",
    "        #print ('- good - ' if  (mware in reply) else '- BAD - ',end='')\n",
    "        print(reply)\n"
   ]
  },
  {
   "cell_type": "markdown",
   "id": "e173f978-10c1-4973-ab6d-287af686f358",
   "metadata": {},
   "source": [
    "And now for reading them all off the list and checking based on the logs"
   ]
  },
  {
   "cell_type": "code",
   "execution_count": null,
   "id": "508a2ea6-9feb-4872-8445-95e102c605f3",
   "metadata": {},
   "outputs": [],
   "source": [
    "import os\n",
    "import time, requests\n",
    "from Subs.CreateLib import Create\n",
    "\n",
    "with open('/home/ddeche01/irobot-status.txt') as file:\n",
    "    creates = file.readlines()\n",
    "file.close()\n",
    "\n",
    "clients = []\n",
    "for create in creates:\n",
    "    if create:\n",
    "        try:\n",
    "            name = create.split('hostName\\\" : \\\"')[1].split('\\\",')[0]\n",
    "            IP = 'http://'+create.split('hostIpV4\\\" : \\\"')[1].split('\\\",')[0]\n",
    "            #r = requests.get(IP+'/ros-config').text\n",
    "            #ID = r.split('required value=\\\"')[1].split('\\\"')[0]\n",
    "            r = requests.get(IP+'/logs-raw').text\n",
    "            RMW = r.split('RMW_IMPLEMENTATION=')[-1].split('\\n')[0]\n",
    "            name = r.split('ROS_NAMESPACE=')[-1].split('\\n')[0]\n",
    "            ID = r.split('ROS_DOMAIN_ID=')[-1].split('\\n')[0]\n",
    "            print('%s (%s): %s >> %s'%(name,ID,IP,RMW))\n",
    "            clients.append([name,ID,IP,RMW])\n",
    "        except:\n",
    "            pass\n",
    "        \n",
    "for create in clients:\n",
    "    os.environ['ROS_DOMAIN_ID']=create[1]\n",
    "    MyCreate = Create(create[0])\n",
    "    try:\n",
    "        print(create[0],end=': ')\n",
    "        print(MyCreate.battery())\n",
    "        MyCreate.beep()\n",
    "        MyCreate.close()\n",
    "    except:\n",
    "        pass"
   ]
  }
 ],
 "metadata": {
  "kernelspec": {
   "display_name": "Python 3 (ipykernel)",
   "language": "python",
   "name": "python3"
  },
  "language_info": {
   "codemirror_mode": {
    "name": "ipython",
    "version": 3
   },
   "file_extension": ".py",
   "mimetype": "text/x-python",
   "name": "python",
   "nbconvert_exporter": "python",
   "pygments_lexer": "ipython3",
   "version": "3.9.13"
  }
 },
 "nbformat": 4,
 "nbformat_minor": 5
}
