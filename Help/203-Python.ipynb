{
 "cells": [
  {
   "cell_type": "markdown",
   "id": "755369b2-e5bf-429a-a1ae-f482f43a1338",
   "metadata": {},
   "source": [
    "# Python Help"
   ]
  },
  {
   "cell_type": "markdown",
   "id": "46c2e0d3-51c1-4fe8-8bf1-4fbdd4051f88",
   "metadata": {
    "tags": []
   },
   "source": [
    "For those totally new to python, there are a number of great online courses (for instance [this](https://www.w3schools.com/python/)).  I find the easiest way to learn a language is to play with it.  Run the code below... make sense?"
   ]
  },
  {
   "cell_type": "code",
   "execution_count": null,
   "id": "43ea66d9-cc66-4799-b5f5-7af2a8cd260a",
   "metadata": {
    "scrolled": true,
    "tags": []
   },
   "outputs": [],
   "source": [
    "for i in range(10):\n",
    "    print(i)"
   ]
  },
  {
   "cell_type": "markdown",
   "id": "a4c95301-ae0a-40d8-bc46-3c7991d2cefc",
   "metadata": {},
   "source": [
    "Note the spaces and no semicolons.  The nice thing about python is that it is an interpreted language - that means a few things: (1) you can test it out line by line and (2) you can read other people's libraries and learn from them.  Try this:"
   ]
  },
  {
   "cell_type": "code",
   "execution_count": null,
   "id": "8330bc77-ad70-492f-a6fe-d19f72070dbc",
   "metadata": {},
   "outputs": [],
   "source": [
    "ans = 2 + 2\n",
    "print(4*ans)"
   ]
  },
  {
   "cell_type": "markdown",
   "id": "082bf891-3433-4772-b308-f38f65e23a85",
   "metadata": {},
   "source": [
    "I have built up a number of different short code snippets below that I have collected from various sites - try cutting and pasting some sections and running them in the notebook."
   ]
  },
  {
   "cell_type": "markdown",
   "id": "a560cb69-a5cb-4a29-ba27-9fc39f8bbb82",
   "metadata": {},
   "source": [
    "Here are some getting started codes:"
   ]
  },
  {
   "cell_type": "code",
   "execution_count": null,
   "id": "8c1f0dc0-c777-45ae-81ca-8fa15231a29e",
   "metadata": {
    "jupyter": {
     "source_hidden": true
    },
    "tags": []
   },
   "outputs": [],
   "source": [
    "# Getting Started\n",
    "\n",
    "# Try typing\n",
    "print('this is a test, this is only a test') # in the REPL and you should see it printed as a reply.\n",
    "\n",
    "#You can type math - try\n",
    "\n",
    "2 + 2\n",
    "\n",
    "# If you type more than one line, spaces are important - for instance if you define a function:\n",
    "\n",
    "def Tell():\n",
    "     print('more testing')\n",
    "\n",
    "# and then call the function\n",
    "\n",
    "Tell()   # and you should see the text printed.\n",
    "\n",
    "\n",
    "\n",
    "# To run existing code in libraries, you have to \"import\".  Try getting a directory listing with:\n",
    "\n",
    "import os\n",
    "os.listdir()    #and you should get an array of text strings returned.\n",
    "\n",
    "#https://docs.micropython.org/en/latest/index.html\n",
    "\n",
    "#-------------------------Loops\n",
    "\n",
    "# There are many different kinds.  The standard for loop going from 0 to 9 is just\n",
    "\n",
    "for i in range(10):\n",
    "     print (i)\n",
    "\n",
    "# You can also pull from a list:\n",
    "\n",
    "for i in[1,3,5,9]:\n",
    "     print (i)\n",
    "\n",
    "# or run until a condition is met:\n",
    "\n",
    "i = 0\n",
    "while i < 10:\n",
    "     print (i) \n",
    "     i = i + 1\n",
    "\n",
    "#or run forever:\n",
    "\n",
    "import time\n",
    "i = 0\n",
    "while True:\n",
    "     print (i) \n",
    "     i = i + 1\n",
    "     time.sleep(1)  # wait one second between prints so that you can hit CTRL-C and continue on\n",
    "\n",
    "#------------------------- Conditionals\n",
    "\n",
    "#You can have a standard if..then..else format:\n",
    "\n",
    "A=3\n",
    "B=1\n",
    "def Test():\n",
    "     if A < B:\n",
    "         print ('A Wins')\n",
    "     else:\n",
    "         if B:\n",
    "             for i in [\"1\",\"3\",\"5\"]:\n",
    "                 print ('i=',i)\n",
    "         else:\n",
    "             print ('B Loses')\n",
    "             \n",
    "Test()\n",
    "\n"
   ]
  },
  {
   "cell_type": "markdown",
   "id": "e60b7edb-f72b-4b14-af12-6336db947996",
   "metadata": {},
   "source": [
    "And some more tricks"
   ]
  },
  {
   "cell_type": "code",
   "execution_count": null,
   "id": "66bd1c97-db66-4914-a959-3493e055d857",
   "metadata": {
    "jupyter": {
     "source_hidden": true
    },
    "tags": []
   },
   "outputs": [],
   "source": [
    "# more python tricks\n",
    "\n",
    "#----- x = (y>4)?2:3 equivalent\n",
    "\n",
    "y = 2 \n",
    "x = 2 if (y>4) else 3\n",
    "print (x)\n",
    "\n",
    "#------  for tricks\n",
    "for line in ['d','o','g','s']:\n",
    "    print(line,end = '')\n",
    "print(' are great')\n",
    "\n",
    "#------ cool tricks from geeksforgeeks\n",
    "x, y = 10, 20\n",
    "print(x, y) \n",
    "x, y = y, x # swaps two values in one line\n",
    "print(x, y)\n",
    "\n",
    "a = [\"Geeks\", \"For\", \"Geeks\"] \n",
    "print(\" \".join(a))   # makes one string\n",
    "\n",
    "n = 10\n",
    "result = 1 < n < 20\n",
    "print(result) \n",
    "result = 1 > n <= 9  # crazy stuff with multiple comparisons\n",
    "print(result)\n",
    "\n",
    "import os\n",
    "import socket\n",
    "  \n",
    "print(os) # show path to python file\n",
    "print(socket)\n",
    "\n",
    "test = [1, 2, 3, 4, 2, 2, 3, 1, 4, 4, 4] \n",
    "print(max(set(test), key = test.count)) # returns the most common number\n"
   ]
  },
  {
   "cell_type": "markdown",
   "id": "d287c419-2d04-4472-b920-f7b0eca66b3a",
   "metadata": {},
   "source": [
    "And some string manipulations - try them all out."
   ]
  },
  {
   "cell_type": "code",
   "execution_count": null,
   "id": "699a220f-75e0-4bc7-b20e-e7e57c239943",
   "metadata": {
    "jupyter": {
     "source_hidden": true
    },
    "tags": []
   },
   "outputs": [],
   "source": [
    "#------  string manipulations\n",
    "\n",
    "help(str.encode)  # for the full list, try help(str)\n",
    "\n",
    "string = 'the fox and the' + ' dog go jumping\\n'\n",
    "string * 2\n",
    "\n",
    "print('there %s are %d foxes and %g dogs' % ('sometimes',3, 2.2))\n",
    "print(\"there {0} are {1} foxes and {2} dogs\".format('sometimes',3,2.2))\n",
    "\n",
    "fred = string.split()\n",
    "fred\n",
    "fred[2]     # second word\n",
    "string.upper()\n",
    "string[2]      #second character\n",
    "string[:7]     # up to the 7th element\n",
    "string[7:]     # 7 and beyond\n",
    "\n",
    "'fox' in string    # search\n",
    "'fab' in string    # search\n",
    "\n",
    "string.find('o')\n",
    "string.lower().startswith('t')    # make all lowercase before checking\n",
    "string.strip()  # remove spaces (lstrip or rstrip just do one side)\n",
    "string[string.find('a'):string.find(' ',10)]    # from a to space after 10\n",
    "\n",
    "string.count('a',2,25)    # number of as between char 2 and 25\n",
    "string.endswith('g')\n",
    "string.isdigit()        # or isalpha() for letters\n",
    "\n",
    "string.partition(' ')\n",
    "string.replace('fox','cat')\n",
    "str(string.find(' ')) + ' and ' + str(string.rfind(' '))\n",
    "\n",
    "string2 ='''one\n",
    "two\n",
    "three'''\n",
    "string2\n",
    "string2.splitlines()\n",
    "string2.split('\\n')"
   ]
  },
  {
   "cell_type": "markdown",
   "id": "b5f379e5-a8f0-4fef-b164-b10bf08617bc",
   "metadata": {},
   "source": [
    "But the best way to learn is to look at other people's codes.  You can look inside the Create library (or the ROS library) that you will use in this class - just open them up (double-click) and scroll around.  Edit it and see how that changes the behavior of your codes.  You can always redownload..."
   ]
  }
 ],
 "metadata": {
  "kernelspec": {
   "display_name": "Python 3 (ipykernel)",
   "language": "python",
   "name": "python3"
  },
  "language_info": {
   "codemirror_mode": {
    "name": "ipython",
    "version": 3
   },
   "file_extension": ".py",
   "mimetype": "text/x-python",
   "name": "python",
   "nbconvert_exporter": "python",
   "pygments_lexer": "ipython3",
   "version": "3.9.13"
  }
 },
 "nbformat": 4,
 "nbformat_minor": 5
}
