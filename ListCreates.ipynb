{
 "cells": [
  {
   "cell_type": "code",
   "execution_count": null,
   "id": "af73b463-9c7e-427e-bb74-99777a0d25fa",
   "metadata": {},
   "outputs": [],
   "source": [
    "import os\n",
    "import subprocess\n",
    "\n",
    "home = os.path.expanduser('~')\n",
    "os.environ['ROS_DOMAIN_ID']=\"15\"\n",
    "#os.environ['RMW_IMPLEMENTATION'] = 'rmw_cyclonedds_cpp'\n",
    "os.environ['RMW_IMPLEMENTATION'] = 'rmw_fastrtps_cpp'\n",
    "print(os.environ['ROS_DOMAIN_ID'])\n",
    "print(os.environ['RMW_IMPLEMENTATION'])\n",
    "print(os.environ['FASTRTPS_DEFAULT_PROFILES_FILE'])"
   ]
  },
  {
   "cell_type": "code",
   "execution_count": null,
   "id": "e04fbf0f-c043-4194-bfc9-51274140a259",
   "metadata": {},
   "outputs": [],
   "source": [
    "list=subprocess.run(['ros2','topic','list'],capture_output=True)"
   ]
  },
  {
   "cell_type": "code",
   "execution_count": null,
   "id": "20ffe1c9-7827-4214-be87-da1c7877ceab",
   "metadata": {},
   "outputs": [],
   "source": [
    "list.stdout.decode().split('\\n')[0]"
   ]
  },
  {
   "cell_type": "code",
   "execution_count": null,
   "id": "dff37fce-9cda-49d1-9b0d-8920678bb201",
   "metadata": {},
   "outputs": [],
   "source": [
    "! printenv | grep 'ROS'"
   ]
  },
  {
   "cell_type": "code",
   "execution_count": null,
   "id": "f1772a7d-f40f-4a1e-bab8-05963d279719",
   "metadata": {},
   "outputs": [],
   "source": [
    "import time\n",
    "for i in range(17):\n",
    "    os.environ['ROS_DOMAIN_ID']=str(i)\n",
    "    print(os.environ['ROS_DOMAIN_ID'])\n",
    "    time.sleep(0.1)\n",
    "    list = subprocess.run(['ros2','topic','list'],capture_output=True)\n",
    "    print(list.stdout.decode().split('\\n')[0])"
   ]
  },
  {
   "cell_type": "markdown",
   "id": "89d05349-f5f5-429c-8aed-13920cb51906",
   "metadata": {},
   "source": [
    "If that did not work - lets check the RMW implementation - it should be fastrtps"
   ]
  },
  {
   "cell_type": "code",
   "execution_count": null,
   "id": "65383bdf-011c-4bbc-b7f1-c59d8643765d",
   "metadata": {},
   "outputs": [],
   "source": [
    "print(os.environ['RMW_IMPLEMENTATION'])\n",
    "os.environ['RMW_IMPLEMENTATION']= 'rmw_fastrtps_cpp'\n",
    "print(os.environ['RMW_IMPLEMENTATION'])"
   ]
  },
  {
   "cell_type": "markdown",
   "id": "8c9d4d75-66c0-4cfe-b649-97288d760d87",
   "metadata": {},
   "source": [
    "If that is fine, then lets check the multicast"
   ]
  },
  {
   "cell_type": "code",
   "execution_count": null,
   "id": "42aa13fb-67a2-4cf1-93b9-1f3a883dac86",
   "metadata": {},
   "outputs": [],
   "source": [
    "print(os.environ['FASTRTPS_DEFAULT_PROFILES_FILE'])"
   ]
  },
  {
   "cell_type": "markdown",
   "id": "035c166d-a2cf-433d-9f3c-733621d21364",
   "metadata": {},
   "source": [
    "It should read the same as the file below if there is no response, then run this line - and it will set it to a file in your Documents folder"
   ]
  },
  {
   "cell_type": "code",
   "execution_count": null,
   "id": "7a1a6d5a-22ff-4cdd-a36b-401c2f4dc6c1",
   "metadata": {},
   "outputs": [],
   "source": [
    "os.environ['FASTRTPS_DEFAULT_PROFILES_FILE'] = home +'/Documents/disable_multicast.xml'"
   ]
  },
  {
   "cell_type": "markdown",
   "id": "8a28ead8-7300-41c0-b8d0-87898b25d9e5",
   "metadata": {},
   "source": [
    "Next you need to save the list of IP addresses - MAKE SURE to change the file name to the path above"
   ]
  },
  {
   "cell_type": "code",
   "execution_count": null,
   "id": "ab0fa7f2-4be6-4e5c-8349-9313317b6e84",
   "metadata": {
    "jupyter": {
     "source_hidden": true
    },
    "tags": []
   },
   "outputs": [],
   "source": [
    "%%writefile /home/parallels/Documents/disable_multicast.xml\n",
    "\n",
    "<?xml version=\"1.0\" encoding=\"UTF-8\" ?>\n",
    "<profiles xmlns=\"http://www.eprosima.com/XMLSchemas/fastRTPS_Profiles\">\n",
    "   <participant profile_name=\"unicast_connection\" is_default_profile=\"true\">\n",
    "       <rtps>\n",
    "           <builtin>\n",
    "               <metatrafficUnicastLocatorList>\n",
    "                   <locator/>\n",
    "               </metatrafficUnicastLocatorList>\n",
    "               <initialPeersList>\n",
    "                    <locator>\n",
    "                       <udpv4>\n",
    "                           <address>127.0.0.1</address>\n",
    "                           <!--Localhost -->\n",
    "                       </udpv4>\n",
    "                   </locator>\n",
    "                    <locator>\n",
    "                       <udpv4>\n",
    "                           <address>10.245.156.115 </address>\n",
    "                           <!--Syndrome -->\n",
    "                       </udpv4>\n",
    "                   </locator>\n",
    "                    <locator>\n",
    "                       <udpv4>\n",
    "                           <address>10.245.152.174</address>\n",
    "                           <!--Dory -->\n",
    "                       </udpv4>\n",
    "                   </locator>\n",
    "                    <locator>\n",
    "                       <udpv4>\n",
    "                           <address>10.245.157.95</address>\n",
    "                           <!--Nemo -->\n",
    "                       </udpv4>\n",
    "                   </locator>\n",
    "                    <locator>\n",
    "                       <udpv4>\n",
    "                           <address>10.245.150.128</address>\n",
    "                           <!--Remy -->\n",
    "                       </udpv4>\n",
    "                   </locator>\n",
    "                    <locator>\n",
    "                       <udpv4>\n",
    "                           <address>10.245.146.11</address>\n",
    "                           <!--EdnaMode  -->\n",
    "                       </udpv4>\n",
    "                   </locator>\n",
    "                    <locator>\n",
    "                       <udpv4>\n",
    "                           <address>10.245.157.182</address>\n",
    "                           <!--Woody  -->\n",
    "                       </udpv4>\n",
    "                   </locator>\n",
    "                    <locator>\n",
    "                       <udpv4>\n",
    "                           <address>10.245.156.217</address>\n",
    "                           <!--Buzz -->\n",
    "                       </udpv4>\n",
    "                   </locator>\n",
    "                    <locator>\n",
    "                       <udpv4>\n",
    "                           <address>10.245.154.102</address>\n",
    "                           <!--MikeWazowski -->\n",
    "                       </udpv4>\n",
    "                   </locator>\n",
    "                    <locator>\n",
    "                       <udpv4>\n",
    "                           <address>10.245.147.32</address>\n",
    "                           <!--LightningMcQueen  -->\n",
    "                       </udpv4>\n",
    "                   </locator>\n",
    "                    <locator>\n",
    "                       <udpv4>\n",
    "                           <address>10.245.144.147</address>\n",
    "                           <!--Mater -->\n",
    "                       </udpv4>\n",
    "                   </locator>\n",
    "                    <locator>\n",
    "                       <udpv4>\n",
    "                           <address>10.245.153.15</address>\n",
    "                           <!--Dash -->\n",
    "                       </udpv4>\n",
    "                   </locator>\n",
    "                    <locator>\n",
    "                       <udpv4>\n",
    "                           <address>10.245.150.175</address>\n",
    "                           <!--ElastaGirl -->\n",
    "                       </udpv4>\n",
    "                   </locator>\n",
    "                    <locator>\n",
    "                       <udpv4>\n",
    "                           <address>10.245.92.65</address>\n",
    "                           <!--Pig -->\n",
    "                       </udpv4>\n",
    "                   </locator>\n",
    "                    <locator>\n",
    "                       <udpv4>\n",
    "                           <address>10.245.153.159</address>\n",
    "                           <!--PotatoHead -->\n",
    "                       </udpv4>\n",
    "                   </locator>\n",
    "                    <locator>\n",
    "                       <udpv4>\n",
    "                           <address>10.245.148.45</address>\n",
    "                           <!--Dot -->\n",
    "                       </udpv4>\n",
    "                   </locator>\n",
    "                    <locator>\n",
    "                       <udpv4>\n",
    "                           <address>10.245.154.21</address>\n",
    "                           <!--Sully -->\n",
    "                       </udpv4>\n",
    "                   </locator>\n",
    "               </initialPeersList>\n",
    "           </builtin>\n",
    "       </rtps>\n",
    "   </participant>\n",
    "</profiles>\n",
    "<!--ros2 daemon stop 🤔️ source ~/.bashrc 🤔️ ros2 topic list-->"
   ]
  },
  {
   "cell_type": "markdown",
   "id": "1c17aaf5-b54e-45e6-b0c9-b74c2280a182",
   "metadata": {},
   "source": [
    "Stop the daemon and start it up again"
   ]
  },
  {
   "cell_type": "code",
   "execution_count": null,
   "id": "30c193e8-d682-40e9-b8f1-a27ba67da290",
   "metadata": {},
   "outputs": [],
   "source": [
    "!ros2 daemon stop"
   ]
  },
  {
   "cell_type": "markdown",
   "id": "15b9b8d0-0f2d-4d6c-bc65-6f4c0039ecd6",
   "metadata": {},
   "source": [
    "Then restart everything by asking for a topic list - sometimes this takes up to 1-2 min to update"
   ]
  },
  {
   "cell_type": "code",
   "execution_count": null,
   "id": "c804c714-022d-4502-93d5-267b9fcd7319",
   "metadata": {},
   "outputs": [],
   "source": [
    "!export ROS_DOMAIN_ID=4"
   ]
  },
  {
   "cell_type": "code",
   "execution_count": null,
   "id": "e19f76c4-eec6-43ff-82d2-8917b507db09",
   "metadata": {},
   "outputs": [],
   "source": [
    "!ros2 topic list"
   ]
  },
  {
   "cell_type": "markdown",
   "id": "04b91ea2-c129-493a-9794-5dd354ce299f",
   "metadata": {},
   "source": [
    "For even more fun - check all the battery levels"
   ]
  },
  {
   "cell_type": "code",
   "execution_count": null,
   "id": "76af9649-b68e-4169-82e0-7c2ba27b7e3b",
   "metadata": {
    "tags": []
   },
   "outputs": [],
   "source": [
    "import os\n",
    "import time\n",
    "\n",
    "import rclpy\n",
    "from rclpy.node import Node\n",
    "from rclpy.qos import qos_profile_sensor_data\n",
    "from sensor_msgs.msg import BatteryState\n",
    "\n",
    "class battery(Node):\n",
    "    def __init__(self, name):\n",
    "        super().__init__('battery_subscriber')\n",
    "        self.subscription = self.create_subscription(BatteryState, \n",
    "                    '/' + name + '/battery_state', self.callback, qos_profile_sensor_data)\n",
    "    \n",
    "    def callback(self, msg: BatteryState):\n",
    "        charge = 100*msg.percentage\n",
    "        print(' %0.1f ' % charge, end='')\n",
    "\n",
    "\n",
    "names = ['rogers','Syndrome','Dory','Nemo','Remy','EdnaMode','Woody','Buzz','MikeWazowski','LightningMcQueen','Mater','Dash','ElastGirl','Pig','PotatoHead','Dot','Sully']\n",
    "\n",
    "\n",
    "rclpy.init()\n",
    "\n",
    "for i in range(4):\n",
    "    bs = battery(names[i])\n",
    "    print('checking %s (%d)' % (names[i],i), end='')\n",
    "    os.environ['ROS_DOMAIN_ID'] = str(i)\n",
    "    try:\n",
    "        rclpy.spin_once(bs, timeout_sec = 10)\n",
    "    except KeyboardInterrupt:\n",
    "        print('\\nCaught keyboard interrupt')\n",
    "        break\n",
    "    finally:\n",
    "        print(\" Done\")\n",
    "        bs.destroy_node()\n",
    "    \n",
    "rclpy.shutdown()"
   ]
  }
 ],
 "metadata": {
  "kernelspec": {
   "display_name": "Python 3 (ipykernel)",
   "language": "python",
   "name": "python3"
  },
  "language_info": {
   "codemirror_mode": {
    "name": "ipython",
    "version": 3
   },
   "file_extension": ".py",
   "mimetype": "text/x-python",
   "name": "python",
   "nbconvert_exporter": "python",
   "pygments_lexer": "ipython3",
   "version": "3.8.10"
  }
 },
 "nbformat": 4,
 "nbformat_minor": 5
}
