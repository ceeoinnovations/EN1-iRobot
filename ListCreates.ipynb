{
 "cells": [
  {
   "cell_type": "code",
   "execution_count": 36,
   "id": "af73b463-9c7e-427e-bb74-99777a0d25fa",
   "metadata": {},
   "outputs": [
    {
     "data": {
      "text/plain": [
       "'4'"
      ]
     },
     "execution_count": 36,
     "metadata": {},
     "output_type": "execute_result"
    }
   ],
   "source": [
    "import os\n",
    "import subprocess\n",
    "home = os.path.expanduser('~')\n",
    "\n",
    "os.environ['ROS_DOMAIN_ID']=\"4\"\n",
    "os.environ['ROS_DOMAIN_ID']"
   ]
  },
  {
   "cell_type": "code",
   "execution_count": 32,
   "id": "e04fbf0f-c043-4194-bfc9-51274140a259",
   "metadata": {},
   "outputs": [],
   "source": [
    "list=subprocess.run(['ros2','topic','list'],capture_output=True)"
   ]
  },
  {
   "cell_type": "code",
   "execution_count": 33,
   "id": "20ffe1c9-7827-4214-be87-da1c7877ceab",
   "metadata": {},
   "outputs": [
    {
     "data": {
      "text/plain": [
       "'/Remy/battery_state'"
      ]
     },
     "execution_count": 33,
     "metadata": {},
     "output_type": "execute_result"
    }
   ],
   "source": [
    "list.stdout.decode().split('\\n')[0]"
   ]
  },
  {
   "cell_type": "code",
   "execution_count": 34,
   "id": "dff37fce-9cda-49d1-9b0d-8920678bb201",
   "metadata": {},
   "outputs": [
    {
     "name": "stdout",
     "output_type": "stream",
     "text": [
      "ROS_VERSION=2\n",
      "ROS_PYTHON_VERSION=3\n",
      "ROS_DOMAIN_ID=4\n",
      "ROS_LOCALHOST_ONLY=0\n",
      "ROS_DISTRO=galactic\n"
     ]
    }
   ],
   "source": [
    "! printenv | grep 'ROS'"
   ]
  },
  {
   "cell_type": "code",
   "execution_count": 35,
   "id": "f1772a7d-f40f-4a1e-bab8-05963d279719",
   "metadata": {},
   "outputs": [
    {
     "name": "stdout",
     "output_type": "stream",
     "text": [
      "0\n",
      "/parameter_events\n",
      "1\n",
      "/parameter_events\n",
      "2\n",
      "/parameter_events\n",
      "3\n",
      "/parameter_events\n",
      "4\n",
      "/Remy/battery_state\n",
      "5\n",
      "/parameter_events\n",
      "6\n",
      "/parameter_events\n",
      "7\n",
      "/parameter_events\n",
      "8\n",
      "/parameter_events\n",
      "9\n",
      "/parameter_events\n",
      "10\n",
      "/parameter_events\n",
      "11\n",
      "/parameter_events\n",
      "12\n",
      "/parameter_events\n",
      "13\n",
      "/parameter_events\n",
      "14\n",
      "/parameter_events\n",
      "15\n",
      "/Dot/battery_state\n",
      "16\n",
      "/parameter_events\n"
     ]
    }
   ],
   "source": [
    "import time\n",
    "for i in range(17):\n",
    "    os.environ['ROS_DOMAIN_ID']=str(i)\n",
    "    print(os.environ['ROS_DOMAIN_ID'])\n",
    "    time.sleep(0.1)\n",
    "    list = subprocess.run(['ros2','topic','list'],capture_output=True)\n",
    "    print(list.stdout.decode().split('\\n')[0])"
   ]
  },
  {
   "cell_type": "markdown",
   "id": "89d05349-f5f5-429c-8aed-13920cb51906",
   "metadata": {},
   "source": [
    "If that did not work - lets check the RMW implementation - it should be fastrtps"
   ]
  },
  {
   "cell_type": "code",
   "execution_count": 18,
   "id": "65383bdf-011c-4bbc-b7f1-c59d8643765d",
   "metadata": {},
   "outputs": [
    {
     "name": "stdout",
     "output_type": "stream",
     "text": [
      "rmw_fastrtps_cpp\n",
      "rmw_fastrtps_cpp\n"
     ]
    }
   ],
   "source": [
    "print(os.environ['RMW_IMPLEMENTATION'])\n",
    "os.environ['RMW_IMPLEMENTATION']= 'rmw_fastrtps_cpp'\n",
    "print(os.environ['RMW_IMPLEMENTATION'])"
   ]
  },
  {
   "cell_type": "markdown",
   "id": "8c9d4d75-66c0-4cfe-b649-97288d760d87",
   "metadata": {},
   "source": [
    "If that is fine, then lets check the multicast"
   ]
  },
  {
   "cell_type": "code",
   "execution_count": 38,
   "id": "42aa13fb-67a2-4cf1-93b9-1f3a883dac86",
   "metadata": {},
   "outputs": [
    {
     "name": "stdout",
     "output_type": "stream",
     "text": [
      "/home/parallels/Documents/disable_multicast.xml\n"
     ]
    }
   ],
   "source": [
    "print(os.environ['FASTRTPS_DEFAULT_PROFILES_FILE'])"
   ]
  },
  {
   "cell_type": "markdown",
   "id": "035c166d-a2cf-433d-9f3c-733621d21364",
   "metadata": {},
   "source": [
    "It should read the same as the file below if there is no response, then run this line - and it will set it to a file in your Documents folder"
   ]
  },
  {
   "cell_type": "code",
   "execution_count": 37,
   "id": "7a1a6d5a-22ff-4cdd-a36b-401c2f4dc6c1",
   "metadata": {},
   "outputs": [],
   "source": [
    "os.environ['FASTRTPS_DEFAULT_PROFILES_FILE'] = home +'/Documents/disable_multicast.xml'"
   ]
  },
  {
   "cell_type": "markdown",
   "id": "8a28ead8-7300-41c0-b8d0-87898b25d9e5",
   "metadata": {},
   "source": [
    "Next you need to save the list of IP addresses - MAKE SURE to change the file name to the path above"
   ]
  },
  {
   "cell_type": "code",
   "execution_count": 22,
   "id": "ab0fa7f2-4be6-4e5c-8349-9313317b6e84",
   "metadata": {
    "collapsed": true,
    "jupyter": {
     "outputs_hidden": true,
     "source_hidden": true
    },
    "tags": []
   },
   "outputs": [
    {
     "name": "stdout",
     "output_type": "stream",
     "text": [
      "Overwriting /home/parallels/Documents/disable_multicast.xml\n"
     ]
    }
   ],
   "source": [
    "%%writefile /home/parallels/Documents/disable_multicast.xml\n",
    "\n",
    "<?xml version=\"1.0\" encoding=\"UTF-8\" ?>\n",
    "<profiles xmlns=\"http://www.eprosima.com/XMLSchemas/fastRTPS_Profiles\">\n",
    "   <participant profile_name=\"unicast_connection\" is_default_profile=\"true\">\n",
    "       <rtps>\n",
    "           <builtin>\n",
    "               <metatrafficUnicastLocatorList>\n",
    "                   <locator/>\n",
    "               </metatrafficUnicastLocatorList>\n",
    "               <initialPeersList>\n",
    "                    <locator>\n",
    "                       <udpv4>\n",
    "                           <address>127.0.0.1</address>\n",
    "                           <!--Localhost -->\n",
    "                       </udpv4>\n",
    "                   </locator>\n",
    "                    <locator>\n",
    "                       <udpv4>\n",
    "                           <address>10.245.156.115 </address>\n",
    "                           <!--Syndrome -->\n",
    "                       </udpv4>\n",
    "                   </locator>\n",
    "                    <locator>\n",
    "                       <udpv4>\n",
    "                           <address>10.245.152.174</address>\n",
    "                           <!--Dory -->\n",
    "                       </udpv4>\n",
    "                   </locator>\n",
    "                    <locator>\n",
    "                       <udpv4>\n",
    "                           <address>10.245.157.95</address>\n",
    "                           <!--Nemo -->\n",
    "                       </udpv4>\n",
    "                   </locator>\n",
    "                    <locator>\n",
    "                       <udpv4>\n",
    "                           <address>10.245.150.128</address>\n",
    "                           <!--Remy -->\n",
    "                       </udpv4>\n",
    "                   </locator>\n",
    "                    <locator>\n",
    "                       <udpv4>\n",
    "                           <address>10.245.146.11</address>\n",
    "                           <!--EdnaMode  -->\n",
    "                       </udpv4>\n",
    "                   </locator>\n",
    "                    <locator>\n",
    "                       <udpv4>\n",
    "                           <address>10.245.157.182</address>\n",
    "                           <!--Woody  -->\n",
    "                       </udpv4>\n",
    "                   </locator>\n",
    "                    <locator>\n",
    "                       <udpv4>\n",
    "                           <address>10.245.156.217</address>\n",
    "                           <!--Buzz -->\n",
    "                       </udpv4>\n",
    "                   </locator>\n",
    "                    <locator>\n",
    "                       <udpv4>\n",
    "                           <address>10.245.154.102</address>\n",
    "                           <!--MikeWazowski -->\n",
    "                       </udpv4>\n",
    "                   </locator>\n",
    "                    <locator>\n",
    "                       <udpv4>\n",
    "                           <address>10.245.147.32</address>\n",
    "                           <!--LightningMcQueen  -->\n",
    "                       </udpv4>\n",
    "                   </locator>\n",
    "                    <locator>\n",
    "                       <udpv4>\n",
    "                           <address>10.245.144.147</address>\n",
    "                           <!--Mater -->\n",
    "                       </udpv4>\n",
    "                   </locator>\n",
    "                    <locator>\n",
    "                       <udpv4>\n",
    "                           <address>10.245.153.15</address>\n",
    "                           <!--Dash -->\n",
    "                       </udpv4>\n",
    "                   </locator>\n",
    "                    <locator>\n",
    "                       <udpv4>\n",
    "                           <address>10.245.150.175</address>\n",
    "                           <!--ElastaGirl -->\n",
    "                       </udpv4>\n",
    "                   </locator>\n",
    "                    <locator>\n",
    "                       <udpv4>\n",
    "                           <address>10.245.92.65</address>\n",
    "                           <!--Pig -->\n",
    "                       </udpv4>\n",
    "                   </locator>\n",
    "                    <locator>\n",
    "                       <udpv4>\n",
    "                           <address>10.245.153.159</address>\n",
    "                           <!--PotatoHead -->\n",
    "                       </udpv4>\n",
    "                   </locator>\n",
    "                    <locator>\n",
    "                       <udpv4>\n",
    "                           <address>10.245.148.45</address>\n",
    "                           <!--Dot -->\n",
    "                       </udpv4>\n",
    "                   </locator>\n",
    "                    <locator>\n",
    "                       <udpv4>\n",
    "                           <address>10.245.154.21</address>\n",
    "                           <!--Sully -->\n",
    "                       </udpv4>\n",
    "                   </locator>\n",
    "               </initialPeersList>\n",
    "           </builtin>\n",
    "       </rtps>\n",
    "   </participant>\n",
    "</profiles>\n",
    "<!--ros2 daemon stop 🤔️ source ~/.bashrc 🤔️ ros2 topic list-->"
   ]
  },
  {
   "cell_type": "markdown",
   "id": "1c17aaf5-b54e-45e6-b0c9-b74c2280a182",
   "metadata": {},
   "source": [
    "Stop the daemon and start it up again"
   ]
  },
  {
   "cell_type": "code",
   "execution_count": 24,
   "id": "30c193e8-d682-40e9-b8f1-a27ba67da290",
   "metadata": {},
   "outputs": [
    {
     "name": "stdout",
     "output_type": "stream",
     "text": [
      "The daemon has been stopped\n"
     ]
    }
   ],
   "source": [
    "!ros2 daemon stop"
   ]
  },
  {
   "cell_type": "markdown",
   "id": "15b9b8d0-0f2d-4d6c-bc65-6f4c0039ecd6",
   "metadata": {},
   "source": [
    "Then restart everything by asking for a topic list"
   ]
  },
  {
   "cell_type": "code",
   "execution_count": 26,
   "id": "c804c714-022d-4502-93d5-267b9fcd7319",
   "metadata": {},
   "outputs": [
    {
     "name": "stdout",
     "output_type": "stream",
     "text": [
      "/parameter_events\n",
      "/rosout\n"
     ]
    }
   ],
   "source": [
    "!ros2 topic list"
   ]
  },
  {
   "cell_type": "code",
   "execution_count": null,
   "id": "e19f76c4-eec6-43ff-82d2-8917b507db09",
   "metadata": {},
   "outputs": [],
   "source": []
  }
 ],
 "metadata": {
  "kernelspec": {
   "display_name": "Python 3 (ipykernel)",
   "language": "python",
   "name": "python3"
  },
  "language_info": {
   "codemirror_mode": {
    "name": "ipython",
    "version": 3
   },
   "file_extension": ".py",
   "mimetype": "text/x-python",
   "name": "python",
   "nbconvert_exporter": "python",
   "pygments_lexer": "ipython3",
   "version": "3.8.10"
  }
 },
 "nbformat": 4,
 "nbformat_minor": 5
}
