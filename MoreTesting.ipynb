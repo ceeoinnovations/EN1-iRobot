{
 "cells": [
  {
   "cell_type": "code",
   "execution_count": 51,
   "id": "120574c1-bda7-4a1f-ba2b-8f37d033041a",
   "metadata": {},
   "outputs": [
    {
     "name": "stdout",
     "output_type": "stream",
     "text": [
      "The daemon is not running\n"
     ]
    }
   ],
   "source": [
    "!ros2 daemon stop"
   ]
  },
  {
   "cell_type": "code",
   "execution_count": 52,
   "id": "afa0a9d3-2252-4df2-8552-791a676686ec",
   "metadata": {},
   "outputs": [
    {
     "name": "stdout",
     "output_type": "stream",
     "text": [
      "/home/jupyter-crogers/disable.xml\n",
      "rmw_cyclonedds_cpp\n"
     ]
    }
   ],
   "source": [
    "import os\n",
    "\n",
    "os.environ['ROS_DOMAIN_ID']='15'\n",
    "#os.environ['RMW_IMPLEMENTATION']='rmw_fastrtps_cpp'\n",
    "os.environ['RMW_IMPLEMENTATION']='rmw_cyclonedds_cpp'\n",
    "os.environ['FASTRTPS_DEFAULT_PROFILES_FILE']='/home/jupyter-crogers/disable.xml'\n",
    "print(os.environ['FASTRTPS_DEFAULT_PROFILES_FILE'])\n",
    "print(os.environ['RMW_IMPLEMENTATION'])"
   ]
  },
  {
   "cell_type": "code",
   "execution_count": 53,
   "id": "32900476-2665-4f31-8dc0-c14ba1b0bfd1",
   "metadata": {},
   "outputs": [],
   "source": [
    "#!more /home/jupyter-crogers/disable.xml"
   ]
  },
  {
   "cell_type": "code",
   "execution_count": 54,
   "id": "a25f834d-07f6-475d-a89d-6353e6150804",
   "metadata": {},
   "outputs": [
    {
     "name": "stdout",
     "output_type": "stream",
     "text": [
      "/home/jupyter-crogers/disable.xml\n",
      "rmw_cyclonedds_cpp\n",
      "15\n"
     ]
    }
   ],
   "source": [
    "print(os.environ['FASTRTPS_DEFAULT_PROFILES_FILE'])\n",
    "print(os.environ['RMW_IMPLEMENTATION'])\n",
    "print(os.environ['ROS_DOMAIN_ID'])"
   ]
  },
  {
   "cell_type": "code",
   "execution_count": 55,
   "id": "f04c00f0-1bf6-4479-abd7-90c8ae0cd6bb",
   "metadata": {},
   "outputs": [
    {
     "name": "stdout",
     "output_type": "stream",
     "text": [
      "/Dot/battery_state\n",
      "/Dot/cmd_audio\n",
      "/Dot/cmd_lightring\n",
      "/Dot/cmd_vel\n",
      "/Dot/dock\n",
      "/Dot/hazard_detection\n",
      "/Dot/imu\n",
      "/Dot/interface_buttons\n",
      "/Dot/ir_intensity\n",
      "/Dot/ir_opcode\n",
      "/Dot/kidnap_status\n",
      "/Dot/mobility_monitor/transition_event\n",
      "/Dot/mouse\n",
      "/Dot/odom\n",
      "/Dot/robot_state/transition_event\n",
      "/Dot/slip_status\n",
      "/Dot/static_transform/transition_event\n",
      "/Dot/stop_status\n",
      "/Dot/tf\n",
      "/Dot/tf_static\n",
      "/Dot/wheel_status\n",
      "/Dot/wheel_ticks\n",
      "/Dot/wheel_vels\n",
      "/parameter_events\n",
      "/rogers/cmd_audio\n",
      "/rogers/cmd_lightring\n",
      "/rogers/cmd_vel\n",
      "/rosout\n"
     ]
    }
   ],
   "source": [
    "!ros2 topic list"
   ]
  },
  {
   "cell_type": "code",
   "execution_count": 56,
   "id": "9e3bcd9a-e434-4f35-981e-0ba94bc20186",
   "metadata": {},
   "outputs": [
    {
     "name": "stdout",
     "output_type": "stream",
     "text": [
      "0\n",
      "/parameter_events\n",
      "1\n",
      "/parameter_events\n",
      "2\n",
      "/parameter_events\n",
      "3\n",
      "/parameter_events\n",
      "4\n",
      "/parameter_events\n",
      "5\n",
      "/parameter_events\n",
      "6\n",
      "/parameter_events\n",
      "7\n",
      "/parameter_events\n",
      "8\n",
      "/parameter_events\n",
      "9\n",
      "/parameter_events\n",
      "10\n",
      "/Mater/battery_state\n",
      "11\n",
      "/parameter_events\n",
      "12\n",
      "/parameter_events\n",
      "13\n",
      "/parameter_events\n",
      "14\n",
      "/parameter_events\n",
      "15\n",
      "/Dot/battery_state\n",
      "16\n",
      "/parameter_events\n"
     ]
    }
   ],
   "source": [
    "import time\n",
    "import subprocess\n",
    "\n",
    "for i in range(17):\n",
    "    os.environ['ROS_DOMAIN_ID']=str(i)\n",
    "    print(os.environ['ROS_DOMAIN_ID'])\n",
    "    time.sleep(0.1)\n",
    "    list = subprocess.run(['ros2','topic','list'],capture_output=True)\n",
    "    print(list.stdout.decode().split('\\n')[0])"
   ]
  },
  {
   "cell_type": "code",
   "execution_count": null,
   "id": "1aef1b18-dab3-425c-bcba-a1de7bb0cd80",
   "metadata": {},
   "outputs": [],
   "source": [
    "os.environ['ROS_DOMAIN_ID']='10'"
   ]
  },
  {
   "cell_type": "code",
   "execution_count": null,
   "id": "ff185295-93c0-46c9-bba4-fc3729f0924b",
   "metadata": {},
   "outputs": [],
   "source": [
    "!ros2 topic echo /Mater/battery_state "
   ]
  },
  {
   "cell_type": "code",
   "execution_count": null,
   "id": "1a3a8eb6-1be7-408d-957e-8c04d1401465",
   "metadata": {},
   "outputs": [],
   "source": []
  }
 ],
 "metadata": {
  "kernelspec": {
   "display_name": "Python [conda env:ros_py38]",
   "language": "python",
   "name": "conda-env-ros_py38-py"
  },
  "language_info": {
   "codemirror_mode": {
    "name": "ipython",
    "version": 3
   },
   "file_extension": ".py",
   "mimetype": "text/x-python",
   "name": "python",
   "nbconvert_exporter": "python",
   "pygments_lexer": "ipython3",
   "version": "3.8.13"
  }
 },
 "nbformat": 4,
 "nbformat_minor": 5
}
