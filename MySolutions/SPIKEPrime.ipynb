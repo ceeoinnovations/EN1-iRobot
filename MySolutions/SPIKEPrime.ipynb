{
 "cells": [
  {
   "cell_type": "markdown",
   "id": "c44b831b",
   "metadata": {},
   "source": [
    "## Talking to SPIKE Prime - some examples"
   ]
  },
  {
   "cell_type": "markdown",
   "id": "8a11a8a3",
   "metadata": {},
   "source": [
    "First you need to have pyserial installed"
   ]
  },
  {
   "cell_type": "code",
   "execution_count": null,
   "id": "ee00a488",
   "metadata": {},
   "outputs": [],
   "source": [
    "!pip3 install pyserial"
   ]
  },
  {
   "cell_type": "markdown",
   "id": "b2b0d094",
   "metadata": {},
   "source": [
    "Next load up all the serial code so that you can talk with SPIKE Prime"
   ]
  },
  {
   "cell_type": "code",
   "execution_count": 62,
   "id": "9685ad23",
   "metadata": {},
   "outputs": [],
   "source": [
    "import serial\n",
    "import sys\n",
    "import glob\n",
    "import time\n",
    "import serial.tools.list_ports\n",
    "\n",
    "ser = None\n",
    "\n",
    "def serial_ports():\n",
    "     result = []\n",
    "     ports = serial.tools.list_ports.comports()\n",
    "     for port, desc, hwid in sorted(ports):\n",
    "          comm =  \"{}: {}\".format(port, desc)\n",
    "          result.append(comm) \n",
    "     return result\n",
    "\n",
    "def InitSerial(port, bps = 9600, to = 0):\n",
    "    global ser\n",
    "    try:\n",
    "        ser = serial.Serial(port, bps, timeout = to)  # open serial port\n",
    "        ser.flushInput()\n",
    "        ser.flushOutput()\n",
    "        return ser.name\n",
    "    except Exception as e:\n",
    "        return 'ERR: ' + str(e)\n",
    "\n",
    "def CloseSerial():\n",
    "    return('done')\n",
    "    try:\n",
    "        ser.flush()\n",
    "        ser.close()\n",
    "        return 'done'\n",
    "    except Exception as e:\n",
    "        return 'ERR: ' + str(e)    \n",
    "\n",
    "def WriteSerial(string):\n",
    "    try:\n",
    "        reply = ser.write(string.encode())\n",
    "        return str(reply)\n",
    "    except Exception as e:\n",
    "        return 'ERR: ' + str(e)    \n",
    "\n",
    "def ReadSerial():\n",
    "    try:\n",
    "        reply = ''\n",
    "        while ser.in_waiting:\n",
    "            reply = reply + ser.readline().decode()\n",
    "        return reply\n",
    "    except Exception as e:\n",
    "        return 'ERR: ' +  str(e)\n",
    "    \n",
    "def SendRead(string):\n",
    "    if WriteSerial(string):\n",
    "        time.sleep(0.1)\n",
    "        return ReadSerial()\n",
    "\n",
    "# note if the timeout is anything but zero it is slow"
   ]
  },
  {
   "cell_type": "markdown",
   "id": "14a9ecd0",
   "metadata": {},
   "source": [
    "Now lets find the port - copy the address into the line below"
   ]
  },
  {
   "cell_type": "code",
   "execution_count": 63,
   "id": "60247f41",
   "metadata": {},
   "outputs": [
    {
     "data": {
      "text/plain": [
       "['/dev/cu.Bluetooth-Incoming-Port: n/a',\n",
       " '/dev/cu.LEGOShopSet: n/a',\n",
       " '/dev/cu.usbmodem3656397031381: SPIKE Prime VCP']"
      ]
     },
     "execution_count": 63,
     "metadata": {},
     "output_type": "execute_result"
    }
   ],
   "source": [
    "serial_ports()"
   ]
  },
  {
   "cell_type": "markdown",
   "id": "98d208cc",
   "metadata": {},
   "source": [
    "Initialize the serial port"
   ]
  },
  {
   "cell_type": "code",
   "execution_count": 64,
   "id": "34e660b1",
   "metadata": {},
   "outputs": [
    {
     "data": {
      "text/plain": [
       "'/dev/cu.usbmodem3656397031381'"
      ]
     },
     "execution_count": 64,
     "metadata": {},
     "output_type": "execute_result"
    }
   ],
   "source": [
    "InitSerial('/dev/cu.usbmodem3656397031381',115200)"
   ]
  },
  {
   "cell_type": "markdown",
   "id": "7a8ca554",
   "metadata": {},
   "source": [
    "Stop any code from running"
   ]
  },
  {
   "cell_type": "code",
   "execution_count": 65,
   "id": "421fd227",
   "metadata": {},
   "outputs": [
    {
     "data": {
      "text/plain": [
       "'1'"
      ]
     },
     "execution_count": 65,
     "metadata": {},
     "output_type": "execute_result"
    }
   ],
   "source": [
    "WriteSerial('\\x03')"
   ]
  },
  {
   "cell_type": "code",
   "execution_count": 66,
   "id": "ac2d892b",
   "metadata": {},
   "outputs": [
    {
     "data": {
      "text/plain": [
       "'5'"
      ]
     },
     "execution_count": 66,
     "metadata": {},
     "output_type": "execute_result"
    }
   ],
   "source": [
    "WriteSerial('2+2\\r\\n')"
   ]
  },
  {
   "cell_type": "code",
   "execution_count": 67,
   "id": "e77f1d46",
   "metadata": {},
   "outputs": [
    {
     "data": {
      "text/plain": [
       "'~\\x16\\x01~MicroPython d7919ea71 on 2022-06-29; SPIKE Prime with STM32F413\\r\\nType \"help()\" for more information.\\r\\n>>> 2+2\\r\\n4\\r\\n>>> '"
      ]
     },
     "execution_count": 67,
     "metadata": {},
     "output_type": "execute_result"
    }
   ],
   "source": [
    "ReadSerial()"
   ]
  },
  {
   "cell_type": "code",
   "execution_count": 68,
   "id": "085d28c7",
   "metadata": {},
   "outputs": [
    {
     "data": {
      "text/plain": [
       "'2+2\\r\\n4\\r\\n>>> '"
      ]
     },
     "execution_count": 68,
     "metadata": {},
     "output_type": "execute_result"
    }
   ],
   "source": [
    "SendRead('2+2\\r\\n')"
   ]
  },
  {
   "cell_type": "code",
   "execution_count": 69,
   "id": "7387aee1",
   "metadata": {},
   "outputs": [
    {
     "data": {
      "text/plain": [
       "'done'"
      ]
     },
     "execution_count": 69,
     "metadata": {},
     "output_type": "execute_result"
    }
   ],
   "source": [
    "CloseSerial()"
   ]
  },
  {
   "cell_type": "code",
   "execution_count": null,
   "id": "5601e1b2",
   "metadata": {},
   "outputs": [],
   "source": []
  }
 ],
 "metadata": {
  "kernelspec": {
   "display_name": "Python 3 (ipykernel)",
   "language": "python",
   "name": "python3"
  },
  "language_info": {
   "codemirror_mode": {
    "name": "ipython",
    "version": 3
   },
   "file_extension": ".py",
   "mimetype": "text/x-python",
   "name": "python",
   "nbconvert_exporter": "python",
   "pygments_lexer": "ipython3",
   "version": "3.9.13"
  }
 },
 "nbformat": 4,
 "nbformat_minor": 5
}
