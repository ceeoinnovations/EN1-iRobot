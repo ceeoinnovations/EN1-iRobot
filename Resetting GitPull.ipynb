{
 "cells": [
  {
   "cell_type": "markdown",
   "id": "ac4c9261-cf45-40e2-a651-3e8f91905761",
   "metadata": {},
   "source": [
    "## If you need to reinstall everything, this might help"
   ]
  },
  {
   "cell_type": "markdown",
   "id": "8510d932-c5c1-4e49-888e-95ba62abd8f5",
   "metadata": {},
   "source": [
    "find the EN1-iRobot folder (note you will have to do this from a terminal - since you cannot move up a folder in jupyter).  Remember to remove the ! when you paste into the terminal"
   ]
  },
  {
   "cell_type": "code",
   "execution_count": null,
   "id": "7f74b3e7-da23-4798-b2d7-0cf0d057e9a3",
   "metadata": {},
   "outputs": [],
   "source": [
    "!ls"
   ]
  },
  {
   "cell_type": "markdown",
   "id": "f4647536-f627-4a4a-8ddc-2bdd13964a4a",
   "metadata": {},
   "source": [
    "If you see the folder listed, all is good - otherwise you might have to move up a folder (cd ..).  Then either delete the old folder and everything inside (!rm -rf EN1-iRobot/) - or rename it (!mv EN1-iRobot/ EN1-iRobot-old/) if you want to keep your work"
   ]
  },
  {
   "cell_type": "code",
   "execution_count": null,
   "id": "0ba606e5-a72a-4c7f-a6f8-0d857960641b",
   "metadata": {},
   "outputs": [],
   "source": [
    "!mv EN1-iRobot/ EN1-iRobot-old/"
   ]
  },
  {
   "cell_type": "markdown",
   "id": "aaa2924e-8a72-4d0a-b32d-c3486a7cbb0a",
   "metadata": {},
   "source": [
    "Gitpull a fresh copy"
   ]
  },
  {
   "cell_type": "code",
   "execution_count": null,
   "id": "c248671f-bad7-4421-b439-7eb4f8624af8",
   "metadata": {},
   "outputs": [],
   "source": [
    "!git clone https://github.com/ceeoinnovations/EN1-iRobot"
   ]
  },
  {
   "cell_type": "markdown",
   "id": "7974966c-6cb0-4f32-a297-b8d54c701ef1",
   "metadata": {},
   "source": [
    "It should look like this\n",
    "```bash\n",
    "jupyter-crogers@EN1-jupyterhub:~$ ls\n",
    "AdvancedTroubleshooting.ipynb  EN1-iRobot  List.py            Untitled1.ipynb  Untitled3.ipynb  Untitled.ipynb\n",
    "disable.xml                    homework    ServerHints.ipynb  Untitled2.ipynb  Untitled4.ipynb\n",
    "jupyter-crogers@EN1-jupyterhub:~$ rm -rf EN1-iRobot/\n",
    "jupyter-crogers@EN1-jupyterhub:~$ ls\n",
    "AdvancedTroubleshooting.ipynb  homework  ServerHints.ipynb  Untitled2.ipynb  Untitled4.ipynb\n",
    "disable.xml                    List.py   Untitled1.ipynb    Untitled3.ipynb  Untitled.ipynb\n",
    "jupyter-crogers@EN1-jupyterhub:~$ git clone https://github.com/ceeoinnovations/EN1-iRobot\n",
    "Cloning into 'EN1-iRobot'...\n",
    "remote: Enumerating objects: 511, done.\n",
    "remote: Counting objects: 100% (77/77), done.\n",
    "remote: Compressing objects: 100% (58/58), done.\n",
    "remote: Total 511 (delta 52), reused 38 (delta 19), pack-reused 434\n",
    "Receiving objects: 100% (511/511), 225.44 KiB | 5.50 MiB/s, done.\n",
    "Resolving deltas: 100% (366/366), done.\n",
    "jupyter-crogers@EN1-jupyterhub:~$ \n",
    "\n",
    "```"
   ]
  },
  {
   "cell_type": "code",
   "execution_count": null,
   "id": "4b028ae7-e0e1-4a24-b622-5879379e03e3",
   "metadata": {},
   "outputs": [],
   "source": []
  }
 ],
 "metadata": {
  "kernelspec": {
   "display_name": "Python 3 (ipykernel)",
   "language": "python",
   "name": "python3"
  },
  "language_info": {
   "codemirror_mode": {
    "name": "ipython",
    "version": 3
   },
   "file_extension": ".py",
   "mimetype": "text/x-python",
   "name": "python",
   "nbconvert_exporter": "python",
   "pygments_lexer": "ipython3",
   "version": "3.9.13"
  }
 },
 "nbformat": 4,
 "nbformat_minor": 5
}
