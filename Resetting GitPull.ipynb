{
 "cells": [
  {
   "cell_type": "markdown",
   "id": "ac4c9261-cf45-40e2-a651-3e8f91905761",
   "metadata": {},
   "source": [
    "## If you need to reinstall everything, this might help"
   ]
  },
  {
   "cell_type": "markdown",
   "id": "f4647536-f627-4a4a-8ddc-2bdd13964a4a",
   "metadata": {},
   "source": [
    "delete the old folder"
   ]
  },
  {
   "cell_type": "code",
   "execution_count": null,
   "id": "0ba606e5-a72a-4c7f-a6f8-0d857960641b",
   "metadata": {},
   "outputs": [],
   "source": []
  },
  {
   "cell_type": "markdown",
   "id": "aaa2924e-8a72-4d0a-b32d-c3486a7cbb0a",
   "metadata": {},
   "source": [
    "Gitpull a fresh copy"
   ]
  },
  {
   "cell_type": "code",
   "execution_count": null,
   "id": "c248671f-bad7-4421-b439-7eb4f8624af8",
   "metadata": {},
   "outputs": [],
   "source": [
    "!git clone https://github.com/ceeoinnovations/EN1-iRobot"
   ]
  }
 ],
 "metadata": {
  "kernelspec": {
   "display_name": "Python 3 (ipykernel)",
   "language": "python",
   "name": "python3"
  },
  "language_info": {
   "codemirror_mode": {
    "name": "ipython",
    "version": 3
   },
   "file_extension": ".py",
   "mimetype": "text/x-python",
   "name": "python",
   "nbconvert_exporter": "python",
   "pygments_lexer": "ipython3",
   "version": "3.8.10"
  }
 },
 "nbformat": 4,
 "nbformat_minor": 5
}
