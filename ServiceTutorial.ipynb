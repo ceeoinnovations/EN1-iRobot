{
 "cells": [
  {
   "cell_type": "markdown",
   "id": "cbe62943-50a3-4bb8-a2ee-40c6594682b5",
   "metadata": {},
   "source": [
    "<h4>Building a service server</h4>"
   ]
  },
  {
   "cell_type": "markdown",
   "id": "15fd0f2d-1e9e-4b9f-9fe1-cc8caefe43d6",
   "metadata": {},
   "source": [
    "This is an exact replication of creating an service ([here](https://docs.ros.org/en/galactic/Tutorials/Beginner-Client-Libraries/Writing-A-Simple-Py-Service-And-Client.html))  The first step is to define it by creating the requisite paths, generate all the folders, and create a package."
   ]
  },
  {
   "cell_type": "code",
   "execution_count": 6,
   "id": "c4c0bdae",
   "metadata": {
    "tags": []
   },
   "outputs": [],
   "source": [
    "import os\n",
    "import subprocess\n",
    "\n",
    "home = os.path.expanduser('~')\n",
    "workspace = home +'/ros2_ws/'\n",
    "sourceFiles = workspace + 'src/'\n",
    "packageName = 'py_srvcli'\n",
    "\n",
    "os.chdir(home)\n",
    "\n",
    "if not os.path.exists(sourceFiles):\n",
    "    os.makedirs(sourceFiles)\n",
    "os.chdir(sourceFiles)\n",
    "if not os.path.exists(packageName):\n",
    "    reply = subprocess.run(['ros2','pkg','create','--build-type','ament_python',\n",
    "                            packageName,'--dependencies','rclpy',\n",
    "           'example_interfaces'],capture_output=True) #same as !ros2 pkg create --build-type ament_python py_srvcli --dependencies rclpy example_interfaces\n",
    "    "
   ]
  },
  {
   "cell_type": "code",
   "execution_count": 7,
   "id": "629fcc26-9f14-4870-abdb-2b50a9bc1aba",
   "metadata": {},
   "outputs": [
    {
     "data": {
      "text/plain": [
       "CompletedProcess(args=['ros2', 'pkg', 'create', '--build-type', 'ament_python', 'py_srvcli', '--dependencies', 'rclpy', 'example_interfaces'], returncode=0, stdout=b\"going to create a new package\\npackage name: py_srvcli\\ndestination directory: /home/parallels/ros2_ws/src\\npackage format: 3\\nversion: 0.0.0\\ndescription: TODO: Package description\\nmaintainer: ['parallels <parallels@todo.todo>']\\nlicenses: ['TODO: License declaration']\\nbuild type: ament_python\\ndependencies: ['rclpy', 'example_interfaces']\\ncreating folder ./py_srvcli\\ncreating ./py_srvcli/package.xml\\ncreating source folder\\ncreating folder ./py_srvcli/py_srvcli\\ncreating ./py_srvcli/setup.py\\ncreating ./py_srvcli/setup.cfg\\ncreating folder ./py_srvcli/resource\\ncreating ./py_srvcli/resource/py_srvcli\\ncreating ./py_srvcli/py_srvcli/__init__.py\\ncreating folder ./py_srvcli/test\\ncreating ./py_srvcli/test/test_copyright.py\\ncreating ./py_srvcli/test/test_flake8.py\\ncreating ./py_srvcli/test/test_pep257.py\\n\", stderr=b'')"
      ]
     },
     "execution_count": 7,
     "metadata": {},
     "output_type": "execute_result"
    }
   ],
   "source": [
    "reply"
   ]
  },
  {
   "cell_type": "markdown",
   "id": "08e803ec-571b-47d2-85a1-2a3515b1076c",
   "metadata": {},
   "source": [
    "Next we set up the service definition file.  This defines the data types for *Requests* and  *Response*, separated by a dashed line.  In this case, the request has two parameters, a and b, both 64 bit integers, the result (only one parameter) is also a 64 bit integers.  First change the directory to the service folder and then save it."
   ]
  },
  {
   "cell_type": "code",
   "execution_count": 2,
   "id": "78f25d2f-8539-4516-bbb2-aade79dbda43",
   "metadata": {},
   "outputs": [],
   "source": [
    "os.chdir(sourceFiles + packageName)"
   ]
  },
  {
   "cell_type": "code",
   "execution_count": 3,
   "id": "bf845c45",
   "metadata": {},
   "outputs": [
    {
     "name": "stdout",
     "output_type": "stream",
     "text": [
      "Writing Fibonacci.action\n"
     ]
    }
   ],
   "source": [
    "%%writefile add.srv\n",
    "\n",
    "int64 a\n",
    "int64 b\n",
    "---\n",
    "int64 sum"
   ]
  },
  {
   "cell_type": "markdown",
   "id": "476240b3-88e7-4fea-a763-ab68c13463da",
   "metadata": {},
   "source": [
    "We then should update the package xml, adding your name and such.\n",
    "```xml\n",
    "<description>Python client server tutorial</description>\n",
    "<maintainer email=\"you@email.com\">Your Name</maintainer>\n",
    "<license>Apache License 2.0</license>\n",
    "```"
   ]
  },
  {
   "cell_type": "code",
   "execution_count": 4,
   "id": "6277da8c-4288-4d32-9edb-08bb7ba38800",
   "metadata": {},
   "outputs": [],
   "source": [
    "os.chdir(sourceFiles + packageName)"
   ]
  },
  {
   "cell_type": "code",
   "execution_count": 8,
   "id": "d7a51f6c",
   "metadata": {},
   "outputs": [
    {
     "name": "stdout",
     "output_type": "stream",
     "text": [
      "Writing package.xml\n"
     ]
    }
   ],
   "source": [
    "%%writefile package.xml\n",
    "<?xml version=\"1.0\"?>\n",
    "<?xml-model href=\"http://download.ros.org/schema/package_format3.xsd\" schematypens=\"http://www.w3.org/2001/XMLSchema\"?>\n",
    "<package format=\"3\">\n",
    "  <name>py_srvcli</name>\n",
    "  <version>0.0.0</version>\n",
    "  <description>TODO: Package description</description>\n",
    "  <maintainer email=\"parallels@todo.todo\">parallels</maintainer>\n",
    "  <license>TODO: License declaration</license>\n",
    "\n",
    "  <depend>rclpy</depend>\n",
    "  <depend>example_interfaces</depend>\n",
    "\n",
    "  <test_depend>ament_copyright</test_depend>\n",
    "  <test_depend>ament_flake8</test_depend>\n",
    "  <test_depend>ament_pep257</test_depend>\n",
    "  <test_depend>python3-pytest</test_depend>\n",
    "\n",
    "  <export>\n",
    "    <build_type>ament_python</build_type>\n",
    "  </export>\n",
    "</package>"
   ]
  },
  {
   "cell_type": "markdown",
   "id": "6cfbf460-b009-4324-b1dd-5fa26c3e675e",
   "metadata": {},
   "source": [
    "Likewise, you shoudl update the setup.py file\n",
    "```python\n",
    "maintainer='Your Name',\n",
    "maintainer_email='you@email.com',\n",
    "description='Python client server tutorial',\n",
    "license='Apache License 2.0',\n",
    "```"
   ]
  },
  {
   "cell_type": "code",
   "execution_count": 6,
   "id": "6e5985b8-8268-4c57-9645-4f3bd9dcb1f1",
   "metadata": {},
   "outputs": [],
   "source": [
    "os.chdir(sourceFiles + packageName)"
   ]
  },
  {
   "cell_type": "code",
   "execution_count": 9,
   "id": "44739f3c",
   "metadata": {},
   "outputs": [
    {
     "name": "stdout",
     "output_type": "stream",
     "text": [
      "Writing setup.py\n"
     ]
    }
   ],
   "source": [
    "%%writefile setup.py\n",
    "from setuptools import setup\n",
    "\n",
    "package_name = 'py_srvcli'\n",
    "\n",
    "setup(\n",
    "    name=package_name,\n",
    "    version='0.0.0',\n",
    "    packages=[package_name],\n",
    "    data_files=[\n",
    "        ('share/ament_index/resource_index/packages',\n",
    "            ['resource/' + package_name]),\n",
    "        ('share/' + package_name, ['package.xml']),\n",
    "    ],\n",
    "    install_requires=['setuptools'],\n",
    "    zip_safe=True,\n",
    "    maintainer='parallels',\n",
    "    maintainer_email='parallels@todo.todo',\n",
    "    description='TODO: Package description',\n",
    "    license='TODO: License declaration',\n",
    "    tests_require=['pytest'],\n",
    "    entry_points={\n",
    "        'console_scripts': [\n",
    "        ],\n",
    "    },\n",
    ")"
   ]
  },
  {
   "cell_type": "markdown",
   "id": "3a9ad526-f013-4b4a-a015-9f98f86753ac",
   "metadata": {},
   "source": [
    "os.chdir(home + '/ros2_ws')"
   ]
  },
  {
   "cell_type": "code",
   "execution_count": 10,
   "id": "2a3efe82-4ca0-4943-ad8e-eeacdb9bcafa",
   "metadata": {},
   "outputs": [
    {
     "name": "stdout",
     "output_type": "stream",
     "text": [
      "\n",
      "ERROR: your rosdep installation has not been initialized yet.  Please run:\n",
      "\n",
      "    sudo rosdep init\n",
      "    rosdep update\n",
      "\n"
     ]
    }
   ],
   "source": [
    "os.chdir(home + '/ros2_ws')\n",
    "!rosdep install -i --from-path src --rosdistro galactic -y"
   ]
  },
  {
   "cell_type": "markdown",
   "id": "f5c7201e-b8f7-4f71-84c1-b18d24625380",
   "metadata": {},
   "source": [
    "rosdep install -i --from-path src --rosdistro galactic -yLastly we have to build it by running *colcon build* in the workspace directory"
   ]
  },
  {
   "cell_type": "code",
   "execution_count": 13,
   "id": "d9b4cff2-0d44-467d-9641-926dddf2f2e0",
   "metadata": {},
   "outputs": [],
   "source": [
    "import subprocess\n",
    "os.chdir(home + '/ros2_ws')\n",
    "reply = subprocess.run(['colcon','build','--packages-select','py_srvcli'],capture_output=True)"
   ]
  },
  {
   "cell_type": "code",
   "execution_count": 14,
   "id": "b73cca4d-2950-4364-b709-5f0447f7b5fe",
   "metadata": {},
   "outputs": [
    {
     "data": {
      "text/plain": [
       "CompletedProcess(args=['colcon', 'build', '--packages-select', 'py_srvcli'], returncode=1, stdout=b'Starting >>> py_srvcli\\n\\nSummary: 0 packages finished [0.68s]\\n  1 package failed: py_srvcli\\n  1 package had stderr output: py_srvcli\\n', stderr=b\"--- stderr: py_srvcli\\npackage init file 'py_srvcli/__init__.py' not found (or not a regular file)\\nerror: can't copy 'resource/py_srvcli': doesn't exist or not a regular file\\n---\\nFailed   <<< py_srvcli [0.57s, exited with code 1]\\n\")"
      ]
     },
     "execution_count": 14,
     "metadata": {},
     "output_type": "execute_result"
    }
   ],
   "source": [
    "reply"
   ]
  },
  {
   "cell_type": "code",
   "execution_count": 15,
   "id": "ea3f909c-c8bf-4701-bd75-ac5b17897fb7",
   "metadata": {},
   "outputs": [],
   "source": [
    "!. install/setup.bash"
   ]
  },
  {
   "cell_type": "code",
   "execution_count": 16,
   "id": "c03d1a08-5b63-427f-abcd-c2c9bcfd1618",
   "metadata": {},
   "outputs": [
    {
     "name": "stdout",
     "output_type": "stream",
     "text": [
      "Unknown package 'action_tutorials_interfaces'\n"
     ]
    }
   ],
   "source": [
    "!ros2 interface show action_tutorials_interfaces/action/Fibonacci"
   ]
  },
  {
   "cell_type": "code",
   "execution_count": 17,
   "id": "eb54a593-dacf-413a-a1ac-e2f07631b136",
   "metadata": {},
   "outputs": [],
   "source": [
    "!export ROS_DOMAIN_ID=0"
   ]
  },
  {
   "cell_type": "markdown",
   "id": "300c4b18-36c4-4e1b-be9b-34275a807195",
   "metadata": {},
   "source": [
    "Now you have to go to the terminal and run \n",
    "```bash\n",
    "cd ~/ros2_ws\n",
    "export ROS_DOMAIN_ID=0\n",
    ". install/setup.bash\n",
    "ros2 interface show action_tutorials_interfaces/action/Fibonacci\n",
    "```\n",
    "This will test the action definition"
   ]
  },
  {
   "cell_type": "markdown",
   "id": "26bd5747-7905-4b45-a8bd-6518b3979168",
   "metadata": {},
   "source": [
    "#### Server code"
   ]
  },
  {
   "cell_type": "markdown",
   "id": "40ceb883-7443-47ce-b04b-35f17f0ed733",
   "metadata": {},
   "source": [
    "the next step is to write the python code that will define the server.  We first define the server, importing the message type we defined above and defining a callback that returns the result.  "
   ]
  },
  {
   "cell_type": "code",
   "execution_count": 27,
   "id": "d158cd46-88bd-4b06-b34f-cdaa55eff96c",
   "metadata": {},
   "outputs": [
    {
     "name": "stdout",
     "output_type": "stream",
     "text": [
      "Writing /home/parallels/ros2_ws/fibonacci_action_server.py\n"
     ]
    }
   ],
   "source": [
    "%%writefile ~/ros2_ws/fibonacci_action_server.py\n",
    "\n",
    "import rclpy\n",
    "from rclpy.action import ActionServer\n",
    "from rclpy.node import Node\n",
    "\n",
    "from action_tutorials_interfaces.action import Fibonacci\n",
    "\n",
    "class FibonacciActionServer(Node):\n",
    "\n",
    "    def __init__(self):\n",
    "        super().__init__('fibonacci_action_server')\n",
    "        self._action_server = ActionServer(\n",
    "            self,Fibonacci,'fibonacci',self.execute_callback)\n",
    "        print('set up and waiting')\n",
    "\n",
    "    def execute_callback(self, goal_handle):\n",
    "        self.get_logger().info('Executing goal...')\n",
    "\n",
    "        sequence = [0, 1]\n",
    "\n",
    "        for i in range(1, goal_handle.request.order):\n",
    "            sequence.append(sequence[i] + sequence[i-1])\n",
    "\n",
    "        goal_handle.succeed()\n",
    "\n",
    "        result = Fibonacci.Result()\n",
    "        result.sequence = sequence\n",
    "        return result\n",
    "\n",
    "def main(args=None):\n",
    "    rclpy.init(args=args)\n",
    "\n",
    "    fibonacci_action_server = FibonacciActionServer()\n",
    "\n",
    "    rclpy.spin(fibonacci_action_server)\n",
    "\n",
    "\n",
    "if __name__ == '__main__':\n",
    "    main()"
   ]
  },
  {
   "cell_type": "markdown",
   "id": "c3d57d11-09ca-421f-9c7b-eafef97ad7a4",
   "metadata": {},
   "source": [
    "Now you can run it in the terminal by typing:\n",
    "```bash\n",
    "cd ~/ros2_ws\n",
    "python3 fibonacci_action_server.py\n",
    "```\n",
    "Then open up a second terminal, and type:\n",
    "```bash\n",
    "cd ~/ros2_ws\n",
    ". install/setup.bash\n",
    "ros2 action send_goal fibonacci action_tutorials_interfaces/action/Fibonacci \"{order: 5}\"\n",
    "```"
   ]
  },
  {
   "cell_type": "markdown",
   "id": "755ca46d-19a3-44c5-9e52-c2f85e1125e2",
   "metadata": {},
   "source": [
    "#### Client code"
   ]
  },
  {
   "cell_type": "markdown",
   "id": "ed47bcd1-9e13-40fe-a29e-72af15339802",
   "metadata": {},
   "source": [
    "Our next step is to call the server from whithin python and get back the result.  So (similar to all the iRobot calls) we set up a callback on sending out the goal and then on getting the result."
   ]
  },
  {
   "cell_type": "code",
   "execution_count": null,
   "id": "b727809a-774e-40f8-b3f2-9963c4b2c58a",
   "metadata": {},
   "outputs": [],
   "source": [
    "%%writefile ~/ros2_ws/fibonacci_action_client.py\n",
    "\n",
    "import rclpy\n",
    "from rclpy.action import ActionClient\n",
    "from rclpy.node import Node\n",
    "\n",
    "from action_tutorials_interfaces.action import Fibonacci\n",
    "\n",
    "\n",
    "class FibonacciActionClient(Node):\n",
    "\n",
    "    def __init__(self):\n",
    "        super().__init__('fibonacci_action_client')\n",
    "        self._action_client = ActionClient(self, Fibonacci, 'fibonacci')\n",
    "\n",
    "    def send_goal(self, order):\n",
    "        print('sending goal')\n",
    "        goal_msg = Fibonacci.Goal()\n",
    "        goal_msg.order = order\n",
    "\n",
    "        self._action_client.wait_for_server()\n",
    "        print('done waiting')\n",
    "        self._send_goal_future = self._action_client.send_goal_async(goal_msg)\n",
    "\n",
    "        self._send_goal_future.add_done_callback(self.goal_response_callback)\n",
    "\n",
    "    def goal_response_callback(self, future):\n",
    "        \n",
    "        goal_handle = future.result()\n",
    "        if not goal_handle.accepted:\n",
    "            self.get_logger().info('Goal rejected :(')\n",
    "            return\n",
    "\n",
    "        self.get_logger().info('Goal accepted :)')\n",
    "\n",
    "        self._get_result_future = goal_handle.get_result_async()\n",
    "        self._get_result_future.add_done_callback(self.get_result_callback)\n",
    "\n",
    "    def get_result_callback(self, future):\n",
    "        result = future.result().result\n",
    "        self.get_logger().info('Result: {0}'.format(result.sequence))\n",
    "        rclpy.shutdown()\n",
    "\n",
    "\n",
    "def main(args=None):\n",
    "    rclpy.init(args=args)\n",
    "\n",
    "    action_client = FibonacciActionClient()\n",
    "    print('set up')\n",
    "    action_client.send_goal(10)\n",
    "\n",
    "    rclpy.spin(action_client)\n",
    "\n",
    "\n",
    "if __name__ == '__main__':\n",
    "    main()"
   ]
  },
  {
   "cell_type": "markdown",
   "id": "9fba96d6-e917-4746-a55c-4fb1c269ac27",
   "metadata": {},
   "source": [
    "### More advanced server"
   ]
  },
  {
   "cell_type": "markdown",
   "id": "177404b1-b875-4124-b8b4-0d73e5bad0f1",
   "metadata": {},
   "source": [
    "We can also have a server that returns values as it is running - leveraging hte *partial_sequence* feedback parameter.\n"
   ]
  },
  {
   "cell_type": "code",
   "execution_count": null,
   "id": "4323abdb-12cd-4b08-a69c-c56cffaa5b2b",
   "metadata": {},
   "outputs": [],
   "source": [
    "%%writefile ~/ros2_ws/fibonacci_action_server2.py\n",
    "\n",
    "import time\n",
    "\n",
    "import rclpy\n",
    "from rclpy.action import ActionServer\n",
    "from rclpy.node import Node\n",
    "\n",
    "from action_tutorials_interfaces.action import Fibonacci\n",
    "\n",
    "\n",
    "class FibonacciActionServer(Node):\n",
    "\n",
    "    def __init__(self):\n",
    "        super().__init__('fibonacci_action_server')\n",
    "        self._action_server = ActionServer(\n",
    "            self,\n",
    "            Fibonacci,\n",
    "            'fibonacci',\n",
    "            self.execute_callback)\n",
    "\n",
    "    def execute_callback(self, goal_handle):\n",
    "        self.get_logger().info('Executing goal...')\n",
    "\n",
    "        feedback_msg = Fibonacci.Feedback()\n",
    "        feedback_msg.partial_sequence = [0, 1]\n",
    "\n",
    "        for i in range(1, goal_handle.request.order):\n",
    "            feedback_msg.partial_sequence.append(\n",
    "                feedback_msg.partial_sequence[i] + feedback_msg.partial_sequence[i-1])\n",
    "            self.get_logger().info('Feedback: {0}'.format(feedback_msg.partial_sequence))\n",
    "            goal_handle.publish_feedback(feedback_msg)\n",
    "            time.sleep(1)\n",
    "\n",
    "        goal_handle.succeed()\n",
    "\n",
    "        result = Fibonacci.Result()\n",
    "        result.sequence = feedback_msg.partial_sequence\n",
    "        return result\n",
    "\n",
    "\n",
    "def main(args=None):\n",
    "    rclpy.init(args=args)\n",
    "\n",
    "    fibonacci_action_server = FibonacciActionServer()\n",
    "\n",
    "    rclpy.spin(fibonacci_action_server)\n",
    "\n",
    "\n",
    "if __name__ == '__main__':\n",
    "    main()"
   ]
  },
  {
   "cell_type": "markdown",
   "id": "453b104f-fbb0-4a48-aea5-6ba3208d1e86",
   "metadata": {},
   "source": [
    "And then your client code looks like this."
   ]
  },
  {
   "cell_type": "code",
   "execution_count": null,
   "id": "72904366-a6c6-4ada-ad3d-8ea3ff852698",
   "metadata": {},
   "outputs": [],
   "source": [
    "i%%writefile ~/ros2_ws/fibonacci_action_client2.py\n",
    "\n",
    "mport rclpy\n",
    "from rclpy.action import ActionClient\n",
    "from rclpy.node import Node\n",
    "\n",
    "from action_tutorials_interfaces.action import Fibonacci\n",
    "\n",
    "\n",
    "class FibonacciActionClient(Node):\n",
    "\n",
    "    def __init__(self):\n",
    "        super().__init__('fibonacci_action_client')\n",
    "        self._action_client = ActionClient(self, Fibonacci, 'fibonacci')\n",
    "\n",
    "    def send_goal(self, order):\n",
    "        goal_msg = Fibonacci.Goal()\n",
    "        goal_msg.order = order\n",
    "\n",
    "        self._action_client.wait_for_server()\n",
    "\n",
    "        self._send_goal_future = self._action_client.send_goal_async(goal_msg, feedback_callback=self.feedback_callback)\n",
    "\n",
    "        self._send_goal_future.add_done_callback(self.goal_response_callback)\n",
    "\n",
    "    def goal_response_callback(self, future):\n",
    "        goal_handle = future.result()\n",
    "        if not goal_handle.accepted:\n",
    "            self.get_logger().info('Goal rejected :(')\n",
    "            return\n",
    "\n",
    "        self.get_logger().info('Goal accepted :)')\n",
    "\n",
    "        self._get_result_future = goal_handle.get_result_async()\n",
    "        self._get_result_future.add_done_callback(self.get_result_callback)\n",
    "\n",
    "    def get_result_callback(self, future):\n",
    "        result = future.result().result\n",
    "        self.get_logger().info('Result: {0}'.format(result.sequence))\n",
    "        rclpy.shutdown()\n",
    "\n",
    "    def feedback_callback(self, feedback_msg):\n",
    "        feedback = feedback_msg.feedback\n",
    "        self.get_logger().info('Received feedback: {0}'.format(feedback.partial_sequence))\n",
    "\n",
    "\n",
    "def main(args=None):\n",
    "    rclpy.init(args=args)\n",
    "\n",
    "    action_client = FibonacciActionClient()\n",
    "\n",
    "    action_client.send_goal(10)\n",
    "\n",
    "    rclpy.spin(action_client)\n",
    "\n",
    "\n",
    "if __name__ == '__main__':\n",
    "    main()"
   ]
  }
 ],
 "metadata": {
  "kernelspec": {
   "display_name": "Python 3 (ipykernel)",
   "language": "python",
   "name": "python3"
  },
  "language_info": {
   "codemirror_mode": {
    "name": "ipython",
    "version": 3
   },
   "file_extension": ".py",
   "mimetype": "text/x-python",
   "name": "python",
   "nbconvert_exporter": "python",
   "pygments_lexer": "ipython3",
   "version": "3.8.10"
  }
 },
 "nbformat": 4,
 "nbformat_minor": 5
}
