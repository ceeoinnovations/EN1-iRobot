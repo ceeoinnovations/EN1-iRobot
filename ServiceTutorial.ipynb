{
 "cells": [
  {
   "cell_type": "markdown",
   "id": "cbe62943-50a3-4bb8-a2ee-40c6594682b5",
   "metadata": {},
   "source": [
    "## Building a service server"
   ]
  },
  {
   "cell_type": "markdown",
   "id": "15fd0f2d-1e9e-4b9f-9fe1-cc8caefe43d6",
   "metadata": {},
   "source": [
    "This is an exact replication of creating an service ([here](https://docs.ros.org/en/galactic/Tutorials/Beginner-Client-Libraries/Writing-A-Simple-Py-Service-And-Client.html))  The first step is to define it by creating the requisite paths, generate all the folders, and create a package."
   ]
  },
  {
   "cell_type": "code",
   "execution_count": 1,
   "id": "c4c0bdae",
   "metadata": {
    "tags": []
   },
   "outputs": [],
   "source": [
    "import os\n",
    "import subprocess\n",
    "\n",
    "home = os.path.expanduser('~')\n",
    "workspace = home +'/ros2_ws/'\n",
    "sourceFiles = workspace + 'src/'\n",
    "packageName = 'py_srvcli'\n",
    "\n",
    "os.chdir(home)\n",
    "\n",
    "if not os.path.exists(sourceFiles):\n",
    "    os.makedirs(sourceFiles)\n",
    "os.chdir(sourceFiles)\n",
    "if not os.path.exists(packageName):\n",
    "    reply = subprocess.run(['ros2','pkg','create','--build-type','ament_python',packageName,'--dependencies','rclpy','example_interfaces'],capture_output=True) #same as !ros2 pkg create --build-type ament_python py_srvcli --dependencies rclpy example_interfaces"
   ]
  },
  {
   "cell_type": "code",
   "execution_count": null,
   "id": "629fcc26-9f14-4870-abdb-2b50a9bc1aba",
   "metadata": {},
   "outputs": [],
   "source": [
    "reply"
   ]
  },
  {
   "cell_type": "markdown",
   "id": "08e803ec-571b-47d2-85a1-2a3515b1076c",
   "metadata": {},
   "source": [
    "Next we set up the service definition file.  This defines the data types for *Requests* and  *Response*, separated by a dashed line.  In this case, the request has two parameters, a and b, both 64 bit integers, the result (only one parameter) is also a 64 bit integers.  First change the directory to the service folder and then save it."
   ]
  },
  {
   "cell_type": "code",
   "execution_count": 2,
   "id": "78f25d2f-8539-4516-bbb2-aade79dbda43",
   "metadata": {},
   "outputs": [],
   "source": [
    "os.chdir(sourceFiles + packageName)"
   ]
  },
  {
   "cell_type": "code",
   "execution_count": 3,
   "id": "bf845c45",
   "metadata": {},
   "outputs": [
    {
     "name": "stdout",
     "output_type": "stream",
     "text": [
      "Writing add.srv\n"
     ]
    }
   ],
   "source": [
    "%%writefile add.srv\n",
    "\n",
    "int64 a\n",
    "int64 b\n",
    "---\n",
    "int64 sum"
   ]
  },
  {
   "cell_type": "markdown",
   "id": "476240b3-88e7-4fea-a763-ab68c13463da",
   "metadata": {},
   "source": [
    "We then should update the package xml, adding your name and such.\n",
    "```xml\n",
    "<description>Python client server tutorial</description>\n",
    "<maintainer email=\"you@email.com\">Your Name</maintainer>\n",
    "<license>Apache License 2.0</license>\n",
    "```"
   ]
  },
  {
   "cell_type": "code",
   "execution_count": 4,
   "id": "6277da8c-4288-4d32-9edb-08bb7ba38800",
   "metadata": {},
   "outputs": [],
   "source": [
    "os.chdir(sourceFiles + packageName)"
   ]
  },
  {
   "cell_type": "code",
   "execution_count": 5,
   "id": "d7a51f6c",
   "metadata": {},
   "outputs": [
    {
     "name": "stdout",
     "output_type": "stream",
     "text": [
      "Overwriting package.xml\n"
     ]
    }
   ],
   "source": [
    "%%writefile package.xml\n",
    "<?xml version=\"1.0\"?>\n",
    "<?xml-model href=\"http://download.ros.org/schema/package_format3.xsd\" schematypens=\"http://www.w3.org/2001/XMLSchema\"?>\n",
    "<package format=\"3\">\n",
    "  <name>py_srvcli</name>\n",
    "  <version>0.0.0</version>\n",
    "  <description>TODO: Package description</description>\n",
    "  <maintainer email=\"parallels@todo.todo\">parallels</maintainer>\n",
    "  <license>TODO: License declaration</license>\n",
    "\n",
    "  <depend>rclpy</depend>\n",
    "  <depend>example_interfaces</depend>\n",
    "\n",
    "  <test_depend>ament_copyright</test_depend>\n",
    "  <test_depend>ament_flake8</test_depend>\n",
    "  <test_depend>ament_pep257</test_depend>\n",
    "  <test_depend>python3-pytest</test_depend>\n",
    "\n",
    "  <export>\n",
    "    <build_type>ament_python</build_type>\n",
    "  </export>\n",
    "</package>"
   ]
  },
  {
   "cell_type": "markdown",
   "id": "6cfbf460-b009-4324-b1dd-5fa26c3e675e",
   "metadata": {},
   "source": [
    "Likewise, you shoudl update the setup.py file\n",
    "```python\n",
    "maintainer='Your Name',\n",
    "maintainer_email='you@email.com',\n",
    "description='Python client server tutorial',\n",
    "license='Apache License 2.0',\n",
    "```"
   ]
  },
  {
   "cell_type": "code",
   "execution_count": 6,
   "id": "6e5985b8-8268-4c57-9645-4f3bd9dcb1f1",
   "metadata": {},
   "outputs": [],
   "source": [
    "os.chdir(sourceFiles + packageName)"
   ]
  },
  {
   "cell_type": "code",
   "execution_count": 7,
   "id": "44739f3c",
   "metadata": {},
   "outputs": [
    {
     "name": "stdout",
     "output_type": "stream",
     "text": [
      "Overwriting setup.py\n"
     ]
    }
   ],
   "source": [
    "%%writefile setup.py\n",
    "from setuptools import setup\n",
    "\n",
    "package_name = 'py_srvcli'\n",
    "\n",
    "setup(\n",
    "    name=package_name,\n",
    "    version='0.0.0',\n",
    "    packages=[package_name],\n",
    "    data_files=[\n",
    "        ('share/ament_index/resource_index/packages',\n",
    "            ['resource/' + package_name]),\n",
    "        ('share/' + package_name, ['package.xml']),\n",
    "    ],\n",
    "    install_requires=['setuptools'],\n",
    "    zip_safe=True,\n",
    "    maintainer='parallels',\n",
    "    maintainer_email='parallels@todo.todo',\n",
    "    description='TODO: Package description',\n",
    "    license='TODO: License declaration',\n",
    "    tests_require=['pytest'],\n",
    "    entry_points={\n",
    "        'console_scripts': [\n",
    "        ],\n",
    "    },\n",
    ")"
   ]
  },
  {
   "cell_type": "code",
   "execution_count": 14,
   "id": "b5622413-10e2-4317-a7c5-8ce800d27073",
   "metadata": {},
   "outputs": [],
   "source": [
    "os.chdir(sourceFiles + packageName + '/' + packageName)"
   ]
  },
  {
   "cell_type": "code",
   "execution_count": 15,
   "id": "b078fee9-257f-429d-82e1-1cb869d81f77",
   "metadata": {},
   "outputs": [
    {
     "name": "stdout",
     "output_type": "stream",
     "text": [
      "Writing service_member_function.py\n"
     ]
    }
   ],
   "source": [
    "%%writefile service_member_function.py\n",
    "from example_interfaces.srv import AddTwoInts\n",
    "\n",
    "import rclpy\n",
    "from rclpy.node import Node\n",
    "\n",
    "\n",
    "class MinimalService(Node):\n",
    "\n",
    "    def __init__(self):\n",
    "        super().__init__('minimal_service')\n",
    "        self.srv = self.create_service(AddTwoInts, 'add_two_ints', self.add_two_ints_callback)\n",
    "\n",
    "    def add_two_ints_callback(self, request, response):\n",
    "        response.sum = request.a + request.b\n",
    "        self.get_logger().info('Incoming request\\na: %d b: %d' % (request.a, request.b))\n",
    "\n",
    "        return response\n",
    "\n",
    "\n",
    "def main():\n",
    "    rclpy.init()\n",
    "\n",
    "    minimal_service = MinimalService()\n",
    "\n",
    "    rclpy.spin(minimal_service)\n",
    "\n",
    "    rclpy.shutdown()\n",
    "\n",
    "\n",
    "if __name__ == '__main__':\n",
    "    main()"
   ]
  },
  {
   "cell_type": "code",
   "execution_count": 17,
   "id": "0774ccaa-5ce5-4447-bb3b-f8f104d3d4c9",
   "metadata": {},
   "outputs": [
    {
     "name": "stdout",
     "output_type": "stream",
     "text": [
      "Writing client_member_function.py\n"
     ]
    }
   ],
   "source": [
    "%%writefile client_member_function.py\n",
    "import sys\n",
    "\n",
    "from example_interfaces.srv import AddTwoInts\n",
    "import rclpy\n",
    "from rclpy.node import Node\n",
    "\n",
    "\n",
    "class MinimalClientAsync(Node):\n",
    "\n",
    "    def __init__(self):\n",
    "        super().__init__('minimal_client_async')\n",
    "        self.cli = self.create_client(AddTwoInts, 'add_two_ints')\n",
    "        while not self.cli.wait_for_service(timeout_sec=1.0):\n",
    "            self.get_logger().info('service not available, waiting again...')\n",
    "        self.req = AddTwoInts.Request()\n",
    "\n",
    "    def send_request(self, a, b):\n",
    "        self.req.a = a\n",
    "        self.req.b = b\n",
    "        self.future = self.cli.call_async(self.req)\n",
    "        rclpy.spin_until_future_complete(self, self.future)\n",
    "        return self.future.result()\n",
    "\n",
    "\n",
    "def main():\n",
    "    rclpy.init()\n",
    "\n",
    "    minimal_client = MinimalClientAsync()\n",
    "    response = minimal_client.send_request(int(sys.argv[1]), int(sys.argv[2]))\n",
    "    minimal_client.get_logger().info(\n",
    "        'Result of add_two_ints: for %d + %d = %d' %\n",
    "        (int(sys.argv[1]), int(sys.argv[2]), response.sum))\n",
    "\n",
    "    minimal_client.destroy_node()\n",
    "    rclpy.shutdown()\n",
    "\n",
    "\n",
    "if __name__ == '__main__':\n",
    "    main()"
   ]
  },
  {
   "cell_type": "code",
   "execution_count": 18,
   "id": "71f907b1-79d8-4696-a62b-743b08b1b904",
   "metadata": {},
   "outputs": [],
   "source": [
    "os.chdir(sourceFiles + packageName)"
   ]
  },
  {
   "cell_type": "code",
   "execution_count": 19,
   "id": "c565d679-e293-4ffe-a032-2fc3ea2e8836",
   "metadata": {},
   "outputs": [
    {
     "name": "stdout",
     "output_type": "stream",
     "text": [
      "Overwriting setup.py\n"
     ]
    }
   ],
   "source": [
    "%%writefile setup.py\n",
    "from setuptools import setup\n",
    "\n",
    "package_name = 'py_srvcli'\n",
    "\n",
    "setup(\n",
    "    name=package_name,\n",
    "    version='0.0.0',\n",
    "    packages=[package_name],\n",
    "    data_files=[\n",
    "        ('share/ament_index/resource_index/packages',\n",
    "            ['resource/' + package_name]),\n",
    "        ('share/' + package_name, ['package.xml']),\n",
    "    ],\n",
    "    install_requires=['setuptools'],\n",
    "    zip_safe=True,\n",
    "    maintainer='parallels',\n",
    "    maintainer_email='parallels@todo.todo',\n",
    "    description='TODO: Package description',\n",
    "    license='TODO: License declaration',\n",
    "    tests_require=['pytest'],\n",
    "    entry_points={\n",
    "        'console_scripts': [\n",
    "            'service = py_srvcli.service_member_function:main',\n",
    "            'client = py_srvcli.client_member_function:main',\n",
    "        ],\n",
    "    },\n",
    ")"
   ]
  },
  {
   "cell_type": "code",
   "execution_count": 20,
   "id": "2a3efe82-4ca0-4943-ad8e-eeacdb9bcafa",
   "metadata": {},
   "outputs": [
    {
     "name": "stdout",
     "output_type": "stream",
     "text": [
      "#All required rosdeps installed successfully\n"
     ]
    }
   ],
   "source": [
    "os.chdir(workspace)\n",
    "!rosdep install -i --from-path src --rosdistro galactic -y"
   ]
  },
  {
   "cell_type": "markdown",
   "id": "f5c7201e-b8f7-4f71-84c1-b18d24625380",
   "metadata": {},
   "source": [
    "Lastly we have to build it by running *colcon build* in the workspace directory"
   ]
  },
  {
   "cell_type": "code",
   "execution_count": 21,
   "id": "d9b4cff2-0d44-467d-9641-926dddf2f2e0",
   "metadata": {},
   "outputs": [],
   "source": [
    "import subprocess\n",
    "os.chdir(workspace)\n",
    "subprocess.run(['colcon','build','--packages-select','py_srvcli'],capture_output=True)"
   ]
  },
  {
   "cell_type": "markdown",
   "id": "fb125e17-da28-470c-87aa-d3ca24d4a0bd",
   "metadata": {},
   "source": [
    "Now set everything up to run in a terminal\n",
    "```bash\n",
    "cd ~/ros2_ws\n",
    ". install/setup.bash\n",
    "export ROS_DOMAIN_ID=0\n",
    "ros2 run py_srvcli service\n",
    "```\n",
    "in one terminal and \n",
    "```bash\n",
    "cd ~/ros2_ws\n",
    ". install/setup.bash\n",
    "export ROS_DOMAIN_ID=0\n",
    "ros2 run py_srvcli client 2 3\n",
    "```\n",
    "in the other"
   ]
  },
  {
   "cell_type": "code",
   "execution_count": null,
   "id": "eb54a593-dacf-413a-a1ac-e2f07631b136",
   "metadata": {},
   "outputs": [],
   "source": []
  }
 ],
 "metadata": {
  "kernelspec": {
   "display_name": "Python 3 (ipykernel)",
   "language": "python",
   "name": "python3"
  },
  "language_info": {
   "codemirror_mode": {
    "name": "ipython",
    "version": 3
   },
   "file_extension": ".py",
   "mimetype": "text/x-python",
   "name": "python",
   "nbconvert_exporter": "python",
   "pygments_lexer": "ipython3",
   "version": "3.8.10"
  }
 },
 "nbformat": 4,
 "nbformat_minor": 5
}
