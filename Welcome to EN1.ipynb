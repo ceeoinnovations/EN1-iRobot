{
 "cells": [
  {
   "cell_type": "markdown",
   "id": "e14625a9-d4a4-4f96-8b51-e3cdd16f5f9e",
   "metadata": {},
   "source": [
    "# Welcome to EN1"
   ]
  },
  {
   "cell_type": "markdown",
   "id": "131551a0-1526-43bf-9dbf-cb718773bbea",
   "metadata": {},
   "source": [
    "Welcome to class - we will progress through 9ish weekly assignments - each one more fun than the last - each with different learning goals.  The first set of notebooks are the challenges, the second set are things to help you learn the coding and the third are more in-depth help.  Note that as you go through this coding environment, your notebooks will become your work.  So save often. "
   ]
  },
  {
   "cell_type": "markdown",
   "id": "ba223c52-580e-406f-91ef-7f1516ea4011",
   "metadata": {
    "jp-MarkdownHeadingCollapsed": true,
    "tags": []
   },
   "source": [
    "## Testing"
   ]
  },
  {
   "cell_type": "markdown",
   "id": "f8091f76-0891-43fc-b61f-c24da52811d7",
   "metadata": {},
   "source": [
    "Lets run some tests - just type stuff in and hit return to test your notebook - the first just tests python, the second tests your internet connection (it is retrieving a joke from that website)."
   ]
  },
  {
   "cell_type": "code",
   "execution_count": null,
   "id": "c8e856f4-e947-461b-b176-0b072c12295d",
   "metadata": {},
   "outputs": [],
   "source": [
    "2 + 2"
   ]
  },
  {
   "cell_type": "markdown",
   "id": "75ab8edb-20c0-4ea5-8053-3135a079cc4b",
   "metadata": {},
   "source": [
    "For more python ideas and code, go [here](More%20Help/203-Python.ipynb) otherwise try to ask the internet for a Chuck Norris joke."
   ]
  },
  {
   "cell_type": "code",
   "execution_count": null,
   "id": "f9305ded-fffb-4a49-a1e2-c66500126dcc",
   "metadata": {},
   "outputs": [],
   "source": [
    "import requests\n",
    "r = requests.get('https://api.chucknorris.io/jokes/random')\n",
    "r.json()['value']"
   ]
  },
  {
   "cell_type": "markdown",
   "id": "5e5f3d57-2bde-432b-92c9-09ede7659c25",
   "metadata": {
    "tags": []
   },
   "source": [
    "## Notebooks"
   ]
  },
  {
   "cell_type": "markdown",
   "id": "6250d882-718b-40a3-a7e1-9c1f9cba1c61",
   "metadata": {},
   "source": [
    "You will need to update the notebooks perodically as I develop better ones - so make sure you always make a copy and use the copy so that when you replace them, you do not lose all your previous work.  You can update by clicking [here](http://130.64.80.78/hub/user-redirect/git-pull?repo=https://github.com/ceeoinnovations/EN1-iRobot&branch=main&app=lab).  If anything goes wrong, please go through the steps [here](Help/130-Resetting%20GitPull.ipynb) for a fresh install.\n",
    "\n",
    "Finally - [here](https://docs.google.com/spreadsheets/d/1xecZjXfFmFzZ6gqWdvJEo7XQHoThx7uRky23N8nAhvs/edit?usp=sharing) is the list of possible Creates and their domain IDs and IP addresses.\n"
   ]
  },
  {
   "cell_type": "markdown",
   "id": "f83cec1f-729f-4a21-81db-e0f881020b1f",
   "metadata": {
    "jp-MarkdownHeadingCollapsed": true,
    "tags": []
   },
   "source": [
    "### Assignments"
   ]
  },
  {
   "cell_type": "markdown",
   "id": "f3eaad96-c4b8-4ddb-b4d8-19e25f35352e",
   "metadata": {},
   "source": [
    "|Assignment|Description|\n",
    "|--------|-----------|\n",
    "|[Welcome to EN1](Welcome%20to%20EN1.ipynb)|This page|\n",
    "|[1. Baseball](Assignments/001-Baseball.ipynb)|Time to run the bases - the one with the most flair wins|\n",
    "|[2. BeginningJousting](Assignments/002-BeginningJousting.ipynb)|Using the keyboard to joust (and learning some ROS tools)|\n",
    "|[3. TeleRobotRaces](Assignments/003-TeleOp_Races.ipynb)|Remotely drive your phone around and learn some CAD|\n",
    "|[4. Soccer Shootout](Assignments/004-ShootOut.ipynb)|Build an electronic circuit|\n",
    "|[5. RelayRace](Assignments/005-RelayRace.ipynb)|Pass the  ball - and learn a little micropython|\n",
    "|[6. Shootout For Real](Assignments/006-Shootout2.ipynb)|Adding a MakerPi kicker and moving goalie|\n",
    "|[7. Obstacle Course](Assignments/007-Phone_Control.ipynb)|Racing through the classroom using your phone and the cloud|\n",
    "|[8. Invisible Springs](00-GettingStarted.ipynb)|Can we make a Create train?|\n",
    "|[Final Joust](00-GettingStarted.ipynb)|Who knows what will happen here|\n"
   ]
  },
  {
   "cell_type": "markdown",
   "id": "c74e6271-d48c-445f-b790-b7b7a300b721",
   "metadata": {
    "jp-MarkdownHeadingCollapsed": true,
    "tags": []
   },
   "source": [
    "### In-Class Activities"
   ]
  },
  {
   "cell_type": "markdown",
   "id": "3de0062a-649e-4109-b463-54a1aed8f05c",
   "metadata": {},
   "source": [
    "These notebooks are here to help you get up to speed on controlling your Create.  They are what we were using in class.\n",
    "\n",
    "|Notebook|Description|\n",
    "|--------|-----------|\n",
    "|[100-Beeping](Activities/100-Beeping.ipynb)|Connect to your Create and make it beeo (and move)|\n",
    "|[101-EditCreateLib](Activities/101-EditCreateLib.ipynb)|Change the abilities of the Create object so that it does more things|\n",
    "|[102-EditROS2Lib](Activities/102-EditROS2Lib.ipynb)|Connect to your Create and make it beep (and move)|\n",
    "|[Sample Solutions](Activities/102a-ROS2LibAnswers.ipynb)|Connect to your Create and make it beep (and move)|\n",
    "|[104-Serial](Activities/104-Serial.ipynb)|Talking to other processors over the USB-C cable| \n",
    "|[105-MaddieRiddle](Activities/105-MaddieRiddle.ipynb)|A simple ROS publisher| \n",
    "|[106-MakerPi_Intro](Activities/106-MakerPi_Intro.ipynb)|Coding your MakerPi| \n",
    "|[107-App Development](Activities/107-AppBuilding.ipynb)|Setting up a Thunkable account| \n",
    "|[107a-Airtable](Activities/107a-Airtable.ipynb)|Setting up an Airtable account| \n",
    "|[107b-Airtable_Thunkables](Activities/107b-Airtable_Thunkables.ipynb)|Combining the two| \n",
    "|[110-ROS.ipynb](Activities/110-ROS.ipynb)|How does that ROS protocol work, anyway?| \n",
    "|[111-ROS_Publisher](Activities/111-ROS_Publisher.ipynb)|Telling the Create what to do| \n",
    "|[112-ROS_Subscriber](Activities/112-ROS_Subscriber.ipynb)|Asking the Create for an update| \n",
    "|[113-ROS Service](Activities/113-ROS_Service_setup.ipynb)|Getting Information from the Create| \n",
    "|   [114-Service Client](Activities/114-ROS_Service_serverClient.ipynb)|Setting up your own client for a service| \n",
    "|[115-ROS_Action](Activities/115-ROS_action_definition.ipynb)|Writing your own actions| \n",
    "|    [116-Action Server](Activities/116-ROS_action_server.ipynb)|Setting up an action server| \n",
    "|    [115-Action Client](Activities/117-ROS_action_client.ipynb)|Setting up an action client| \n",
    "|[120-CLI](Activities/120-CLI.ipynb)|Using the command line interface to test things| \n"
   ]
  },
  {
   "cell_type": "markdown",
   "id": "1cc95c92-47e5-4412-9534-c1be5c94536c",
   "metadata": {
    "jp-MarkdownHeadingCollapsed": true,
    "tags": []
   },
   "source": [
    "### More Help"
   ]
  },
  {
   "cell_type": "markdown",
   "id": "56b08a0a-4059-442e-943b-2beffee1cb97",
   "metadata": {},
   "source": [
    "These notebooks are for more help\n",
    "\n",
    "|Notebook|Description|\n",
    "|--------|-----------|\n",
    "|[130-Resetting GitPull](Help/130-Resetting%20GitPull.ipynb)|Instructions on how to get a clean/new download of these notebooks|\n",
    "|[200-JupyterLabs](200-JupyterLabs.ipynb)|Getting started with making your own notebooks|\n",
    "|[201-Troubleshooting](201-Troubleshooting.ipynb)|General tips when things go wrong|\n",
    "|[201a-ResettingIDs](Help/201a-ResettingIDs.ipynb)|More tests for setting up the connection|\n",
    "|[201b-Find Create](Help/201b_FindCreate.ipynb)|Finds your Create and gets a topic list (checking all settings)|\n",
    "|[203-Python](Help/203-Python.ipynb)|General tips for using python|\n",
    "|[204-New to Python](Help/204-New_To_Python.ipynb)|If you have never used Python before, start here|\n",
    "|[213-ROS Service Ex](Help/213-ServiceTutorial.ipynb)|The example ROS Docs use for writing a service|\n",
    "|[215-ROS Action Ex](Help/215-ActionTutorial.ipynb)|The example ROS Docs use for writing an action|"
   ]
  },
  {
   "cell_type": "code",
   "execution_count": null,
   "id": "36f2f895-bf99-4af6-90d1-0016e241e556",
   "metadata": {},
   "outputs": [],
   "source": []
  }
 ],
 "metadata": {
  "kernelspec": {
   "display_name": "Python 3 (ipykernel)",
   "language": "python",
   "name": "python3"
  },
  "language_info": {
   "codemirror_mode": {
    "name": "ipython",
    "version": 3
   },
   "file_extension": ".py",
   "mimetype": "text/x-python",
   "name": "python",
   "nbconvert_exporter": "python",
   "pygments_lexer": "ipython3",
   "version": "3.9.13"
  }
 },
 "nbformat": 4,
 "nbformat_minor": 5
}
